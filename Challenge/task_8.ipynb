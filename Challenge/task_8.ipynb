{
 "cells": [
  {
   "cell_type": "markdown",
   "metadata": {},
   "source": [
    "여러분이 자주 사용하는 수학적 연산<br>\n",
    "(예: 삼각형 넓이, 원의 넓이, 직육면체의 넓이)을 수행하는 함수들을 포함하는 mymath.py라는 이름의 모듈을 만드세요. \n",
    "\n",
    "이 모듈을 사용하여 작성된 함수들을 실제로 임포트하고 사용하는 간단한 프로그램을 작성하세요."
   ]
  },
  {
   "cell_type": "code",
   "execution_count": 2,
   "metadata": {},
   "outputs": [
    {
     "name": "stdout",
     "output_type": "stream",
     "text": [
      "밑면이 50 높이가 100인 삼각형의 넓이는 2500.0\n",
      "반지름이 100인 원의 넓이는 31415.926535897932\n",
      "가로가 50 세로가 70 높이가 100인 직육면체의 넓이는 31000\n"
     ]
    }
   ],
   "source": [
    "import mymath\n",
    "\n",
    "triangle = mymath.triangle_area(50, 100)\n",
    "circle = mymath.circle_area(100)\n",
    "cuboid = mymath.cuboid_area(50, 70, 100)\n",
    "\n",
    "print(f\"밑면이 50 높이가 100인 삼각형의 넓이는 {triangle}\")\n",
    "print(f\"반지름이 100인 원의 넓이는 {circle}\")\n",
    "print(f\"가로가 50 세로가 70 높이가 100인 직육면체의 넓이는 {cuboid}\")"
   ]
  }
 ],
 "metadata": {
  "kernelspec": {
   "display_name": "Python 3",
   "language": "python",
   "name": "python3"
  },
  "language_info": {
   "codemirror_mode": {
    "name": "ipython",
    "version": 3
   },
   "file_extension": ".py",
   "mimetype": "text/x-python",
   "name": "python",
   "nbconvert_exporter": "python",
   "pygments_lexer": "ipython3",
   "version": "3.11.9"
  }
 },
 "nbformat": 4,
 "nbformat_minor": 2
}

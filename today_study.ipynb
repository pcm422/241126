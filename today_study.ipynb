{
 "cells": [
  {
   "cell_type": "markdown",
   "metadata": {},
   "source": [
    "#### 1. 구문 오류(Systax Error)\n",
    "\n",
    "괄호의 개수, 들여쓰기 문제 등으로 프로그램이 실행되기도 전에 발생하는 오류입니다.  \n",
    "구문 오류는 해결되지 않으면 **프로그램 실행이 불가능**합니다."
   ]
  },
  {
   "cell_type": "code",
   "execution_count": null,
   "metadata": {},
   "outputs": [
    {
     "ename": "SyntaxError",
     "evalue": "incomplete input (3677123648.py, line 4)",
     "output_type": "error",
     "traceback": [
      "\u001b[1;36m  Cell \u001b[1;32mIn[1], line 4\u001b[1;36m\u001b[0m\n\u001b[1;33m    print(\"오류는 아주 사소한 것부터 발생합니다.\"\u001b[0m\n\u001b[1;37m                                 ^\u001b[0m\n\u001b[1;31mSyntaxError\u001b[0m\u001b[1;31m:\u001b[0m incomplete input\n"
     ]
    }
   ],
   "source": [
    "#구문오류 예제\n",
    "\n",
    "#오류 실행\n",
    "print(\"오류는 아주 사소한 것부터 발생합니다.\""
   ]
  },
  {
   "cell_type": "markdown",
   "metadata": {},
   "source": [
    "#### 2. 예외(Runtime Error)\n",
    "\n",
    "실행 중에 발생하는 오류입니다.  \n",
    "**오류 키워드**를 잘 살펴야 빠른 해결이 가능합니다."
   ]
  },
  {
   "cell_type": "code",
   "execution_count": 2,
   "metadata": {},
   "outputs": [
    {
     "name": "stdout",
     "output_type": "stream",
     "text": [
      "오류는 아주 사소한 것부터 발생합니다.\n"
     ]
    },
    {
     "ename": "NameError",
     "evalue": "name 'dogs' is not defined",
     "output_type": "error",
     "traceback": [
      "\u001b[1;31m---------------------------------------------------------------------------\u001b[0m",
      "\u001b[1;31mNameError\u001b[0m                                 Traceback (most recent call last)",
      "Cell \u001b[1;32mIn[2], line 5\u001b[0m\n\u001b[0;32m      2\u001b[0m \u001b[38;5;28mprint\u001b[39m(\u001b[38;5;124m\"\u001b[39m\u001b[38;5;124m오류는 아주 사소한 것부터 발생합니다.\u001b[39m\u001b[38;5;124m\"\u001b[39m)\n\u001b[0;32m      4\u001b[0m \u001b[38;5;66;03m#예외 발생\u001b[39;00m\n\u001b[1;32m----> 5\u001b[0m \u001b[43mdogs\u001b[49m\u001b[38;5;241m.\u001b[39mappend(\u001b[38;5;124m\"\u001b[39m\u001b[38;5;124m말티즈\u001b[39m\u001b[38;5;124m\"\u001b[39m)\n\u001b[0;32m      7\u001b[0m \u001b[38;5;66;03m# append는 list에 값을 넣어주는 함수입니다.\u001b[39;00m\n\u001b[0;32m      8\u001b[0m \u001b[38;5;66;03m# dogs는 정의되어 있지 않기 때문에 NameError가 발생합니다.\u001b[39;00m\n",
      "\u001b[1;31mNameError\u001b[0m: name 'dogs' is not defined"
     ]
    }
   ],
   "source": [
    "#정상 실행\n",
    "print(\"오류는 아주 사소한 것부터 발생합니다.\")\n",
    "\n",
    "#예외 발생\n",
    "dogs.append(\"말티즈\")\n",
    "\n",
    "# append는 list에 값을 넣어주는 함수입니다.\n",
    "# dogs는 정의되어 있지 않기 때문에 NameError가 발생합니다."
   ]
  },
  {
   "cell_type": "code",
   "execution_count": 3,
   "metadata": {},
   "outputs": [
    {
     "name": "stdout",
     "output_type": "stream",
     "text": [
      "오류는 아주 사소한 것부터 발생합니다.\n",
      "['닥스훈트', '시바견', '말티즈']\n"
     ]
    }
   ],
   "source": [
    "#정상 실행\n",
    "print(\"오류는 아주 사소한 것부터 발생합니다.\")\n",
    "\n",
    "#예외 발생 코드 해결\n",
    "dogs = [\"닥스훈트\", \"시바견\"]\n",
    "dogs.append(\"말티즈\")\n",
    "print(dogs)"
   ]
  },
  {
   "cell_type": "markdown",
   "metadata": {},
   "source": [
    "#### 3. 예외처리\n",
    "\n",
    "예외를 해결하는 모든 것을 예외 처리라고 합니다.  \n",
    "예외는 **조건문**을 사용하거나, **try 구문**을 사용하여 해결할 수 있습니다.  \n",
    "구문 오류가 발생하는 경우는 예외 처리로 해결이 불가능 하여 코드 자체를 수정해야 해결됩니다."
   ]
  },
  {
   "cell_type": "markdown",
   "metadata": {},
   "source": [
    "#### 4. 조건문을 이용한 예외 처리\n",
    "\n",
    "조건문을 이용한 예외 처리 방법을 기본 예외 처리라고 합니다.  \n",
    "예외가 발생할 수 있는 **상황을 파악**하는 것이 중요합니다."
   ]
  },
  {
   "cell_type": "code",
   "execution_count": 4,
   "metadata": {},
   "outputs": [
    {
     "name": "stdout",
     "output_type": "stream",
     "text": [
      "삼각형의 넓이는 7.5입니다.\n"
     ]
    }
   ],
   "source": [
    "# 밑변과 높이를 입력받아 삼각형의 넓이를 계산하는 코드\n",
    "x, y = map(int, input(\"밑변과 높이를 입력해주세요\").split(\" \"))\n",
    "\n",
    "# 삼각형의 넓이를 계산하고 출력합니다. 넓이는 밑변 * 높이 / 2로 계산됩니다.\n",
    "print(f'삼각형의 넓이는 {x * y / 2}입니다.')"
   ]
  },
  {
   "cell_type": "markdown",
   "metadata": {},
   "source": [
    "정수를 입력하지 않아 발생한 오류에 대해 조건으로 구분해서 다른 처리를 할 수 있게 코드를 수정합니다. 조건문에는 isdigit() 함수를 사용하여 오류를 해결합니다."
   ]
  },
  {
   "cell_type": "markdown",
   "metadata": {},
   "source": [
    "isdigit() : 숫자로만 구성되어있는 글자인지를 판단하고,  \n",
    "            숫자로 변환이 가능한 글자라면 true를 반환합니다.\n",
    "            \n",
    "ex) num = \"3\"  \n",
    "isdigit(num) => true"
   ]
  },
  {
   "cell_type": "markdown",
   "metadata": {},
   "source": [
    "오류 해결 코드"
   ]
  },
  {
   "cell_type": "code",
   "execution_count": 6,
   "metadata": {},
   "outputs": [
    {
     "name": "stdout",
     "output_type": "stream",
     "text": [
      "정수로 입력하지 않아 계산이 불가합니다.\n"
     ]
    }
   ],
   "source": [
    "# 밑변과 높이를 입력받아 삼각형의 넓이를 계산하는 코드\n",
    "\n",
    "# 밑변과 높이를 입력받습니다. \n",
    "# input() 함수는 문자열을 반환하므로 split() 함수를 사용하여 공백을 기준으로 나눕니다.\n",
    "x, y = input(\"밑변과 높이를 입력해주세요\").split(\" \")\n",
    "\n",
    "# 입력받은 값이 숫자인지 확인합니다. \n",
    "# isdigit() 함수는 문자열이 숫자로만 구성되어 있는지 확인합니다.\n",
    "if x.isdigit() and y.isdigit():\n",
    "    # 숫자라면 int() 함수를 사용하여 정수형으로 변환합니다.\n",
    "    x, y = int(x), int(y)\n",
    "    # 삼각형의 넓이를 계산하고 출력합니다. 넓이는 밑변 * 높이 / 2로 계산됩니다.\n",
    "    print(f'삼각형의 넓이는 {x * y / 2}입니다.')\n",
    "else:\n",
    "    # 입력받은 값이 숫자가 아니라면 오류 메시지를 출력합니다.\n",
    "    print(\"정수로 입력하지 않아 계산이 불가합니다.\")"
   ]
  },
  {
   "cell_type": "markdown",
   "metadata": {},
   "source": [
    "#### 이해도 체크리스트"
   ]
  },
  {
   "cell_type": "markdown",
   "metadata": {},
   "source": [
    "1. 오류의 종류에 대해 설명해주세요."
   ]
  },
  {
   "cell_type": "markdown",
   "metadata": {},
   "source": [
    "정답 : \n",
    "- Syntax Errors : 코드의 문법에 맞지 않는 구문이 있을 때 발생. 컴파일러나 인터프리터가 코드를 이해하지 못하고, 프로그램 실행 전에 오류를 감지.  \n",
    "- Runtime Errors : 코드가 실행되는 동안 발생하는 오류로, 주로 예외(Exception)로 표현. 프로그램 실행 중에 발생하며, 문법적으로는 올바른 코드에서 발생."
   ]
  },
  {
   "cell_type": "markdown",
   "metadata": {},
   "source": [
    "2. 오류 종류별로 해결할 수 있는 방법에 대해 설명해주세요."
   ]
  },
  {
   "cell_type": "markdown",
   "metadata": {},
   "source": [
    "정답 :  \n",
    "- Syntax Errors 해결방법 : 오류 메시지 확인 -> 코드 검사 -> 코드 정렬  \n",
    "- Runtime Errors 해결방법 : 오류 메시지 확인 -> 디버깅 -> 예외 처리"
   ]
  },
  {
   "cell_type": "markdown",
   "metadata": {},
   "source": [
    "3. isdigit() 함수에 대해 설명해주세요."
   ]
  },
  {
   "cell_type": "markdown",
   "metadata": {},
   "source": [
    "정답 : \n",
    "- 문자열이 숫자로만 구성되어 있는지를 확인. 모든 문자가 숫자인경우 True를 반환하고 아닐지 False를 반환."
   ]
  },
  {
   "cell_type": "markdown",
   "metadata": {},
   "source": [
    "#### 1. try except 구문이란?\n",
    "\n",
    "모든 예외처리 사항을 조건문으로 처리하는건 굉장히 귀찮고 어려운 문제입니다.  \n",
    "요즘 프로그램은 대부분 예외를 처리하는 구문을 제공합니다."
   ]
  },
  {
   "cell_type": "markdown",
   "metadata": {},
   "source": [
    "#### 2. try except의 구조"
   ]
  },
  {
   "cell_type": "code",
   "execution_count": 7,
   "metadata": {},
   "outputs": [
    {
     "name": "stdout",
     "output_type": "stream",
     "text": [
      "정수로 입력하지 않아 계산이 불가능합니다.\n"
     ]
    }
   ],
   "source": [
    "#try except의 사용법\n",
    "\n",
    "try:\n",
    "    # 사용자로부터 밑변과 높이를 입력받습니다.\n",
    "    # 입력받은 값들을 공백을 기준으로 나누고, 각각 정수로 변환합니다.\n",
    "    x, y = map(int, input(\"밑변과 높이를 입력해주세요\").split(\" \"))\n",
    "    \n",
    "    # 삼각형의 넓이를 계산하여 출력합니다.\n",
    "    # 넓이는 밑변 * 높이 / 2 로 계산됩니다.\n",
    "    print(f'삼각형의 넓이는 {x * y / 2}입니다.')\n",
    "except:\n",
    "    # 예외가 발생하면 (입력값이 정수가 아니거나 다른 오류가 발생한 경우)\n",
    "    # 오류 메시지를 출력합니다.\n",
    "    print(\"정수로 입력하지 않아 계산이 불가능합니다.\")"
   ]
  },
  {
   "cell_type": "markdown",
   "metadata": {},
   "source": [
    "#### 3. try except 구문과 pass 키워드\n",
    "\n",
    "예외가 발생하더라도 지금 **당장 처리하지 않아도 되는 부분**이라면 pass 키워드를 사용하여 넘어갑니다."
   ]
  },
  {
   "cell_type": "code",
   "execution_count": 8,
   "metadata": {},
   "outputs": [
    {
     "name": "stdout",
     "output_type": "stream",
     "text": [
      "['1', '7', '3', '스파이', '4'] 내부에 있는 숫자는\n",
      "['1', '7', '3', '4']입니다.\n"
     ]
    }
   ],
   "source": [
    "# try except구문에서의 pass 사용\n",
    "\n",
    "# 문자열로 이루어진 리스트를 정의합니다. 스파이는 숫자로 변환이 불가능합니다.\n",
    "list_input = [\"1\", \"7\", \"3\", \"스파이\", \"4\"]\n",
    "\n",
    "# 정수로 변환 가능한 항목들을 저장할 빈 리스트를 정의합니다.\n",
    "list_number = []\n",
    "\n",
    "# 입력 리스트의 각 항목을 순회합니다.\n",
    "for item in list_input:\n",
    "    try:\n",
    "        # 항목을 정수로 변환 시도합니다.\n",
    "        int(item)\n",
    "        # 변환이 성공하면 리스트에 추가합니다.\n",
    "        list_number.append(item)\n",
    "    except:\n",
    "        # 변환에 실패하면 (예외가 발생하면) 아무 작업도 하지 않고 넘어갑니다.\n",
    "        pass\n",
    "\n",
    "# 입력 리스트에 있는 숫자들을 출력합니다.\n",
    "print(f'{list_input} 내부에 있는 숫자는')\n",
    "print(f'{list_number}입니다.')"
   ]
  },
  {
   "cell_type": "markdown",
   "metadata": {},
   "source": [
    "#### 4. try except 구문과 else 키워드\n",
    "\n",
    "else 구문을 붙여서 사용하면 **예외가 발생하지 않았을 때 실행할 코드**를 지정할 수 있습니다."
   ]
  },
  {
   "cell_type": "code",
   "execution_count": 9,
   "metadata": {},
   "outputs": [
    {
     "name": "stdout",
     "output_type": "stream",
     "text": [
      "삼각형의 넓이는 500.0입니다.\n"
     ]
    }
   ],
   "source": [
    "# try excpet 구문에서의 else 사용\n",
    "\n",
    "try:\n",
    "    # 사용자로부터 밑변과 높이를 입력받습니다.\n",
    "    # 입력받은 값들을 공백을 기준으로 나누고, 각각 정수로 변환합니다.\n",
    "    x, y = map(int, input(\"밑변과 높이를 입력해주세요\").split(\" \"))\n",
    "except:\n",
    "    # 예외가 발생하면 (입력값이 정수가 아니거나 다른 오류가 발생한 경우)\n",
    "    # 오류 메시지를 출력합니다.\n",
    "    print(\"정수로 입력하지 않아 계산이 불가합니다.\")\n",
    "else:\n",
    "    # 예외가 발생하지 않은 경우, 삼각형의 넓이를 계산하여 출력합니다.\n",
    "    # 넓이는 밑변 * 높이 / 2 로 계산됩니다.\n",
    "    print(f'삼각형의 넓이는 {x * y / 2}입니다.')"
   ]
  },
  {
   "cell_type": "markdown",
   "metadata": {},
   "source": [
    "#### 5. try except 구문과 finally 키워드\n",
    "\n",
    "finally는 예외 처리 구문에서 가장 **마지막**에 사용할 수 있는 구문입니다.  \n",
    "예외 발생 여부와 관계 없이 무조건 실행되는 코드입니다."
   ]
  },
  {
   "cell_type": "code",
   "execution_count": 10,
   "metadata": {},
   "outputs": [
    {
     "name": "stdout",
     "output_type": "stream",
     "text": [
      "정수로 입력하지 않아 계산이 불가합니다.\n",
      "프로그램이 종료 되었습니다.\n"
     ]
    }
   ],
   "source": [
    "# try except 구문에서의 finally 사용\n",
    "\n",
    "try:\n",
    "    # 사용자로부터 밑변과 높이를 입력받습니다.\n",
    "    # 입력받은 값들을 공백을 기준으로 나누고, 각각 정수로 변환합니다.\n",
    "    x, y = map(int, input(\"밑변과 높이를 입력해주세요\").split(\" \"))\n",
    "except:\n",
    "    # 예외가 발생하면 (입력값이 정수가 아니거나 다른 오류가 발생한 경우)\n",
    "    # 오류 메시지를 출력합니다.\n",
    "    print(\"정수로 입력하지 않아 계산이 불가합니다.\")\n",
    "else:\n",
    "    # 예외가 발생하지 않은 경우, 삼각형의 넓이를 계산하여 출력합니다.\n",
    "    # 넓이는 밑변 * 높이 / 2 로 계산됩니다.\n",
    "    print(f'삼각형의 넓이는 {x * y / 2}입니다.')\n",
    "finally:\n",
    "    # 예외 발생 여부와 관계없이 항상 실행되는 코드 블록입니다.\n",
    "    # 프로그램이 종료되었음을 알리는 메시지를 출력합니다.\n",
    "    print(\"프로그램이 종료 되었습니다.\")"
   ]
  },
  {
   "cell_type": "markdown",
   "metadata": {},
   "source": [
    "return 구문으로 함수를 빠져나오더라도 finally 구문이 있다면 finally 구문이 실행됩니다.  \n",
    "또한, 반복문의 break문을 만나 빠져나와도 finally 구문이 있다면 finally 구문이 실행됩니다."
   ]
  },
  {
   "cell_type": "markdown",
   "metadata": {},
   "source": [
    "#### 6. try except finally 구문의 정리\n",
    "\n",
    "#### try ~ except  \n",
    "이 구문은 오류가 발생할 수 있는 코드 블록을 실행하고, 오류가 발생했을 때 이를 처리하는 블록을 정의합니다."
   ]
  },
  {
   "cell_type": "code",
   "execution_count": null,
   "metadata": {},
   "outputs": [],
   "source": [
    "try:\n",
    "    # 오류가 발생할 수 있는 코드\n",
    "except:\n",
    "    # 오류가 발생했을 때 실행할 코드"
   ]
  },
  {
   "cell_type": "markdown",
   "metadata": {},
   "source": [
    "**설명:**\n",
    "- `try` 블록 내의 코드가 실행됩니다.\n",
    "- 만약 오류가 발생하면, `except` 블록이 실행됩니다.\n",
    "- 오류가 발생하지 않으면 `except` 블록은 실행되지 않습니다."
   ]
  },
  {
   "cell_type": "markdown",
   "metadata": {},
   "source": [
    "#### try ~ except ~ else\n",
    "이 구문은 오류가 발생하지 않을 때 실행할 코드를 추가로 정의할 수 있습니다."
   ]
  },
  {
   "cell_type": "code",
   "execution_count": null,
   "metadata": {},
   "outputs": [],
   "source": [
    "try:\n",
    "    # 오류가 발생할 수 있는 코드\n",
    "except:\n",
    "    # 오류가 발생했을 때 실행할 코드\n",
    "else:\n",
    "    # 오류가 발생하지 않았을 때 실행할 코드"
   ]
  },
  {
   "cell_type": "markdown",
   "metadata": {},
   "source": [
    "**설명:**\n",
    "- `try` 블록 내의 코드가 실행됩니다.\n",
    "- 오류가 발생하면 `except` 블록이 실행됩니다.\n",
    "- 오류가 발생하지 않으면 `else` 블록이 실행됩니다."
   ]
  },
  {
   "cell_type": "markdown",
   "metadata": {},
   "source": [
    "#### try ~ except ~ finally\n",
    "\n",
    "이 구문은 오류 발생 여부와 관계없이 항상 실행할 코드를 정의할 수 있습니다."
   ]
  },
  {
   "cell_type": "code",
   "execution_count": null,
   "metadata": {},
   "outputs": [],
   "source": [
    "try:\n",
    "    # 오류가 발생할 수 있는 코드\n",
    "except:\n",
    "    # 오류가 발생했을 때 실행할 코드\n",
    "finally:\n",
    "    # 오류 발생 여부와 관계없이 항상 실행할 코드"
   ]
  },
  {
   "cell_type": "markdown",
   "metadata": {},
   "source": [
    "**설명:**\n",
    "- `try` 블록 내의 코드가 실행됩니다.\n",
    "- 오류가 발생하면 `except` 블록이 실행됩니다.\n",
    "- `finally` 블록은 오류 발생 여부와 관계없이 항상 실행됩니다."
   ]
  },
  {
   "cell_type": "markdown",
   "metadata": {},
   "source": [
    "#### try ~ except ~ else ~ finally\n",
    "\n",
    "이 구문은 모든 경우의 예외 처리를 포함하며, 오류가 발생하지 않았을 때와 항상 실행할 코드를 모두 정의할 수 있습니다."
   ]
  },
  {
   "cell_type": "code",
   "execution_count": null,
   "metadata": {},
   "outputs": [],
   "source": [
    "try:\n",
    "    # 오류가 발생할 수 있는 코드\n",
    "except:\n",
    "    # 오류가 발생했을 때 실행할 코드\n",
    "else:\n",
    "    # 오류가 발생하지 않았을 때 실행할 코드\n",
    "finally:\n",
    "    # 오류 발생 여부와 관계없이 항상 실행할 코드"
   ]
  },
  {
   "cell_type": "markdown",
   "metadata": {},
   "source": [
    "**설명:**\n",
    "- `try` 블록 내의 코드가 실행됩니다.\n",
    "- 오류가 발생하면 `except` 블록이 실행됩니다.\n",
    "- 오류가 발생하지 않으면 `else` 블록이 실행됩니다.\n",
    "- `finally` 블록은 오류 발생 여부와 관계없이 항상 실행됩니다."
   ]
  },
  {
   "cell_type": "markdown",
   "metadata": {},
   "source": [
    "#### try ~ finally\n",
    "\n",
    "이 구문은 오류 처리 코드를 생략하고, 항상 실행할 코드만 정의할 수 있습니다."
   ]
  },
  {
   "cell_type": "code",
   "execution_count": null,
   "metadata": {},
   "outputs": [],
   "source": [
    "try:\n",
    "    # 오류가 발생할 수 있는 코드\n",
    "finally:\n",
    "    # 오류 발생 여부와 관계없이 항상 실행할 코드"
   ]
  },
  {
   "cell_type": "markdown",
   "metadata": {},
   "source": [
    "**설명:**\n",
    "- `try` 블록 내의 코드가 실행됩니다.\n",
    "- `finally` 블록은 오류 발생 여부와 관계없이 항상 실행됩니다."
   ]
  },
  {
   "cell_type": "markdown",
   "metadata": {},
   "source": [
    "#### 이해도 체크리스트"
   ]
  },
  {
   "cell_type": "markdown",
   "metadata": {},
   "source": [
    "1. try ~ except 구문의 사용 이유와 방법을 설명해주세요"
   ]
  },
  {
   "cell_type": "markdown",
   "metadata": {},
   "source": [
    "정답 :  \n",
    "- 사용이유 : 오류가 발생하더라도 중단되지않고 정상적으로 실행할수있도록하고 오류와 관련된 정보를 제공하여 디버깅을 도와주고 다양한 종류의 오류에 대해 각각 다른 방식으로 처리할 수 있음  \n",
    "- 사용방법 : try블록 -> 예외가 발생할 수 있는 코드를 포함. except블록 -> try블록에서 예외가 발생했을 때 실행할 코드를 포함."
   ]
  },
  {
   "cell_type": "markdown",
   "metadata": {},
   "source": [
    "2. finally 구문의 기능과 특징을 설명해주세요"
   ]
  },
  {
   "cell_type": "markdown",
   "metadata": {},
   "source": [
    "정답 :  \n",
    "- 기능 : try구문에서 예외 발생 여부와 상관없이 항상 실행되는 코드를 포함.\n",
    "- 특징 : 오류와 상관없이 항상실행됨. 파일닫기나 네트워크연결종료등과 같은 리소스 정리 작업에 유용함."
   ]
  },
  {
   "cell_type": "markdown",
   "metadata": {},
   "source": [
    "#### 1. 예외 객체(Exception)\n",
    "Exception을 사용하면 **예외의 종류**에 대해 알 수 있습니다."
   ]
  },
  {
   "cell_type": "code",
   "execution_count": 11,
   "metadata": {},
   "outputs": [
    {
     "name": "stdout",
     "output_type": "stream",
     "text": [
      "type(exception): <class 'ValueError'>\n",
      "exception: invalid literal for int() with base 10: '3d'\n"
     ]
    }
   ],
   "source": [
    "try:\n",
    "    # 사용자로부터 밑변과 높이를 입력받습니다.\n",
    "    # 입력받은 값들을 공백을 기준으로 나누고, 각각 정수로 변환합니다.\n",
    "    x, y = map(int, input(\"밑변과 높이를 입력해주세요\").split(\" \"))\n",
    "    \n",
    "    # 삼각형의 넓이를 계산하여 출력합니다.\n",
    "    # 넓이는 밑변 * 높이 / 2 로 계산됩니다.\n",
    "    print(f'삼각형의 넓이는 {x * y / 2}입니다.')\n",
    "except Exception as exception:\n",
    "    # 예외가 발생했을 때 예외의 타입과 내용을 출력합니다.\n",
    "    print(\"type(exception):\", type(exception))  # 발생한 예외의 타입을 출력합니다.\n",
    "    print(\"exception:\", exception)  # 발생한 예외의 구체적인 내용을 출력합니다."
   ]
  },
  {
   "cell_type": "code",
   "execution_count": 13,
   "metadata": {},
   "outputs": [
    {
     "name": "stdout",
     "output_type": "stream",
     "text": [
      "type(exception): <class 'IndexError'>\n",
      "exception: list index out of range\n"
     ]
    }
   ],
   "source": [
    "numbers = [23, 11, 7, 4, 12]\n",
    "\n",
    "try:\n",
    "    # 사용자로부터 찾고 싶은 값의 위치를 정수로 입력받습니다.\n",
    "    number_input = int(input(\"찾고싶은 값의 위치를 입력해주세요\"))\n",
    "    \n",
    "    # 입력받은 위치에 해당하는 리스트의 요소를 출력합니다.\n",
    "    # 리스트 'numbers'의 'number_input' 번째 요소를 출력합니다.\n",
    "    print(f'{number_input}번째 요소 : {numbers[number_input]}')\n",
    "except Exception as exception:\n",
    "    # 예외가 발생했을 때 예외의 타입과 내용을 출력합니다.\n",
    "    print(\"type(exception):\", type(exception))  # 발생한 예외의 타입을 출력합니다.\n",
    "    print(\"exception:\", exception)  # 발생한 예외의 구체적인 내용을 출력합니다."
   ]
  },
  {
   "cell_type": "markdown",
   "metadata": {},
   "source": [
    "#### 2. 예외 구분하기\n",
    "\n",
    "여러 가지 예외가 발생하는 상황을 구분지어 대비하기 위하여 예외 구분을 합니다.  \n",
    "파이썬은 **에러를 구분하고 처리**할 수 있는 기능을 제공합니다."
   ]
  },
  {
   "cell_type": "code",
   "execution_count": 15,
   "metadata": {},
   "outputs": [
    {
     "name": "stdout",
     "output_type": "stream",
     "text": [
      "리스트의 범위를 벗어났습니다. 입력값을 다시 확인해주세요\n"
     ]
    }
   ],
   "source": [
    "# 예외 구분\n",
    "\n",
    "numbers = [23, 11, 7, 4, 12]\n",
    "\n",
    "try:\n",
    "    # 사용자로부터 찾고 싶은 값의 위치를 정수로 입력받습니다.\n",
    "    number_input = int(input(\"찾고싶은 값의 위치를 입력해주세요\"))\n",
    "    \n",
    "    # 입력받은 위치에 해당하는 리스트의 요소를 출력합니다.\n",
    "    # 리스트 'numbers'의 'number_input' 번째 요소를 출력합니다.\n",
    "    print(f'{number_input}번째 요소 : {numbers[number_input]}')\n",
    "except ValueError:\n",
    "    # 입력값이 정수가 아닌 경우 발생하는 예외를 처리합니다.\n",
    "    print(\"정수로 입력해주세요\")\n",
    "except IndexError:\n",
    "    # 입력값이 리스트의 범위를 벗어난 경우 발생하는 예외를 처리합니다.\n",
    "    print(\"리스트의 범위를 벗어났습니다. 입력값을 다시 확인해주세요\")"
   ]
  },
  {
   "cell_type": "markdown",
   "metadata": {},
   "source": [
    "#### 3. 예외 구분 구문과 예외 객체\n",
    "\n",
    "as 키워드를 이용해 as ‘변수’를 사용할 수 있습니다.  \n",
    "예외가 발생하면 as다음에 오는 변수에 예외에 대한 값이 할당되어, 예외 객체의 속성 및 메서드에 접근할 수 있습니다."
   ]
  },
  {
   "cell_type": "code",
   "execution_count": 16,
   "metadata": {},
   "outputs": [
    {
     "name": "stdout",
     "output_type": "stream",
     "text": [
      "리스트의 범위를 벗어났습니다. 입력값을 다시 확인해주세요\n",
      "Exception: list index out of range\n"
     ]
    }
   ],
   "source": [
    "try:\n",
    "    # 사용자로부터 찾고 싶은 값의 위치를 정수로 입력받습니다.\n",
    "    number_input = int(input(\"찾고싶은 값의 위치를 입력해주세요\"))\n",
    "    \n",
    "    # 입력받은 위치에 해당하는 리스트의 요소를 출력합니다.\n",
    "    # 리스트 'numbers'의 'number_input' 번째 요소를 출력합니다.\n",
    "    print(f'{number_input}번째 요소 : {numbers[number_input]}')\n",
    "except ValueError as exception:\n",
    "    # 입력값이 정수가 아닌 경우 발생하는 예외를 처리합니다.\n",
    "    print(\"정수로 입력해주세요\")\n",
    "    # 발생한 예외의 구체적인 내용을 출력합니다.\n",
    "    print(\"Exception:\", exception)\n",
    "except IndexError as exception:\n",
    "    # 입력값이 리스트의 범위를 벗어난 경우 발생하는 예외를 처리합니다.\n",
    "    print(\"리스트의 범위를 벗어났습니다. 입력값을 다시 확인해주세요\")\n",
    "    # 발생한 예외의 구체적인 내용을 출력합니다.\n",
    "    print(\"Exception:\", exception)"
   ]
  },
  {
   "cell_type": "markdown",
   "metadata": {},
   "source": [
    "#### 4. 모든 예외처리(Exception)\n",
    "\n",
    "위 2가지 예외 처리로 처리가 불가능한 경우를 대비해 **모든 예외 처리가 가능**한 Exception을 이용할 수 있습니다."
   ]
  },
  {
   "cell_type": "code",
   "execution_count": 17,
   "metadata": {},
   "outputs": [
    {
     "name": "stdout",
     "output_type": "stream",
     "text": [
      "3번째 요소 : 4\n",
      "대처 불가한 예외가 발생했습니다.\n",
      "Exception: name '에러를' is not defined\n"
     ]
    }
   ],
   "source": [
    "# 모든 예외처리가 가능한 Exception\n",
    "try:\n",
    "    # 사용자로부터 찾고 싶은 값의 위치를 정수로 입력받습니다.\n",
    "    number_input = int(input(\"찾고싶은 값의 위치를 입력해주세요\"))\n",
    "    \n",
    "    # 입력받은 위치에 해당하는 리스트의 요소를 출력합니다.\n",
    "    # 리스트 'numbers'의 'number_input' 번째 요소를 출력합니다.\n",
    "    print(f'{number_input}번째 요소 : {numbers[number_input]}')\n",
    "    \n",
    "    # 고의로 예외를 발생시키는 코드입니다.\n",
    "    에러를.만들꺼야\n",
    "except ValueError as exception:\n",
    "    # 입력값이 정수가 아닌 경우 발생하는 예외를 처리합니다.\n",
    "    print(\"정수로 입력해주세요\")\n",
    "    # 발생한 예외의 구체적인 내용을 출력합니다.\n",
    "    print(\"Exception:\", exception)\n",
    "except Exception as exception:\n",
    "    # 그 외의 예외가 발생했을 때 처리합니다.\n",
    "    print(\"대처 불가한 예외가 발생했습니다.\")\n",
    "    # 발생한 예외의 구체적인 내용을 출력합니다.\n",
    "    print(\"Exception:\", exception)"
   ]
  },
  {
   "cell_type": "markdown",
   "metadata": {},
   "source": [
    "#### 이해도 체크리스트"
   ]
  },
  {
   "cell_type": "markdown",
   "metadata": {},
   "source": [
    "1. 다음 코드의 실행 결과는 무엇인가요?\n",
    "\n",
    "```python\n",
    "numbers = [10, 20, 30, 40, 50]\n",
    "\n",
    "try:\n",
    "    number_input = int(input(\"찾고싶은 값의 위치를 입력해주세요\"))\n",
    "    print(f'{number_input}번째 요소 : {numbers[number_input]}')\n",
    "except ValueError as exception:\n",
    "    print(\"정수로 입력해주세요\")\n",
    "    print(\"Exception:\", exception)\n",
    "except IndexError as exception:\n",
    "    print(\"리스트의 범위를 벗어났습니다. 입력값을 다시 확인해주세요\")\n",
    "    print(\"Exception:\", exception)\n",
    "\n",
    "# 입력\n",
    "2\n",
    "```"
   ]
  },
  {
   "cell_type": "markdown",
   "metadata": {},
   "source": [
    "정답 :  \n",
    "2번째 요소 : 30\n",
    "\n",
    "2"
   ]
  },
  {
   "cell_type": "markdown",
   "metadata": {},
   "source": [
    "2. 다음 코드에서 사용자가 입력값으로 “abc”를 입력했을 때 출력 결과는 무엇인가요?\n",
    "\n",
    "```python\n",
    "numbers = [10, 20, 30, 40, 50]\n",
    "\n",
    "try:\n",
    "    number_input = int(input(\"찾고싶은 값의 위치를 입력해주세요\"))\n",
    "    print(f'{number_input}번째 요소 : {numbers[number_input]}')\n",
    "except ValueError as exception:\n",
    "    print(\"정수로 입력해주세요\")\n",
    "    print(\"Exception:\", exception)\n",
    "except IndexError as exception:\n",
    "    print(\"리스트의 범위를 벗어났습니다. 입력값을 다시 확인해주세요\")\n",
    "    print(\"Exception:\", exception)\n",
    "    \n",
    "# 입력\n",
    "abc\n",
    "```"
   ]
  },
  {
   "cell_type": "markdown",
   "metadata": {},
   "source": [
    "정답 :  \n",
    "정수로 입력해주세요  \n",
    "Exception: invalid literal for int() with base 10: 'abc'"
   ]
  },
  {
   "cell_type": "markdown",
   "metadata": {},
   "source": [
    "3. 다음 코드에서 입력값으로 10을 입력했을 때 출력 결과는 무엇인가요?\n",
    "\n",
    "```python\n",
    "numbers = [10, 20, 30, 40, 50]\n",
    "\n",
    "try:\n",
    "    number_input = int(input(\"찾고싶은 값의 위치를 입력해주세요\"))\n",
    "    print(f'{number_input}번째 요소 : {numbers[number_input]}')\n",
    "except ValueError as exception:\n",
    "    print(\"정수로 입력해주세요\")\n",
    "    print(\"Exception:\", exception)\n",
    "except IndexError as exception:\n",
    "    print(\"리스트의 범위를 벗어났습니다. 입력값을 다시 확인해주세요\")\n",
    "    print(\"Exception:\", exception)\n",
    "\n",
    "# 입력\n",
    "10\n",
    "```"
   ]
  },
  {
   "cell_type": "markdown",
   "metadata": {},
   "source": [
    "정답 :  \n",
    "리스트의 범위를 벗어났습니다. 입력값을 다시 확인해주세요  \n",
    "Exception: list index out of range"
   ]
  },
  {
   "cell_type": "markdown",
   "metadata": {},
   "source": [
    "#### 1. raise 구문\n",
    "\n",
    "raise 구문은 예외를 **명시적으로 발생**시키는 데 사용됩니다.  \n",
    "특정 조건이 충족될 때 raise 구문을 사용하여 강제로 예외를 발생시켜 **에러 핸들링**을 할 수 있습니다."
   ]
  },
  {
   "cell_type": "code",
   "execution_count": 22,
   "metadata": {},
   "outputs": [
    {
     "ename": "NotImplementedError",
     "evalue": "",
     "output_type": "error",
     "traceback": [
      "\u001b[1;31m---------------------------------------------------------------------------\u001b[0m",
      "\u001b[1;31mNotImplementedError\u001b[0m                       Traceback (most recent call last)",
      "Cell \u001b[1;32mIn[22], line 14\u001b[0m\n\u001b[0;32m     11\u001b[0m     \u001b[38;5;28;01mraise\u001b[39;00m \u001b[38;5;167;01mNotImplementedError\u001b[39;00m \u001b[38;5;66;03m# 미구현\u001b[39;00m\n\u001b[0;32m     12\u001b[0m \u001b[38;5;28;01melse\u001b[39;00m:\n\u001b[0;32m     13\u001b[0m     \u001b[38;5;66;03m# 숫자가 0보다 작거나 같으면 NotImplementedError 예외를 발생시킵니다.\u001b[39;00m\n\u001b[1;32m---> 14\u001b[0m     \u001b[38;5;28;01mraise\u001b[39;00m \u001b[38;5;167;01mNotImplementedError\u001b[39;00m \u001b[38;5;66;03m# 미구현\u001b[39;00m\n\u001b[0;32m     16\u001b[0m \u001b[38;5;66;03m# 출력\u001b[39;00m\n\u001b[0;32m     17\u001b[0m \u001b[38;5;66;03m# NotImplementedError\u001b[39;00m\n",
      "\u001b[1;31mNotImplementedError\u001b[0m: "
     ]
    }
   ],
   "source": [
    "# raise 구문 예시\n",
    "# 사용자로부터 숫자를 입력받습니다.\n",
    "number = input(\"숫자를 입력해주세요\") \n",
    "\n",
    "# 입력받은 문자열을 정수로 변환합니다.\n",
    "number = int(number) \n",
    "\n",
    "# 입력받은 숫자가 0보다 큰지 확인합니다.\n",
    "if number > 0:\n",
    "    # 숫자가 0보다 크면 NotImplementedError 예외를 발생시킵니다.\n",
    "    raise NotImplementedError # 미구현\n",
    "else:\n",
    "    # 숫자가 0보다 작거나 같으면 NotImplementedError 예외를 발생시킵니다.\n",
    "    raise NotImplementedError # 미구현\n",
    "    \n",
    "# 출력\n",
    "# NotImplementedError"
   ]
  },
  {
   "cell_type": "markdown",
   "metadata": {},
   "source": [
    "#### 1. 표준 모듈\n",
    "모듈 : 여러 변수와 함수를 가지고 있는 집합체  \n",
    "파이썬에 기본적으로 내장되어 있는 모듈을 **표준 모듈**이라고 합니다."
   ]
  },
  {
   "cell_type": "markdown",
   "metadata": {},
   "source": [
    "#### 2. 묘듈의 사용 방법\n",
    "\n",
    "import ‘모듈명’을 사용하여 모듈을 불러와 사용할 수 있습니다.  \n",
    "math 모듈 : 수학과 관련된 기능을 가집니다.  \n",
    "math 모듈 내 함수\n",
    "- sin(x) : 사인 값을 구합니다.\n",
    "- cos(x) : 코사인 값을 구합니다.\n",
    "- tan(x) : 탄젠트 값을 구함\n",
    "- cell(x) : 올림\n",
    "- floor(x) : 내림"
   ]
  },
  {
   "cell_type": "code",
   "execution_count": 23,
   "metadata": {},
   "outputs": [
    {
     "name": "stdout",
     "output_type": "stream",
     "text": [
      "-0.9589242746631385\n",
      "0.28366218546322625\n",
      "4\n",
      "4\n"
     ]
    }
   ],
   "source": [
    "import math  # math 모듈을 임포트합니다.\n",
    "\n",
    "print(math.sin(5))  # 5 라디안의 사인 값을 출력합니다.\n",
    "print(math.cos(5))  # 5 라디안의 코사인 값을 출력합니다.\n",
    "print(math.ceil(3.6))  # 3.6 이상의 가장 작은 정수를 출력합니다.\n",
    "print(math.floor(4.1))  # 4.1 이하의 가장 큰 정수를 출력합니다."
   ]
  },
  {
   "cell_type": "markdown",
   "metadata": {},
   "source": [
    "#### 3. from 구문\n",
    "\n",
    "모듈 안의 수 많은 함수 중 우리가 **원하는 함수**만을 가져와서 사용하면 문법적으로 굉장히 편해집니다.  \n",
    "구조 : from 모듈 이름 import 가져오고 싶은 변수 또는 함수"
   ]
  },
  {
   "cell_type": "code",
   "execution_count": 24,
   "metadata": {},
   "outputs": [
    {
     "name": "stdout",
     "output_type": "stream",
     "text": [
      "-0.9589242746631385\n",
      "-0.9589242746631385\n"
     ]
    }
   ],
   "source": [
    "# 예시\n",
    "from math import sin\n",
    "\n",
    "# math 모듈을 전체 임포트합니다.\n",
    "import math\n",
    "# math 모듈의 sin 함수를 사용하여 5 라디안의 사인 값을 계산합니다.\n",
    "result1 = math.sin(5)\n",
    "print(result1)\n",
    "\n",
    "# math 모듈에서 sin 함수만을 임포트합니다.\n",
    "from math import sin\n",
    "# 임포트된 sin 함수를 사용하여 5 라디안의 사인 값을 계산합니다.\n",
    "result2 = sin(5)\n",
    "print(result2)"
   ]
  },
  {
   "cell_type": "markdown",
   "metadata": {},
   "source": [
    "from을 통해서 모든 모듈 불러오기"
   ]
  },
  {
   "cell_type": "code",
   "execution_count": 25,
   "metadata": {},
   "outputs": [
    {
     "name": "stdout",
     "output_type": "stream",
     "text": [
      "-0.9589242746631385\n",
      "0.28366218546322625\n",
      "4\n",
      "4\n"
     ]
    }
   ],
   "source": [
    "# math 모듈에서 모든 함수를 임포트합니다.\n",
    "from math import *\n",
    "\n",
    "# 임포트된 sin 함수를 사용하여 5 라디안의 사인 값을 계산하고 출력합니다.\n",
    "print(sin(5))  # 출력: 약 -0.9589242746631385\n",
    "\n",
    "# 임포트된 cos 함수를 사용하여 5 라디안의 코사인 값을 계산하고 출력합니다.\n",
    "print(cos(5))  # 출력: 약 0.28366218546322625\n",
    "\n",
    "# 임포트된 ceil 함수를 사용하여 3.6 이상의 가장 작은 정수를 계산하고 출력합니다.\n",
    "print(ceil(3.6))  # 출력: 4\n",
    "\n",
    "# 임포트된 floor 함수를 사용하여 4.1 이하의 가장 큰 정수를 계산하고 출력합니다.\n",
    "print(floor(4.1))  # 출력: 4"
   ]
  },
  {
   "cell_type": "markdown",
   "metadata": {},
   "source": [
    "#### 4. as 구문\n",
    "\n",
    "모듈을 가져오다 보면 **이름의 충돌**이 발생하거나 너무 길어 **짧게 줄여서 사용**하고 싶은 경우가 있습니다.  \n",
    "이럴 때 모듈의 **식별자**를 만들어 사용할 수 있는 문법이 as구문입니다."
   ]
  },
  {
   "cell_type": "code",
   "execution_count": 26,
   "metadata": {},
   "outputs": [
    {
     "name": "stdout",
     "output_type": "stream",
     "text": [
      "-0.9589242746631385\n",
      "0.28366218546322625\n",
      "4\n",
      "4\n"
     ]
    }
   ],
   "source": [
    "# math 모듈을 'm'이라는 별칭으로 임포트합니다.\n",
    "import math as m\n",
    "\n",
    "# 'm' 별칭을 사용하여 math 모듈의 sin 함수를 호출합니다.\n",
    "# 5 라디안의 사인 값을 계산하고 출력합니다.\n",
    "print(m.sin(5))  # 출력: 약 -0.9589242746631385\n",
    "\n",
    "# 'm' 별칭을 사용하여 math 모듈의 cos 함수를 호출합니다.\n",
    "# 5 라디안의 코사인 값을 계산하고 출력합니다.\n",
    "print(m.cos(5))  # 출력: 약 0.28366218546322625\n",
    "\n",
    "# 'm' 별칭을 사용하여 math 모듈의 ceil 함수를 호출합니다.\n",
    "# 3.6 이상의 가장 작은 정수를 계산하고 출력합니다.\n",
    "print(m.ceil(3.6))  # 출력: 4\n",
    "\n",
    "# 'm' 별칭을 사용하여 math 모듈의 floor 함수를 호출합니다.\n",
    "# 4.1 이하의 가장 큰 정수를 계산하고 출력합니다.\n",
    "print(m.floor(4.1))  # 출력: 4"
   ]
  },
  {
   "cell_type": "markdown",
   "metadata": {},
   "source": [
    "#### 5. os 모듈\n",
    "\n",
    "os모듈은 운영체제와 관련된 기능을 가진 모듈입니다.  \n",
    "os.system 명령어는 **시스템과 관련**된 명렁어기 때문에 사용 시 주의가 필요합니다."
   ]
  },
  {
   "cell_type": "code",
   "execution_count": null,
   "metadata": {},
   "outputs": [
    {
     "name": "stdout",
     "output_type": "stream",
     "text": [
      "현재 운영체제: nt\n",
      "현재 폴더: c:\\Users\\pcm04\\Desktop\\Python\\241126\n",
      "현재 폴더 정보: ['today_study.ipynb']\n"
     ]
    }
   ],
   "source": [
    "# os 모듈을 임포트합니다. 이 모듈은 운영체제와 상호작용할 수 있는 기능을 제공합니다.\n",
    "import os\n",
    "\n",
    "# 현재 운영체제의 이름을 출력합니다.\n",
    "# posix는 유닉스/리눅스 계열, nt는 윈도우를 의미합니다.\n",
    "print(\"현재 운영체제:\", os.name)\n",
    "\n",
    "# 현재 작업 디렉토리의 경로를 출력합니다.\n",
    "print(\"현재 폴더:\", os.getcwd())\n",
    "\n",
    "# 현재 작업 디렉토리에 있는 파일과 디렉토리 목록을 출력합니다.\n",
    "print(\"현재 폴더 정보:\", os.listdir())"
   ]
  },
  {
   "cell_type": "code",
   "execution_count": 32,
   "metadata": {},
   "outputs": [
    {
     "data": {
      "text/plain": [
       "0"
      ]
     },
     "execution_count": 32,
     "metadata": {},
     "output_type": "execute_result"
    }
   ],
   "source": [
    "# os 모듈을 임포트합니다. 이 모듈은 운영체제와 상호작용할 수 있는 기능을 제공합니다.\n",
    "import os\n",
    "\n",
    "# 현재 작업 디렉토리에 \"oz\"라는 이름의 새로운 디렉토리를 생성합니다.\n",
    "os.mkdir(\"oz\")\n",
    "\n",
    "# 현재 작업 디렉토리에서 \"oz\" 디렉토리를 삭제합니다.\n",
    "os.rmdir(\"oz\")\n",
    "\n",
    "# \"oz.txt\"라는 이름의 새로운 파일을 쓰기 모드로 엽니다.\n",
    "# 파일이 없으면 새로 생성하고, 있으면 내용을 덮어씁니다.\n",
    "with open(\"oz.txt\", \"w\") as file:\n",
    "    # 파일에 \"수강생 여러분 안녕하세요\"라는 문자열을 씁니다.\n",
    "    file.write(\"수강생 여러분 안녕하세요\")\n",
    "\n",
    "# \"oz.txt\" 파일의 이름을 \"oz2.txt\"로 변경합니다.\n",
    "os.rename(\"oz.txt\", \"oz2.txt\")\n",
    "\n",
    "# \"oz2.txt\" 파일을 삭제합니다.\n",
    "os.remove(\"oz2.txt\")\n",
    "\n",
    "# 현재 작업 디렉토리의 파일 및 디렉토리 목록을 출력합니다. (macOS/리눅스)\n",
    "os.system(\"ls\")\n",
    "\n",
    "# 현재 작업 디렉토리의 파일 및 디렉토리 목록을 출력합니다. (Windows)\n",
    "os.system(\"dir\")"
   ]
  },
  {
   "cell_type": "markdown",
   "metadata": {},
   "source": [
    "#### 6. datetime 모듈\n",
    "\n",
    "datetime 모듈은 날짜와 시간에 관련된 모듈입니다."
   ]
  },
  {
   "cell_type": "code",
   "execution_count": 35,
   "metadata": {},
   "outputs": [
    {
     "name": "stdout",
     "output_type": "stream",
     "text": [
      "오늘 날짜와 시간 출력\n",
      "2024 년\n",
      "11 월\n",
      "26 일\n",
      "10 시\n",
      "38 분\n",
      "41 초\n"
     ]
    }
   ],
   "source": [
    "# datetime 모듈을 임포트합니다. 이 모듈은 날짜와 시간을 다루는 기능을 제공합니다.\n",
    "import datetime\n",
    "\n",
    "# 현재 날짜와 시간 출력\n",
    "print(\"오늘 날짜와 시간 출력\")\n",
    "\n",
    "# 현재 날짜와 시간을 가져와 now 변수에 저장합니다.\n",
    "now = datetime.datetime.now()\n",
    "\n",
    "# 현재 연도를 출력합니다.\n",
    "print(now.year, \"년\")\n",
    "\n",
    "# 현재 월을 출력합니다.\n",
    "print(now.month, \"월\")\n",
    "\n",
    "# 현재 일을 출력합니다.\n",
    "print(now.day, \"일\")\n",
    "\n",
    "# 현재 시각을 출력합니다.\n",
    "print(now.hour, \"시\")\n",
    "\n",
    "# 현재 분을 출력합니다.\n",
    "print(now.minute, \"분\")\n",
    "\n",
    "# 현재 초를 출력합니다.\n",
    "print(now.second, \"초\")"
   ]
  },
  {
   "cell_type": "code",
   "execution_count": 36,
   "metadata": {},
   "outputs": [
    {
     "name": "stdout",
     "output_type": "stream",
     "text": [
      "다양한 시간 포멧\n",
      "2024.11.26 10:38:46\n",
      "2024년 11월 26일 10시 38분 46초\n",
      "2024년 11월 26일 10시 38분 46초\n"
     ]
    }
   ],
   "source": [
    "# datetime 모듈을 임포트합니다. 이 모듈은 날짜와 시간을 다루는 기능을 제공합니다.\n",
    "import datetime\n",
    "\n",
    "# 다양한 시간 포맷을 출력합니다.\n",
    "print(\"다양한 시간 포멧\")\n",
    "\n",
    "# 현재 날짜와 시간을 가져와 now 변수에 저장합니다.\n",
    "now = datetime.datetime.now()\n",
    "\n",
    "# 첫 번째 출력 형식: '년.월.일 시:분:초' 형식으로 포맷팅합니다.\n",
    "output_1 = now.strftime(\"%Y.%m.%d %H:%M:%S\")\n",
    "\n",
    "# 두 번째 출력 형식: f-string을 사용하여 '년 월 일 시 분 초' 형식으로 포맷팅합니다.\n",
    "output_2 = f'{now.year}년 {now.month}월 {now.day}일 {now.hour}시 {now.minute}분 {now.second}초'\n",
    "\n",
    "# 세 번째 출력 형식: '년 월 일 시 분 초' 형식을 사용하여 strftime과 format 메서드를 결합하여 포맷팅합니다.\n",
    "output_3 = now.strftime(\"%Y{} %m{} %d{} %H{} %M{} %S{}\").format(*\"년월일시분초\")\n",
    "\n",
    "# 첫 번째 출력 형식을 출력합니다.\n",
    "print(output_1)  # 예시: 2024.06.28 14:23:45\n",
    "\n",
    "# 두 번째 출력 형식을 출력합니다.\n",
    "print(output_2)  # 예시: 2024년 6월 28일 14시 23분 45초\n",
    "\n",
    "# 세 번째 출력 형식을 출력합니다.\n",
    "print(output_3)  # 예시: 2024년 06월 28일 14시 23분 45초"
   ]
  },
  {
   "cell_type": "markdown",
   "metadata": {},
   "source": [
    "#### 7. time 모듈\n",
    "\n",
    "time은 **시간**과 관련된 기능을 다루는 모듈입니다.  \n",
    "특정 시간 동안 코드를 정지할 수 있는 기능이 있습니다."
   ]
  },
  {
   "cell_type": "code",
   "execution_count": 37,
   "metadata": {},
   "outputs": [
    {
     "name": "stdout",
     "output_type": "stream",
     "text": [
      "3초 뒤에 어떤일이 일어날까요?\n",
      "아무일도 없었다\n"
     ]
    }
   ],
   "source": [
    "# time 모듈을 임포트합니다. 이 모듈은 시간 관련 함수들을 제공합니다.\n",
    "import time\n",
    "\n",
    "print(\"3초 뒤에 어떤일이 일어날까요?\")\n",
    "\n",
    "# 프로그램 실행을 3초 동안 일시 정지시킵니다.\n",
    "time.sleep(3)\n",
    "\n",
    "# 3초 후에 출력할 메시지입니다.\n",
    "print(\"아무일도 없었다\")  # 예시: 아무일도 없었다"
   ]
  },
  {
   "cell_type": "markdown",
   "metadata": {},
   "source": [
    "#### 8. urllib 모듈\n",
    "\n",
    "urllib는 **URL**을 다루는 라이브러리입니다."
   ]
  },
  {
   "cell_type": "code",
   "execution_count": 38,
   "metadata": {},
   "outputs": [
    {
     "name": "stdout",
     "output_type": "stream",
     "text": [
      "b'   <!doctype html> <html lang=\"ko\" class=\"fzoom\"> <head> <meta charset=\"utf-8\"> <meta name=\"Referrer\" content=\"origin\"> <meta http-equiv=\"X-UA-Compatible\" content=\"IE=edge\"> <meta name=\"viewport\" content=\"width=1190\"> <title>NAVER</title> <meta name=\"apple-mobile-web-app-title\" content=\"NAVER\"/> <meta name=\"robots\" content=\"index,nofollow\"/> <meta name=\"description\" content=\"\\xeb\\x84\\xa4\\xec\\x9d\\xb4\\xeb\\xb2\\x84 \\xeb\\xa9\\x94\\xec\\x9d\\xb8\\xec\\x97\\x90\\xec\\x84\\x9c \\xeb\\x8b\\xa4\\xec\\x96\\x91\\xed\\x95\\x9c \\xec\\xa0\\x95\\xeb\\xb3\\xb4\\xec\\x99\\x80 \\xec\\x9c\\xa0\\xec\\x9a\\xa9\\xed\\x95\\x9c \\xec\\xbb\\xa8\\xed\\x85\\x90\\xec\\xb8\\xa0\\xeb\\xa5\\xbc \\xeb\\xa7\\x8c\\xeb\\x82\\x98 \\xeb\\xb3\\xb4\\xec\\x84\\xb8\\xec\\x9a\\x94\"/> <meta property=\"og:title\" content=\"\\xeb\\x84\\xa4\\xec\\x9d\\xb4\\xeb\\xb2\\x84\"> <meta property=\"og:url\" content=\"https://www.naver.com/\"> <meta property=\"og:image\" content=\"https://s.pstatic.net/static/www/mobile/edit/2016/0705/mobile_212852414260.png\"> <meta property=\"og:description\" content=\"\\xeb\\x84\\xa4\\xec\\x9d\\xb4\\xeb\\xb2\\x84 \\xeb\\xa9\\x94\\xec\\x9d\\xb8\\xec\\x97\\x90\\xec\\x84\\x9c \\xeb\\x8b\\xa4\\xec\\x96\\x91\\xed\\x95\\x9c \\xec\\xa0\\x95\\xeb\\xb3\\xb4\\xec\\x99\\x80 \\xec\\x9c\\xa0\\xec\\x9a\\xa9\\xed\\x95\\x9c \\xec\\xbb\\xa8\\xed\\x85\\x90\\xec\\xb8\\xa0\\xeb\\xa5\\xbc \\xeb\\xa7\\x8c\\xeb\\x82\\x98 \\xeb\\xb3\\xb4\\xec\\x84\\xb8\\xec\\x9a\\x94\"/> <meta name=\"twitter:card\" content=\"summary\"> <meta name=\"twitter:title\" content=\"\"> <meta name=\"twitter:url\" content=\"https://www.naver.com/\"> <meta name=\"twitter:image\" content=\"https://s.pstatic.net/static/www/mobile/edit/2016/0705/mobile_212852414260.png\"> <meta name=\"twitter:description\" content=\"\\xeb\\x84\\xa4\\xec\\x9d\\xb4\\xeb\\xb2\\x84 \\xeb\\xa9\\x94\\xec\\x9d\\xb8\\xec\\x97\\x90\\xec\\x84\\x9c \\xeb\\x8b\\xa4\\xec\\x96\\x91\\xed\\x95\\x9c \\xec\\xa0\\x95\\xeb\\xb3\\xb4\\xec\\x99\\x80 \\xec\\x9c\\xa0\\xec\\x9a\\xa9\\xed\\x95\\x9c \\xec\\xbb\\xa8\\xed\\x85\\x90\\xec\\xb8\\xa0\\xeb\\xa5\\xbc \\xeb\\xa7\\x8c\\xeb\\x82\\x98 \\xeb\\xb3\\xb4\\xec\\x84\\xb8\\xec\\x9a\\x94\"/> <meta name=\"google-site-verification\" content=\"uru5NJKa1Bfr5nv5AdQ26Qat7UrPU_02l-PIZRLzI-g\"/> <link rel=\"shortcut icon\" type=\"image/x-icon\" href=\"/favicon.ico?1\"> <link rel=\"apple-touch-icon-precomposed\" href=\"https://s.pstatic.net/static/www/nFavicon96.png\"/> <link rel=\"apple-touch-icon\" sizes=\"114x114\" href=\"https://s.pstatic.net/static/www/u/2014/0328/mma_204243574.png\"/> <link rel=\"apple-touch-icon\" href=\"https://s.pstatic.net/static/www/u/2014/0328/mma_20432863.png\"/> <link rel=\"stylesheet\" href=\"https://ssl.pstatic.net/sstatic/search/pc/css/sp_autocomplete_240801.css\"> <link rel=\"canonical\" href=\"https://www.naver.com/\"> <link rel=\"alternate\" media=\"only screen and (max-width: 767px)\" href=\"https://m.naver.com/\"> <script>window.gladsdk=window.gladsdk||{},window.gladsdk.cmd=window.gladsdk.cmd||[],window.ndpsdk=window.ndpsdk||{},window.ndpsdk.cmd=window.ndpsdk.cmd||[],window.ndpsdk.polyfill=window.ndpsdk.polyfill||{cmd:[]};var g_ssc=\"navertop.v5\";window.nsc=g_ssc,window.nmain=window.nmain||{},window.nmain.jsOrigin=\"www\"</script> <script>window.ntm=window.ntm||[]</script> <script async src=\"https://ssl.pstatic.net/tveta/libs/ndpsdk/prod/ndp-loader.js\"></script> <script async src=\"https://ssl.pstatic.net/tveta/libs/glad/prod/gfp-core.js\"></script> <script src=\"https://ssl.pstatic.net/tveta/libs/assets/js/pc/main/min/pc.veta.core.min.js\" defer=\"defer\"></script>  <script>\\nwindow[\"EAGER-DATA\"] = window[\"EAGER-DATA\"] || {};\\nwindow[\"EAGER-DATA\"][\"PC-FEED-WRAPPER\"] = {\"@type\":\"BLOCK\",\"blocks\":[{\"@type\":\"BLOCK\",\"blocks\":[{\"@type\":\"PC-FEED-BLOCK\",\"materials\":[{\"@type\":\"MATERIAL-PC-FEED\",\"title\":\"\\xeb\\x82\\xa2\\xec\\x9d\\xb4 \\xec\\x82\\xac\\xeb\\x8a\\x94 \\xec\\x9d\\xb4\\xec\\x95\\xbc\\xea\\xb8\\xb0 - \\xea\\xb3\\x84\\xec\\x86\\x8d\\xeb\\x90\\x98\\xeb\\x8a\\x94 \\xeb\\xaf\\xb8\\xeb\\xaf\\xb8\\xed\\x95\\x9c \\xec\\x9d\\xb8\\xec\\x83\\x9d\",\"url\":\"https://comic.naver.com/webtoon/list?titleId=833255\",\"image\":{\"url\":\"https://s.pstatic.net/dthumb.phinf/?src=%22https%3A%2F%2Fshared-comic.pstatic.net%2Fthumb%2Fwebtoon%2F833255%2Fthumbnail%2Fthumbnail_IMAG21_504f6152-8a60-42a0-a1c0-43cd77f9c430.jpg%22&type=nf216_280&service=navermain\"},\"desc\":\"\\xec\\x84\\x9c\\xeb\\x82\\x98\\xeb\\x9e\\x98\",\"webtoonIcon\":{\"newest\":false,\"adult\":false,\"up\":true,\"dailyPass\":false,\"seriesEdition\":false},\"showLiveBadge\":false,\"_id\":\"667adbc1788ee448db90e4df\"},{\"@type\":\"MATERIAL-PC-FEED\",\"title\":\"\\xea\\xb9\\x80\\xeb\\xb6\\x80\\xec\\x9e\\xa5\",\"url\":\"https://comic.naver.com/webtoon/list?titleId=783053\",\"image\":{\"url\":\"https://s.pstatic.net/dthumb.phinf/?src=%22https%3A%2F%2Fshared-comic.pstatic.net%2Fthumb%2Fwebtoon%2F783053%2Fthumbnail%2Fthumbnail_IMAG21_d7732f14-26da-4e35-8762-660cc87b53f1.jpg%22&type=nf216_280&service=navermain\"},\"desc\":\"\\xeb\\xb0\\x95\\xeb\\xa7\\x8c\\xec\\x82\\xac, \\xeb\\x82\\xa8\\xec\\x9e\\x90\\xec\\x9d\\x98 \\xec\\x9d\\xb4\\xec\\x95\\xbc\\xea\\xb8\\xb0 / \\xec\\xa0\\x95\\xec\\xa2\\x85\\xed\\x83\\x9d\",\"webtoonIcon\":{\"newest\":false,\"adult\":false,\"up\":true,\"dailyPass\":false,\"seriesEdition\":false},\"showLiveBadge\":false,\"_id\":\"667adbc1788ee448db90e4e0\"},{\"@type\":\"MATERIAL-PC-FEED\",\"title\":\"\\xec\\xa2\\x8b\\xec\\x95\\x84? \\xec\\xa3\\xbd\\xec\\x96\\xb4!\",\"url\":\"https://comic.naver.com/webtoon/list?titleId=821192\",\"image\":{\"url\":\"https://s.pstatic.net/dthumb.phinf/?src=%22https%3A%2F%2Fshared-comic.pstatic.net%2Fthumb%2Fwebtoon%2F821192%2Fthumbnail%2Fthumbnail_IMAG21_156483ac-3740-4cbf-8150-0f24595bae52.jpg%22&type=nf216_280&service=navermain\"},\"desc\":\"\\xeb\\xb0\\x95\\xeb\\xa7\\x8c\\xec\\x82\\xac, \\xea\\xb9\\x80\\xec\\x9a\\xa9\\xed\\x82\\xa4 / \\xec\\xa3\\xa0\",\"webtoonIcon\":{\"newest\":false,\"adult\":true,\"up\":true,\"dailyPass\":false,\"seriesEdition\":false},\"showLiveBadge\":false,\"_id\":\"667adbc1788ee448db90e4e1\"},{\"@type\":\"MATERIAL-PC-FEED\",\"title\":\"\\xea\\xb7\\x80\\xed\\x98\\xbc\",\"url\":\"https://comic.naver.com/webtoon/list?titleId=833705\",\"image\":{\"url\":\"https://s.pstatic.net/dthumb.phinf/?src=%22https%3A%2F%2Fshared-comic.pstatic.net%2Fthumb%2Fwebtoon%2F833705%2Fthumbnail%2Fthumbnail_IMAG21_43cdfe34-6ab4-48f3-96db-9cfa7afa628a.jpg%22&type=nf216_280&service=navermain\"},\"desc\":\"\\xec\\x95\\xbc\\xec\\x98\\xb9\\xec\\x9d\\xb4\",\"webtoonIcon\":{\"newest\":true,\"adult\":false,\"up\":true,\"dailyPass\":false,\"seriesEdition\":false},\"showLiveBadge\":false,\"_id\":\"667adbc1788ee448db90e4e2\"},{\"@type\":\"MATERIAL-PC-FEED\",\"title\":\"\\xea\\xb4\\xb4\\xeb\\xa0\\xa5 \\xeb\\x82\\x9c\\xec\\x8b\\xa0\",\"url\":\"https://comic.naver.com/webtoon/list?titleId=821597\",\"image\":{\"url\":\"https://s.pstatic.net/dthumb.phinf/?src=%22https%3A%2F%2Fshared-comic.pstatic.net%2Fthumb%2Fwebtoon%2F821597%2Fthumbnail%2Fthumbnail_IMAG21_d39e65d8-6ffd-4024-be77-dbeb87db820c.jpg%22&type=nf216_280&service=navermain\"},\"desc\":\"\\xeb\\xa7\\xa4\\xeb\\x93\\x9c\\xeb\\xb2\\x84\\xeb\\x93\\x9c / \\xea\\xb9\\x80\\xed\\x83\\x9c\\xed\\x98\\x95 / \\xed\\x95\\x9c\\xec\\xa4\\x91\\xec\\x9b\\x94\\xec\\x95\\xbc\",\"webtoonIcon\":{\"newest\":false,\"adult\":false,\"up\":true,\"dailyPass\":false,\"seriesEdition\":false},\"showLiveBadge\":false,\"_id\":\"667adbc1788ee448db90e4e3\"},{\"@type\":\"MATERIAL-PC-FEED\",\"title\":\"\\xec\\x84\\x9c\\xec\\x9a\\xb8 \\xec\\x9e\\x90\\xea\\xb0\\x80\\xec\\x97\\x90 \\xeb\\x8c\\x80\\xea\\xb8\\xb0\\xec\\x97\\x85 \\xeb\\x8b\\xa4\\xeb\\x8b\\x88\\xeb\\x8a\\x94 \\xea\\xb9\\x80 \\xeb\\xb6\\x80\\xec\\x9e\\xa5 \\xec\\x9d\\xb4\\xec\\x95\\xbc\\xea\\xb8\\xb0\",\"url\":\"https://comic.naver.com/webtoon/list?titleId=819929\",\"image\":{\"url\":\"https://s.pstatic.net/dthumb.phinf/?src=%22https%3A%2F%2Fshared-comic.pstatic.net%2Fthumb%2Fwebtoon%2F819929%2Fthumbnail%2Fthumbnail_IMAG21_f1ca00e5-9b30-44d3-a1ee-7a04d539002a.jpg%22&type=nf216_280&service=navermain\"},\"desc\":\"\\xeb\\xaa\\x85\\xeb\\x9e\\x91 / \\xea\\xb9\\x80\\xeb\\xb3\\x91\\xea\\xb4\\x80 / \\xec\\x86\\xa1\\xed\\x9d\\xac\\xea\\xb5\\xac\",\"webtoonIcon\":{\"newest\":false,\"adult\":false,\"up\":true,\"dailyPass\":false,\"seriesEdition\":false},\"showLiveBadge\":false,\"_id\":\"667adbc1788ee448db90e4e4\"},{\"@type\":\"MATERIAL-PC-FEED\",\"title\":\"\\xec\\xa0\\x88\\xeb\\x8c\\x80\\xed\\x9a\\x8c\\xea\\xb7\\x80\",\"url\":\"https://comic.naver.com/webtoon/list?titleId=828715\",\"image\":{\"url\":\"https://s.pstatic.net/dthumb.phinf/?src=%22https%3A%2F%2Fshared-comic.pstatic.net%2Fthumb%2Fwebtoon%2F828715%2Fthumbnail%2Fthumbnail_IMAG21_8957548a-2eb2-4ddf-a50e-dbc7fddc16a7.jpg%22&type=nf216_280&service=navermain\"},\"desc\":\"JP / \\xeb\\xb0\\x95\\xec\\xa7\\x84\\xed\\x99\\x98 / \\xec\\x9e\\xa5\\xec\\x98\\x81\\xed\\x9b\\x88\",\"webtoonIcon\":{\"newest\":false,\"adult\":false,\"up\":true,\"dailyPass\":false,\"seriesEdition\":false},\"showLiveBadge\":false,\"_id\":\"667adbc1788ee448db90e4e5\"},{\"@type\":\"MATERIAL-PC-FEED\",\"title\":\"\\xec\\x8b\\xa0\\xec\\x9e\\x85\\xec\\x82\\xac\\xec\\x9b\\x90 \\xea\\xb9\\x80\\xec\\xb2\\xa0\\xec\\x88\\x98\",\"url\":\"https://comic.naver.com/webtoon/list?titleId=812594\",\"image\":{\"url\":\"https://s.pstatic.net/dthumb.phinf/?src=%22https%3A%2F%2Fshared-comic.pstatic.net%2Fthumb%2Fwebtoon%2F812594%2Fthumbnail%2Fthumbnail_IMAG21_d524ca40-2d86-4946-b13f-53d42cbd1cba.jpg%22&type=nf216_280&service=navermain\"},\"desc\":\"\\xec\\x8a\\xa4\\xed\\x8a\\x9c\\xeb\\x94\\x94\\xec\\x98\\xa4MW / \\xec\\x98\\xa4\\xec\\xa0\\x95\",\"webtoonIcon\":{\"newest\":false,\"adult\":false,\"up\":true,\"dailyPass\":false,\"seriesEdition\":false},\"showLiveBadge\":false,\"_id\":\"667adbc1788ee448db90e4e6\"},{\"@type\":\"MATERIAL-PC-FEED\",\"title\":\"\\xea\\xb5\\xac\\xeb\\xa3\\xa1:\\xec\\x82\\xac\\xeb\\xa1\\x9c\\xec\\xb9\\xb4\",\"url\":\"https://comic.naver.com/webtoon/list?titleId=833416\",\"image\":{\"url\":\"https://s.pstatic.net/dthumb.phinf/?src=%22https%3A%2F%2Fshared-comic.pstatic.net%2Fthumb%2Fwebtoon%2F833416%2Fthumbnail%2Fthumbnail_IMAG21_677ff60b-57eb-4aae-a5ef-44d175b2d506.jpg%22&type=nf216_280&service=navermain\"},\"desc\":\"\\xeb\\xb0\\xb1\\xec\\x9d\\xb8\\xed\\x9c\\x98, \\xeb\\xb0\\x95\\xeb\\xa7\\x8c\\xec\\x82\\xac / \\xeb\\xb0\\xb1\\xec\\x9d\\xb8\\xed\\x9c\\x98\",\"webtoonIcon\":{\"newest\":true,\"adult\":false,\"up\":true,\"dailyPass\":false,\"seriesEdition\":false},\"showLiveBadge\":false,\"_id\":\"667adbc1788ee448db90e4e7\"},{\"@type\":\"MATERIAL-PC-FEED\",\"title\":\"\\xeb\\xa7\\x88\\xec\\x9d\\x8c\\xec\\x9d\\x98\\xec\\x86\\x8c\\xeb\\xa6\\xac2\",\"url\":\"https://comic.naver.com/webtoon/list?titleId=814543\",\"image\":{\"url\":\"https://s.pstatic.net/dthumb.phinf/?src=%22https%3A%2F%2Fshared-comic.pstatic.net%2Fthumb%2Fwebtoon%2F814543%2Fthumbnail%2Fthumbnail_IMAG21_df84a681-b7ef-4dda-8cef-25b219d35e3e.jpg%22&type=nf216_280&service=navermain\"},\"desc\":\"\\xec\\xa1\\xb0\\xec\\x84\\x9d\",\"webtoonIcon\":{\"newest\":false,\"adult\":false,\"up\":true,\"dailyPass\":false,\"seriesEdition\":false},\"showLiveBadge\":false,\"_id\":\"667adbc1788ee448db90e4e8\"},{\"@type\":\"MATERIAL-PC-FEED\",\"title\":\"\\xec\\x82\\xac\\xec\\x8b\\xa0\\xec\\x86\\x8c\\xeb\\x85\\x84\",\"url\":\"https://comic.naver.com/webtoon/list?titleId=730656\",\"image\":{\"url\":\"https://s.pstatic.net/dthumb.phinf/?src=%22https%3A%2F%2Fshared-comic.pstatic.net%2Fthumb%2Fwebtoon%2F730656%2Fthumbnail%2Fthumbnail_IMAG21_fc6d8dbf-eed2-43d0-af45-2edb3cc4244e.jpg%22&type=nf216_280&service=navermain\"},\"desc\":\"\\xeb\\xa5\\x98\",\"webtoonIcon\":{\"newest\":false,\"adult\":false,\"up\":true,\"dailyPass\":false,\"seriesEdition\":false},\"showLiveBadge\":false,\"_id\":\"667adbc1788ee448db90e4e9\"},{\"@type\":\"MATERIAL-PC-FEED\",\"title\":\"\\xec\\x9c\\xa0\\xeb\\xb6\\x80 \\xea\\xb0\\x90\\xec\\x9e\\x90\",\"url\":\"https://comic.naver.com/webtoon/list?titleId=822556\",\"image\":{\"url\":\"https://s.pstatic.net/dthumb.phinf/?src=%22https%3A%2F%2Fshared-comic.pstatic.net%2Fthumb%2Fwebtoon%2F822556%2Fthumbnail%2Fthumbnail_IMAG21_46b37b9f-0a73-43e0-982a-1cf5666397c7.jpg%22&type=nf216_280&service=navermain\"},\"desc\":\"\\xea\\xb0\\x90\\xec\\x9e\\x90\",\"webtoonIcon\":{\"newest\":false,\"adult\":false,\"up\":true,\"dailyPass\":false,\"seriesEdition\":false},\"showLiveBadge\":false,\"_id\":\"667adbc1788ee448db90e4ea\"}],\"excludeInPaging\":false,\"positionForPaging\":0,\"realtime\":false,\"title\":\"\\xed\\x99\\x94\\xec\\x9a\\x94\\xec\\x9b\\xb9\\xed\\x88\\xb0\",\"moreText\":\"\\xed\\x99\\x94\\xec\\x9a\\x94\\xec\\x9b\\xb9\\xed\\x88\\xb0 \\xec\\xa0\\x84\\xec\\xb2\\xb4\\xeb\\xb3\\xb4\\xea\\xb8\\xb0\",\"moreUrl\":\"https://comic.naver.com/webtoon/weekdayList?week=tue\",\"needCologger\":false,\"ad\":false,\"@type\":\"PC-FEED-BLOCK\",\"@code\":\"PC-FEED-WEBTOON-DAY-OF-WEEK\",\"@template\":\"SIX-COLUMNS-POSTER-TWO-ROW-SMALL\"},{\"@type\":\"PC-FEED-BLOCK\",\"materials\":[{\"@type\":\"MATERIAL-PC-FEED\",\"title\":\"\\xea\\xb0\\x9c\\xec\\xa7\\x93\",\"url\":\"https://comic.naver.com/webtoon/list?titleId=833620\",\"image\":{\"url\":\"https://s.pstatic.net/dthumb.phinf/?src=%22https%3A%2F%2Fimage-comic.pstatic.net%2Fwebtoon%2F833620%2Fthumbnail%2Fthumbnail_IMAG21_5d062774-afbe-47c6-9f75-fa78de5a7fa5.jpg%22&type=nf216_280&service=navermain\"},\"rank\":1,\"highlight\":\"\\xeb\\xb0\\x98\\xeb\\x93\\x9c\\xec\\x8b\\x9c \\xed\\x95\\xb4\\xed\\x94\\xbc\\xec\\x97\\x94\\xeb\\x94\\xa9 \\xec\\x9e\\x91\\xea\\xb0\\x80 \\xec\\x9e\\x91\\xed\\x92\\x88\",\"source\":{\"name\":\"\\xeb\\xb6\\x88\\xec\\x82\\xac / MUTE, \\xec\\x84\\x9c\\xec\\x9d\\xb8\\xed\\x99\\x94 / \\xea\\xb9\\x80\\xec\\x98\\x81\\xed\\x95\\x9c\"},\"filterId\":\"NEW\",\"webtoonIcon\":{\"newest\":false,\"adult\":true,\"up\":false,\"dailyPass\":false,\"seriesEdition\":false},\"showLiveBadge\":false,\"_id\":\"6441ca92c499cc07f334c5c6\"},{\"@type\":\"MATERIAL-PC-FEED\",\"title\":\"\\xea\\xb5\\xac\\xeb\\xa3\\xa1:\\xec\\x82\\xac\\xeb\\xa1\\x9c\\xec\\xb9\\xb4\",\"url\":\"https://comic.naver.com/webtoon/list?titleId=833416\",\"image\":{\"url\":\"https://s.pstatic.net/dthumb.phinf/?src=%22https%3A%2F%2Fimage-comic.pstatic.net%2Fwebtoon%2F833416%2Fthumbnail%2Fthumbnail_IMAG21_677ff60b-57eb-4aae-a5ef-44d175b2d506.jpg%22&type=nf216_280&service=navermain\"},\"rank\":2,\"highlight\":\"\\xec\\x9a\\x95\\xeb\\xa7\\x9d\\xec\\x9d\\xbc\\xea\\xb8\\xb0Deep \\xec\\x9e\\x91\\xea\\xb0\\x80 \\xec\\x9e\\x91\\xed\\x92\\x88\",\"source\":{\"name\":\"\\xeb\\xb0\\xb1\\xec\\x9d\\xb8\\xed\\x9c\\x98, \\xeb\\xb0\\x95\\xeb\\xa7\\x8c\\xec\\x82\\xac / \\xeb\\xb0\\xb1\\xec\\x9d\\xb8\\xed\\x9c\\x98\"},\"filterId\":\"NEW\",\"webtoonIcon\":{\"newest\":false,\"adult\":false,\"up\":false,\"dailyPass\":false,\"seriesEdition\":false},\"showLiveBadge\":false,\"_id\":\"6441ca92c499cc07f334c5c7\"},{\"@type\":\"MATERIAL-PC-FEED\",\"title\":\"\\xea\\xb7\\x80\\xed\\x98\\xbc\",\"url\":\"https://comic.naver.com/webtoon/list?titleId=833705\",\"image\":{\"url\":\"https://s.pstatic.net/dthumb.phinf/?src=%22https%3A%2F%2Fimage-comic.pstatic.net%2Fwebtoon%2F833705%2Fthumbnail%2Fthumbnail_IMAG21_43cdfe34-6ab4-48f3-96db-9cfa7afa628a.jpg%22&type=nf216_280&service=navermain\"},\"rank\":3,\"highlight\":\"\\xec\\x97\\xac\\xec\\x8b\\xa0\\xea\\xb0\\x95\\xeb\\xa6\\xbc \\xec\\x9e\\x91\\xea\\xb0\\x80 \\xec\\x9e\\x91\\xed\\x92\\x88\",\"source\":{\"name\":\"\\xec\\x95\\xbc\\xec\\x98\\xb9\\xec\\x9d\\xb4\"},\"filterId\":\"NEW\",\"webtoonIcon\":{\"newest\":false,\"adult\":false,\"up\":false,\"dailyPass\":false,\"seriesEdition\":false},\"showLiveBadge\":false,\"_id\":\"6441ca92c499cc07f334c5c8\"},{\"@type\":\"MATERIAL-PC-FEED\",\"title\":\"\\xec\\x8d\\xb0:\\xea\\xb4\\x80\\xea\\xb3\\x84\\xec\\xa3\\xbc\\xec\\x9d\\x98\",\"url\":\"https://comic.naver.com/webtoon/list?titleId=834033\",\"image\":{\"url\":\"https://s.pstatic.net/dthumb.phinf/?src=%22https%3A%2F%2Fimage-comic.pstatic.net%2Fwebtoon%2F834033%2Fthumbnail%2Fthumbnail_IMAG21_7c9585da-5f05-49f4-8922-7803630084fa.jpg%22&type=nf216_280&service=navermain\"},\"rank\":4,\"source\":{\"name\":\"\\xec\\x9d\\xb4\\xec\\x82\\xbc / \\xec\\x9e\\xa5\\xeb\\xb2\\x84\\xeb\\x93\\xa4\"},\"filterId\":\"NEW\",\"webtoonIcon\":{\"newest\":false,\"adult\":true,\"up\":false,\"dailyPass\":false,\"seriesEdition\":false},\"showLiveBadge\":false,\"_id\":\"6441ca92c499cc07f334c5c9\"},{\"@type\":\"MATERIAL-PC-FEED\",\"title\":\"\\xeb\\xb0\\xa4\\xec\\x9d\\x98 \\xeb\\xb0\\xa9\\xeb\\xac\\xb8\\xec\\x9e\\x90\",\"url\":\"https://comic.naver.com/webtoon/list?titleId=833793\",\"image\":{\"url\":\"https://s.pstatic.net/dthumb.phinf/?src=%22https%3A%2F%2Fimage-comic.pstatic.net%2Fwebtoon%2F833793%2Fthumbnail%2Fthumbnail_IMAG21_a9f7b6a9-3935-44e8-8ce8-051c67987fc9.jpg%22&type=nf216_280&service=navermain\"},\"rank\":5,\"highlight\":\"\\xec\\x99\\x95\\xea\\xb4\\x80\\xec\\x9d\\x84 \\xec\\xb0\\xbe\\xec\\x95\\x84\\xec\\xa4\\x98 \\xec\\x9e\\x91\\xea\\xb0\\x80 \\xec\\x9e\\x91\\xed\\x92\\x88\",\"source\":{\"name\":\"MUTE / \\xeb\\xa6\\xac\\xeb\\xb8\\x8c \\xeb\\xb0\\x94\\xec\\x9d\\xb4\"},\"filterId\":\"NEW\",\"webtoonIcon\":{\"newest\":false,\"adult\":true,\"up\":false,\"dailyPass\":true,\"seriesEdition\":false},\"showLiveBadge\":false,\"_id\":\"6441ca92c499cc07f334c5ca\"},{\"@type\":\"MATERIAL-PC-FEED\",\"title\":\"\\xeb\\xa1\\x9c\\xeb\\xa7\\xa8\\xec\\x8a\\xa4 \\xec\\xa0\\x80\\xec\\xa3\\xbc\",\"url\":\"https://comic.naver.com/webtoon/list?titleId=834035\",\"image\":{\"url\":\"https://s.pstatic.net/dthumb.phinf/?src=%22https%3A%2F%2Fimage-comic.pstatic.net%2Fwebtoon%2F834035%2Fthumbnail%2Fthumbnail_IMAG21_6a1b8b18-1759-457e-abb6-132878057f35.jpg%22&type=nf216_280&service=navermain\"},\"rank\":6,\"source\":{\"name\":\"\\xeb\\x8b\\xa4\\xec\\x9b\\x90\"},\"filterId\":\"NEW\",\"webtoonIcon\":{\"newest\":false,\"adult\":true,\"up\":false,\"dailyPass\":false,\"seriesEdition\":false},\"showLiveBadge\":false,\"_id\":\"6441ca92c499cc07f334c5cb\"},{\"@type\":\"MATERIAL-PC-FEED\",\"title\":\"\\xea\\xb3\\xa0\\xec\\x9e\\x90\\xec\\x97\\xac\\xec\\x9e\\x90\",\"url\":\"https://comic.naver.com/webtoon/list?titleId=829780\",\"image\":{\"url\":\"https://s.pstatic.net/dthumb.phinf/?src=%22https%3A%2F%2Fimage-comic.pstatic.net%2Fwebtoon%2F829780%2Fthumbnail%2Fthumbnail_IMAG21_6ddb0f9a-e160-4053-b9ac-bc83f80a0e52.jpg%22&type=nf216_280&service=navermain\"},\"rank\":1,\"highlight\":\"5\\xec\\xa3\\xbc \\xec\\x97\\xb0\\xec\\x86\\x8d 1\\xec\\x9c\\x84\",\"source\":{\"name\":\"\\xeb\\xa3\\xa8\\xec\\xa6\\x8c\\xec\\x95\\x84\"},\"filterId\":\"FINISH\",\"webtoonIcon\":{\"newest\":false,\"adult\":true,\"up\":false,\"dailyPass\":true,\"seriesEdition\":false},\"showLiveBadge\":false,\"_id\":\"6441ca92c499cc07f334c5cc\"},{\"@type\":\"MATERIAL-PC-FEED\",\"title\":\"\\xeb\\xa7\\x88\\xeb\\xa3\\xa8\\xeb\\x8a\\x94 \\xea\\xb0\\x95\\xec\\xa5\\x90\",\"url\":\"https://comic.naver.com/webtoon/list?titleId=796152\",\"image\":{\"url\":\"https://s.pstatic.net/dthumb.phinf/?src=%22https%3A%2F%2Fimage-comic.pstatic.net%2Fwebtoon%2F796152%2Fthumbnail%2Fthumbnail_IMAG21_26b9c1d8-ca2d-4fc7-87ea-a3334634236a.jpg%22&type=nf216_280&service=navermain\"},\"rank\":2,\"highlight\":\"TOP10 \\xec\\xa7\\x84\\xec\\x9e\\x85!\",\"source\":{\"name\":\"\\xeb\\xaa\\xa8\\xec\\xa3\\xa0\"},\"filterId\":\"FINISH\",\"webtoonIcon\":{\"newest\":false,\"adult\":false,\"up\":false,\"dailyPass\":false,\"seriesEdition\":false},\"showLiveBadge\":false,\"_id\":\"6441ca92c499cc07f334c5cd\"},{\"@type\":\"MATERIAL-PC-FEED\",\"title\":\"\\xeb\\x82\\x9a\\xec\\x8b\\x9c\\xec\\x8b\\xa0\\xea\\xb3\\xb5\",\"url\":\"https://comic.naver.com/webtoon/list?titleId=651667\",\"image\":{\"url\":\"https://s.pstatic.net/dthumb.phinf/?src=%22https%3A%2F%2Fimage-comic.pstatic.net%2Fwebtoon%2F651667%2Fthumbnail%2Fthumbnail_IMAG21_7364292730009630773.jpg%22&type=nf216_280&service=navermain\"},\"rank\":3,\"highlight\":\"2\\xec\\xa3\\xbc \\xec\\x97\\xb0\\xec\\x86\\x8d TOP10\",\"source\":{\"name\":\"\\xea\\xb7\\x80\\xea\\xb7\\x80\"},\"filterId\":\"FINISH\",\"webtoonIcon\":{\"newest\":false,\"adult\":false,\"up\":false,\"dailyPass\":false,\"seriesEdition\":false},\"showLiveBadge\":false,\"_id\":\"654ad80598c6dbca70ba6c70\"},{\"@type\":\"MATERIAL-PC-FEED\",\"title\":\"\\xeb\\x8d\\x94 \\xeb\\xb3\\xb5\\xec\\x84\\x9c\",\"url\":\"https://comic.naver.com/webtoon/list?titleId=736989\",\"image\":{\"url\":\"https://s.pstatic.net/dthumb.phinf/?src=%22https%3A%2F%2Fimage-comic.pstatic.net%2Fwebtoon%2F736989%2Fthumbnail%2Fthumbnail_IMAG21_3618985590402593377.jpg%22&type=nf216_280&service=navermain\"},\"rank\":4,\"highlight\":\"TOP10 \\xec\\x9e\\xac\\xec\\xa7\\x84\\xec\\x9e\\x85\",\"source\":{\"name\":\"\\xec\\xa0\\x95\\xec\\xa7\\x80\\xed\\x9b\\x88\"},\"filterId\":\"FINISH\",\"webtoonIcon\":{\"newest\":false,\"adult\":false,\"up\":false,\"dailyPass\":true,\"seriesEdition\":false},\"showLiveBadge\":false,\"_id\":\"654ad80598c6dbca70ba6c71\"},{\"@type\":\"MATERIAL-PC-FEED\",\"title\":\"\\xed\\x8f\\xad\\xed\\x92\\x8d\\xec\\x9d\\x98 \\xec\\xa0\\x84\\xed\\x95\\x99\\xec\\x83\\x9d\",\"url\":\"https://comic.naver.com/webtoon/list?titleId=150388\",\"image\":{\"url\":\"https://s.pstatic.net/dthumb.phinf/?src=%22https%3A%2F%2Fimage-comic.pstatic.net%2Fwebtoon%2F150388%2Fthumbnail%2Fthumbnail_IMAG21_3919649213993084469.jpg%22&type=nf216_280&service=navermain\"},\"rank\":5,\"highlight\":\"TOP10 \\xec\\x9e\\xac\\xec\\xa7\\x84\\xec\\x9e\\x85\",\"source\":{\"name\":\"\\xea\\xb0\\x95\\xeb\\x83\\x89\\xec\\x9d\\xb4\"},\"filterId\":\"FINISH\",\"webtoonIcon\":{\"newest\":false,\"adult\":false,\"up\":false,\"dailyPass\":true,\"seriesEdition\":false},\"showLiveBadge\":false,\"_id\":\"654ad80598c6dbca70ba6c72\"},{\"@type\":\"MATERIAL-PC-FEED\",\"title\":\"\\xec\\xa0\\x95\\xeb\\x85\\x84\\xec\\x9d\\xb4\",\"url\":\"https://comic.naver.com/webtoon/list?titleId=726214\",\"image\":{\"url\":\"https://s.pstatic.net/dthumb.phinf/?src=%22https%3A%2F%2Fimage-comic.pstatic.net%2Fwebtoon%2F726214%2Fthumbnail%2Fthumbnail_IMAG21_7220450198503842097.jpg%22&type=nf216_280&service=navermain\"},\"rank\":6,\"highlight\":\"7\\xec\\xa3\\xbc \\xec\\x97\\xb0\\xec\\x86\\x8d TOP10\",\"source\":{\"name\":\"\\xec\\x84\\x9c\\xec\\x9d\\xb4\\xeb\\xa0\\x88 / \\xeb\\x82\\x98\\xeb\\xaa\\xac\"},\"filterId\":\"FINISH\",\"webtoonIcon\":{\"newest\":false,\"adult\":false,\"up\":false,\"dailyPass\":true,\"seriesEdition\":false},\"showLiveBadge\":false,\"_id\":\"654ad80598c6dbca70ba6c73\"}],\"excludeInPaging\":false,\"positionForPaging\":0,\"realtime\":false,\"title\":\"\\xec\\x9d\\xb4\\xeb\\xb2\\x88\\xec\\xa3\\xbc \\xea\\xb0\\x80\\xec\\x9e\\xa5 \\xeb\\xa7\\x8e\\xec\\x9d\\xb4 \\xeb\\xb3\\xb8 \\xec\\x9b\\xb9\\xed\\x88\\xb0\",\"filterList\":[{\"id\":\"NEW\",\"name\":\"\\xec\\x8b\\xa0\\xec\\x9e\\x91\",\"defaultType\":false},{\"id\":\"FINISH\",\"name\":\"\\xec\\x99\\x84\\xea\\xb2\\xb0\",\"defaultType\":false}],\"needCologger\":false,\"ad\":false,\"@type\":\"PC-FEED-BLOCK\",\"@code\":\"PC-FEED-WEBTOON-WEEK-VIEWRANK\",\"@template\":\"SIX-COLUMNS-POSTER-RANK-SMALL\"},{\"@type\":\"PC-FEED-BLOCK\",\"materials\":[{\"@type\":\"MATERIAL-PC-FEED\",\"title\":\"\\xed\\x8c\\x8c\\xeb\\xb8\\x8c\\xeb\\xa5\\xb4 in \\xec\\x82\\xac\\xec\\xb2\\x9c\\xeb\\x8b\\xb9\\xea\\xb0\\x80\",\"url\":\"http://series.naver.com/novel/detail.nhn?originalProductId=545085\",\"image\":{\"url\":\"https://s.pstatic.net/dthumb.phinf/?src=%22https%3A%2F%2Fcomicthumb-phinf.pstatic.net%2F20240102_7%2Fpocket_1704182387457owwiu_JPEG%2F%25C6%25C4%25BA%25EA%25B8%25A3_in_%25BB%25E7%25C3%25B5%25B4%25E7%25B0%25A1_%25C5%25B8%25C0%25CC%25C6%25B2_%25C3%25D6%25C1%25BE.jpg%22&type=nf216_312&service=navermain\"},\"desc\":\"\\xec\\x97\\x90\\xeb\\xa5\\xb4\\xed\\x9b\\x97\",\"webtoonIcon\":{\"newest\":false,\"adult\":false,\"up\":true,\"dailyPass\":false,\"seriesEdition\":true},\"showLiveBadge\":false,\"_id\":\"6441ca92c499cc07f334c5ce\"},{\"@type\":\"MATERIAL-PC-FEED\",\"title\":\"\\xec\\x95\\xbc\\xec\\x83\\x9d\\xec\\x97\\x90\\xec\\x84\\x9c \\xea\\xb0\\xa4\\xeb\\x9f\\xac\\xeb\\xa6\\xac\\xeb\\xa5\\xbc \\xec\\x96\\xbb\\xec\\x97\\x88\\xeb\\x8b\\xa4 [\\xeb\\x8f\\x85\\xec\\xa0\\x90]\",\"url\":\"http://series.naver.com/novel/detail.nhn?originalProductId=576449\",\"image\":{\"url\":\"https://s.pstatic.net/dthumb.phinf/?src=%22https%3A%2F%2Fcomicthumb-phinf.pstatic.net%2F20240725_135%2Fpocket_1721867718055nHJiO_JPEG%2Fcover.jpg%22&type=nf216_312&service=navermain\"},\"desc\":\"\\xeb\\x91\\x90\\xeb\\xb6\\x80\\xeb\\x91\\x90\\xeb\\xb6\\x80\",\"webtoonIcon\":{\"newest\":false,\"adult\":false,\"up\":true,\"dailyPass\":false,\"seriesEdition\":true},\"showLiveBadge\":false,\"_id\":\"6441ca92c499cc07f334c5cf\"},{\"@type\":\"MATERIAL-PC-FEED\",\"title\":\"\\xea\\xb0\\x90\\xed\\x9e\\x88 \\xeb\\xb0\\x94\\xeb\\x9d\\xbc\\xec\\x98\\xb5\\xea\\xb1\\xb4\\xeb\\x8c\\x80 [\\xeb\\x8f\\x85\\xec\\xa0\\x90]\",\"url\":\"http://series.naver.com/novel/detail.nhn?originalProductId=576397\",\"image\":{\"url\":\"https://s.pstatic.net/dthumb.phinf/?src=%22https%3A%2F%2Fcomicthumb-phinf.pstatic.net%2F20240721_158%2Fpocket_1721541487409aqhwG_JPEG%2F%25B0%25A8%25C8%25F7_%25B9%25D9%25B6%25F3%25BF%25C9%25B0%25C7%25B4%25EB_%25C5%25B8%25C0%25CC%25C6%25B2_%25C7%25A5%25C1%25F6_700x1000.jpg%22&type=nf216_312&service=navermain\"},\"desc\":\"\\xeb\\xb0\\xb1\\xeb\\xac\\x98\",\"webtoonIcon\":{\"newest\":false,\"adult\":false,\"up\":false,\"dailyPass\":false,\"seriesEdition\":true},\"showLiveBadge\":false,\"_id\":\"6441ca92c499cc07f334c5d0\"},{\"@type\":\"MATERIAL-PC-FEED\",\"title\":\"\\xec\\xa0\\x84\\xec\\xa7\\x80\\xec\\xa0\\x81 \\xeb\\x8f\\x85\\xec\\x9e\\x90 \\xec\\x8b\\x9c\\xec\\xa0\\x90\",\"url\":\"http://series.naver.com/novel/detail.nhn?originalProductId=314752\",\"image\":{\"url\":\"https://s.pstatic.net/dthumb.phinf/?src=%22https%3A%2F%2Fcomicthumb-phinf.pstatic.net%2F20240923_73%2Fpocket_1727093041081qbTh5_JPEG%2Fcover4.jpg%22&type=nf216_312&service=navermain\"},\"desc\":\"\\xec\\x8b\\xb1\\xec\\x88\\x91\",\"webtoonIcon\":{\"newest\":false,\"adult\":false,\"up\":true,\"dailyPass\":false,\"seriesEdition\":true},\"showLiveBadge\":false,\"_id\":\"6441ca92c499cc07f334c5d1\"},{\"@type\":\"MATERIAL-PC-FEED\",\"title\":\"\\xed\\x9a\\x8c\\xea\\xb7\\x80\\xec\\x9e\\x90\\xeb\\x8a\\x94 \\xeb\\x82\\x98\\xeb\\xa7\\x8c \\xec\\xa7\\x80\\xed\\x82\\xa8\\xeb\\x8b\\xa4 [\\xeb\\x8f\\x85\\xec\\xa0\\x90]\",\"url\":\"http://series.naver.com/novel/detail.nhn?originalProductId=477101\",\"image\":{\"url\":\"https://s.pstatic.net/dthumb.phinf/?src=%22https%3A%2F%2Fcomicthumb-phinf.pstatic.net%2F20221213_191%2Fpocket_1670913302266FEK1i_JPEG%2F477101_1.jpg%22&type=nf216_312&service=navermain\"},\"desc\":\"\\xeb\\xaf\\xb8\\xeb\\x8f\\x84\",\"webtoonIcon\":{\"newest\":false,\"adult\":false,\"up\":false,\"dailyPass\":false,\"seriesEdition\":true},\"showLiveBadge\":false,\"_id\":\"654ad80598c6dbca70ba6c74\"},{\"@type\":\"MATERIAL-PC-FEED\",\"title\":\"\\xed\\x99\\x94\\xec\\x82\\xb0\\xea\\xb7\\x80\\xed\\x99\\x98 [\\xeb\\x8f\\x85\\xec\\xa0\\x90]\",\"url\":\"http://series.naver.com/novel/detail.nhn?originalProductId=360163\",\"image\":{\"url\":\"https://s.pstatic.net/dthumb.phinf/?src=%22https%3A%2F%2Fcomicthumb-phinf.pstatic.net%2F20230619_210%2Fpocket_1687157855027BFTVg_JPEG%2F%25C8%25AD%25BB%25EA%25BC%25F6%25C1%25A4.jpg%22&type=nf216_312&service=navermain\"},\"desc\":\"\\xeb\\xb9\\x84\\xea\\xb0\\x80\",\"webtoonIcon\":{\"newest\":false,\"adult\":false,\"up\":true,\"dailyPass\":false,\"seriesEdition\":true},\"showLiveBadge\":false,\"_id\":\"654ad80598c6dbca70ba6c75\"},{\"@type\":\"MATERIAL-PC-FEED\",\"title\":\"\\xec\\xa0\\x88\\xeb\\x8c\\x80\\xed\\x9a\\x8c\\xea\\xb7\\x80 [\\xeb\\x8f\\x85\\xec\\xa0\\x90]\",\"url\":\"http://series.naver.com/novel/detail.nhn?originalProductId=485619\",\"image\":{\"url\":\"https://s.pstatic.net/dthumb.phinf/?src=%22https%3A%2F%2Fcomicthumb-phinf.pstatic.net%2F20230105_236%2Fpocket_1672891041689Lt5ft_JPEG%2F%25C0%25FD%25B4%25EB%25C8%25B8%25B1%25CD.jpg%22&type=nf216_312&service=navermain\"},\"desc\":\"\\xec\\x9e\\xa5\\xec\\x98\\x81\\xed\\x9b\\x88\",\"webtoonIcon\":{\"newest\":false,\"adult\":false,\"up\":true,\"dailyPass\":false,\"seriesEdition\":true},\"showLiveBadge\":false,\"_id\":\"654ad80598c6dbca70ba6c76\"},{\"@type\":\"MATERIAL-PC-FEED\",\"title\":\"\\xed\\x9a\\x8c\\xea\\xb7\\x80\\xed\\x95\\x9c \\xec\\x9a\\xa9\\xeb\\xb3\\x91\\xec\\x9d\\x80 \\xeb\\x8b\\xa4 \\xea\\xb3\\x84\\xed\\x9a\\x8d\\xec\\x9d\\xb4 \\xec\\x9e\\x88\\xeb\\x8b\\xa4 [\\xeb\\x8f\\x85\\xec\\xa0\\x90]\",\"url\":\"http://series.naver.com/novel/detail.nhn?originalProductId=487347\",\"image\":{\"url\":\"https://s.pstatic.net/dthumb.phinf/?src=%22https%3A%2F%2Fcomicthumb-phinf.pstatic.net%2F20221103_251%2Fpocket_1667448147678TYXNa_JPEG%2F%25C8%25B8%25B1%25CD%25C7%25D1-%25BF%25EB%25BA%25B4%25C0%25BA-%25B4%25D9-%25B0%25E8%25C8%25B9%25C0%25CC-%25C0%25D6%25B4%25D9850x1250.jpg%22&type=nf216_312&service=navermain\"},\"desc\":\"\\xea\\xb3\\xa8\\xeb\\x93\\x9c\\xed\\x96\\x89\",\"webtoonIcon\":{\"newest\":false,\"adult\":false,\"up\":true,\"dailyPass\":false,\"seriesEdition\":true},\"showLiveBadge\":false,\"_id\":\"654ad80598c6dbca70ba6c77\"},{\"@type\":\"MATERIAL-PC-FEED\",\"title\":\"\\xec\\x98\\xa4\\xeb\\x8a\\x98\\xeb\\xa7\\x8c \\xec\\x82\\xac\\xeb\\x8a\\x94 \\xea\\xb8\\xb0\\xec\\x82\\xac [\\xeb\\x8f\\x85\\xec\\xa0\\x90]\",\"url\":\"http://series.naver.com/novel/detail.nhn?originalProductId=497029\",\"image\":{\"url\":\"https://s.pstatic.net/dthumb.phinf/?src=%22https%3A%2F%2Fcomicthumb-phinf.pstatic.net%2F20240513_219%2Fpocket_1715568854461o91RI_JPEG%2Fcover.jpg%22&type=nf216_312&service=navermain\"},\"desc\":\"\\xec\\x86\\x8c\\xec\\x9a\\xb8\\xed\\x92\\x8d\",\"webtoonIcon\":{\"newest\":false,\"adult\":false,\"up\":true,\"dailyPass\":false,\"seriesEdition\":true},\"showLiveBadge\":false,\"_id\":\"654ad80598c6dbca70ba6c78\"},{\"@type\":\"MATERIAL-PC-FEED\",\"title\":\"\\xec\\x95\\x85\\xeb\\x8b\\xb9\\xeb\\x93\\xa4\\xec\\x9d\\x98 \\xed\\x9b\\x84\\xec\\x9b\\x90\\xec\\x9e\\x90\\xea\\xb0\\x80 \\xeb\\x90\\x98\\xec\\x97\\x88\\xeb\\x8b\\xa4 [\\xeb\\x8f\\x85\\xec\\xa0\\x90]\",\"url\":\"http://series.naver.com/novel/detail.nhn?originalProductId=571226\",\"image\":{\"url\":\"https://s.pstatic.net/dthumb.phinf/?src=%22https%3A%2F%2Fcomicthumb-phinf.pstatic.net%2F20240620_5%2Fpocket_1718861558993k0W0N_JPEG%2F571226_10.jpg%22&type=nf216_312&service=navermain\"},\"desc\":\"\\xeb\\xb4\\x84\\xed\\x95\\x9c\\xeb\\xb0\\xa9\\xec\\x9a\\xb8\",\"webtoonIcon\":{\"newest\":false,\"adult\":false,\"up\":true,\"dailyPass\":false,\"seriesEdition\":true},\"showLiveBadge\":false,\"_id\":\"654ad80598c6dbca70ba6c79\"},{\"@type\":\"MATERIAL-PC-FEED\",\"title\":\"\\xec\\x9a\\xb8\\xec\\x96\\xb4 \\xeb\\xb4\\x90, \\xeb\\xb9\\x8c\\xec\\x96\\xb4\\xeb\\x8f\\x84 \\xec\\xa2\\x8b\\xea\\xb3\\xa0 [\\xeb\\x8f\\x85\\xec\\xa0\\x90]\",\"url\":\"http://series.naver.com/novel/detail.nhn?originalProductId=374122\",\"image\":{\"url\":\"https://s.pstatic.net/dthumb.phinf/?src=%22https%3A%2F%2Fcomicthumb-phinf.pstatic.net%2F20190823_284%2Fpocket_1566568708526l5Wue_JPEG%2Fheaven_cover.jpg%22&type=nf216_312&service=navermain\"},\"desc\":\"\\xec\\x86\\x94\\xec\\xb2\\xb4\",\"webtoonIcon\":{\"newest\":false,\"adult\":false,\"up\":false,\"dailyPass\":false,\"seriesEdition\":true},\"showLiveBadge\":false,\"_id\":\"654ad80598c6dbca70ba6c7a\"},{\"@type\":\"MATERIAL-PC-FEED\",\"title\":\"\\xeb\\xa7\\x88\\xea\\xb5\\x90 \\xea\\xb5\\x90\\xec\\xa3\\xbc\\xec\\x9d\\x98 \\xeb\\xb6\\x80\\xea\\xb5\\xb0\\xec\\x9d\\xb4 \\xeb\\x90\\x98\\xec\\x97\\x88\\xeb\\x8b\\xa4 [\\xeb\\x8f\\x85\\xec\\xa0\\x90]\",\"url\":\"http://series.naver.com/novel/detail.nhn?originalProductId=525175\",\"image\":{\"url\":\"https://s.pstatic.net/dthumb.phinf/?src=%22https%3A%2F%2Fcomicthumb-phinf.pstatic.net%2F20241119_284%2Fpocket_1731996528906t79Ex_JPEG%2F%25B8%25B6%25B1%25B3-%25B1%25B3%25C1%25D6-2%25C2%25F7-%25C7%25A5%25C1%25F6-%25BF%25CF%25BC%25BA%25BA%25BB.jpg%22&type=nf216_312&service=navermain\"},\"desc\":\"\\xec\\xa5\\xac\\xeb\\xa0\\x88\\xec\\x9d\\xb4\",\"webtoonIcon\":{\"newest\":false,\"adult\":false,\"up\":true,\"dailyPass\":false,\"seriesEdition\":true},\"showLiveBadge\":false,\"_id\":\"654ad80598c6dbca70ba6c7b\"},{\"@type\":\"MATERIAL-PC-FEED\",\"title\":\"\\xec\\xa0\\x88\\xeb\\x8c\\x80\\xed\\x95\\x99\\xec\\x82\\xac [\\xeb\\x8f\\x85\\xec\\xa0\\x90]\",\"url\":\"http://series.naver.com/novel/detail.nhn?originalProductId=570945\",\"image\":{\"url\":\"https://s.pstatic.net/dthumb.phinf/?src=%22https%3A%2F%2Fcomicthumb-phinf.pstatic.net%2F20240615_233%2Fpocket_1718453801660Etp7z_JPEG%2Fcover.jpg%22&type=nf216_312&service=navermain\"},\"desc\":\"\\xea\\xb5\\xb0\\xec\\xa3\\xbc\",\"webtoonIcon\":{\"newest\":false,\"adult\":false,\"up\":true,\"dailyPass\":false,\"seriesEdition\":true},\"showLiveBadge\":false,\"_id\":\"654ad80598c6dbca70ba6c7c\"},{\"@type\":\"MATERIAL-PC-FEED\",\"title\":\"\\xec\\xa0\\x88\\xeb\\x8c\\x80\\xea\\xb5\\xb0\\xeb\\xa6\\xbc [\\xea\\xb0\\x9c\\xec\\xa0\\x95\\xed\\x8c\\x90]\",\"url\":\"http://series.naver.com/novel/detail.nhn?originalProductId=457048\",\"image\":{\"url\":\"https://s.pstatic.net/dthumb.phinf/?src=%22https%3A%2F%2Fcomicthumb-phinf.pstatic.net%2F20220104_128%2Fpocket_1641273144914DYitW_JPEG%2F%25C0%25FD%25B4%25EB%25B1%25BA%25B8%25B2.jpg%22&type=nf216_312&service=navermain\"},\"desc\":\"\\xec\\x9e\\xa5\\xec\\x98\\x81\\xed\\x9b\\x88\",\"webtoonIcon\":{\"newest\":false,\"adult\":false,\"up\":false,\"dailyPass\":false,\"seriesEdition\":true},\"showLiveBadge\":false,\"_id\":\"654ad80598c6dbca70ba6c7d\"},{\"@type\":\"MATERIAL-PC-FEED\",\"title\":\"\\xea\\xb0\\x9c\\xec\\xa7\\x93 [\\xeb\\x8f\\x85\\xec\\xa0\\x90]\",\"url\":\"http://series.naver.com/novel/detail.nhn?originalProductId=491820\",\"image\":{\"url\":\"https://s.pstatic.net/dthumb.phinf/?src=%22https%3A%2F%2Fcomicthumb-phinf.pstatic.net%2F20221226_203%2Fpocket_16720253924428JyL5_JPEG%2F%25B0%25B3%25C1%25FE_%25C5%25B8%25C0%25CC%25C6%25B2%25C6%25ED%25C1%25FD%25BA%25BB_%25C3%25D6%25C1%25BE00.jpg%22&type=nf216_312&service=navermain\"},\"desc\":\"\\xea\\xb9\\x80\\xec\\x98\\x81\\xed\\x95\\x9c\",\"webtoonIcon\":{\"newest\":false,\"adult\":false,\"up\":false,\"dailyPass\":false,\"seriesEdition\":true},\"showLiveBadge\":false,\"_id\":\"654ad80598c6dbca70ba6c7e\"},{\"@type\":\"MATERIAL-PC-FEED\",\"title\":\"\\xea\\xb4\\xb4\\xeb\\xa0\\xa5 \\xeb\\x82\\x9c\\xec\\x8b\\xa0(\\xe6\\x80\\xaa\\xe5\\x8a\\x9b \\xe4\\xba\\x82\\xe7\\xa5\\x9e)\",\"url\":\"http://series.naver.com/novel/detail.nhn?originalProductId=452271\",\"image\":{\"url\":\"https://s.pstatic.net/dthumb.phinf/?src=%22https%3A%2F%2Fcomicthumb-phinf.pstatic.net%2F20211119_93%2Fpocket_1637278084454nJR69_JPEG%2F%25B1%25AB%25B7%25C2%25B3%25AD%25BD%25C5_%25C5%25B8%25C0%25CC%25C6%25B2.jpg%22&type=nf216_312&service=navermain\"},\"desc\":\"\\xed\\x95\\x9c\\xec\\xa4\\x91\\xec\\x9b\\x94\\xec\\x95\\xbc\",\"webtoonIcon\":{\"newest\":false,\"adult\":false,\"up\":false,\"dailyPass\":false,\"seriesEdition\":true},\"showLiveBadge\":false,\"_id\":\"654ad80598c6dbca70ba6c7f\"},{\"@type\":\"MATERIAL-PC-FEED\",\"title\":\"\\xec\\x9d\\xbc\\xed\\x83\\x80\\xea\\xb0\\x95\\xec\\x82\\xac \\xeb\\xb0\\xb1\\xec\\x82\\xac\\xeb\\xb6\\x80 [\\xeb\\x8f\\x85\\xec\\xa0\\x90]\",\"url\":\"http://series.naver.com/novel/detail.nhn?originalProductId=413542\",\"image\":{\"url\":\"https://s.pstatic.net/dthumb.phinf/?src=%22https%3A%2F%2Fcomicthumb-phinf.pstatic.net%2F20241002_162%2Fpocket_1727836164408tBug2_JPEG%2Fcover4.jpg%22&type=nf216_312&service=navermain\"},\"desc\":\"\\xea\\xb0\\x84\\xec\\xa7\\x9c\\xec\\x9e\\xa5\",\"webtoonIcon\":{\"newest\":false,\"adult\":false,\"up\":false,\"dailyPass\":false,\"seriesEdition\":true},\"showLiveBadge\":false,\"_id\":\"654ad80598c6dbca70ba6c80\"},{\"@type\":\"MATERIAL-PC-FEED\",\"title\":\"\\xeb\\x94\\x94\\xed\\x8e\\x9c\\xec\\x8a\\xa4 \\xea\\xb2\\x8c\\xec\\x9e\\x84\\xec\\x9d\\x98 \\xed\\x8f\\xad\\xea\\xb5\\xb0\\xec\\x9d\\xb4 \\xeb\\x90\\x98\\xec\\x97\\x88\\xeb\\x8b\\xa4 [\\xeb\\x8f\\x85\\xec\\xa0\\x90]\",\"url\":\"http://series.naver.com/novel/detail.nhn?originalProductId=424342\",\"image\":{\"url\":\"https://s.pstatic.net/dthumb.phinf/?src=%22https%3A%2F%2Fcomicthumb-phinf.pstatic.net%2F20210706_213%2Fpocket_16255476889263EGOR_JPEG%2F---_2-.jpg%22&type=nf216_312&service=navermain\"},\"desc\":\"\\xeb\\xa5\\x98\\xec\\x9d\\x80\\xea\\xb0\\x80\\xeb\\x9e\\x8c/\\xec\\x9a\\xb0\\xec\\x83\\x88\\xec\\x83\\x88\",\"webtoonIcon\":{\"newest\":false,\"adult\":false,\"up\":false,\"dailyPass\":false,\"seriesEdition\":true},\"showLiveBadge\":false,\"_id\":\"654ad80598c6dbca70ba6c81\"},{\"@type\":\"MATERIAL-PC-FEED\",\"title\":\"\\xec\\x8d\\xa8\\xeb\\xa8\\xb8 \\xec\\x96\\xb4\\xea\\xb2\\x8c\\xec\\x9d\\xb8 [\\xeb\\x8f\\x85\\xec\\xa0\\x90]\",\"url\":\"http://series.naver.com/novel/detail.nhn?originalProductId=594681\",\"image\":{\"url\":\"https://s.pstatic.net/dthumb.phinf/?src=%22https%3A%2F%2Fcomicthumb-phinf.pstatic.net%2F20241111_150%2Fpocket_1731306955814zFVDi_JPEG%2F%25BD%25E1%25B8%25D3%25BE%25EE%25B0%25D4%25C0%25CE%2528%25B3%25B2%25C1%25D6v%2529_1%25BA%25CE.jpg%22&type=nf216_312&service=navermain\"},\"desc\":\"\\xec\\x98\\xa4\\xeb\\x8c\\x80\\xeb\\xa6\\xac\",\"webtoonIcon\":{\"newest\":true,\"adult\":false,\"up\":false,\"dailyPass\":false,\"seriesEdition\":true},\"showLiveBadge\":false,\"_id\":\"654ad80598c6dbca70ba6c82\"},{\"@type\":\"MATERIAL-PC-FEED\",\"title\":\"\\xec\\x95\\x88\\xec\\xa0\\x84\\xea\\xb8\\xb0\\xec\\xa7\\x80 [\\xeb\\x8f\\x85\\xec\\xa0\\x90]\",\"url\":\"http://series.naver.com/novel/detail.nhn?originalProductId=594722\",\"image\":{\"url\":\"https://s.pstatic.net/dthumb.phinf/?src=%22https%3A%2F%2Fcomicthumb-phinf.pstatic.net%2F20241112_263%2Fpocket_1731337493255D5uiJ_JPEG%2F15.jpg%22&type=nf216_312&service=navermain\"},\"desc\":\"\\xec\\x84\\xb1\\xed\\x95\\x98\",\"webtoonIcon\":{\"newest\":true,\"adult\":false,\"up\":false,\"dailyPass\":false,\"seriesEdition\":true},\"showLiveBadge\":false,\"_id\":\"654ad80598c6dbca70ba6c83\"},{\"@type\":\"MATERIAL-PC-FEED\",\"title\":\"\\xeb\\x82\\xa0 \\xeb\\x8b\\xae\\xec\\x9d\\x80 \\xec\\x95\\x84\\xec\\x9d\\xb4 [\\xeb\\x8f\\x85\\xec\\xa0\\x90]\",\"url\":\"http://series.naver.com/novel/detail.nhn?originalProductId=431323\",\"image\":{\"url\":\"https://s.pstatic.net/dthumb.phinf/?src=%22https%3A%2F%2Fcomicthumb-phinf.pstatic.net%2F20210427_211%2Fpocket_16195238840827y0Xz_JPEG%2Fimage.JPEG%22&type=nf216_312&service=navermain\"},\"desc\":\"\\xed\\x94\\x8c\\xec\\x95\\x84\\xeb\\x8b\\xa4/\\xed\\x8c\\xbb\\xeb\\x85\\xb9\",\"webtoonIcon\":{\"newest\":false,\"adult\":false,\"up\":false,\"dailyPass\":false,\"seriesEdition\":true},\"showLiveBadge\":false,\"_id\":\"654ad80598c6dbca70ba6c84\"},{\"@type\":\"MATERIAL-PC-FEED\",\"title\":\"\\xed\\x95\\x98\\xeb\\x82\\xa8\\xec\\x9e\\x90\\xec\\x9d\\x98 \\xed\\x83\\x91 \\xea\\xb3\\xb5\\xeb\\x9e\\xb5\\xeb\\xb2\\x95\",\"url\":\"http://series.naver.com/novel/detail.nhn?originalProductId=569813\",\"image\":{\"url\":\"https://s.pstatic.net/dthumb.phinf/?src=%22https%3A%2F%2Fcomicthumb-phinf.pstatic.net%2F20240816_123%2Fpocket_1723779655599Il4uL_JPEG%2F569813.jpg%22&type=nf216_312&service=navermain\"},\"desc\":\"\\xea\\xbe\\xb8\\xec\\xb0\\x8c\\xea\\xbe\\xb8\\xec\\xb0\\x8c\",\"webtoonIcon\":{\"newest\":false,\"adult\":false,\"up\":true,\"dailyPass\":false,\"seriesEdition\":true},\"showLiveBadge\":false,\"_id\":\"654ad80598c6dbca70ba6c85\"},{\"@type\":\"MATERIAL-PC-FEED\",\"title\":\"\\xec\\xa2\\x85\\xeb\\xa7\\x90\\xec\\x9d\\x98 \\xeb\\xb1\\x80\\xec\\x9d\\xb4 \\xeb\\x90\\x98\\xec\\x97\\x88\\xeb\\x8b\\xa4\",\"url\":\"http://series.naver.com/novel/detail.nhn?originalProductId=585270\",\"image\":{\"url\":\"https://s.pstatic.net/dthumb.phinf/?src=%22https%3A%2F%2Fcomicthumb-phinf.pstatic.net%2F20241118_49%2Fpocket_17319089074104BF1u_JPEG%2F585270_1.jpg%22&type=nf216_312&service=navermain\"},\"desc\":\"\\xeb\\xb9\\x84\\xeb\\x8f\\x84\",\"webtoonIcon\":{\"newest\":false,\"adult\":false,\"up\":true,\"dailyPass\":false,\"seriesEdition\":true},\"showLiveBadge\":false,\"_id\":\"654ad80598c6dbca70ba6c86\"},{\"@type\":\"MATERIAL-PC-FEED\",\"title\":\"\\xeb\\xa7\\x88\\xeb\\x8f\\x84\\xec\\xa0\\x84\\xec\\x83\\x9d\\xea\\xb8\\xb0 [\\xeb\\x8f\\x85\\xec\\xa0\\x90]\",\"url\":\"http://series.naver.com/novel/detail.nhn?originalProductId=389662\",\"image\":{\"url\":\"https://s.pstatic.net/dthumb.phinf/?src=%22https%3A%2F%2Fcomicthumb-phinf.pstatic.net%2F20200212_61%2Fpocket_1581475342845x41Vq_JPEG%2F__.jpg%22&type=nf216_312&service=navermain\"},\"desc\":\"codezero\",\"webtoonIcon\":{\"newest\":false,\"adult\":false,\"up\":true,\"dailyPass\":false,\"seriesEdition\":true},\"showLiveBadge\":false,\"_id\":\"654ad80598c6dbca70ba6c87\"}],\"excludeInPaging\":false,\"positionForPaging\":0,\"realtime\":false,\"title\":\"\\xec\\x8b\\x9c\\xeb\\xa6\\xac\\xec\\xa6\\x88\\xec\\x97\\x90\\xeb\\x94\\x94\\xec\\x85\\x98\",\"needCologger\":false,\"ad\":false,\"@type\":\"PC-FEED-BLOCK\",\"@code\":\"PC-FEED-WEBTOON-SERIES-EDITION\",\"@template\":\"SIX-COLUMNS-POSTER-SERIES\"},{\"@type\":\"PC-FEED-BLOCK\",\"materials\":[{\"@type\":\"MATERIAL-PC-FEED\",\"title\":\"\\xec\\x8d\\xa8\\xeb\\xa8\\xb8 \\xec\\x96\\xb4\\xea\\xb2\\x8c\\xec\\x9d\\xb8 [\\xeb\\x8f\\x85\\xec\\xa0\\x90]\",\"url\":\"http://series.naver.com/novel/detail.nhn?originalProductId=594681\",\"image\":{\"url\":\"https://s.pstatic.net/dthumb.phinf/?src=%22https%3A%2F%2Fcomicthumb-phinf.pstatic.net%2F20241111_150%2Fpocket_1731306955814zFVDi_JPEG%2F%25BD%25E1%25B8%25D3%25BE%25EE%25B0%25D4%25C0%25CE%2528%25B3%25B2%25C1%25D6v%2529_1%25BA%25CE.jpg%22&type=nf216_312&service=navermain\"},\"rank\":1,\"highlight\":\"5\\xed\\x99\\x94 \\xeb\\xac\\xb4\\xeb\\xa3\\x8c\",\"source\":{\"name\":\"\\xeb\\xa1\\x9c\\xeb\\xa7\\xa8\\xec\\x8a\\xa4\"},\"authors\":[{\"name\":\"\\xec\\x98\\xa4\\xeb\\x8c\\x80\\xeb\\xa6\\xac\"}],\"filterId\":\"NEW\",\"webtoonIcon\":{\"newest\":false,\"adult\":false,\"up\":false,\"dailyPass\":false,\"seriesEdition\":true},\"showLiveBadge\":false,\"_id\":\"6441ca92c499cc07f334c5d2\"},{\"@type\":\"MATERIAL-PC-FEED\",\"title\":\"\\xec\\x95\\x88\\xec\\xa0\\x84\\xea\\xb8\\xb0\\xec\\xa7\\x80 [\\xeb\\x8f\\x85\\xec\\xa0\\x90]\",\"url\":\"http://series.naver.com/novel/detail.nhn?originalProductId=594722\",\"image\":{\"url\":\"https://s.pstatic.net/dthumb.phinf/?src=%22https%3A%2F%2Fcomicthumb-phinf.pstatic.net%2F20241112_263%2Fpocket_1731337493255D5uiJ_JPEG%2F15.jpg%22&type=nf216_312&service=navermain\"},\"rank\":2,\"highlight\":\"5\\xed\\x99\\x94 \\xeb\\xac\\xb4\\xeb\\xa3\\x8c\",\"source\":{\"name\":\"\\xeb\\xa1\\x9c\\xeb\\xa7\\xa8\\xec\\x8a\\xa4\"},\"authors\":[{\"name\":\"\\xec\\x84\\xb1\\xed\\x95\\x98\"}],\"filterId\":\"NEW\",\"webtoonIcon\":{\"newest\":false,\"adult\":false,\"up\":false,\"dailyPass\":false,\"seriesEdition\":true},\"showLiveBadge\":false,\"_id\":\"6441ca92c499cc07f334c5d3\"},{\"@type\":\"MATERIAL-PC-FEED\",\"title\":\"\\xeb\\x8b\\xa4\\xed\\x81\\xac\\xec\\x97\\x98\\xed\\x94\\x84 \\xeb\\xa7\\x9d\\xeb\\x82\\x98\\xeb\\x8b\\x88\\xea\\xb0\\x80 \\xeb\\x90\\x98\\xec\\x97\\x88\\xeb\\x8b\\xa4 [\\xeb\\xac\\xb4\\xeb\\xa3\\x8c\\xec\\x97\\xb0\\xec\\x9e\\xac]\",\"url\":\"http://series.naver.com/novel/detail.nhn?originalProductId=594214\",\"image\":{\"url\":\"https://s.pstatic.net/dthumb.phinf/?src=%22https%3A%2F%2Fcomicthumb-phinf.pstatic.net%2F20241107_32%2Fpocket_1730950243138Y1M1g_JPEG%2Fcover.jpg%22&type=nf216_312&service=navermain\"},\"rank\":3,\"highlight\":\"17\\xed\\x99\\x94 \\xeb\\xac\\xb4\\xeb\\xa3\\x8c\",\"source\":{\"name\":\"\\xed\\x8c\\x90\\xed\\x83\\x80\\xec\\xa7\\x80\"},\"authors\":[{\"name\":\"\\xeb\\xb0\\x95\\xec\\xa0\\x9c\\xed\\x9b\\x84\"}],\"filterId\":\"NEW\",\"webtoonIcon\":{\"newest\":false,\"adult\":false,\"up\":false,\"dailyPass\":false,\"seriesEdition\":false},\"showLiveBadge\":false,\"_id\":\"6441ca92c499cc07f334c5d4\"},{\"@type\":\"MATERIAL-PC-FEED\",\"title\":\"\\xec\\x96\\xb4\\xeb\\xa6\\xb0 \\xec\\x95\\x84\\xeb\\x82\\xb4\\xec\\x99\\x80 \\xeb\\x82\\x98\\xec\\x81\\x9c \\xec\\xa7\\x93 [\\xeb\\x8f\\x85\\xec\\xa0\\x90]\",\"url\":\"http://series.naver.com/novel/detail.nhn?originalProductId=594952\",\"image\":{\"url\":\"https://s.pstatic.net/dthumb.phinf/?src=%22https%3A%2F%2Fcomicthumb-phinf.pstatic.net%2F20241112_125%2Fpocket_17314010002663n070_JPEG%2F%25BE%25EE%25B8%25B0-%25BE%25C6%25B3%25BB%25BF%25CD-%25B3%25AA%25BB%25DB-%25C1%25FE.jpg%22&type=nf216_312&service=navermain\"},\"rank\":4,\"highlight\":\"6\\xed\\x99\\x94 \\xeb\\xac\\xb4\\xeb\\xa3\\x8c\",\"source\":{\"name\":\"\\xeb\\xa1\\x9c\\xeb\\xa7\\xa8\\xec\\x8a\\xa4\"},\"authors\":[{\"name\":\"\\xec\\x9d\\xb4\\xeb\\xa6\\xac\\xec\\x99\\x80\"}],\"filterId\":\"NEW\",\"webtoonIcon\":{\"newest\":false,\"adult\":false,\"up\":false,\"dailyPass\":false,\"seriesEdition\":false},\"showLiveBadge\":false,\"_id\":\"6441ca92c499cc07f334c5d5\"},{\"@type\":\"MATERIAL-PC-FEED\",\"title\":\"\\xea\\xb4\\xb4\\xeb\\xac\\xbc \\xec\\xb2\\x9c\\xec\\x9e\\xac\\xed\\x88\\xac\\xec\\x88\\x98\\xea\\xb0\\x80 \\xeb\\xa9\\x94\\xec\\x9d\\xb4\\xec\\xa0\\x80\\xeb\\xa6\\xac\\xea\\xb7\\xb8\\xeb\\xa5\\xbc \\xec\\xb0\\xa2\\xec\\x9d\\x8c\",\"url\":\"http://series.naver.com/novel/detail.nhn?originalProductId=594051\",\"image\":{\"url\":\"https://s.pstatic.net/dthumb.phinf/?src=%22https%3A%2F%2Fcomicthumb-phinf.pstatic.net%2F20241106_119%2Fpocket_1730875544026edv0J_JPEG%2F%25B1%25AB%25B9%25B0_%25C3%25B5%25C0%25E7%25C5%25F5%25BC%25F6%25B0%25A1_%25B8%25DE%25C0%25CC%25C0%25FA%25B8%25AE%25B1%25D7%25B8%25A6_%25C2%25F5%25C0%25BD_%25C5%25B8%25C0%25CC%25C6%25B2_%25C3%25D6%25C1%25BE.jpg%22&type=nf216_312&service=navermain\"},\"rank\":5,\"highlight\":\"25\\xed\\x99\\x94 \\xeb\\xac\\xb4\\xeb\\xa3\\x8c\",\"source\":{\"name\":\"\\xed\\x98\\x84\\xed\\x8c\\x90\"},\"authors\":[{\"name\":\"\\xeb\\x8b\\xa8\\xed\\x8c\\xa5\\xeb\\xb9\\xb5\\xec\\x86\\x8c\\xeb\\x85\\x84\"}],\"filterId\":\"NEW\",\"webtoonIcon\":{\"newest\":false,\"adult\":false,\"up\":false,\"dailyPass\":false,\"seriesEdition\":false},\"showLiveBadge\":false,\"_id\":\"6441ca92c499cc07f334c5d6\"},{\"@type\":\"MATERIAL-PC-FEED\",\"title\":\"\\xec\\xa7\\x91\\xec\\xb0\\xa9 \\xed\\x9d\\x91\\xeb\\xa7\\x89\\xec\\x9d\\x80 \\xed\\x95\\xa8\\xeb\\xb6\\x80\\xeb\\xa1\\x9c \\xec\\x9d\\xb4\\xec\\x9a\\xa9\\xed\\x95\\x98\\xec\\xa7\\x80 \\xeb\\xa7\\x90 \\xea\\xb2\\x83 [\\xec\\x84\\xa0\\xea\\xb3\\xb5\\xea\\xb0\\x9c]\",\"url\":\"http://series.naver.com/novel/detail.nhn?originalProductId=595718\",\"image\":{\"url\":\"https://s.pstatic.net/dthumb.phinf/?src=%22https%3A%2F%2Fcomicthumb-phinf.pstatic.net%2F20241115_27%2Fpocket_17316470840271z7x9_JPEG%2F%25C1%25FD%25C2%25F8-%25C8%25E6%25B8%25B7%25C0%25BA-%25C7%25D4%25BA%25CE%25B7%25CE-%25C0%25CC%25BF%25EB%25C7%25CF%25C1%25F6-%25B8%25BB-%25B0%25CD_%25C3%25D6%25C1%25BE_%25C5%25B8%25C0%25CC%25C6%25B2.jpg%22&type=nf216_312&service=navermain\"},\"rank\":6,\"highlight\":\"30\\xed\\x99\\x94 \\xeb\\xac\\xb4\\xeb\\xa3\\x8c\",\"source\":{\"name\":\"\\xeb\\xa1\\x9c\\xed\\x8c\\x90\"},\"authors\":[{\"name\":\"\\xec\\x9c\\xa4\\xed\\x95\\xb4\\xec\\xa1\\xb0\"}],\"filterId\":\"NEW\",\"webtoonIcon\":{\"newest\":false,\"adult\":false,\"up\":false,\"dailyPass\":false,\"seriesEdition\":false},\"showLiveBadge\":false,\"_id\":\"6441ca92c499cc07f334c5d7\"},{\"@type\":\"MATERIAL-PC-FEED\",\"title\":\"\\xec\\x8d\\xa8\\xeb\\xa8\\xb8 \\xec\\x96\\xb4\\xea\\xb2\\x8c\\xec\\x9d\\xb8 [\\xeb\\x8f\\x85\\xec\\xa0\\x90]\",\"url\":\"http://series.naver.com/novel/detail.nhn?originalProductId=594681\",\"image\":{\"url\":\"https://s.pstatic.net/dthumb.phinf/?src=%22https%3A%2F%2Fcomicthumb-phinf.pstatic.net%2F20241111_150%2Fpocket_1731306955814zFVDi_JPEG%2F%25BD%25E1%25B8%25D3%25BE%25EE%25B0%25D4%25C0%25CE%2528%25B3%25B2%25C1%25D6v%2529_1%25BA%25CE.jpg%22&type=nf216_312&service=navermain\"},\"rank\":1,\"highlight\":\"5\\xed\\x99\\x94 \\xeb\\xac\\xb4\\xeb\\xa3\\x8c\",\"source\":{\"name\":\"\\xeb\\xa1\\x9c\\xeb\\xa7\\xa8\\xec\\x8a\\xa4\"},\"authors\":[{\"name\":\"\\xec\\x98\\xa4\\xeb\\x8c\\x80\\xeb\\xa6\\xac\"}],\"filterId\":\"FINISH\",\"webtoonIcon\":{\"newest\":false,\"adult\":false,\"up\":false,\"dailyPass\":false,\"seriesEdition\":true},\"showLiveBadge\":false,\"_id\":\"6441ca92c499cc07f334c5d8\"},{\"@type\":\"MATERIAL-PC-FEED\",\"title\":\"\\xec\\x8b\\x9c\\xed\\x95\\x9c\\xeb\\xb6\\x80 \\xec\\xb2\\x9c\\xec\\x9e\\xac\\xea\\xb0\\x80 \\xec\\x82\\xb4\\xec\\x95\\x84\\xeb\\x82\\xa8\\xeb\\x8a\\x94 \\xeb\\xb2\\x95\",\"url\":\"http://series.naver.com/novel/detail.nhn?originalProductId=424012\",\"image\":{\"url\":\"https://s.pstatic.net/dthumb.phinf/?src=%22https%3A%2F%2Fcomicthumb-phinf.pstatic.net%2F20221228_236%2Fpocket_1672211263095NN5vT_JPEG%2F%25BD%25C3%25C7%25D1%25BA%25CE_%25C3%25B5%25C0%25E7%25B0%25A1_%25BB%25EC%25BE%25C6%25B3%25B2%25B4%25C2_%25B9%25FD.jpg%22&type=nf216_312&service=navermain\"},\"rank\":2,\"highlight\":\"25\\xed\\x99\\x94 \\xeb\\xac\\xb4\\xeb\\xa3\\x8c\",\"source\":{\"name\":\"\\xeb\\xac\\xb4\\xed\\x98\\x91\"},\"authors\":[{\"name\":\"\\xec\\xb2\\xad\\xec\\x8b\\x9c\\xec\\x86\\x8c\"}],\"filterId\":\"FINISH\",\"webtoonIcon\":{\"newest\":false,\"adult\":false,\"up\":false,\"dailyPass\":false,\"seriesEdition\":true},\"showLiveBadge\":false,\"_id\":\"6441ca92c499cc07f334c5d9\"},{\"@type\":\"MATERIAL-PC-FEED\",\"title\":\"\\xea\\xb0\\x90\\xed\\x9e\\x88 \\xeb\\xb0\\x94\\xeb\\x9d\\xbc\\xec\\x98\\xb5\\xea\\xb1\\xb4\\xeb\\x8c\\x80 [\\xeb\\x8f\\x85\\xec\\xa0\\x90]\",\"url\":\"http://series.naver.com/novel/detail.nhn?originalProductId=576397\",\"image\":{\"url\":\"https://s.pstatic.net/dthumb.phinf/?src=%22https%3A%2F%2Fcomicthumb-phinf.pstatic.net%2F20240721_158%2Fpocket_1721541487409aqhwG_JPEG%2F%25B0%25A8%25C8%25F7_%25B9%25D9%25B6%25F3%25BF%25C9%25B0%25C7%25B4%25EB_%25C5%25B8%25C0%25CC%25C6%25B2_%25C7%25A5%25C1%25F6_700x1000.jpg%22&type=nf216_312&service=navermain\"},\"rank\":3,\"highlight\":\"3\\xed\\x99\\x94 \\xeb\\xac\\xb4\\xeb\\xa3\\x8c\",\"source\":{\"name\":\"\\xeb\\xa1\\x9c\\xed\\x8c\\x90\"},\"authors\":[{\"name\":\"\\xeb\\xb0\\xb1\\xeb\\xac\\x98\"}],\"filterId\":\"FINISH\",\"webtoonIcon\":{\"newest\":false,\"adult\":false,\"up\":false,\"dailyPass\":false,\"seriesEdition\":true},\"showLiveBadge\":false,\"_id\":\"667adbc1788ee448db90e4eb\"},{\"@type\":\"MATERIAL-PC-FEED\",\"title\":\"\\xea\\xb4\\xb4\\xeb\\xa0\\xa5 \\xeb\\x82\\x9c\\xec\\x8b\\xa0(\\xe6\\x80\\xaa\\xe5\\x8a\\x9b \\xe4\\xba\\x82\\xe7\\xa5\\x9e)\",\"url\":\"http://series.naver.com/novel/detail.nhn?originalProductId=452271\",\"image\":{\"url\":\"https://s.pstatic.net/dthumb.phinf/?src=%22https%3A%2F%2Fcomicthumb-phinf.pstatic.net%2F20211119_93%2Fpocket_1637278084454nJR69_JPEG%2F%25B1%25AB%25B7%25C2%25B3%25AD%25BD%25C5_%25C5%25B8%25C0%25CC%25C6%25B2.jpg%22&type=nf216_312&service=navermain\"},\"rank\":4,\"highlight\":\"25\\xed\\x99\\x94 \\xeb\\xac\\xb4\\xeb\\xa3\\x8c\",\"source\":{\"name\":\"\\xeb\\xac\\xb4\\xed\\x98\\x91\"},\"authors\":[{\"name\":\"\\xed\\x95\\x9c\\xec\\xa4\\x91\\xec\\x9b\\x94\\xec\\x95\\xbc\"}],\"filterId\":\"FINISH\",\"webtoonIcon\":{\"newest\":false,\"adult\":false,\"up\":false,\"dailyPass\":false,\"seriesEdition\":true},\"showLiveBadge\":false,\"_id\":\"667adbc1788ee448db90e4ec\"},{\"@type\":\"MATERIAL-PC-FEED\",\"title\":\"\\xec\\x95\\x88\\xec\\xa0\\x84\\xea\\xb8\\xb0\\xec\\xa7\\x80 [\\xeb\\x8f\\x85\\xec\\xa0\\x90]\",\"url\":\"http://series.naver.com/novel/detail.nhn?originalProductId=594722\",\"image\":{\"url\":\"https://s.pstatic.net/dthumb.phinf/?src=%22https%3A%2F%2Fcomicthumb-phinf.pstatic.net%2F20241112_263%2Fpocket_1731337493255D5uiJ_JPEG%2F15.jpg%22&type=nf216_312&service=navermain\"},\"rank\":5,\"highlight\":\"5\\xed\\x99\\x94 \\xeb\\xac\\xb4\\xeb\\xa3\\x8c\",\"source\":{\"name\":\"\\xeb\\xa1\\x9c\\xeb\\xa7\\xa8\\xec\\x8a\\xa4\"},\"authors\":[{\"name\":\"\\xec\\x84\\xb1\\xed\\x95\\x98\"}],\"filterId\":\"FINISH\",\"webtoonIcon\":{\"newest\":false,\"adult\":false,\"up\":false,\"dailyPass\":false,\"seriesEdition\":true},\"showLiveBadge\":false,\"_id\":\"667adbc1788ee448db90e4ed\"},{\"@type\":\"MATERIAL-PC-FEED\",\"title\":\"\\xec\\xa0\\x88\\xeb\\x8c\\x80\\xea\\xb5\\xb0\\xeb\\xa6\\xbc [\\xea\\xb0\\x9c\\xec\\xa0\\x95\\xed\\x8c\\x90]\",\"url\":\"http://series.naver.com/novel/detail.nhn?originalProductId=457048\",\"image\":{\"url\":\"https://s.pstatic.net/dthumb.phinf/?src=%22https%3A%2F%2Fcomicthumb-phinf.pstatic.net%2F20220104_128%2Fpocket_1641273144914DYitW_JPEG%2F%25C0%25FD%25B4%25EB%25B1%25BA%25B8%25B2.jpg%22&type=nf216_312&service=navermain\"},\"rank\":6,\"highlight\":\"25\\xed\\x99\\x94 \\xeb\\xac\\xb4\\xeb\\xa3\\x8c\",\"source\":{\"name\":\"\\xeb\\xac\\xb4\\xed\\x98\\x91\"},\"authors\":[{\"name\":\"\\xec\\x9e\\xa5\\xec\\x98\\x81\\xed\\x9b\\x88\"}],\"filterId\":\"FINISH\",\"webtoonIcon\":{\"newest\":false,\"adult\":false,\"up\":false,\"dailyPass\":false,\"seriesEdition\":true},\"showLiveBadge\":false,\"_id\":\"667adbc1788ee448db90e4ee\"}],\"excludeInPaging\":false,\"positionForPaging\":0,\"realtime\":false,\"title\":\"\\xec\\x9d\\xb4\\xeb\\xb2\\x88\\xec\\xa3\\xbc \\xea\\xb0\\x80\\xec\\x9e\\xa5 \\xeb\\xa7\\x8e\\xec\\x9d\\xb4 \\xeb\\xb3\\xb8 \\xec\\x9b\\xb9\\xec\\x86\\x8c\\xec\\x84\\xa4\",\"filterList\":[{\"id\":\"NEW\",\"name\":\"\\xec\\x8b\\xa0\\xec\\x9e\\x91\",\"defaultType\":false},{\"id\":\"FINISH\",\"name\":\"\\xec\\x99\\x84\\xea\\xb2\\xb0\",\"defaultType\":false}],\"needCologger\":false,\"ad\":false,\"@type\":\"PC-FEED-BLOCK\",\"@code\":\"PC-FEED-WEBTOON-WEEK-POPULAR-NOVEL\",\"@template\":\"SIX-COLUMNS-POSTER-SERIES\"},{\"@type\":\"PC-FEED-BLOCK\",\"materials\":[{\"@type\":\"MATERIAL-PC-FEED\",\"title\":\"\\xeb\\xa7\\x9e\\xec\\x9d\\x80 \\xed\\x8e\\xb8\\xec\\x97\\x90, \\xeb\\xb6\\x84\\xed\\x99\\x8d\",\"url\":\"http://series.naver.com/comic/detail.nhn?originalProductId=590898\",\"image\":{\"url\":\"https://s.pstatic.net/dthumb.phinf/?src=%22https%3A%2F%2Fcomicthumb-phinf.pstatic.net%2F20241021_243%2Fpocket_1729493587299BA5Qe_JPEG%2F70.%25B8%25C2%25C0%25BA_%25C6%25ED%25BF%25A1%252C_%25BA%25D0%25C8%25AB.jpg%22&type=nf216_312&service=navermain\"},\"rank\":1,\"highlight\":\"3\\xed\\x99\\x94 \\xeb\\xac\\xb4\\xeb\\xa3\\x8c\",\"source\":{\"name\":\"\\xec\\x88\\x9c\\xec\\xa0\\x95\"},\"authors\":[{\"name\":\"\\xeb\\xac\\xb4\\xeb\\xaf\\xb8\"}],\"filterId\":\"NEW\",\"webtoonIcon\":{\"newest\":false,\"adult\":false,\"up\":false,\"dailyPass\":false,\"seriesEdition\":false},\"showLiveBadge\":false,\"_id\":\"6441ca92c499cc07f334c5da\"},{\"@type\":\"MATERIAL-PC-FEED\",\"title\":\"\\xed\\x91\\xb8\\xeb\\xa5\\xb8 \\xec\\xa0\\x95\\xec\\x9b\\x90\\xec\\x9d\\x98 \\xec\\x95\\x84\\xeb\\x9c\\xb0\\xeb\\xa6\\xac\\xec\\x97\\x90\",\"url\":\"http://series.naver.com/comic/detail.nhn?originalProductId=590933\",\"image\":{\"url\":\"https://s.pstatic.net/dthumb.phinf/?src=%22https%3A%2F%2Fcomicthumb-phinf.pstatic.net%2F20241021_66%2Fpocket_1729498126018gJkQK_JPEG%2F78.%25C7%25AA%25B8%25A5_%25C1%25A4%25BF%25F8%25C0%25C7_%25BE%25C6%25B6%25E3%25B8%25AE%25BF%25A1.jpg%22&type=nf216_312&service=navermain\"},\"rank\":2,\"highlight\":\"4\\xed\\x99\\x94 \\xeb\\xac\\xb4\\xeb\\xa3\\x8c\",\"source\":{\"name\":\"\\xeb\\x93\\x9c\\xeb\\x9d\\xbc\\xeb\\xa7\\x88\"},\"authors\":[{\"name\":\"\\xec\\x9a\\xb0\\xeb\\x8b\\x88\\xed\\x94\\xbc\"}],\"filterId\":\"NEW\",\"webtoonIcon\":{\"newest\":false,\"adult\":false,\"up\":false,\"dailyPass\":false,\"seriesEdition\":false},\"showLiveBadge\":false,\"_id\":\"6441ca92c499cc07f334c5db\"},{\"@type\":\"MATERIAL-PC-FEED\",\"title\":\"\\xed\\x95\\x98\\xeb\\x85\\x80\\xeb\\x8a\\x94 \\xed\\x95\\xb4\\xec\\xa7\\x88\\xeb\\x85\\x98\\xec\\x9d\\x98 \\xea\\xbf\\x88\\xec\\x9d\\x84 \\xea\\xbe\\xbc\\xeb\\x8b\\xa4\",\"url\":\"http://series.naver.com/comic/detail.nhn?originalProductId=594537\",\"image\":{\"url\":\"https://s.pstatic.net/dthumb.phinf/?src=%22https%3A%2F%2Fcomicthumb-phinf.pstatic.net%2F20241108_137%2Fpocket_1731051011557j8x9d_JPEG%2F1000x1433.jpg%22&type=nf216_312&service=navermain\"},\"rank\":3,\"highlight\":\"3\\xed\\x99\\x94 \\xeb\\xac\\xb4\\xeb\\xa3\\x8c\",\"source\":{\"name\":\"\\xec\\x88\\x9c\\xec\\xa0\\x95\"},\"authors\":[{\"name\":\"\\xeb\\x82\\x98\\xeb\\x9e\\x91/\\xec\\xa7\\x84\\xea\\xb5\\x90, \\xed\\x95\\xb4\\xeb\\xa6\\xac\"}],\"filterId\":\"NEW\",\"webtoonIcon\":{\"newest\":false,\"adult\":false,\"up\":false,\"dailyPass\":false,\"seriesEdition\":false},\"showLiveBadge\":false,\"_id\":\"6441ca92c499cc07f334c5dc\"},{\"@type\":\"MATERIAL-PC-FEED\",\"title\":\"\\xeb\\xb6\\x88\\xec\\x86\\x90\\xed\\x95\\x9c \\xec\\xa7\\x90\\xec\\x8a\\xb9\\xec\\x9d\\x84 \\xea\\xb8\\xb8\\xeb\\x93\\xa4\\xec\\x97\\xac \\xeb\\xb4\\x85\\xec\\x8b\\x9c\\xeb\\x8b\\xa4\",\"url\":\"http://series.naver.com/comic/detail.nhn?originalProductId=586946\",\"image\":{\"url\":\"https://s.pstatic.net/dthumb.phinf/?src=%22https%3A%2F%2Fcomicthumb-phinf.pstatic.net%2F20241115_204%2Fpocket_1731652983871Ow959_JPEG%2F1000x1433.jpg%22&type=nf216_312&service=navermain\"},\"rank\":4,\"highlight\":\"3\\xed\\x99\\x94 \\xeb\\xac\\xb4\\xeb\\xa3\\x8c\",\"source\":{\"name\":\"\\xec\\x88\\x9c\\xec\\xa0\\x95\"},\"authors\":[{\"name\":\"\\xed\\x82\\x85/\\xed\\x95\\x98\\xec\\x9d\\xbc\\xeb\\x9d\\xbc, \\xec\\x8b\\x9c\\xeb\\xb9\\x88\\xea\\xb3\\xbc\"}],\"filterId\":\"NEW\",\"webtoonIcon\":{\"newest\":false,\"adult\":false,\"up\":false,\"dailyPass\":false,\"seriesEdition\":false},\"showLiveBadge\":false,\"_id\":\"6441ca92c499cc07f334c5dd\"},{\"@type\":\"MATERIAL-PC-FEED\",\"title\":\"\\xec\\x96\\xb4\\xec\\x96\\xb4\\xeb\\xa6\\xac\\xec\\xa0\\x84(\\xe5\\x82\\xb3) [\\xea\\xb0\\x9c\\xec\\xa0\\x95\\xed\\x8c\\x90][\\xec\\x9b\\xb9\\xed\\x88\\xb0\\xed\\x8c\\x90][\\xeb\\x8f\\x85\\xec\\xa0\\x90]\",\"url\":\"http://series.naver.com/comic/detail.nhn?originalProductId=593663\",\"image\":{\"url\":\"https://s.pstatic.net/dthumb.phinf/?src=%22https%3A%2F%2Fcomicthumb-phinf.pstatic.net%2F20241120_23%2Fpocket_17320801181282DSuP_JPEG%2F%25BE%25EE%25BE%25EE%25B8%25AE%25C0%25FC_%25C7%25A5%25C1%25F6_2000x2900_%25B0%25B3%25C1%25A4.jpg%22&type=nf216_312&service=navermain\"},\"rank\":5,\"highlight\":\"1\\xed\\x99\\x94 \\xeb\\xac\\xb4\\xeb\\xa3\\x8c\",\"source\":{\"name\":\"\\xec\\x88\\x9c\\xec\\xa0\\x95\"},\"authors\":[{\"name\":\"\\xeb\\xa0\\x88\\xeb\\x93\\x9c\\xed\\x94\\xbc\\xec\\xb9\\x98\\xec\\x8a\\xa4\\xed\\x8a\\x9c\\xeb\\x94\\x94\\xec\\x98\\xa4/\\xec\\x9d\\x80\\xec\\xa7\\x80\\xed\\x95\\x84\"}],\"filterId\":\"NEW\",\"webtoonIcon\":{\"newest\":false,\"adult\":false,\"up\":false,\"dailyPass\":false,\"seriesEdition\":false},\"showLiveBadge\":false,\"_id\":\"6441ca92c499cc07f334c5de\"},{\"@type\":\"MATERIAL-PC-FEED\",\"title\":\"\\xed\\x8f\\xac\\xed\\x9a\\xa8\\xea\\xb0\\x95\\xed\\x98\\xb8 [\\xeb\\x8b\\xa8\\xed\\x96\\x89\\xeb\\xb3\\xb8]\",\"url\":\"http://series.naver.com/comic/detail.nhn?originalProductId=588655\",\"image\":{\"url\":\"https://s.pstatic.net/dthumb.phinf/?src=%22https%3A%2F%2Fcomicthumb-phinf.pstatic.net%2F20241108_38%2Fpocket_1731054502203CYTAG_JPEG%2F001.jpg%22&type=nf216_312&service=navermain\"},\"rank\":6,\"highlight\":\"3\\xed\\x99\\x94 \\xeb\\xac\\xb4\\xeb\\xa3\\x8c\",\"source\":{\"name\":\"\\xeb\\xac\\xb4\\xed\\x98\\x91\"},\"authors\":[{\"name\":\"\\xed\\x99\\xa9\\xec\\x84\\xb1\"}],\"filterId\":\"NEW\",\"webtoonIcon\":{\"newest\":false,\"adult\":false,\"up\":false,\"dailyPass\":false,\"seriesEdition\":false},\"showLiveBadge\":false,\"_id\":\"6441ca92c499cc07f334c5df\"},{\"@type\":\"MATERIAL-PC-FEED\",\"title\":\"\\xeb\\xb9\\x9b\\xea\\xb3\\xbc \\xea\\xb7\\xb8\\xeb\\xa6\\xbc\\xec\\x9e\\x90\",\"url\":\"http://series.naver.com/comic/detail.nhn?originalProductId=507850\",\"image\":{\"url\":\"https://s.pstatic.net/dthumb.phinf/?src=%22https%3A%2F%2Fcomicthumb-phinf.pstatic.net%2F20230508_221%2Fpocket_1683532318409pxRsL_JPEG%2F%25BA%25FB%25B0%25FA_%25B1%25D7%25B8%25B2%25C0%25DA_%25C7%25A5%25C1%25F6.jpg%22&type=nf216_312&service=navermain\"},\"rank\":1,\"highlight\":\"8\\xed\\x99\\x94 \\xeb\\xac\\xb4\\xeb\\xa3\\x8c\",\"source\":{\"name\":\"\\xec\\x88\\x9c\\xec\\xa0\\x95\"},\"authors\":[{\"name\":\"\\xed\\x9d\\xac\\xec\\x9b\\x90/\\xeb\\xa5\\x98\\xed\\x96\\xa5,\\xed\\x9d\\xac\\xec\\x9b\\x90\"}],\"filterId\":\"FINISH\",\"webtoonIcon\":{\"newest\":false,\"adult\":false,\"up\":false,\"dailyPass\":false,\"seriesEdition\":false},\"showLiveBadge\":false,\"_id\":\"6441ca92c499cc07f334c5e0\"},{\"@type\":\"MATERIAL-PC-FEED\",\"title\":\"\\xeb\\x84\\x88\\xeb\\x8a\\x94 \\xea\\xb7\\x80\\xec\\x97\\xac\\xec\\x9a\\xb4 \\xec\\x97\\xac\\xec\\x9e\\x90\\xec\\x95\\x84\\xec\\x9d\\xb4 [\\xeb\\x8b\\xa8\\xed\\x96\\x89\\xeb\\xb3\\xb8]\",\"url\":\"http://series.naver.com/comic/detail.nhn?originalProductId=463284\",\"image\":{\"url\":\"https://s.pstatic.net/dthumb.phinf/?src=%22https%3A%2F%2Fcomicthumb-phinf.pstatic.net%2F20220614_147%2Fpocket_1655167969170cP2LI_JPEG%2F001.jpg%22&type=nf216_312&service=navermain\"},\"rank\":2,\"source\":{\"name\":\"\\xec\\x88\\x9c\\xec\\xa0\\x95\"},\"authors\":[{\"name\":\"Rumi Ichinohe\"}],\"filterId\":\"FINISH\",\"webtoonIcon\":{\"newest\":false,\"adult\":false,\"up\":false,\"dailyPass\":false,\"seriesEdition\":false},\"showLiveBadge\":false,\"_id\":\"6441ca92c499cc07f334c5e1\"},{\"@type\":\"MATERIAL-PC-FEED\",\"title\":\"\\xec\\x99\\x9c \\xed\\x95\\x98\\xeb\\xa9\\xb4 \\xec\\x95\\x88 \\xeb\\x8f\\xbc?\",\"url\":\"http://series.naver.com/comic/detail.nhn?originalProductId=360513\",\"image\":{\"url\":\"https://s.pstatic.net/dthumb.phinf/?src=%22https%3A%2F%2Fcomicthumb-phinf.pstatic.net%2F20230915_266%2Fpocket_1694761311276SGcFA_JPEG%2F%25BF%25D6%25C7%25CF%25B8%25E9%25BE%25C8%25B5%25C5_1%25C8%25AD_%25BC%25B6%25B3%25D7%25C0%25CF_%25C7%25A5%25C1%25F6%2528%25B0%25A1%25B7%25CE%25C7%25FC%2529.jpg%22&type=nf216_312&service=navermain\"},\"rank\":3,\"highlight\":\"5\\xed\\x99\\x94 \\xeb\\xac\\xb4\\xeb\\xa3\\x8c\",\"source\":{\"name\":\"\\xeb\\x93\\x9c\\xeb\\x9d\\xbc\\xeb\\xa7\\x88\"},\"authors\":[{\"name\":\"\\xec\\xa7\\x80\\xec\\xb9\\xb4\"}],\"filterId\":\"FINISH\",\"webtoonIcon\":{\"newest\":false,\"adult\":false,\"up\":false,\"dailyPass\":false,\"seriesEdition\":false},\"showLiveBadge\":false,\"_id\":\"6441ca92c499cc07f334c5e2\"},{\"@type\":\"MATERIAL-PC-FEED\",\"title\":\"\\xeb\\xb0\\x94 \\xeb\\xa0\\x88\\xeb\\xaa\\xac\\xed\\x95\\x98\\xed\\x8a\\xb8 [\\xeb\\x8b\\xa8\\xed\\x96\\x89\\xeb\\xb3\\xb8]\",\"url\":\"http://series.naver.com/comic/detail.nhn?originalProductId=83830\",\"image\":{\"url\":\"https://s.pstatic.net/dthumb.phinf/?src=%22https%3A%2F%2Fcomicthumb-phinf.pstatic.net%2F20240118_138%2Fpocket_1705555297158oHlru_JPEG%2F001.jpg%22&type=nf216_312&service=navermain\"},\"rank\":4,\"highlight\":\"1\\xed\\x99\\x94 \\xeb\\xac\\xb4\\xeb\\xa3\\x8c\",\"source\":{\"name\":\"\\xeb\\x93\\x9c\\xeb\\x9d\\xbc\\xeb\\xa7\\x88\"},\"authors\":[{\"name\":\"MITSUTOSHI FURUYA\"}],\"filterId\":\"FINISH\",\"webtoonIcon\":{\"newest\":false,\"adult\":false,\"up\":false,\"dailyPass\":false,\"seriesEdition\":false},\"showLiveBadge\":false,\"_id\":\"6441ca92c499cc07f334c5e3\"},{\"@type\":\"MATERIAL-PC-FEED\",\"title\":\"\\xec\\x9d\\xbc\\xeb\\x8b\\xa8 \\xeb\\x9c\\xa8\\xea\\xb2\\x81\\xea\\xb2\\x8c \\xec\\xb2\\xad\\xec\\x86\\x8c\\xed\\x95\\x98\\xeb\\x9d\\xbc?!\",\"url\":\"http://series.naver.com/comic/detail.nhn?originalProductId=123410\",\"image\":{\"url\":\"https://s.pstatic.net/dthumb.phinf/?src=%22https%3A%2F%2Fcomicthumb-phinf.pstatic.net%2F20171025_192%2Fpocket_1508923188959g4F2G_JPEG%2F_%2528__%2529.jpg%22&type=nf216_312&service=navermain\"},\"rank\":5,\"highlight\":\"30\\xed\\x99\\x94 \\xeb\\xac\\xb4\\xeb\\xa3\\x8c\",\"source\":{\"name\":\"\\xec\\x88\\x9c\\xec\\xa0\\x95\"},\"authors\":[{\"name\":\"\\xec\\x95\\xb5\\xea\\xb3\\xa0\"}],\"filterId\":\"FINISH\",\"webtoonIcon\":{\"newest\":false,\"adult\":false,\"up\":false,\"dailyPass\":false,\"seriesEdition\":false},\"showLiveBadge\":false,\"_id\":\"6441ca92c499cc07f334c5e4\"},{\"@type\":\"MATERIAL-PC-FEED\",\"title\":\"\\xec\\x82\\xac\\xeb\\xa5\\x98\\xeb\\xac\\xb4\\xec\\x82\\xac [\\xec\\xbb\\xac\\xeb\\x9f\\xac\\xec\\x97\\xb0\\xec\\x9e\\xac]\",\"url\":\"http://series.naver.com/comic/detail.nhn?originalProductId=425684\",\"image\":{\"url\":\"https://s.pstatic.net/dthumb.phinf/?src=%22https%3A%2F%2Fcomicthumb-phinf.pstatic.net%2F20210222_82%2Fpocket_1613956472454lG2qS_JPEG%2F001.jpg%22&type=nf216_312&service=navermain\"},\"rank\":6,\"highlight\":\"12\\xed\\x99\\x94 \\xeb\\xac\\xb4\\xeb\\xa3\\x8c\",\"source\":{\"name\":\"\\xeb\\xac\\xb4\\xed\\x98\\x91\"},\"authors\":[{\"name\":\"\\xed\\x99\\xa9\\xec\\x84\\xb1\"}],\"filterId\":\"FINISH\",\"webtoonIcon\":{\"newest\":false,\"adult\":false,\"up\":false,\"dailyPass\":false,\"seriesEdition\":false},\"showLiveBadge\":false,\"_id\":\"6441ca92c499cc07f334c5e5\"}],\"excludeInPaging\":false,\"positionForPaging\":0,\"realtime\":false,\"title\":\"\\xec\\xa7\\x80\\xea\\xb8\\x88 \\xea\\xb0\\x80\\xec\\x9e\\xa5 \\xeb\\xa7\\x8e\\xec\\x9d\\xb4 \\xeb\\xb3\\xb4\\xeb\\x8a\\x94 \\xeb\\xa7\\x8c\\xed\\x99\\x94\",\"filterList\":[{\"id\":\"NEW\",\"name\":\"\\xec\\x8b\\xa0\\xec\\x9e\\x91\",\"defaultType\":false},{\"id\":\"FINISH\",\"name\":\"\\xec\\x99\\x84\\xea\\xb2\\xb0\",\"defaultType\":false}],\"needCologger\":false,\"ad\":false,\"@type\":\"PC-FEED-BLOCK\",\"@code\":\"PC-FEED-WEBTOON-HOURLY-POPULAR-COMIC\",\"@template\":\"SIX-COLUMNS-POSTER-SERIES\"},{\"@type\":\"PC-FEED-BLOCK\",\"materials\":[{\"@type\":\"MATERIAL-PC-FEED\",\"title\":\"\\xea\\xb4\\xb4\\xec\\x9d\\xb4\",\"url\":\"https://comic.naver.com/webtoon/list?titleId=792949\",\"image\":{\"url\":\"https://s.pstatic.net/dthumb.phinf/?src=%22https%3A%2F%2Fshared-comic.pstatic.net%2Fthumb%2Fwebtoon%2F792949%2Fthumbnail%2Fthumbnail_IMAG04_fe32c0c0-c5b3-4e8b-8f4a-d397cc6843ff.jpg%22&type=nf365_240&service=navermain\"},\"sourceCategory\":\"\\xec\\x9d\\xb4\\xec\\xa0\\x95\\xec\\x9a\\xb0 / \\xed\\x99\\x8d\\xec\\x9d\\xb8\\xea\\xb7\\xbc\",\"source\":{\"name\":\"\\xed\\x99\\x94 \\xec\\x97\\xb0\\xec\\x9e\\xac\"},\"webtoonIcon\":{\"newest\":false,\"adult\":false,\"up\":true,\"dailyPass\":true,\"seriesEdition\":false},\"showLiveBadge\":false,\"_id\":\"6441ca92c499cc07f334c5ec\"},{\"@type\":\"MATERIAL-PC-FEED\",\"title\":\"\\xec\\x84\\xa0\\xeb\\x85\\x80\\xec\\x99\\xb8\\xec\\xa0\\x84\",\"url\":\"https://comic.naver.com/webtoon/list?titleId=800850\",\"image\":{\"url\":\"https://s.pstatic.net/dthumb.phinf/?src=%22https%3A%2F%2Fshared-comic.pstatic.net%2Fthumb%2Fwebtoon%2F800850%2Fthumbnail%2Fthumbnail_IMAG04_1ae70635-473c-4d97-9e59-1d033c66e177.jpg%22&type=nf365_240&service=navermain\"},\"sourceCategory\":\"\\xed\\x9a\\xa8\\xeb\\xb9\\x88\",\"source\":{\"name\":\"\\xed\\x99\\x94 \\xec\\x97\\xb0\\xec\\x9e\\xac\"},\"webtoonIcon\":{\"newest\":false,\"adult\":false,\"up\":true,\"dailyPass\":true,\"seriesEdition\":false},\"showLiveBadge\":false,\"_id\":\"6441ca92c499cc07f334c5ed\"},{\"@type\":\"MATERIAL-PC-FEED\",\"title\":\"\\xec\\x9e\\x94\\xeb\\xb0\\x98\\xec\\x97\\x86\\xeb\\x8a\\x94 \\xeb\\x82\\xa0\",\"url\":\"https://comic.naver.com/webtoon/list?titleId=810283\",\"image\":{\"url\":\"https://s.pstatic.net/dthumb.phinf/?src=%22https%3A%2F%2Fshared-comic.pstatic.net%2Fthumb%2Fwebtoon%2F810283%2Fthumbnail%2Fthumbnail_IMAG04_0f8b288b-3a10-4cda-85a1-a008e3b43e1c.jpg%22&type=nf365_240&service=navermain\"},\"sourceCategory\":\"AHN\",\"source\":{\"name\":\"\\xed\\x99\\x94 \\xec\\x97\\xb0\\xec\\x9e\\xac\"},\"webtoonIcon\":{\"newest\":false,\"adult\":false,\"up\":true,\"dailyPass\":true,\"seriesEdition\":false},\"showLiveBadge\":false,\"_id\":\"6441ca92c499cc07f334c5ee\"},{\"@type\":\"MATERIAL-PC-FEED\",\"title\":\"\\xed\\x82\\xac \\xeb\\x8d\\x94 \\xec\\x97\\xa0\\xed\\x8e\\x98\\xeb\\x9f\\xac\",\"url\":\"https://comic.naver.com/webtoon/list?titleId=817117\",\"image\":{\"url\":\"https://s.pstatic.net/dthumb.phinf/?src=%22https%3A%2F%2Fshared-comic.pstatic.net%2Fthumb%2Fwebtoon%2F817117%2Fthumbnail%2Fthumbnail_IMAG04_ab841bbd-f806-4aba-9ea8-72714ac920f3.jpg%22&type=nf365_240&service=navermain\"},\"sourceCategory\":\"\\xec\\x9c\\xa0\\xed\\x99\\xa9 / \\xed\\x8c\\xac\\xeb\\x8d\\x94\\xed\\x8e\\xad\\xea\\xb7\\x84 / \\xed\\x8a\\xb8\\xeb\\xa6\\xad\\xec\\x8a\\xa4\\xed\\x84\\xb0\",\"source\":{\"name\":\"\\xed\\x99\\x94 \\xec\\x97\\xb0\\xec\\x9e\\xac\"},\"webtoonIcon\":{\"newest\":false,\"adult\":false,\"up\":true,\"dailyPass\":true,\"seriesEdition\":false},\"showLiveBadge\":false,\"_id\":\"6441ca92c499cc07f334c5ef\"},{\"@type\":\"MATERIAL-PC-FEED\",\"title\":\"\\xec\\x8a\\xac\\xea\\xb8\\xb0\\xeb\\xa1\\x9c\\xec\\x9a\\xb4 \\xeb\\xac\\xb8\\xeb\\xaa\\x85\\xec\\x83\\x9d\\xed\\x99\\x9c\",\"url\":\"https://comic.naver.com/webtoon/list?titleId=819218\",\"image\":{\"url\":\"https://s.pstatic.net/dthumb.phinf/?src=%22https%3A%2F%2Fshared-comic.pstatic.net%2Fthumb%2Fwebtoon%2F819218%2Fthumbnail%2Fthumbnail_IMAG04_414885fe-dc7d-4133-b2a2-b01dd641cb1a.jpg%22&type=nf365_240&service=navermain\"},\"sourceCategory\":\"\\xec\\x9c\\x84\\xeb\\x9e\\x98 / \\xeb\\xb2\\x94\\xea\\xb7\\x84\",\"source\":{\"name\":\"\\xed\\x99\\x94 \\xec\\x97\\xb0\\xec\\x9e\\xac\"},\"webtoonIcon\":{\"newest\":false,\"adult\":false,\"up\":true,\"dailyPass\":true,\"seriesEdition\":false},\"showLiveBadge\":false,\"_id\":\"6441ca92c499cc07f334c5f0\"},{\"@type\":\"MATERIAL-PC-FEED\",\"title\":\"\\xec\\x98\\xa4\\xeb\\xb9\\xa0 \\xea\\xb7\\xb8\\xea\\xb1\\xb4 \\xec\\x98\\xa4\\xed\\x95\\xb4\\xec\\x95\\xbc\",\"url\":\"https://comic.naver.com/webtoon/list?titleId=821091\",\"image\":{\"url\":\"https://s.pstatic.net/dthumb.phinf/?src=%22https%3A%2F%2Fshared-comic.pstatic.net%2Fthumb%2Fwebtoon%2F821091%2Fthumbnail%2Fthumbnail_IMAG04_78c64bf3-228d-40cd-ae32-38d6b68559c3.jpg%22&type=nf365_240&service=navermain\"},\"sourceCategory\":\"\\xeb\\x8f\\x84\\xec\\x97\\xb0 / \\xed\\x83\\x9c\\xec\\x86\\x8c\\xec\\x98\\x81\",\"source\":{\"name\":\"\\xed\\x99\\x94 \\xec\\x97\\xb0\\xec\\x9e\\xac\"},\"webtoonIcon\":{\"newest\":false,\"adult\":false,\"up\":true,\"dailyPass\":true,\"seriesEdition\":false},\"showLiveBadge\":false,\"_id\":\"6441ca92c499cc07f334c5f1\"},{\"@type\":\"MATERIAL-PC-FEED\",\"title\":\"21\\xec\\x84\\xb8\\xea\\xb8\\xb0 \\xeb\\xb0\\x98\\xeb\\xa1\\x9c\\xed\\x99\\x98\\xeb\\x8f\\x99\\xec\\xa0\\x84\",\"url\":\"https://comic.naver.com/webtoon/list?titleId=821136\",\"image\":{\"url\":\"https://s.pstatic.net/dthumb.phinf/?src=%22https%3A%2F%2Fshared-comic.pstatic.net%2Fthumb%2Fwebtoon%2F821136%2Fthumbnail%2Fthumbnail_IMAG04_76a69bc0-20e6-4eaf-9ea0-ae73d679c8d7.jpg%22&type=nf365_240&service=navermain\"},\"sourceCategory\":\"\\xec\\x9b\\x94\\xea\\xb7\\xa4 / \\xeb\\x82\\xa8\\xec\\x9e\\xa5\\xed\\x98\\x84 / \\xea\\xb2\\x80\\xeb\\xaf\\xb8\\xec\\x84\\xb1\",\"source\":{\"name\":\"\\xed\\x99\\x94 \\xec\\x97\\xb0\\xec\\x9e\\xac\"},\"webtoonIcon\":{\"newest\":false,\"adult\":false,\"up\":true,\"dailyPass\":true,\"seriesEdition\":false},\"showLiveBadge\":false,\"_id\":\"6441ca92c499cc07f334c5f2\"},{\"@type\":\"MATERIAL-PC-FEED\",\"title\":\"\\xec\\x95\\x94\\xec\\x82\\xb4\\xec\\x9e\\x90 \\xea\\xb0\\x80\\xeb\\xac\\xb8\\xec\\x9d\\x98 \\xec\\x88\\x98\\xec\\x96\\x91\\xeb\\x94\\xb8\\xec\\x9d\\xb4 \\xeb\\x90\\x98\\xec\\x97\\x88\\xeb\\x8b\\xa4\",\"url\":\"https://comic.naver.com/webtoon/list?titleId=821372\",\"image\":{\"url\":\"https://s.pstatic.net/dthumb.phinf/?src=%22https%3A%2F%2Fshared-comic.pstatic.net%2Fthumb%2Fwebtoon%2F821372%2Fthumbnail%2Fthumbnail_IMAG04_f75af0ff-fb41-4555-aeb7-dcfc42d80f91.jpg%22&type=nf365_240&service=navermain\"},\"sourceCategory\":\"\\xeb\\x8b\\xa4\\xec\\x9a\\xb0 / \\xec\\x9c\\xa0\\xeb\\x9e\\x91 / \\xeb\\xa1\\x9c\\xea\\xb0\\xb1\",\"source\":{\"name\":\"\\xed\\x99\\x94 \\xec\\x97\\xb0\\xec\\x9e\\xac\"},\"webtoonIcon\":{\"newest\":false,\"adult\":false,\"up\":true,\"dailyPass\":true,\"seriesEdition\":false},\"showLiveBadge\":false,\"_id\":\"6441ca92c499cc07f334c5f3\"}],\"excludeInPaging\":false,\"positionForPaging\":0,\"realtime\":false,\"needCologger\":false,\"ad\":false,\"@type\":\"PC-FEED-BLOCK\",\"@code\":\"PC-FEED-WEBTOON-DAILY-PLUS\",\"@template\":\"FOUR-COLUMNS\"},{\"@type\":\"PC-FEED-BLOCK\",\"materials\":[{\"@type\":\"MATERIAL-PC-FEED\",\"title\":\"\\xed\\x9a\\x8c\\xea\\xb7\\x80\\xed\\x95\\x9c \\xec\\x9c\\xa0\\xeb\\x8b\\x88\\xed\\x81\\xac \\xed\\x94\\x8c\\xeb\\xa0\\x88\\xec\\x9d\\xb4\\xec\\x96\\xb4: \\xec\\x9c\\x84\\xeb\\x8c\\x80\\xed\\x95\\x9c \\xea\\xb0\\x80\\xeb\\xac\\xb8 \\xed\\x8e\\xb8\",\"url\":\"https://novel.naver.com/webnovel/list?novelId=1151498\",\"image\":{\"url\":\"https://s.pstatic.net/dthumb.phinf/?src=%22https%3A%2F%2Fnovel-phinf.pstatic.net%2F20221231_98%2Fnovel_1672413580024l53MI_PNG%2Ffantasy_320_10.png%22&type=f222_222&service=navermain\"},\"desc\":\"\\xec\\x9d\\xb4 \\xec\\xb2\\xad\\xec\\x9b\\x94\",\"webtoonIcon\":{\"newest\":false,\"adult\":false,\"up\":true,\"dailyPass\":false,\"seriesEdition\":false},\"showLiveBadge\":false,\"_id\":\"6441ca92c499cc07f334c5f4\"},{\"@type\":\"MATERIAL-PC-FEED\",\"title\":\"\\xed\\x8c\\x8c\\xec\\xb2\\x9c\\xec\\x8b\\xa0\\xea\\xb2\\x80(\\xe7\\xa0\\xb4\\xe5\\xa4\\xa9\\xe7\\xa5\\x9e\\xe5\\x8a\\x92)\",\"url\":\"https://novel.naver.com/webnovel/list?novelId=1154434\",\"image\":{\"url\":\"https://s.pstatic.net/dthumb.phinf/?src=%22https%3A%2F%2Fnovel-phinf.pstatic.net%2F20241102_196%2Fnovel_173052204689052p3J_PNG%2F8574859972_AI%252BGreem.png%22&type=f222_222&service=navermain\"},\"desc\":\"\\xec\\x9b\\x94\\xed\\x95\\x98\\xeb\\xac\\xb8\",\"webtoonIcon\":{\"newest\":false,\"adult\":false,\"up\":false,\"dailyPass\":false,\"seriesEdition\":false},\"showLiveBadge\":false,\"_id\":\"6441ca92c499cc07f334c5f5\"},{\"@type\":\"MATERIAL-PC-FEED\",\"title\":\"\\xed\\x9b\\x84\\xec\\x9e\\x91 \\xec\\x98\\x81\\xec\\x95\\xa0\\xea\\xb0\\x80 \\xed\\x95\\x98\\xeb\\x85\\x80\\xea\\xb0\\x80 \\xeb\\x90\\x9c \\xec\\x98\\xa4\\xec\\x8b\\xb9\\xed\\x95\\x9c \\xec\\x9d\\xb4\\xec\\x9c\\xa0\",\"url\":\"https://novel.naver.com/webnovel/list?novelId=1153304\",\"image\":{\"url\":\"https://s.pstatic.net/dthumb.phinf/?src=%22https%3A%2F%2Fnovel-phinf.pstatic.net%2F20240913_4%2Fnovel_1726204266852BrEn9_JPEG%2FdhTKrdudo.jpg%22&type=f222_222&service=navermain\"},\"desc\":\"\\xea\\xb9\\x80\\xea\\xb7\\x9c\\xeb\\xa5\\xb4\",\"webtoonIcon\":{\"newest\":false,\"adult\":false,\"up\":true,\"dailyPass\":false,\"seriesEdition\":false},\"showLiveBadge\":false,\"_id\":\"6441ca92c499cc07f334c5f6\"},{\"@type\":\"MATERIAL-PC-FEED\",\"title\":\"\\xec\\x95\\x9e\\xec\\xa7\\x91 \\xec\\x82\\xac\\xeb\\x8a\\x94 \\xec\\x98\\xa4\\xeb\\xb9\\xa0 \\xec\\xb9\\x9c\\xea\\xb5\\xac\",\"url\":\"https://novel.naver.com/webnovel/list?novelId=1158917\",\"image\":{\"url\":\"https://s.pstatic.net/dthumb.phinf/?src=%22https%3A%2F%2Fnovel-phinf.pstatic.net%2F20221231_160%2Fnovel_1672413195271lc0oo_PNG%2Fromance_320_12.png%22&type=f222_222&service=navermain\"},\"desc\":\"\\xec\\xa0\\x80\\xeb\\x8b\\xa4\\xec\\x9e\\x87\",\"webtoonIcon\":{\"newest\":false,\"adult\":false,\"up\":true,\"dailyPass\":false,\"seriesEdition\":false},\"showLiveBadge\":false,\"_id\":\"6441ca92c499cc07f334c5f7\"},{\"@type\":\"MATERIAL-PC-FEED\",\"title\":\"\\xeb\\xb6\\x81\\xeb\\xb6\\x80\\xeb\\x8c\\x80\\xea\\xb3\\xb5\\xec\\x9d\\x98 \\xec\\x96\\x91\\xec\\x86\\x90\\xeb\\x85\\x80\\xea\\xb0\\x80 \\xeb\\x90\\x98\\xec\\x97\\x88\\xec\\x8a\\xb5\\xeb\\x8b\\x88\\xeb\\x8b\\xa4......\\xeb\\xa7\\x8c\",\"url\":\"https://novel.naver.com/webnovel/list?novelId=1158946\",\"image\":{\"url\":\"https://s.pstatic.net/dthumb.phinf/?src=%22https%3A%2F%2Fnovel-phinf.pstatic.net%2F20221231_46%2Fnovel_167241456054377Ne2_PNG%2Frofan_320_3.png%22&type=f222_222&service=navermain\"},\"desc\":\"\\xeb\\x9d\\xa0\\xeb\\x88\\x84\\xeb\\x9d\\xa0\\xeb\\x88\\x84\",\"webtoonIcon\":{\"newest\":false,\"adult\":false,\"up\":false,\"dailyPass\":false,\"seriesEdition\":false},\"showLiveBadge\":false,\"_id\":\"6441ca92c499cc07f334c5f8\"},{\"@type\":\"MATERIAL-PC-FEED\",\"title\":\"\\xed\\x99\\x98\\xec\\x83\\x9d, \\xeb\\x82\\xb4\\xea\\xb0\\x80 \\xed\\x9b\\x84\\xea\\xb6\\x81\\xec\\x9d\\xb4\\xeb\\x9d\\xbc\\xeb\\x8b\\x88\",\"url\":\"https://novel.naver.com/webnovel/list?novelId=1147807\",\"image\":{\"url\":\"https://s.pstatic.net/dthumb.phinf/?src=%22https%3A%2F%2Fnovel-phinf.pstatic.net%2F20240626_270%2Fnovel_1719401346796Cv1eM_JPEG%2Fgaja24_128229.jpg%22&type=f222_222&service=navermain\"},\"desc\":\"\\xea\\xb0\\x80\\xec\\x9e\\x90\\xeb\\x8b\\x88\\xec\\x95\\x84\",\"webtoonIcon\":{\"newest\":false,\"adult\":false,\"up\":true,\"dailyPass\":false,\"seriesEdition\":false},\"showLiveBadge\":false,\"_id\":\"6441ca92c499cc07f334c5f9\"},{\"@type\":\"MATERIAL-PC-FEED\",\"title\":\"\\xeb\\x82\\xb4\\xea\\xba\\xbc \\xeb\\xa7\\x8c\\xeb\\x93\\xa4\\xea\\xb8\\xb0\",\"url\":\"https://novel.naver.com/webnovel/list?novelId=1158746\",\"image\":{\"url\":\"https://s.pstatic.net/dthumb.phinf/?src=%22https%3A%2F%2Fnovel-phinf.pstatic.net%2F20221231_131%2Fnovel_1672413262022CBaFN_PNG%2Fromance_320_21.png%22&type=f222_222&service=navermain\"},\"desc\":\"\\xea\\xb0\\x91\\xec\\x88\\x98\\xeb\\xa6\\xbc\",\"webtoonIcon\":{\"newest\":false,\"adult\":false,\"up\":false,\"dailyPass\":false,\"seriesEdition\":false},\"showLiveBadge\":false,\"_id\":\"6441ca92c499cc07f334c5fa\"},{\"@type\":\"MATERIAL-PC-FEED\",\"title\":\"\\xea\\xb3\\xb5\\xeb\\x85\\x80\\xeb\\x8b\\x98\\xec\\x9d\\x80 \\xeb\\x8c\\x80\\xec\\xb6\\xa9 \\xec\\x82\\xb4\\xea\\xb8\\xb0\\xeb\\xa1\\x9c \\xed\\x96\\x88\\xeb\\x8b\\xa4\",\"url\":\"https://novel.naver.com/webnovel/list?novelId=1158980\",\"image\":{\"url\":\"https://s.pstatic.net/dthumb.phinf/?src=%22https%3A%2F%2Fnovel-phinf.pstatic.net%2F20221231_218%2Fnovel_1672414573998eNJmb_PNG%2Frofan_320_5.png%22&type=f222_222&service=navermain\"},\"desc\":\"\\xeb\\x8b\\xac\\xec\\x86\\x94\\xeb\\xb9\\x84\",\"webtoonIcon\":{\"newest\":false,\"adult\":false,\"up\":false,\"dailyPass\":false,\"seriesEdition\":false},\"showLiveBadge\":false,\"_id\":\"6441ca92c499cc07f334c5fb\"},{\"@type\":\"MATERIAL-PC-FEED\",\"title\":\"\\xec\\x95\\xa0 \\xec\\x95\\x84\\xeb\\xb9\\xa0\\xeb\\x8a\\x94 \\xed\\x95\\x84\\xec\\x9a\\x94\\xec\\x97\\x86\\xec\\x96\\xb4\\xec\\x9a\\x94\",\"url\":\"https://novel.naver.com/webnovel/list?novelId=1158559\",\"image\":{\"url\":\"https://s.pstatic.net/dthumb.phinf/?src=%22https%3A%2F%2Fnovel-phinf.pstatic.net%2F20221231_230%2Fnovel_16724131803478cSWj_PNG%2Fromance_320_10.png%22&type=f222_222&service=navermain\"},\"desc\":\"\\xec\\x9c\\x84\\xed\\x98\\x84\",\"webtoonIcon\":{\"newest\":false,\"adult\":false,\"up\":false,\"dailyPass\":false,\"seriesEdition\":false},\"showLiveBadge\":false,\"_id\":\"6441ca92c499cc07f334c5fc\"},{\"@type\":\"MATERIAL-PC-FEED\",\"title\":\"\\xeb\\x8f\\x85\\xec\\xa0\\x90\\xed\\x95\\x98\\xeb\\xa0\\xa4 \\xed\\x95\\xb4\",\"url\":\"https://novel.naver.com/webnovel/list?novelId=1160433\",\"image\":{\"url\":\"https://s.pstatic.net/dthumb.phinf/?src=%22https%3A%2F%2Fnovel-phinf.pstatic.net%2F20221231_194%2Fnovel_1672413226738B6sKY_PNG%2Fromance_320_16.png%22&type=f222_222&service=navermain\"},\"desc\":\"\\xea\\xb0\\x95\\xed\\x98\\x9c\\xec\\x9b\\x90_\",\"webtoonIcon\":{\"newest\":false,\"adult\":false,\"up\":true,\"dailyPass\":false,\"seriesEdition\":false},\"showLiveBadge\":false,\"_id\":\"6441ca92c499cc07f334c5fd\"},{\"@type\":\"MATERIAL-PC-FEED\",\"title\":\"\\xeb\\xb0\\xb0\\xec\\x9d\\x80\\xeb\\xa7\\x9d\\xeb\\x8d\\x95\\xed\\x95\\x9c \\xeb\\x82\\xa8\\xed\\x8e\\xb8\\xec\\x9d\\x98 \\xec\\xb5\\x9c\\xed\\x9b\\x84\\xeb\\xa5\\xbc \\xec\\x9c\\x84\\xed\\x95\\x98\\xec\\x97\\xac\",\"url\":\"https://novel.naver.com/webnovel/list?novelId=1160669\",\"image\":{\"url\":\"https://s.pstatic.net/dthumb.phinf/?src=%22https%3A%2F%2Fnovel-phinf.pstatic.net%2F20221231_42%2Fnovel_1672414680046Ga0SI_PNG%2Frofan_320_19.png%22&type=f222_222&service=navermain\"},\"desc\":\"Jinone\",\"webtoonIcon\":{\"newest\":false,\"adult\":false,\"up\":false,\"dailyPass\":false,\"seriesEdition\":false},\"showLiveBadge\":false,\"_id\":\"6441ca92c499cc07f334c5fe\"},{\"@type\":\"MATERIAL-PC-FEED\",\"title\":\"\\xec\\xb4\\x88\\xec\\x9b\\x94\\xea\\xb8\\x89 \\xed\\x97\\x8c\\xed\\x84\\xb0\\xeb\\x8a\\x94 \\xeb\\xa7\\x88\\xea\\xb2\\x80 \\xed\\x9d\\xa1\\xec\\x88\\x98\\xec\\x9e\\x90\",\"url\":\"https://novel.naver.com/webnovel/list?novelId=1153283\",\"image\":{\"url\":\"https://s.pstatic.net/dthumb.phinf/?src=%22https%3A%2F%2Fnovel-phinf.pstatic.net%2F20221231_64%2Fnovel_1672414879501cizJd_PNG%2Fmof_320_4.png%22&type=f222_222&service=navermain\"},\"desc\":\"\\xec\\x8b\\x9c\\xeb\\x85\\xb8\\xea\\xb3\\xb0\",\"webtoonIcon\":{\"newest\":false,\"adult\":false,\"up\":false,\"dailyPass\":false,\"seriesEdition\":false},\"showLiveBadge\":false,\"_id\":\"6441ca92c499cc07f334c5ff\"},{\"@type\":\"MATERIAL-PC-FEED\",\"title\":\"\\xea\\xb7\\xb8\\xeb\\xa7\\x8c\\xed\\x95\\xb4\\xec\\x9a\\x94, \\xec\\x9a\\xb0\\xeb\\xa6\\xac\",\"url\":\"https://novel.naver.com/webnovel/list?novelId=1159496\",\"image\":{\"url\":\"https://s.pstatic.net/dthumb.phinf/?src=%22https%3A%2F%2Fnovel-phinf.pstatic.net%2F20221231_195%2Fnovel_1672413173743Bum7v_PNG%2Fromance_320_9.png%22&type=f222_222&service=navermain\"},\"desc\":\"\\xec\\x84\\x9c\\xeb\\xb4\\x84\\xec\\x9d\\xb4\",\"webtoonIcon\":{\"newest\":false,\"adult\":false,\"up\":true,\"dailyPass\":false,\"seriesEdition\":false},\"showLiveBadge\":false,\"_id\":\"667adbc1788ee448db90e4ef\"},{\"@type\":\"MATERIAL-PC-FEED\",\"title\":\"\\xeb\\x8d\\x94 \\xeb\\xa8\\xbc\\xec\\xb9\\x98\\xed\\x82\\xa8(The Munchkin)\",\"url\":\"https://novel.naver.com/webnovel/list?novelId=212381\",\"image\":{\"url\":\"https://s.pstatic.net/dthumb.phinf/?src=%22https%3A%2F%2Fnovel-phinf.pstatic.net%2F20141127_102%2Fnovel_1417089184493B5Xkx_JPEG%2FEAB080.jpg%22&type=f222_222&service=navermain\"},\"desc\":\"\\xec\\x86\\x90\\xec\\x9a\\xa9\\xeb\\x8b\\xb4\",\"webtoonIcon\":{\"newest\":false,\"adult\":false,\"up\":false,\"dailyPass\":false,\"seriesEdition\":false},\"showLiveBadge\":false,\"_id\":\"667adbc1788ee448db90e4f0\"},{\"@type\":\"MATERIAL-PC-FEED\",\"title\":\"\\xeb\\x8c\\x80\\xea\\xb3\\xb5\\xea\\xb0\\x80\\xec\\x9d\\x98 \\xec\\x83\\x88\\xec\\x95\\x84\\xea\\xb0\\x80\\xeb\\x8a\\x94 \\xec\\xa1\\xb0\\xea\\xb8\\x88 \\xec\\x82\\xac\\xeb\\x82\\x98\\xec\\x9b\\x8c\\xec\\x9a\\x94\",\"url\":\"https://novel.naver.com/webnovel/list?novelId=1138846\",\"image\":{\"url\":\"https://s.pstatic.net/dthumb.phinf/?src=%22https%3A%2F%2Fnovel-phinf.pstatic.net%2F20221231_46%2Fnovel_167241456054377Ne2_PNG%2Frofan_320_3.png%22&type=f222_222&service=navermain\"},\"desc\":\"\\xec\\xa7\\x84\\xec\\x9d\\xb4\\xed\\x98\\x84\",\"webtoonIcon\":{\"newest\":false,\"adult\":false,\"up\":true,\"dailyPass\":false,\"seriesEdition\":false},\"showLiveBadge\":false,\"_id\":\"667adbc1788ee448db90e4f1\"},{\"@type\":\"MATERIAL-PC-FEED\",\"title\":\"\\xec\\xa0\\x84\\xec\\x83\\x9d\\xec\\x97\\x90 \\xeb\\x82\\x98\\xeb\\x9d\\xbc\\xeb\\xa5\\xbc \\xea\\xb5\\xac\\xed\\x96\\x88\\xeb\\x8d\\x94\\xeb\\x8b\\x88\",\"url\":\"https://novel.naver.com/webnovel/list?novelId=1154871\",\"image\":{\"url\":\"https://s.pstatic.net/dthumb.phinf/?src=%22https%3A%2F%2Fnovel-phinf.pstatic.net%2F20221231_202%2Fnovel_167241423809275kBR_PNG%2Flightnov_320_5.png%22&type=f222_222&service=navermain\"},\"desc\":\"Seha00\",\"webtoonIcon\":{\"newest\":false,\"adult\":false,\"up\":false,\"dailyPass\":false,\"seriesEdition\":false},\"showLiveBadge\":false,\"_id\":\"667adbc1788ee448db90e4f2\"},{\"@type\":\"MATERIAL-PC-FEED\",\"title\":\"\\xec\\x98\\xa4\\xeb\\xb9\\xa0 \\xec\\xb9\\x9c\\xea\\xb5\\xac \\xea\\xb8\\xb8\\xeb\\x93\\xa4\\xec\\x9d\\xb4\\xea\\xb8\\xb0\",\"url\":\"https://novel.naver.com/webnovel/list?novelId=1152172\",\"image\":{\"url\":\"https://s.pstatic.net/dthumb.phinf/?src=%22https%3A%2F%2Fnovel-phinf.pstatic.net%2F20221231_209%2Fnovel_1672413143697VOnEm_PNG%2Fromance_320_5.png%22&type=f222_222&service=navermain\"},\"desc\":\"Anne shirely\",\"webtoonIcon\":{\"newest\":false,\"adult\":false,\"up\":false,\"dailyPass\":false,\"seriesEdition\":false},\"showLiveBadge\":false,\"_id\":\"667adbc1788ee448db90e4f3\"},{\"@type\":\"MATERIAL-PC-FEED\",\"title\":\"\\xec\\x97\\xac\\xec\\xa3\\xbc\\xeb\\xa7\\x90\\xea\\xb3\\xa0 \\xec\\x9e\\xac\\xeb\\xb2\\x8c\\xed\\x95\\x98\\xea\\xb2\\xa0\\xec\\x8a\\xb5\\xeb\\x8b\\x88\\xeb\\x8b\\xa4\",\"url\":\"https://novel.naver.com/webnovel/list?novelId=1158674\",\"image\":{\"url\":\"https://s.pstatic.net/dthumb.phinf/?src=%22https%3A%2F%2Fnovel-phinf.pstatic.net%2F20221231_159%2Fnovel_16724146876601ugO0_PNG%2Frofan_320_20.png%22&type=f222_222&service=navermain\"},\"desc\":\"1\\xed\\x86\\xa4 \\xeb\\xa7\\x9b\\xeb\\x8f\\x99\\xec\\x82\\xb0\",\"webtoonIcon\":{\"newest\":false,\"adult\":false,\"up\":true,\"dailyPass\":false,\"seriesEdition\":false},\"showLiveBadge\":false,\"_id\":\"667adbc1788ee448db90e4f4\"},{\"@type\":\"MATERIAL-PC-FEED\",\"title\":\"\\xea\\xb0\\x91\\xea\\xb3\\xbc \\xec\\x9d\\x84\\xec\\x9d\\x98 \\xec\\x97\\xb0\\xec\\x95\\xa0\\xec\\x82\\xac\\xec\\xa0\\x95\",\"url\":\"https://novel.naver.com/webnovel/list?novelId=1158649\",\"image\":{\"url\":\"https://s.pstatic.net/dthumb.phinf/?src=%22https%3A%2F%2Fnovel-phinf.pstatic.net%2F20241107_129%2Fnovel_1730941217941BXJHK_JPEG%2F333-1.jpg%22&type=f222_222&service=navermain\"},\"desc\":\"\\xea\\xbc\\xac\\xeb\\xa6\\xac\\xeb\\xb3\\x84.\",\"webtoonIcon\":{\"newest\":false,\"adult\":false,\"up\":true,\"dailyPass\":false,\"seriesEdition\":false},\"showLiveBadge\":false,\"_id\":\"667adbc1788ee448db90e4f5\"},{\"@type\":\"MATERIAL-PC-FEED\",\"title\":\"\\xeb\\x8c\\x80\\xea\\xb3\\xb5\\xea\\xb0\\x80\\xec\\x9d\\x98 \\xec\\x9a\\x94\\xec\\xa0\\x95\\xeb\\x8b\\x98\",\"url\":\"https://novel.naver.com/webnovel/list?novelId=1153128\",\"image\":{\"url\":\"https://s.pstatic.net/dthumb.phinf/?src=%22https%3A%2F%2Fnovel-phinf.pstatic.net%2F20240730_107%2Fnovel_1722316131719J4Vnd_JPEG%2FScreenshot_20240719_132216_Gallery%252B28229.jpg%22&type=f222_222&service=navermain\"},\"desc\":\"\\xe3\\x80\\x8c\\xeb\\xa6\\xac\\xec\\x8a\\xa4\\xe3\\x80\\x8d\",\"webtoonIcon\":{\"newest\":false,\"adult\":false,\"up\":false,\"dailyPass\":false,\"seriesEdition\":false},\"showLiveBadge\":false,\"_id\":\"667adbc1788ee448db90e4f6\"},{\"@type\":\"MATERIAL-PC-FEED\",\"title\":\"\\xec\\x96\\xb4\\xec\\xa9\\x8c\\xeb\\x8b\\xa4, \\xeb\\xa7\\x88\\xec\\xa3\\xbc\\xec\\xb9\\x9c \\xec\\x9a\\xb4\\xeb\\xaa\\x85\",\"url\":\"https://novel.naver.com/webnovel/list?novelId=1129976\",\"image\":{\"url\":\"https://s.pstatic.net/dthumb.phinf/?src=%22https%3A%2F%2Fnovel-phinf.pstatic.net%2F20221231_160%2Fnovel_1672413195271lc0oo_PNG%2Fromance_320_12.png%22&type=f222_222&service=navermain\"},\"desc\":\"youri\",\"webtoonIcon\":{\"newest\":false,\"adult\":false,\"up\":false,\"dailyPass\":false,\"seriesEdition\":false},\"showLiveBadge\":false,\"_id\":\"667adbc1788ee448db90e4f7\"},{\"@type\":\"MATERIAL-PC-FEED\",\"title\":\"\\xec\\x9a\\xb0\\xeb\\xa6\\xac\\xec\\x9d\\x98 \\xeb\\xb4\\x84\\xec\\x9d\\x80 \\xec\\x96\\xb8\\xec\\xa0\\x9c \\xec\\x98\\xa4\\xeb\\x82\\x98\\xec\\x9a\\x94?\",\"url\":\"https://novel.naver.com/webnovel/list?novelId=336855\",\"image\":{\"url\":\"https://s.pstatic.net/dthumb.phinf/?src=%22https%3A%2F%2Fnovel-phinf.pstatic.net%2F20221231_277%2Fnovel_16724131586787UIQL_PNG%2Fromance_320_7.png%22&type=f222_222&service=navermain\"},\"desc\":\"\\xec\\xb0\\xa8\\xec\\xa0\\x95\\xec\\x9b\\x90\",\"webtoonIcon\":{\"newest\":false,\"adult\":false,\"up\":false,\"dailyPass\":false,\"seriesEdition\":false},\"showLiveBadge\":false,\"_id\":\"667adbc1788ee448db90e4f8\"},{\"@type\":\"MATERIAL-PC-FEED\",\"title\":\"\\xec\\x9d\\xb4 \\xec\\x97\\xb0\\xea\\xb7\\xb9\\xec\\x9d\\x98 \\xea\\xb2\\xb0\\xeb\\xa7\\x90\\xec\\x9d\\x80 \\xeb\\x82\\xb4\\xea\\xb0\\x80 \\xec\\xa0\\x95\\xed\\x95\\x9c\\xeb\\x8b\\xa4\",\"url\":\"https://novel.naver.com/webnovel/list?novelId=1130309\",\"image\":{\"url\":\"https://s.pstatic.net/dthumb.phinf/?src=%22https%3A%2F%2Fnovel-phinf.pstatic.net%2F20221231_201%2Fnovel_1672414649509BTMAJ_PNG%2Frofan_320_15.png%22&type=f222_222&service=navermain\"},\"desc\":\"\\xea\\xb3\\xa0\\xeb\\xa7\\x88\\xec\\x9a\\x94\",\"webtoonIcon\":{\"newest\":false,\"adult\":false,\"up\":false,\"dailyPass\":false,\"seriesEdition\":false},\"showLiveBadge\":false,\"_id\":\"667adbc1788ee448db90e4f9\"},{\"@type\":\"MATERIAL-PC-FEED\",\"title\":\"\\xec\\x95\\xbc\\xec\\x88\\x98\\xec\\x9d\\x98 \\xec\\x9e\\xa5\\xeb\\xaf\\xb8\",\"url\":\"https://novel.naver.com/webnovel/list?novelId=1151164\",\"image\":{\"url\":\"https://s.pstatic.net/dthumb.phinf/?src=%22https%3A%2F%2Fnovel-phinf.pstatic.net%2F20221231_195%2Fnovel_1672413173743Bum7v_PNG%2Fromance_320_9.png%22&type=f222_222&service=navermain\"},\"desc\":\"\\xed\\x95\\x98\\xed\\x94\\x84\\xed\\x83\\x80\",\"webtoonIcon\":{\"newest\":false,\"adult\":false,\"up\":false,\"dailyPass\":false,\"seriesEdition\":false},\"showLiveBadge\":false,\"_id\":\"667adbc1788ee448db90e4fa\"}],\"excludeInPaging\":false,\"positionForPaging\":0,\"realtime\":false,\"title\":\"\\xeb\\xb2\\xa0\\xec\\x8a\\xa4\\xed\\x8a\\xb8\\xeb\\xa6\\xac\\xea\\xb7\\xb8 \\xec\\xb6\\x94\\xec\\xb2\\x9c \\xec\\x9b\\xb9\\xec\\x86\\x8c\\xec\\x84\\xa4\",\"moreText\":\"\\xec\\xa0\\x84\\xec\\xb2\\xb4\\xeb\\xb3\\xb4\\xea\\xb8\\xb0\",\"moreUrl\":\"https://novel.naver.com/best/popular\",\"needCologger\":false,\"ad\":false,\"@type\":\"PC-FEED-BLOCK\",\"@code\":\"PC-FEED-WEBTOON-BEST-LEAGUE-NOVEL\",\"@template\":\"SIX-COLUMNS\"}],\"materials\":null,\"excludeInPaging\":false,\"positionForPaging\":0,\"realtime\":false,\"_id\":null,\"@type\":\"BLOCK\",\"@code\":\"PC-FEED-WEBTOON\",\"@template\":\"NONE\",\"@flowId\":null,\"@flowExecutionId\":null,\"@provider\":null,\"@lastModifiedAt\":null}],\"materials\":null,\"excludeInPaging\":false,\"positionForPaging\":0,\"realtime\":false,\"_id\":\"6441ca92a10d3006855f9acd\",\"@type\":\"BLOCK\",\"@code\":\"PC-FEED-WRAPPER\",\"@template\":\"PC-FEED-WRAPPER\",\"@flowId\":\"PC-FEED-WRAPPER\",\"@flowExecutionId\":\"fab478ef-ab96-11ef-8b32-2fe475390199\",\"@provider\":\"lambda\",\"@lastModifiedAt\":[2024,11,26,1,37,21,777000000]}\\nwindow[\"EAGER-DATA\"][\"CAS-MINICONTENT-PC-SPECIAL-LOGO\"] = {\"@type\":\"MINI-CONTENT-BLOCK\",\"blocks\":null,\"materials\":null,\"excludeInPaging\":false,\"positionForPaging\":0,\"realtime\":false,\"items\":[],\"_id\":\"6433d8e3a10d3006850274e8\",\"@type\":\"MINI-CONTENT-BLOCK\",\"@code\":\"CAS-MINICONTENT-PC-SPECIAL-LOGO\",\"@template\":\"NONE\",\"@flowId\":\"CAS-MINICONTENT\",\"@flowExecutionId\":\"bde39fa0-ab96-11ef-8aeb-13d6df74e970\",\"@provider\":\"lambda\",\"@lastModifiedAt\":[2024,11,26,1,35,39,129000000]}\\nwindow[\"EAGER-DATA\"][\"PC-MEDIA-WRAPPER\"] = {\"@type\":\"PC-MEDIA-CONTENTS-BLOCK\",\"blocks\":[{\"@type\":\"BLOCK\",\"blocks\":[{\"@type\":\"PC-NEWSSTAND-BLOCK\",\"blocks\":[{\"@type\":\"PC-NEWSSTAND-PRESS-BLOCK\",\"blocks\":null,\"materials\":null,\"excludeInPaging\":false,\"positionForPaging\":0,\"realtime\":false,\"pid\":\"907\",\"name\":\"\\xea\\xb2\\xbd\\xeb\\xb6\\x81\\xeb\\xa7\\xa4\\xec\\x9d\\xbc\\xec\\x8b\\xa0\\xeb\\xac\\xb8\",\"logoLight\":{\"url\":\"https://s.pstatic.net/static/newsstand/2020/logo/light/0604/907.png\"},\"logoDark\":{\"url\":\"https://s.pstatic.net/static/newsstand/2020/logo/dark/0604/907.png\"},\"showThumbnailView\":true,\"showListView\":true,\"regDate\":\"20241126 10:20:28\",\"_id\":null,\"@type\":\"PC-NEWSSTAND-PRESS-BLOCK\",\"@code\":null,\"@template\":\"NONE\",\"@flowId\":null,\"@flowExecutionId\":null,\"@provider\":null,\"@lastModifiedAt\":null},{\"@type\":\"PC-NEWSSTAND-PRESS-BLOCK\",\"blocks\":null,\"materials\":null,\"excludeInPaging\":false,\"positionForPaging\":0,\"realtime\":false,\"pid\":\"908\",\"name\":\"\\xea\\xb5\\xad\\xeb\\xb0\\xa9\\xec\\x9d\\xbc\\xeb\\xb3\\xb4\",\"logoLight\":{\"url\":\"https://s.pstatic.net/static/newsstand/2020/logo/light/0604/908.png\"},\"logoDark\":{\"url\":\"https://s.pstatic.net/static/newsstand/2020/logo/dark/0604/908.png\"},\"showThumbnailView\":true,\"showListView\":true,\"regDate\":\"20241125 17:28:29\",\"_id\":null,\"@type\":\"PC-NEWSSTAND-PRESS-BLOCK\",\"@code\":null,\"@template\":\"NONE\",\"@flowId\":null,\"@flowExecutionId\":null,\"@provider\":null,\"@lastModifiedAt\":null},{\"@type\":\"PC-NEWSSTAND-PRESS-BLOCK\",\"blocks\":null,\"materials\":null,\"excludeInPaging\":false,\"positionForPaging\":0,\"realtime\":false,\"pid\":\"909\",\"name\":\"\\xea\\xb8\\xb0\\xed\\x98\\xb8\\xec\\x9d\\xbc\\xeb\\xb3\\xb4\",\"logoLight\":{\"url\":\"https://s.pstatic.net/static/newsstand/2020/logo/light/0604/909.png\"},\"logoDark\":{\"url\":\"https://s.pstatic.net/static/newsstand/2020/logo/dark/0604/909.png\"},\"showThumbnailView\":true,\"showListView\":true,\"regDate\":\"20241125 21:28:23\",\"_id\":null,\"@type\":\"PC-NEWSSTAND-PRESS-BLOCK\",\"@code\":null,\"@template\":\"NONE\",\"@flowId\":null,\"@flowExecutionId\":null,\"@provider\":null,\"@lastModifiedAt\":null},{\"@type\":\"PC-NEWSSTAND-PRESS-BLOCK\",\"blocks\":null,\"materials\":null,\"excludeInPaging\":false,\"positionForPaging\":0,\"realtime\":false,\"pid\":\"353\",\"name\":\"\\xec\\xa4\\x91\\xec\\x95\\x99SUNDAY\",\"logoLight\":{\"url\":\"https://s.pstatic.net/static/newsstand/2020/logo/light/0604/353.png\"},\"logoDark\":{\"url\":\"https://s.pstatic.net/static/newsstand/2020/logo/dark/0604/353.png\"},\"showThumbnailView\":true,\"showListView\":true,\"regDate\":\"20241126 08:24:46\",\"_id\":null,\"@type\":\"PC-NEWSSTAND-PRESS-BLOCK\",\"@code\":null,\"@template\":\"NONE\",\"@flowId\":null,\"@flowExecutionId\":null,\"@provider\":null,\"@lastModifiedAt\":null},{\"@type\":\"PC-NEWSSTAND-PRESS-BLOCK\",\"blocks\":null,\"materials\":null,\"excludeInPaging\":false,\"positionForPaging\":0,\"realtime\":false,\"pid\":\"354\",\"name\":\"\\xec\\x97\\x98\\xeb\\xa5\\xb4\",\"logoLight\":{\"url\":\"https://s.pstatic.net/static/newsstand/2020/logo/light/0604/354.png\"},\"logoDark\":{\"url\":\"https://s.pstatic.net/static/newsstand/2020/logo/dark/0604/354.png\"},\"showThumbnailView\":true,\"showListView\":true,\"regDate\":\"20241126 10:25:22\",\"_id\":null,\"@type\":\"PC-NEWSSTAND-PRESS-BLOCK\",\"@code\":null,\"@template\":\"NONE\",\"@flowId\":null,\"@flowExecutionId\":null,\"@provider\":null,\"@lastModifiedAt\":null},{\"@type\":\"PC-NEWSSTAND-PRESS-BLOCK\",\"blocks\":null,\"materials\":null,\"excludeInPaging\":false,\"positionForPaging\":0,\"realtime\":false,\"pid\":\"355\",\"name\":\"\\xec\\x82\\xac\\xec\\x9d\\xb4\\xec\\x96\\xb8\\xec\\x8a\\xa4\\xed\\x83\\x80\\xec\\x9e\\x84\\xec\\xa6\\x88\",\"logoLight\":{\"url\":\"https://s.pstatic.net/static/newsstand/2020/logo/light/0604/355.png\"},\"logoDark\":{\"url\":\"https://s.pstatic.net/static/newsstand/2020/logo/dark/0604/355.png\"},\"showThumbnailView\":true,\"showListView\":true,\"regDate\":\"20241125 15:23:15\",\"_id\":null,\"@type\":\"PC-NEWSSTAND-PRESS-BLOCK\",\"@code\":null,\"@template\":\"NONE\",\"@flowId\":null,\"@flowExecutionId\":null,\"@provider\":null,\"@lastModifiedAt\":null},{\"@type\":\"PC-NEWSSTAND-PRESS-BLOCK\",\"blocks\":null,\"materials\":null,\"excludeInPaging\":false,\"positionForPaging\":0,\"realtime\":false,\"pid\":\"356\",\"name\":\"\\xea\\xb2\\x8c\\xec\\x9e\\x84\\xeb\\xa9\\x94\\xec\\xb9\\xb4\",\"logoLight\":{\"url\":\"https://s.pstatic.net/static/newsstand/2020/logo/light/0604/356.png\"},\"logoDark\":{\"url\":\"https://s.pstatic.net/static/newsstand/2020/logo/dark/0604/356.png\"},\"showThumbnailView\":true,\"showListView\":true,\"regDate\":\"20241125 17:40:16\",\"_id\":null,\"@type\":\"PC-NEWSSTAND-PRESS-BLOCK\",\"@code\":null,\"@template\":\"NONE\",\"@flowId\":null,\"@flowExecutionId\":null,\"@provider\":null,\"@lastModifiedAt\":null},{\"@type\":\"PC-NEWSSTAND-PRESS-BLOCK\",\"blocks\":null,\"materials\":null,\"excludeInPaging\":false,\"positionForPaging\":0,\"realtime\":false,\"pid\":\"477\",\"name\":\"\\xec\\x8a\\xa4\\xed\\x8f\\xac\\xed\\x8b\\xb0\\xeb\\xb9\\x84\\xeb\\x89\\xb4\\xec\\x8a\\xa4\",\"logoLight\":{\"url\":\"https://s.pstatic.net/static/newsstand/up/2021/1130/nsd10159718.png\"},\"logoDark\":{\"url\":\"https://s.pstatic.net/static/newsstand/up/2021/1130/nsd101536636.png\"},\"showThumbnailView\":true,\"showListView\":true,\"regDate\":\"20241126 10:20:06\",\"_id\":null,\"@type\":\"PC-NEWSSTAND-PRESS-BLOCK\",\"@code\":null,\"@template\":\"NONE\",\"@flowId\":null,\"@flowExecutionId\":null,\"@provider\":null,\"@lastModifiedAt\":null},{\"@type\":\"PC-NEWSSTAND-PRESS-BLOCK\",\"blocks\":null,\"materials\":null,\"excludeInPaging\":false,\"positionForPaging\":0,\"realtime\":false,\"pid\":\"117\",\"name\":\"\\xeb\\xa7\\x88\\xec\\x9d\\xb4\\xeb\\x8d\\xb0\\xec\\x9d\\xbc\\xeb\\xa6\\xac\",\"logoLight\":{\"url\":\"https://s.pstatic.net/static/newsstand/2020/logo/light/0604/117.png\"},\"logoDark\":{\"url\":\"https://s.pstatic.net/static/newsstand/2020/logo/dark/0604/117.png\"},\"showThumbnailView\":true,\"showListView\":true,\"regDate\":\"20241126 10:10:56\",\"_id\":null,\"@type\":\"PC-NEWSSTAND-PRESS-BLOCK\",\"@code\":null,\"@template\":\"NONE\",\"@flowId\":null,\"@flowExecutionId\":null,\"@provider\":null,\"@lastModifiedAt\":null},{\"@type\":\"PC-NEWSSTAND-PRESS-BLOCK\",\"blocks\":null,\"materials\":null,\"excludeInPaging\":false,\"positionForPaging\":0,\"realtime\":false,\"pid\":\"910\",\"name\":\"\\xeb\\x84\\xa5\\xec\\x8a\\xa4\\xed\\x8a\\xb8\\xeb\\x8d\\xb0\\xec\\x9d\\xbc\\xeb\\xa6\\xac\",\"logoLight\":{\"url\":\"https://s.pstatic.net/static/newsstand/2020/logo/light/0604/910.png\"},\"logoDark\":{\"url\":\"https://s.pstatic.net/static/newsstand/2020/logo/dark/0604/910.png\"},\"showThumbnailView\":true,\"showListView\":true,\"regDate\":\"20241126 10:20:55\",\"_id\":null,\"@type\":\"PC-NEWSSTAND-PRESS-BLOCK\",\"@code\":null,\"@template\":\"NONE\",\"@flowId\":null,\"@flowExecutionId\":null,\"@provider\":null,\"@lastModifiedAt\":null},{\"@type\":\"PC-NEWSSTAND-PRESS-BLOCK\",\"blocks\":null,\"materials\":null,\"excludeInPaging\":false,\"positionForPaging\":0,\"realtime\":false,\"pid\":\"911\",\"name\":\"\\xeb\\x86\\x8d\\xeb\\xaf\\xbc\\xec\\x8b\\xa0\\xeb\\xac\\xb8\",\"logoLight\":{\"url\":\"https://s.pstatic.net/static/newsstand/2020/logo/light/0604/911.png\"},\"logoDark\":{\"url\":\"https://s.pstatic.net/static/newsstand/2020/logo/dark/0604/911.png\"},\"showThumbnailView\":true,\"showListView\":true,\"regDate\":\"20241125 07:00:02\",\"_id\":null,\"@type\":\"PC-NEWSSTAND-PRESS-BLOCK\",\"@code\":null,\"@template\":\"NONE\",\"@flowId\":null,\"@flowExecutionId\":null,\"@provider\":null,\"@lastModifiedAt\":null},{\"@type\":\"PC-NEWSSTAND-PRESS-BLOCK\",\"blocks\":null,\"materials\":null,\"excludeInPaging\":false,\"positionForPaging\":0,\"realtime\":false,\"pid\":\"913\",\"name\":\"\\xeb\\x89\\xb4\\xec\\x8a\\xa4\\xed\\x86\\xa0\\xeb\\xa7\\x88\\xed\\x86\\xa0\",\"logoLight\":{\"url\":\"https://s.pstatic.net/static/newsstand/2020/logo/light/0604/913.png\"},\"logoDark\":{\"url\":\"https://s.pstatic.net/static/newsstand/2020/logo/dark/0604/913.png\"},\"showThumbnailView\":true,\"showListView\":true,\"regDate\":\"20241126 10:31:20\",\"_id\":null,\"@type\":\"PC-NEWSSTAND-PRESS-BLOCK\",\"@code\":null,\"@template\":\"NONE\",\"@flowId\":null,\"@flowExecutionId\":null,\"@provider\":null,\"@lastModifiedAt\":null},{\"@type\":\"PC-NEWSSTAND-PRESS-BLOCK\",\"blocks\":null,\"materials\":null,\"excludeInPaging\":false,\"positionForPaging\":0,\"realtime\":false,\"pid\":\"914\",\"name\":\"\\xeb\\x89\\xb4\\xec\\x8a\\xa4\\xed\\x95\\x8c\",\"logoLight\":{\"url\":\"https://s.pstatic.net/static/newsstand/2020/logo/light/0604/914.png\"},\"logoDark\":{\"url\":\"https://s.pstatic.net/static/newsstand/2020/logo/dark/0604/914.png\"},\"showThumbnailView\":true,\"showListView\":true,\"regDate\":\"20241126 10:17:42\",\"_id\":null,\"@type\":\"PC-NEWSSTAND-PRESS-BLOCK\",\"@code\":null,\"@template\":\"NONE\",\"@flowId\":null,\"@flowExecutionId\":null,\"@provider\":null,\"@lastModifiedAt\":null},{\"@type\":\"PC-NEWSSTAND-PRESS-BLOCK\",\"blocks\":null,\"materials\":null,\"excludeInPaging\":false,\"positionForPaging\":0,\"realtime\":false,\"pid\":\"915\",\"name\":\"\\xeb\\xa5\\xb4\\xeb\\xaa\\xbd\\xeb\\x93\\x9c \\xeb\\x94\\x94\\xed\\x94\\x8c\\xeb\\xa1\\x9c\\xeb\\xa7\\x88\\xed\\x8b\\xb0\\xed\\x81\\xac\",\"logoLight\":{\"url\":\"https://s.pstatic.net/static/newsstand/2020/logo/light/0604/915.png\"},\"logoDark\":{\"url\":\"https://s.pstatic.net/static/newsstand/2020/logo/dark/0604/915.png\"},\"showThumbnailView\":true,\"showListView\":true,\"regDate\":\"20241122 10:27:16\",\"_id\":null,\"@type\":\"PC-NEWSSTAND-PRESS-BLOCK\",\"@code\":null,\"@template\":\"NONE\",\"@flowId\":null,\"@flowExecutionId\":null,\"@provider\":null,\"@lastModifiedAt\":null},{\"@type\":\"PC-NEWSSTAND-PRESS-BLOCK\",\"blocks\":null,\"materials\":null,\"excludeInPaging\":false,\"positionForPaging\":0,\"realtime\":false,\"pid\":\"916\",\"name\":\"\\xeb\\xa8\\xb8\\xeb\\x8b\\x88\\xed\\x88\\xac\\xeb\\x8d\\xb0\\xec\\x9d\\xb4\\xeb\\xb0\\xa9\\xec\\x86\\xa1\",\"logoLight\":{\"url\":\"https://s.pstatic.net/static/newsstand/up/2021/0420/nsd105139164.png\"},\"logoDark\":{\"url\":\"https://s.pstatic.net/static/newsstand/up/2021/0420/nsd104943516.png\"},\"showThumbnailView\":true,\"showListView\":true,\"regDate\":\"20241126 10:19:18\",\"_id\":null,\"@type\":\"PC-NEWSSTAND-PRESS-BLOCK\",\"@code\":null,\"@template\":\"NONE\",\"@flowId\":null,\"@flowExecutionId\":null,\"@provider\":null,\"@lastModifiedAt\":null},{\"@type\":\"PC-NEWSSTAND-PRESS-BLOCK\",\"blocks\":null,\"materials\":null,\"excludeInPaging\":false,\"positionForPaging\":0,\"realtime\":false,\"pid\":\"917\",\"name\":\"IT\\xec\\xa1\\xb0\\xec\\x84\\xa0\",\"logoLight\":{\"url\":\"https://s.pstatic.net/static/newsstand/2020/logo/light/0604/917.png\"},\"logoDark\":{\"url\":\"https://s.pstatic.net/static/newsstand/2020/logo/dark/0604/917.png\"},\"showThumbnailView\":true,\"showListView\":true,\"regDate\":\"20241126 10:23:14\",\"_id\":null,\"@type\":\"PC-NEWSSTAND-PRESS-BLOCK\",\"@code\":null,\"@template\":\"NONE\",\"@flowId\":null,\"@flowExecutionId\":null,\"@provider\":null,\"@lastModifiedAt\":null},{\"@type\":\"PC-NEWSSTAND-PRESS-BLOCK\",\"blocks\":null,\"materials\":null,\"excludeInPaging\":false,\"positionForPaging\":0,\"realtime\":false,\"pid\":\"361\",\"name\":\"\\xec\\xb1\\x84\\xeb\\x84\\x90\\xec\\x98\\x88\\xec\\x8a\\xa4\",\"logoLight\":{\"url\":\"https://s.pstatic.net/static/newsstand/up/2023/0418/nsd124959421.png\"},\"logoDark\":{\"url\":\"https://s.pstatic.net/static/newsstand/up/2023/0418/nsd124945796.png\"},\"showThumbnailView\":true,\"showListView\":true,\"regDate\":\"20241126 10:30:54\",\"_id\":null,\"@type\":\"PC-NEWSSTAND-PRESS-BLOCK\",\"@code\":null,\"@template\":\"NONE\",\"@flowId\":null,\"@flowExecutionId\":null,\"@provider\":null,\"@lastModifiedAt\":null},{\"@type\":\"PC-NEWSSTAND-PRESS-BLOCK\",\"blocks\":null,\"materials\":null,\"excludeInPaging\":false,\"positionForPaging\":0,\"realtime\":false,\"pid\":\"120\",\"name\":\"EBN\",\"logoLight\":{\"url\":\"https://s.pstatic.net/static/newsstand/2020/logo/light/0604/120.png\"},\"logoDark\":{\"url\":\"https://s.pstatic.net/static/newsstand/2020/logo/dark/0604/120.png\"},\"showThumbnailView\":true,\"showListView\":true,\"regDate\":\"20241126 10:23:17\",\"_id\":null,\"@type\":\"PC-NEWSSTAND-PRESS-BLOCK\",\"@code\":null,\"@template\":\"NONE\",\"@flowId\":null,\"@flowExecutionId\":null,\"@provider\":null,\"@lastModifiedAt\":null},{\"@type\":\"PC-NEWSSTAND-PRESS-BLOCK\",\"blocks\":null,\"materials\":null,\"excludeInPaging\":false,\"positionForPaging\":0,\"realtime\":false,\"pid\":\"241\",\"name\":\"\\xec\\x9d\\xbc\\xea\\xb0\\x84\\xec\\x8a\\xa4\\xed\\x8f\\xac\\xec\\xb8\\xa0\",\"logoLight\":{\"url\":\"https://s.pstatic.net/static/newsstand/up/2023/0112/nsd92558162.png\"},\"logoDark\":{\"url\":\"https://s.pstatic.net/static/newsstand/2020/logo/dark/0604/241.png\"},\"showThumbnailView\":true,\"showListView\":true,\"regDate\":\"20241126 09:28:17\",\"_id\":null,\"@type\":\"PC-NEWSSTAND-PRESS-BLOCK\",\"@code\":null,\"@template\":\"NONE\",\"@flowId\":null,\"@flowExecutionId\":null,\"@provider\":null,\"@lastModifiedAt\":null},{\"@type\":\"PC-NEWSSTAND-PRESS-BLOCK\",\"blocks\":null,\"materials\":null,\"excludeInPaging\":false,\"positionForPaging\":0,\"realtime\":false,\"pid\":\"363\",\"name\":\"\\xeb\\x8f\\x99\\xec\\x95\\x84\\xec\\x82\\xac\\xec\\x9d\\xb4\\xec\\x96\\xb8\\xec\\x8a\\xa4\",\"logoLight\":{\"url\":\"https://s.pstatic.net/static/newsstand/2020/logo/light/0604/363.png\"},\"logoDark\":{\"url\":\"https://s.pstatic.net/static/newsstand/2020/logo/dark/0604/363.png\"},\"showThumbnailView\":true,\"showListView\":true,\"regDate\":\"20241125 18:09:40\",\"_id\":null,\"@type\":\"PC-NEWSSTAND-PRESS-BLOCK\",\"@code\":null,\"@template\":\"NONE\",\"@flowId\":null,\"@flowExecutionId\":null,\"@provider\":null,\"@lastModifiedAt\":null},{\"@type\":\"PC-NEWSSTAND-PRESS-BLOCK\",\"blocks\":null,\"materials\":null,\"excludeInPaging\":false,\"positionForPaging\":0,\"realtime\":false,\"pid\":\"122\",\"name\":\"\\xeb\\xb2\\x95\\xeb\\xa5\\xa0\\xec\\x8b\\xa0\\xeb\\xac\\xb8\",\"logoLight\":{\"url\":\"https://s.pstatic.net/static/newsstand/up/2022/1103/nsd124326426.png\"},\"logoDark\":{\"url\":\"https://s.pstatic.net/static/newsstand/up/2022/1103/nsd124320554.png\"},\"showThumbnailView\":true,\"showListView\":true,\"regDate\":\"20241126 07:16:34\",\"_id\":null,\"@type\":\"PC-NEWSSTAND-PRESS-BLOCK\",\"@code\":null,\"@template\":\"NONE\",\"@flowId\":null,\"@flowExecutionId\":null,\"@provider\":null,\"@lastModifiedAt\":null},{\"@type\":\"PC-NEWSSTAND-PRESS-BLOCK\",\"blocks\":null,\"materials\":null,\"excludeInPaging\":false,\"positionForPaging\":0,\"realtime\":false,\"pid\":\"243\",\"name\":\"\\xec\\x9d\\xb4\\xec\\xbd\\x94\\xeb\\x85\\xb8\\xeb\\xaf\\xb8\\xec\\x8a\\xa4\\xed\\x8a\\xb8\",\"logoLight\":{\"url\":\"https://s.pstatic.net/static/newsstand/2020/logo/light/0604/243.png\"},\"logoDark\":{\"url\":\"https://s.pstatic.net/static/newsstand/2020/logo/dark/0604/243.png\"},\"showThumbnailView\":true,\"showListView\":true,\"regDate\":\"20241126 08:59:14\",\"_id\":null,\"@type\":\"PC-NEWSSTAND-PRESS-BLOCK\",\"@code\":null,\"@template\":\"NONE\",\"@flowId\":null,\"@flowExecutionId\":null,\"@provider\":null,\"@lastModifiedAt\":null},{\"@type\":\"PC-NEWSSTAND-PRESS-BLOCK\",\"blocks\":null,\"materials\":null,\"excludeInPaging\":false,\"positionForPaging\":0,\"realtime\":false,\"pid\":\"364\",\"name\":\"\\xeb\\x94\\x94\\xec\\xa7\\x80\\xed\\x84\\xb8\\xed\\x8f\\xac\\xec\\x8a\\xa4\\xed\\x8a\\xb8(PC\\xec\\x82\\xac\\xeb\\x9e\\x91)\",\"logoLight\":{\"url\":\"https://s.pstatic.net/static/newsstand/up/2024/1121/nsd174657186.png\"},\"logoDark\":{\"url\":\"https://s.pstatic.net/static/newsstand/up/2024/1121/nsd174650998.png\"},\"showThumbnailView\":true,\"showListView\":true,\"regDate\":\"20241126 10:23:16\",\"_id\":null,\"@type\":\"PC-NEWSSTAND-PRESS-BLOCK\",\"@code\":null,\"@template\":\"NONE\",\"@flowId\":null,\"@flowExecutionId\":null,\"@provider\":null,\"@lastModifiedAt\":null},{\"@type\":\"PC-NEWSSTAND-PRESS-BLOCK\",\"blocks\":null,\"materials\":null,\"excludeInPaging\":false,\"positionForPaging\":0,\"realtime\":false,\"pid\":\"002\",\"name\":\"\\xed\\x94\\x84\\xeb\\xa0\\x88\\xec\\x8b\\x9c\\xec\\x95\\x88\",\"logoLight\":{\"url\":\"https://s.pstatic.net/static/newsstand/2020/logo/light/0604/002.png\"},\"logoDark\":{\"url\":\"https://s.pstatic.net/static/newsstand/2020/logo/dark/0604/002.png\"},\"showThumbnailView\":true,\"showListView\":true,\"regDate\":\"20241126 10:02:42\",\"_id\":null,\"@type\":\"PC-NEWSSTAND-PRESS-BLOCK\",\"@code\":null,\"@template\":\"NONE\",\"@flowId\":null,\"@flowExecutionId\":null,\"@provider\":null,\"@lastModifiedAt\":null},{\"@type\":\"PC-NEWSSTAND-PRESS-BLOCK\",\"blocks\":null,\"materials\":null,\"excludeInPaging\":false,\"positionForPaging\":0,\"realtime\":false,\"pid\":\"123\",\"name\":\"\\xec\\xa1\\xb0\\xec\\x84\\xb8\\xec\\x9d\\xbc\\xeb\\xb3\\xb4\",\"logoLight\":{\"url\":\"https://s.pstatic.net/static/newsstand/2020/logo/light/0604/123.png\"},\"logoDark\":{\"url\":\"https://s.pstatic.net/static/newsstand/2020/logo/dark/0604/123.png\"},\"showThumbnailView\":true,\"showListView\":true,\"regDate\":\"20241126 10:20:08\",\"_id\":null,\"@type\":\"PC-NEWSSTAND-PRESS-BLOCK\",\"@code\":null,\"@template\":\"NONE\",\"@flowId\":null,\"@flowExecutionId\":null,\"@provider\":null,\"@lastModifiedAt\":null},{\"@type\":\"PC-NEWSSTAND-PRESS-BLOCK\",\"blocks\":null,\"materials\":null,\"excludeInPaging\":false,\"positionForPaging\":0,\"realtime\":false,\"pid\":\"003\",\"name\":\"\\xeb\\x89\\xb4\\xec\\x8b\\x9c\\xec\\x8a\\xa4\",\"logoLight\":{\"url\":\"https://s.pstatic.net/static/newsstand/up/2024/0731/nsd1419103.png\"},\"logoDark\":{\"url\":\"https://s.pstatic.net/static/newsstand/up/2024/0731/nsd141932398.png\"},\"showThumbnailView\":true,\"showListView\":true,\"regDate\":\"20241126 10:26:47\",\"_id\":null,\"@type\":\"PC-NEWSSTAND-PRESS-BLOCK\",\"@code\":null,\"@template\":\"NONE\",\"@flowId\":null,\"@flowExecutionId\":null,\"@provider\":null,\"@lastModifiedAt\":null},{\"@type\":\"PC-NEWSSTAND-PRESS-BLOCK\",\"blocks\":null,\"materials\":null,\"excludeInPaging\":false,\"positionForPaging\":0,\"realtime\":false,\"pid\":\"366\",\"name\":\"\\xec\\xa1\\xb0\\xec\\x84\\xa0\\xeb\\xb9\\x84\\xec\\xa6\\x88\",\"logoLight\":{\"url\":\"https://s.pstatic.net/static/newsstand/2020/logo/light/0604/366.png\"},\"logoDark\":{\"url\":\"https://s.pstatic.net/static/newsstand/2020/logo/dark/0604/366.png\"},\"showThumbnailView\":true,\"showListView\":true,\"regDate\":\"20241126 09:55:00\",\"_id\":null,\"@type\":\"PC-NEWSSTAND-PRESS-BLOCK\",\"@code\":null,\"@template\":\"NONE\",\"@flowId\":null,\"@flowExecutionId\":null,\"@provider\":null,\"@lastModifiedAt\":null},{\"@type\":\"PC-NEWSSTAND-PRESS-BLOCK\",\"blocks\":null,\"materials\":null,\"excludeInPaging\":false,\"positionForPaging\":0,\"realtime\":false,\"pid\":\"005\",\"name\":\"\\xea\\xb5\\xad\\xeb\\xaf\\xbc\\xec\\x9d\\xbc\\xeb\\xb3\\xb4\",\"logoLight\":{\"url\":\"https://s.pstatic.net/static/newsstand/2020/logo/light/0604/005.png\"},\"logoDark\":{\"url\":\"https://s.pstatic.net/static/newsstand/2020/logo/dark/0604/005.png\"},\"showThumbnailView\":true,\"showListView\":true,\"regDate\":\"20241126 10:14:07\",\"_id\":null,\"@type\":\"PC-NEWSSTAND-PRESS-BLOCK\",\"@code\":null,\"@template\":\"NONE\",\"@flowId\":null,\"@flowExecutionId\":null,\"@provider\":null,\"@lastModifiedAt\":null},{\"@type\":\"PC-NEWSSTAND-PRESS-BLOCK\",\"blocks\":null,\"materials\":null,\"excludeInPaging\":false,\"positionForPaging\":0,\"realtime\":false,\"pid\":\"368\",\"name\":\"\\xeb\\x8d\\xb0\\xec\\x9d\\xbc\\xeb\\xa6\\xac\\xec\\x95\\x88\",\"logoLight\":{\"url\":\"https://s.pstatic.net/static/newsstand/2020/logo/light/0604/368.png\"},\"logoDark\":{\"url\":\"https://s.pstatic.net/static/newsstand/2020/logo/dark/0604/368.png\"},\"showThumbnailView\":true,\"showListView\":true,\"regDate\":\"20241126 10:13:38\",\"_id\":null,\"@type\":\"PC-NEWSSTAND-PRESS-BLOCK\",\"@code\":null,\"@template\":\"NONE\",\"@flowId\":null,\"@flowExecutionId\":null,\"@provider\":null,\"@lastModifiedAt\":null},{\"@type\":\"PC-NEWSSTAND-PRESS-BLOCK\",\"blocks\":null,\"materials\":null,\"excludeInPaging\":false,\"positionForPaging\":0,\"realtime\":false,\"pid\":\"006\",\"name\":\"\\xeb\\xaf\\xb8\\xeb\\x94\\x94\\xec\\x96\\xb4\\xec\\x98\\xa4\\xeb\\x8a\\x98\",\"logoLight\":{\"url\":\"https://s.pstatic.net/static/newsstand/2020/logo/light/0604/006.png\"},\"logoDark\":{\"url\":\"https://s.pstatic.net/static/newsstand/2020/logo/dark/0604/006.png\"},\"showThumbnailView\":true,\"showListView\":true,\"regDate\":\"20241126 10:25:02\",\"_id\":null,\"@type\":\"PC-NEWSSTAND-PRESS-BLOCK\",\"@code\":null,\"@template\":\"NONE\",\"@flowId\":null,\"@flowExecutionId\":null,\"@provider\":null,\"@lastModifiedAt\":null},{\"@type\":\"PC-NEWSSTAND-PRESS-BLOCK\",\"blocks\":null,\"materials\":null,\"excludeInPaging\":false,\"positionForPaging\":0,\"realtime\":false,\"pid\":\"920\",\"name\":\"\\xec\\x95\\x84\\xec\\x8b\\x9c\\xec\\x95\\x84\\xed\\x88\\xac\\xeb\\x8d\\xb0\\xec\\x9d\\xb4\",\"logoLight\":{\"url\":\"https://s.pstatic.net/static/newsstand/2020/logo/light/0604/920.png\"},\"logoDark\":{\"url\":\"https://s.pstatic.net/static/newsstand/2020/logo/dark/0604/920.png\"},\"showThumbnailView\":true,\"showListView\":true,\"regDate\":\"20241126 10:31:13\",\"_id\":null,\"@type\":\"PC-NEWSSTAND-PRESS-BLOCK\",\"@code\":null,\"@template\":\"NONE\",\"@flowId\":null,\"@flowExecutionId\":null,\"@provider\":null,\"@lastModifiedAt\":null},{\"@type\":\"PC-NEWSSTAND-PRESS-BLOCK\",\"blocks\":null,\"materials\":null,\"excludeInPaging\":false,\"positionForPaging\":0,\"realtime\":false,\"pid\":\"008\",\"name\":\"\\xeb\\xa8\\xb8\\xeb\\x8b\\x88\\xed\\x88\\xac\\xeb\\x8d\\xb0\\xec\\x9d\\xb4\",\"logoLight\":{\"url\":\"https://s.pstatic.net/static/newsstand/2020/logo/light/0604/008.png\"},\"logoDark\":{\"url\":\"https://s.pstatic.net/static/newsstand/2020/logo/dark/0604/008.png\"},\"showThumbnailView\":true,\"showListView\":true,\"regDate\":\"20241126 10:25:06\",\"_id\":null,\"@type\":\"PC-NEWSSTAND-PRESS-BLOCK\",\"@code\":null,\"@template\":\"NONE\",\"@flowId\":null,\"@flowExecutionId\":null,\"@provider\":null,\"@lastModifiedAt\":null},{\"@type\":\"PC-NEWSSTAND-PRESS-BLOCK\",\"blocks\":null,\"materials\":null,\"excludeInPaging\":false,\"positionForPaging\":0,\"realtime\":false,\"pid\":\"921\",\"name\":\"\\xec\\x95\\x84\\xec\\xa3\\xbc\\xea\\xb2\\xbd\\xec\\xa0\\x9c\",\"logoLight\":{\"url\":\"https://s.pstatic.net/static/newsstand/up/2023/0731/nsd13387289.png\"},\"logoDark\":{\"url\":\"https://s.pstatic.net/static/newsstand/up/2023/0731/nsd133759965.png\"},\"showThumbnailView\":true,\"showListView\":true,\"regDate\":\"20241126 10:24:01\",\"_id\":null,\"@type\":\"PC-NEWSSTAND-PRESS-BLOCK\",\"@code\":null,\"@template\":\"NONE\",\"@flowId\":null,\"@flowExecutionId\":null,\"@provider\":null,\"@lastModifiedAt\":null},{\"@type\":\"PC-NEWSSTAND-PRESS-BLOCK\",\"blocks\":null,\"materials\":null,\"excludeInPaging\":false,\"positionForPaging\":0,\"realtime\":false,\"pid\":\"009\",\"name\":\"\\xeb\\xa7\\xa4\\xec\\x9d\\xbc\\xea\\xb2\\xbd\\xec\\xa0\\x9c\",\"logoLight\":{\"url\":\"https://s.pstatic.net/static/newsstand/2020/logo/light/0604/009.png\"},\"logoDark\":{\"url\":\"https://s.pstatic.net/static/newsstand/2020/logo/dark/0604/009.png\"},\"showThumbnailView\":true,\"showListView\":true,\"regDate\":\"20241126 10:25:09\",\"_id\":null,\"@type\":\"PC-NEWSSTAND-PRESS-BLOCK\",\"@code\":null,\"@template\":\"NONE\",\"@flowId\":null,\"@flowExecutionId\":null,\"@provider\":null,\"@lastModifiedAt\":null},{\"@type\":\"PC-NEWSSTAND-PRESS-BLOCK\",\"blocks\":null,\"materials\":null,\"excludeInPaging\":false,\"positionForPaging\":0,\"realtime\":false,\"pid\":\"801\",\"name\":\"\\xec\\x9c\\x84\\xed\\x82\\xa4\\xeb\\xa6\\xac\\xed\\x81\\xac\\xec\\x8a\\xa4\\xed\\x95\\x9c\\xea\\xb5\\xad\",\"logoLight\":{\"url\":\"https://s.pstatic.net/static/newsstand/2020/logo/light/0604/801.png\"},\"logoDark\":{\"url\":\"https://s.pstatic.net/static/newsstand/2020/logo/dark/0604/801.png\"},\"showThumbnailView\":true,\"showListView\":true,\"regDate\":\"20241126 10:20:09\",\"_id\":null,\"@type\":\"PC-NEWSSTAND-PRESS-BLOCK\",\"@code\":null,\"@template\":\"NONE\",\"@flowId\":null,\"@flowExecutionId\":null,\"@provider\":null,\"@lastModifiedAt\":null},{\"@type\":\"PC-NEWSSTAND-PRESS-BLOCK\",\"blocks\":null,\"materials\":null,\"excludeInPaging\":false,\"positionForPaging\":0,\"realtime\":false,\"pid\":\"922\",\"name\":\"\\xec\\x9d\\xb4\\xed\\x88\\xac\\xeb\\x8d\\xb0\\xec\\x9d\\xb4\",\"logoLight\":{\"url\":\"https://s.pstatic.net/static/newsstand/2020/logo/light/0604/922.png\"},\"logoDark\":{\"url\":\"https://s.pstatic.net/static/newsstand/2020/logo/dark/0604/922.png\"},\"showThumbnailView\":true,\"showListView\":true,\"regDate\":\"20241126 10:25:21\",\"_id\":null,\"@type\":\"PC-NEWSSTAND-PRESS-BLOCK\",\"@code\":null,\"@template\":\"NONE\",\"@flowId\":null,\"@flowExecutionId\":null,\"@provider\":null,\"@lastModifiedAt\":null},{\"@type\":\"PC-NEWSSTAND-PRESS-BLOCK\",\"blocks\":null,\"materials\":null,\"excludeInPaging\":false,\"positionForPaging\":0,\"realtime\":false,\"pid\":\"802\",\"name\":\"\\xec\\x8a\\xa4\\xed\\x8f\\xac\\xec\\xb8\\xa0Q\",\"logoLight\":{\"url\":\"https://s.pstatic.net/static/newsstand/2020/logo/light/0604/802.png\"},\"logoDark\":{\"url\":\"https://s.pstatic.net/static/newsstand/2020/logo/dark/0604/802.png\"},\"showThumbnailView\":true,\"showListView\":true,\"regDate\":\"20241126 10:20:10\",\"_id\":null,\"@type\":\"PC-NEWSSTAND-PRESS-BLOCK\",\"@code\":null,\"@template\":\"NONE\",\"@flowId\":null,\"@flowExecutionId\":null,\"@provider\":null,\"@lastModifiedAt\":null},{\"@type\":\"PC-NEWSSTAND-PRESS-BLOCK\",\"blocks\":null,\"materials\":null,\"excludeInPaging\":false,\"positionForPaging\":0,\"realtime\":false,\"pid\":\"923\",\"name\":\"\\xec\\x9d\\xb8\\xeb\\xaf\\xbc\\xeb\\xa7\\x9d\",\"logoLight\":{\"url\":\"https://s.pstatic.net/static/newsstand/2020/logo/light/0604/923.png\"},\"logoDark\":{\"url\":\"https://s.pstatic.net/static/newsstand/2020/logo/dark/0604/923.png\"},\"showThumbnailView\":true,\"showListView\":true,\"regDate\":\"20241125 18:30:02\",\"_id\":null,\"@type\":\"PC-NEWSSTAND-PRESS-BLOCK\",\"@code\":null,\"@template\":\"NONE\",\"@flowId\":null,\"@flowExecutionId\":null,\"@provider\":null,\"@lastModifiedAt\":null},{\"@type\":\"PC-NEWSSTAND-PRESS-BLOCK\",\"blocks\":null,\"materials\":null,\"excludeInPaging\":false,\"positionForPaging\":0,\"realtime\":false,\"pid\":\"803\",\"name\":\"\\xec\\x9d\\xb8\\xeb\\x8d\\x94\\xec\\x8a\\xa4\\xed\\x8a\\xb8\\xeb\\xa6\\xac\\xeb\\x89\\xb4\\xec\\x8a\\xa4\",\"logoLight\":{\"url\":\"https://s.pstatic.net/static/newsstand/up/2021/0907/nsd9423633.png\"},\"logoDark\":{\"url\":\"https://s.pstatic.net/static/newsstand/up/2021/0907/nsd94216114.png\"},\"showThumbnailView\":true,\"showListView\":true,\"regDate\":\"20241126 10:20:10\",\"_id\":null,\"@type\":\"PC-NEWSSTAND-PRESS-BLOCK\",\"@code\":null,\"@template\":\"NONE\",\"@flowId\":null,\"@flowExecutionId\":null,\"@provider\":null,\"@lastModifiedAt\":null},{\"@type\":\"PC-NEWSSTAND-PRESS-BLOCK\",\"blocks\":null,\"materials\":null,\"excludeInPaging\":false,\"positionForPaging\":0,\"realtime\":false,\"pid\":\"924\",\"name\":\"\\xec\\x9d\\xb8\\xeb\\xb2\\xa4\",\"logoLight\":{\"url\":\"https://s.pstatic.net/static/newsstand/2020/logo/light/0604/924.png\"},\"logoDark\":{\"url\":\"https://s.pstatic.net/static/newsstand/2020/logo/dark/0604/924.png\"},\"showThumbnailView\":true,\"showListView\":true,\"regDate\":\"20241125 17:05:05\",\"_id\":null,\"@type\":\"PC-NEWSSTAND-PRESS-BLOCK\",\"@code\":null,\"@template\":\"NONE\",\"@flowId\":null,\"@flowExecutionId\":null,\"@provider\":null,\"@lastModifiedAt\":null},{\"@type\":\"PC-NEWSSTAND-PRESS-BLOCK\",\"blocks\":null,\"materials\":null,\"excludeInPaging\":false,\"positionForPaging\":0,\"realtime\":false,\"pid\":\"804\",\"name\":\"\\xeb\\x8d\\xb0\\xec\\x9d\\xb4\\xed\\x84\\xb0\\xeb\\x89\\xb4\\xec\\x8a\\xa4\",\"logoLight\":{\"url\":\"https://s.pstatic.net/static/newsstand/2020/logo/light/0604/804.png\"},\"logoDark\":{\"url\":\"https://s.pstatic.net/static/newsstand/2020/logo/dark/0604/804.png\"},\"showThumbnailView\":true,\"showListView\":true,\"regDate\":\"20241126 09:45:03\",\"_id\":null,\"@type\":\"PC-NEWSSTAND-PRESS-BLOCK\",\"@code\":null,\"@template\":\"NONE\",\"@flowId\":null,\"@flowExecutionId\":null,\"@provider\":null,\"@lastModifiedAt\":null},{\"@type\":\"PC-NEWSSTAND-PRESS-BLOCK\",\"blocks\":null,\"materials\":null,\"excludeInPaging\":false,\"positionForPaging\":0,\"realtime\":false,\"pid\":\"925\",\"name\":\"\\xec\\x9d\\xbc\\xec\\x9a\\x94\\xec\\x8b\\xa0\\xeb\\xac\\xb8\",\"logoLight\":{\"url\":\"https://s.pstatic.net/static/newsstand/2020/logo/light/0604/925.png\"},\"logoDark\":{\"url\":\"https://s.pstatic.net/static/newsstand/2020/logo/dark/0604/925.png\"},\"showThumbnailView\":true,\"showListView\":true,\"regDate\":\"20241126 09:54:59\",\"_id\":null,\"@type\":\"PC-NEWSSTAND-PRESS-BLOCK\",\"@code\":null,\"@template\":\"NONE\",\"@flowId\":null,\"@flowExecutionId\":null,\"@provider\":null,\"@lastModifiedAt\":null},{\"@type\":\"PC-NEWSSTAND-PRESS-BLOCK\",\"blocks\":null,\"materials\":null,\"excludeInPaging\":false,\"positionForPaging\":0,\"realtime\":false,\"pid\":\"805\",\"name\":\"\\xed\\x95\\x9c\\xea\\xb2\\xbd\\xec\\x9e\\xa1\\xec\\x95\\xa4\\xec\\xa1\\xb0\\xec\\x9d\\xb4\",\"logoLight\":{\"url\":\"https://s.pstatic.net/static/newsstand/up/2020/0615/nsd10319824.png\"},\"logoDark\":{\"url\":\"https://s.pstatic.net/static/newsstand/up/2020/0615/nsd10311145.png\"},\"showThumbnailView\":true,\"showListView\":true,\"regDate\":\"20241126 09:55:34\",\"_id\":null,\"@type\":\"PC-NEWSSTAND-PRESS-BLOCK\",\"@code\":null,\"@template\":\"NONE\",\"@flowId\":null,\"@flowExecutionId\":null,\"@provider\":null,\"@lastModifiedAt\":null},{\"@type\":\"PC-NEWSSTAND-PRESS-BLOCK\",\"blocks\":null,\"materials\":null,\"excludeInPaging\":false,\"positionForPaging\":0,\"realtime\":false,\"pid\":\"926\",\"name\":\"\\xec\\xa4\\x91\\xeb\\xb6\\x80\\xec\\x9d\\xbc\\xeb\\xb3\\xb4\",\"logoLight\":{\"url\":\"https://s.pstatic.net/static/newsstand/up/2022/0704/nsd231551300.png\"},\"logoDark\":{\"url\":\"https://s.pstatic.net/static/newsstand/up/2022/0704/nsd231545458.png\"},\"showThumbnailView\":true,\"showListView\":true,\"regDate\":\"20241126 10:24:01\",\"_id\":null,\"@type\":\"PC-NEWSSTAND-PRESS-BLOCK\",\"@code\":null,\"@template\":\"NONE\",\"@flowId\":null,\"@flowExecutionId\":null,\"@provider\":null,\"@lastModifiedAt\":null},{\"@type\":\"PC-NEWSSTAND-PRESS-BLOCK\",\"blocks\":null,\"materials\":null,\"excludeInPaging\":false,\"positionForPaging\":0,\"realtime\":false,\"pid\":\"806\",\"name\":\"\\xed\\x95\\x9c\\xea\\xb2\\xbd\\xeb\\xa8\\xb8\\xeb\\x8b\\x88\",\"logoLight\":{\"url\":\"https://s.pstatic.net/static/newsstand/up/2024/0531/nsd115428801.png\"},\"logoDark\":{\"url\":\"https://s.pstatic.net/static/newsstand/up/2024/0531/nsd115449376.png\"},\"showThumbnailView\":true,\"showListView\":true,\"regDate\":\"20241126 09:32:03\",\"_id\":null,\"@type\":\"PC-NEWSSTAND-PRESS-BLOCK\",\"@code\":null,\"@template\":\"NONE\",\"@flowId\":null,\"@flowExecutionId\":null,\"@provider\":null,\"@lastModifiedAt\":null},{\"@type\":\"PC-NEWSSTAND-PRESS-BLOCK\",\"blocks\":null,\"materials\":null,\"excludeInPaging\":false,\"positionForPaging\":0,\"realtime\":false,\"pid\":\"927\",\"name\":\"\\xec\\xb6\\xa9\\xeb\\xb6\\x81\\xec\\x9d\\xbc\\xeb\\xb3\\xb4\",\"logoLight\":{\"url\":\"https://s.pstatic.net/static/newsstand/2020/logo/light/0604/927.png\"},\"logoDark\":{\"url\":\"https://s.pstatic.net/static/newsstand/2020/logo/dark/0604/927.png\"},\"showThumbnailView\":true,\"showListView\":true,\"regDate\":\"20241125 18:19:24\",\"_id\":null,\"@type\":\"PC-NEWSSTAND-PRESS-BLOCK\",\"@code\":null,\"@template\":\"NONE\",\"@flowId\":null,\"@flowExecutionId\":null,\"@provider\":null,\"@lastModifiedAt\":null},{\"@type\":\"PC-NEWSSTAND-PRESS-BLOCK\",\"blocks\":null,\"materials\":null,\"excludeInPaging\":false,\"positionForPaging\":0,\"realtime\":false,\"pid\":\"807\",\"name\":\"\\xec\\x9d\\xb8\\xec\\x82\\xac\\xec\\x9d\\xb4\\xed\\x8a\\xb8\\xec\\xbd\\x94\\xeb\\xa6\\xac\\xec\\x95\\x84\",\"logoLight\":{\"url\":\"https://s.pstatic.net/static/newsstand/2020/logo/light/0604/807.png\"},\"logoDark\":{\"url\":\"https://s.pstatic.net/static/newsstand/2020/logo/dark/0604/807.png\"},\"showThumbnailView\":true,\"showListView\":true,\"regDate\":\"20241126 10:20:27\",\"_id\":null,\"@type\":\"PC-NEWSSTAND-PRESS-BLOCK\",\"@code\":null,\"@template\":\"NONE\",\"@flowId\":null,\"@flowExecutionId\":null,\"@provider\":null,\"@lastModifiedAt\":null},{\"@type\":\"PC-NEWSSTAND-PRESS-BLOCK\",\"blocks\":null,\"materials\":null,\"excludeInPaging\":false,\"positionForPaging\":0,\"realtime\":false,\"pid\":\"928\",\"name\":\"\\xec\\xbb\\xb4\\xed\\x93\\xa8\\xed\\x84\\xb0\\xec\\x9b\\x94\\xeb\\x93\\x9c\",\"logoLight\":{\"url\":\"https://s.pstatic.net/static/newsstand/2020/logo/light/0604/928.png\"},\"logoDark\":{\"url\":\"https://s.pstatic.net/static/newsstand/2020/logo/dark/0604/928.png\"},\"showThumbnailView\":true,\"showListView\":true,\"regDate\":\"20241101 00:58:47\",\"_id\":null,\"@type\":\"PC-NEWSSTAND-PRESS-BLOCK\",\"@code\":null,\"@template\":\"NONE\",\"@flowId\":null,\"@flowExecutionId\":null,\"@provider\":null,\"@lastModifiedAt\":null},{\"@type\":\"PC-NEWSSTAND-PRESS-BLOCK\",\"blocks\":null,\"materials\":null,\"excludeInPaging\":false,\"positionForPaging\":0,\"realtime\":false,\"pid\":\"808\",\"name\":\"\\xec\\x82\\xb0\\xec\\x97\\x85\\xec\\x9d\\xbc\\xeb\\xb3\\xb4\",\"logoLight\":{\"url\":\"https://s.pstatic.net/static/newsstand/2020/logo/light/0604/808.png\"},\"logoDark\":{\"url\":\"https://s.pstatic.net/static/newsstand/2020/logo/dark/0604/808.png\"},\"showThumbnailView\":true,\"showListView\":true,\"regDate\":\"20241126 10:24:04\",\"_id\":null,\"@type\":\"PC-NEWSSTAND-PRESS-BLOCK\",\"@code\":null,\"@template\":\"NONE\",\"@flowId\":null,\"@flowExecutionId\":null,\"@provider\":null,\"@lastModifiedAt\":null},{\"@type\":\"PC-NEWSSTAND-PRESS-BLOCK\",\"blocks\":null,\"materials\":null,\"excludeInPaging\":false,\"positionForPaging\":0,\"realtime\":false,\"pid\":\"809\",\"name\":\"\\xeb\\xaf\\xb8\\xeb\\x94\\x94\\xec\\x96\\xb4\\xed\\x8e\\x9c\",\"logoLight\":{\"url\":\"https://s.pstatic.net/static/newsstand/2020/logo/light/0604/809.png\"},\"logoDark\":{\"url\":\"https://s.pstatic.net/static/newsstand/2020/logo/dark/0604/809.png\"},\"showThumbnailView\":true,\"showListView\":true,\"regDate\":\"20241126 10:31:35\",\"_id\":null,\"@type\":\"PC-NEWSSTAND-PRESS-BLOCK\",\"@code\":null,\"@template\":\"NONE\",\"@flowId\":null,\"@flowExecutionId\":null,\"@provider\":null,\"@lastModifiedAt\":null},{\"@type\":\"PC-NEWSSTAND-PRESS-BLOCK\",\"blocks\":null,\"materials\":null,\"excludeInPaging\":false,\"positionForPaging\":0,\"realtime\":false,\"pid\":\"011\",\"name\":\"\\xec\\x84\\x9c\\xec\\x9a\\xb8\\xea\\xb2\\xbd\\xec\\xa0\\x9c\",\"logoLight\":{\"url\":\"https://s.pstatic.net/static/newsstand/2019/logo/011.png\"},\"logoDark\":{\"url\":\"https://s.pstatic.net/static/newsstand/2020/logo/dark/0604/011.png\"},\"showThumbnailView\":true,\"showListView\":true,\"regDate\":\"20241126 09:56:40\",\"_id\":null,\"@type\":\"PC-NEWSSTAND-PRESS-BLOCK\",\"@code\":null,\"@template\":\"NONE\",\"@flowId\":null,\"@flowExecutionId\":null,\"@provider\":null,\"@lastModifiedAt\":null},{\"@type\":\"PC-NEWSSTAND-PRESS-BLOCK\",\"blocks\":null,\"materials\":null,\"excludeInPaging\":false,\"positionForPaging\":0,\"realtime\":false,\"pid\":\"374\",\"name\":\"SBS Biz\",\"logoLight\":{\"url\":\"https://s.pstatic.net/static/newsstand/up/2020/1229/nsd165811867.png\"},\"logoDark\":{\"url\":\"https://s.pstatic.net/static/newsstand/up/2020/1229/nsd165811867.png\"},\"showThumbnailView\":true,\"showListView\":true,\"regDate\":\"20241126 10:07:22\",\"_id\":null,\"@type\":\"PC-NEWSSTAND-PRESS-BLOCK\",\"@code\":null,\"@template\":\"NONE\",\"@flowId\":null,\"@flowExecutionId\":null,\"@provider\":null,\"@lastModifiedAt\":null},{\"@type\":\"PC-NEWSSTAND-PRESS-BLOCK\",\"blocks\":null,\"materials\":null,\"excludeInPaging\":false,\"positionForPaging\":0,\"realtime\":false,\"pid\":\"013\",\"name\":\"\\xec\\x97\\xb0\\xed\\x95\\xa9\\xec\\x9d\\xb8\\xed\\x8f\\xac\\xeb\\xa7\\xa5\\xec\\x8a\\xa4\",\"logoLight\":{\"url\":\"https://s.pstatic.net/static/newsstand/2020/logo/light/0604/013.png\"},\"logoDark\":{\"url\":\"https://s.pstatic.net/static/newsstand/2020/logo/dark/0604/013.png\"},\"showThumbnailView\":true,\"showListView\":true,\"regDate\":\"20241126 10:21:08\",\"_id\":null,\"@type\":\"PC-NEWSSTAND-PRESS-BLOCK\",\"@code\":null,\"@template\":\"NONE\",\"@flowId\":null,\"@flowExecutionId\":null,\"@provider\":null,\"@lastModifiedAt\":null},{\"@type\":\"PC-NEWSSTAND-PRESS-BLOCK\",\"blocks\":null,\"materials\":null,\"excludeInPaging\":false,\"positionForPaging\":0,\"realtime\":false,\"pid\":\"376\",\"name\":\"\\xec\\xa7\\x80\\xec\\xa7\\x80\\xed\\x86\\xb5\\xec\\x8b\\xa0\",\"logoLight\":{\"url\":\"https://s.pstatic.net/static/newsstand/2020/logo/light/0604/376.png\"},\"logoDark\":{\"url\":\"https://s.pstatic.net/static/newsstand/2020/logo/dark/0604/376.png\"},\"showThumbnailView\":true,\"showListView\":true,\"regDate\":\"20241126 10:10:03\",\"_id\":null,\"@type\":\"PC-NEWSSTAND-PRESS-BLOCK\",\"@code\":null,\"@template\":\"NONE\",\"@flowId\":null,\"@flowExecutionId\":null,\"@provider\":null,\"@lastModifiedAt\":null},{\"@type\":\"PC-NEWSSTAND-PRESS-BLOCK\",\"blocks\":null,\"materials\":null,\"excludeInPaging\":false,\"positionForPaging\":0,\"realtime\":false,\"pid\":\"014\",\"name\":\"\\xed\\x8c\\x8c\\xec\\x9d\\xb4\\xeb\\x82\\xb8\\xec\\x85\\x9c\\xeb\\x89\\xb4\\xec\\x8a\\xa4\",\"logoLight\":{\"url\":\"https://s.pstatic.net/static/newsstand/2020/logo/light/0604/014.png\"},\"logoDark\":{\"url\":\"https://s.pstatic.net/static/newsstand/2020/logo/dark/0604/014.png\"},\"showThumbnailView\":true,\"showListView\":true,\"regDate\":\"20241126 10:12:22\",\"_id\":null,\"@type\":\"PC-NEWSSTAND-PRESS-BLOCK\",\"@code\":null,\"@template\":\"NONE\",\"@flowId\":null,\"@flowExecutionId\":null,\"@provider\":null,\"@lastModifiedAt\":null},{\"@type\":\"PC-NEWSSTAND-PRESS-BLOCK\",\"blocks\":null,\"materials\":null,\"excludeInPaging\":false,\"positionForPaging\":0,\"realtime\":false,\"pid\":\"135\",\"name\":\"\\xec\\x8b\\x9c\\xec\\x82\\xac\\xec\\xa0\\x80\\xeb\\x84\\x90\",\"logoLight\":{\"url\":\"https://s.pstatic.net/static/newsstand/2020/logo/light/0604/135.png\"},\"logoDark\":{\"url\":\"https://s.pstatic.net/static/newsstand/2020/logo/dark/0604/135.png\"},\"showThumbnailView\":true,\"showListView\":true,\"regDate\":\"20241126 10:20:07\",\"_id\":null,\"@type\":\"PC-NEWSSTAND-PRESS-BLOCK\",\"@code\":null,\"@template\":\"NONE\",\"@flowId\":null,\"@flowExecutionId\":null,\"@provider\":null,\"@lastModifiedAt\":null},{\"@type\":\"PC-NEWSSTAND-PRESS-BLOCK\",\"blocks\":null,\"materials\":null,\"excludeInPaging\":false,\"positionForPaging\":0,\"realtime\":false,\"pid\":\"015\",\"name\":\"\\xed\\x95\\x9c\\xea\\xb5\\xad\\xea\\xb2\\xbd\\xec\\xa0\\x9c\",\"logoLight\":{\"url\":\"https://s.pstatic.net/static/newsstand/2020/logo/light/0604/015.png\"},\"logoDark\":{\"url\":\"https://s.pstatic.net/static/newsstand/2020/logo/dark/0604/015.png\"},\"showThumbnailView\":true,\"showListView\":true,\"regDate\":\"20241126 10:08:47\",\"_id\":null,\"@type\":\"PC-NEWSSTAND-PRESS-BLOCK\",\"@code\":null,\"@template\":\"NONE\",\"@flowId\":null,\"@flowExecutionId\":null,\"@provider\":null,\"@lastModifiedAt\":null},{\"@type\":\"PC-NEWSSTAND-PRESS-BLOCK\",\"blocks\":null,\"materials\":null,\"excludeInPaging\":false,\"positionForPaging\":0,\"realtime\":false,\"pid\":\"016\",\"name\":\"\\xed\\x97\\xa4\\xeb\\x9f\\xb4\\xeb\\x93\\x9c\\xea\\xb2\\xbd\\xec\\xa0\\x9c\",\"logoLight\":{\"url\":\"https://s.pstatic.net/static/newsstand/2020/logo/light/0604/016.png\"},\"logoDark\":{\"url\":\"https://s.pstatic.net/static/newsstand/2020/logo/dark/0604/016.png\"},\"showThumbnailView\":true,\"showListView\":true,\"regDate\":\"20241126 09:32:05\",\"_id\":null,\"@type\":\"PC-NEWSSTAND-PRESS-BLOCK\",\"@code\":null,\"@template\":\"NONE\",\"@flowId\":null,\"@flowExecutionId\":null,\"@provider\":null,\"@lastModifiedAt\":null},{\"@type\":\"PC-NEWSSTAND-PRESS-BLOCK\",\"blocks\":null,\"materials\":null,\"excludeInPaging\":false,\"positionForPaging\":0,\"realtime\":false,\"pid\":\"138\",\"name\":\"\\xeb\\x94\\x94\\xec\\xa7\\x80\\xed\\x84\\xb8\\xeb\\x8d\\xb0\\xec\\x9d\\xbc\\xeb\\xa6\\xac\",\"logoLight\":{\"url\":\"https://s.pstatic.net/static/newsstand/2020/logo/light/0604/138.png\"},\"logoDark\":{\"url\":\"https://s.pstatic.net/static/newsstand/2020/logo/dark/0604/138.png\"},\"showThumbnailView\":true,\"showListView\":true,\"regDate\":\"20241125 17:14:31\",\"_id\":null,\"@type\":\"PC-NEWSSTAND-PRESS-BLOCK\",\"@code\":null,\"@template\":\"NONE\",\"@flowId\":null,\"@flowExecutionId\":null,\"@provider\":null,\"@lastModifiedAt\":null},{\"@type\":\"PC-NEWSSTAND-PRESS-BLOCK\",\"blocks\":null,\"materials\":null,\"excludeInPaging\":false,\"positionForPaging\":0,\"realtime\":false,\"pid\":\"930\",\"name\":\"\\xeb\\x89\\xb4\\xec\\x8a\\xa4\\xed\\x83\\x80\\xed\\x8c\\x8c\",\"logoLight\":{\"url\":\"https://s.pstatic.net/static/newsstand/2020/logo/light/0604/930.png\"},\"logoDark\":{\"url\":\"https://s.pstatic.net/static/newsstand/2020/logo/dark/0604/930.png\"},\"showThumbnailView\":true,\"showListView\":true,\"regDate\":\"20241126 10:31:20\",\"_id\":null,\"@type\":\"PC-NEWSSTAND-PRESS-BLOCK\",\"@code\":null,\"@template\":\"NONE\",\"@flowId\":null,\"@flowExecutionId\":null,\"@provider\":null,\"@lastModifiedAt\":null},{\"@type\":\"PC-NEWSSTAND-PRESS-BLOCK\",\"blocks\":null,\"materials\":null,\"excludeInPaging\":false,\"positionForPaging\":0,\"realtime\":false,\"pid\":\"018\",\"name\":\"\\xec\\x9d\\xb4\\xeb\\x8d\\xb0\\xec\\x9d\\xbc\\xeb\\xa6\\xac\",\"logoLight\":{\"url\":\"https://s.pstatic.net/static/newsstand/2020/logo/light/0604/018.png\"},\"logoDark\":{\"url\":\"https://s.pstatic.net/static/newsstand/2020/logo/dark/0604/018.png\"},\"showThumbnailView\":true,\"showListView\":true,\"regDate\":\"20241126 10:19:42\",\"_id\":null,\"@type\":\"PC-NEWSSTAND-PRESS-BLOCK\",\"@code\":null,\"@template\":\"NONE\",\"@flowId\":null,\"@flowExecutionId\":null,\"@provider\":null,\"@lastModifiedAt\":null},{\"@type\":\"PC-NEWSSTAND-PRESS-BLOCK\",\"blocks\":null,\"materials\":null,\"excludeInPaging\":false,\"positionForPaging\":0,\"realtime\":false,\"pid\":\"139\",\"name\":\"\\xec\\x8a\\xa4\\xed\\x8f\\xac\\xed\\x83\\x88\\xec\\xbd\\x94\\xeb\\xa6\\xac\\xec\\x95\\x84\",\"logoLight\":{\"url\":\"https://s.pstatic.net/static/newsstand/2020/logo/light/0604/139.png\"},\"logoDark\":{\"url\":\"https://s.pstatic.net/static/newsstand/2020/logo/dark/0604/139.png\"},\"showThumbnailView\":true,\"showListView\":true,\"regDate\":\"20241124 22:22:25\",\"_id\":null,\"@type\":\"PC-NEWSSTAND-PRESS-BLOCK\",\"@code\":null,\"@template\":\"NONE\",\"@flowId\":null,\"@flowExecutionId\":null,\"@provider\":null,\"@lastModifiedAt\":null},{\"@type\":\"PC-NEWSSTAND-PRESS-BLOCK\",\"blocks\":null,\"materials\":null,\"excludeInPaging\":false,\"positionForPaging\":0,\"realtime\":false,\"pid\":\"810\",\"name\":\"\\xec\\x8b\\xa0\\xec\\x95\\x84\\xec\\x9d\\xbc\\xeb\\xb3\\xb4\",\"logoLight\":{\"url\":\"https://s.pstatic.net/static/newsstand/up/2021/0316/nsd103953129.png\"},\"logoDark\":{\"url\":\"https://s.pstatic.net/static/newsstand/up/2021/0316/nsd104012979.png\"},\"showThumbnailView\":true,\"showListView\":true,\"regDate\":\"20241126 10:20:11\",\"_id\":null,\"@type\":\"PC-NEWSSTAND-PRESS-BLOCK\",\"@code\":null,\"@template\":\"NONE\",\"@flowId\":null,\"@flowExecutionId\":null,\"@provider\":null,\"@lastModifiedAt\":null},{\"@type\":\"PC-NEWSSTAND-PRESS-BLOCK\",\"blocks\":null,\"materials\":null,\"excludeInPaging\":false,\"positionForPaging\":0,\"realtime\":false,\"pid\":\"811\",\"name\":\"\\xed\\x95\\x9c\\xea\\xb5\\xad\\xeb\\x86\\x8d\\xec\\x96\\xb4\\xec\\xb4\\x8c\\xeb\\xb0\\xa9\\xec\\x86\\xa1\",\"logoLight\":{\"url\":\"https://s.pstatic.net/static/newsstand/up/2022/0315/nsd181452869.png\"},\"logoDark\":{\"url\":\"https://s.pstatic.net/static/newsstand/up/2022/0315/nsd18156958.png\"},\"showThumbnailView\":true,\"showListView\":true,\"regDate\":\"20241126 10:20:28\",\"_id\":null,\"@type\":\"PC-NEWSSTAND-PRESS-BLOCK\",\"@code\":null,\"@template\":\"NONE\",\"@flowId\":null,\"@flowExecutionId\":null,\"@provider\":null,\"@lastModifiedAt\":null},{\"@type\":\"PC-NEWSSTAND-PRESS-BLOCK\",\"blocks\":null,\"materials\":null,\"excludeInPaging\":false,\"positionForPaging\":0,\"realtime\":false,\"pid\":\"932\",\"name\":\"CEO\\xec\\x8a\\xa4\\xec\\xbd\\x94\\xec\\x96\\xb4\\xeb\\x8d\\xb0\\xec\\x9d\\xbc\\xeb\\xa6\\xac\",\"logoLight\":{\"url\":\"https://s.pstatic.net/static/newsstand/2020/logo/light/0604/932.png\"},\"logoDark\":{\"url\":\"https://s.pstatic.net/static/newsstand/2020/logo/dark/0604/932.png\"},\"showThumbnailView\":true,\"showListView\":true,\"regDate\":\"20241126 07:04:35\",\"_id\":null,\"@type\":\"PC-NEWSSTAND-PRESS-BLOCK\",\"@code\":null,\"@template\":\"NONE\",\"@flowId\":null,\"@flowExecutionId\":null,\"@provider\":null,\"@lastModifiedAt\":null},{\"@type\":\"PC-NEWSSTAND-PRESS-BLOCK\",\"blocks\":null,\"materials\":null,\"excludeInPaging\":false,\"positionForPaging\":0,\"realtime\":false,\"pid\":\"812\",\"name\":\"\\xeb\\x94\\x9c\\xec\\x82\\xac\\xec\\x9d\\xb4\\xed\\x8a\\xb8 \\xea\\xb2\\xbd\\xec\\xa0\\x9cTV\",\"logoLight\":{\"url\":\"https://s.pstatic.net/static/newsstand/up/2024/0701/nsd105216680.png\"},\"logoDark\":{\"url\":\"https://s.pstatic.net/static/newsstand/up/2024/0701/nsd10529721.png\"},\"showThumbnailView\":true,\"showListView\":true,\"regDate\":\"20241126 10:20:29\",\"_id\":null,\"@type\":\"PC-NEWSSTAND-PRESS-BLOCK\",\"@code\":null,\"@template\":\"NONE\",\"@flowId\":null,\"@flowExecutionId\":null,\"@provider\":null,\"@lastModifiedAt\":null},{\"@type\":\"PC-NEWSSTAND-PRESS-BLOCK\",\"blocks\":null,\"materials\":null,\"excludeInPaging\":false,\"positionForPaging\":0,\"realtime\":false,\"pid\":\"813\",\"name\":\"\\xec\\x9d\\xb4\\xec\\xbd\\x94\\xeb\\x85\\xb8\\xeb\\xaf\\xb9\\xeb\\xa6\\xac\\xeb\\xb7\\xb0\",\"logoLight\":{\"url\":\"https://s.pstatic.net/static/newsstand/up/2022/0418/nsd164755323.png\"},\"logoDark\":{\"url\":\"https://s.pstatic.net/static/newsstand/up/2022/0418/nsd164818946.png\"},\"showThumbnailView\":true,\"showListView\":true,\"regDate\":\"20241126 10:20:30\",\"_id\":null,\"@type\":\"PC-NEWSSTAND-PRESS-BLOCK\",\"@code\":null,\"@template\":\"NONE\",\"@flowId\":null,\"@flowExecutionId\":null,\"@provider\":null,\"@lastModifiedAt\":null},{\"@type\":\"PC-NEWSSTAND-PRESS-BLOCK\",\"blocks\":null,\"materials\":null,\"excludeInPaging\":false,\"positionForPaging\":0,\"realtime\":false,\"pid\":\"934\",\"name\":\"Arirang TV\",\"logoLight\":{\"url\":\"https://s.pstatic.net/static/newsstand/2020/logo/light/0604/934.png\"},\"logoDark\":{\"url\":\"https://s.pstatic.net/static/newsstand/2020/logo/dark/0604/934.png\"},\"showThumbnailView\":true,\"showListView\":true,\"regDate\":\"20241125 22:01:45\",\"_id\":null,\"@type\":\"PC-NEWSSTAND-PRESS-BLOCK\",\"@code\":null,\"@template\":\"NONE\",\"@flowId\":null,\"@flowExecutionId\":null,\"@provider\":null,\"@lastModifiedAt\":null},{\"@type\":\"PC-NEWSSTAND-PRESS-BLOCK\",\"blocks\":null,\"materials\":null,\"excludeInPaging\":false,\"positionForPaging\":0,\"realtime\":false,\"pid\":\"814\",\"name\":\"\\xeb\\xaf\\xb8\\xec\\xa3\\xbc\\xed\\x95\\x9c\\xea\\xb5\\xad\\xec\\x9d\\xbc\\xeb\\xb3\\xb4\",\"logoLight\":{\"url\":\"https://s.pstatic.net/static/newsstand/2020/logo/light/0604/814.png\"},\"logoDark\":{\"url\":\"https://s.pstatic.net/static/newsstand/2020/logo/dark/0604/814.png\"},\"showThumbnailView\":true,\"showListView\":true,\"regDate\":\"20241126 10:23:29\",\"_id\":null,\"@type\":\"PC-NEWSSTAND-PRESS-BLOCK\",\"@code\":null,\"@template\":\"NONE\",\"@flowId\":null,\"@flowExecutionId\":null,\"@provider\":null,\"@lastModifiedAt\":null},{\"@type\":\"PC-NEWSSTAND-PRESS-BLOCK\",\"blocks\":null,\"materials\":null,\"excludeInPaging\":false,\"positionForPaging\":0,\"realtime\":false,\"pid\":\"935\",\"name\":\"\\xea\\xb2\\xbd\\xec\\x83\\x81\\xec\\x9d\\xbc\\xeb\\xb3\\xb4\",\"logoLight\":{\"url\":\"https://s.pstatic.net/static/newsstand/2020/logo/light/0604/935.png\"},\"logoDark\":{\"url\":\"https://s.pstatic.net/static/newsstand/2020/logo/dark/0604/935.png\"},\"showThumbnailView\":true,\"showListView\":true,\"regDate\":\"20241126 00:14:10\",\"_id\":null,\"@type\":\"PC-NEWSSTAND-PRESS-BLOCK\",\"@code\":null,\"@template\":\"NONE\",\"@flowId\":null,\"@flowExecutionId\":null,\"@provider\":null,\"@lastModifiedAt\":null},{\"@type\":\"PC-NEWSSTAND-PRESS-BLOCK\",\"blocks\":null,\"materials\":null,\"excludeInPaging\":false,\"positionForPaging\":0,\"realtime\":false,\"pid\":\"815\",\"name\":\"\\xeb\\xb2\\x95\\xeb\\xa5\\xa0\\xeb\\xb0\\xa9\\xec\\x86\\xa1\\xeb\\x89\\xb4\\xec\\x8a\\xa4\",\"logoLight\":{\"url\":\"https://s.pstatic.net/static/newsstand/2020/logo/light/0604/815.png\"},\"logoDark\":{\"url\":\"https://s.pstatic.net/static/newsstand/2020/logo/dark/0604/815.png\"},\"showThumbnailView\":true,\"showListView\":true,\"regDate\":\"20241126 10:20:29\",\"_id\":null,\"@type\":\"PC-NEWSSTAND-PRESS-BLOCK\",\"@code\":null,\"@template\":\"NONE\",\"@flowId\":null,\"@flowExecutionId\":null,\"@provider\":null,\"@lastModifiedAt\":null},{\"@type\":\"PC-NEWSSTAND-PRESS-BLOCK\",\"blocks\":null,\"materials\":null,\"excludeInPaging\":false,\"positionForPaging\":0,\"realtime\":false,\"pid\":\"936\",\"name\":\"\\xeb\\x8c\\x80\\xea\\xb5\\xac\\xec\\x9d\\xbc\\xeb\\xb3\\xb4\",\"logoLight\":{\"url\":\"https://s.pstatic.net/static/newsstand/2020/logo/light/0604/936.png\"},\"logoDark\":{\"url\":\"https://s.pstatic.net/static/newsstand/2020/logo/dark/0604/936.png\"},\"showThumbnailView\":true,\"showListView\":true,\"regDate\":\"20241126 10:23:16\",\"_id\":null,\"@type\":\"PC-NEWSSTAND-PRESS-BLOCK\",\"@code\":null,\"@template\":\"NONE\",\"@flowId\":null,\"@flowExecutionId\":null,\"@provider\":null,\"@lastModifiedAt\":null},{\"@type\":\"PC-NEWSSTAND-PRESS-BLOCK\",\"blocks\":null,\"materials\":null,\"excludeInPaging\":false,\"positionForPaging\":0,\"realtime\":false,\"pid\":\"816\",\"name\":\"\\xec\\x8b\\x9c\\xec\\x82\\xac\\xec\\x98\\xa4\\xeb\\x8a\\x98\",\"logoLight\":{\"url\":\"https://s.pstatic.net/static/newsstand/2020/logo/light/0604/816.png\"},\"logoDark\":{\"url\":\"https://s.pstatic.net/static/newsstand/2020/logo/dark/0604/816.png\"},\"showThumbnailView\":true,\"showListView\":true,\"regDate\":\"20241126 10:20:31\",\"_id\":null,\"@type\":\"PC-NEWSSTAND-PRESS-BLOCK\",\"@code\":null,\"@template\":\"NONE\",\"@flowId\":null,\"@flowExecutionId\":null,\"@provider\":null,\"@lastModifiedAt\":null},{\"@type\":\"PC-NEWSSTAND-PRESS-BLOCK\",\"blocks\":null,\"materials\":null,\"excludeInPaging\":false,\"positionForPaging\":0,\"realtime\":false,\"pid\":\"937\",\"name\":\"\\xec\\xa0\\x84\\xeb\\xb6\\x81\\xeb\\x8f\\x84\\xeb\\xaf\\xbc\\xec\\x9d\\xbc\\xeb\\xb3\\xb4\",\"logoLight\":{\"url\":\"https://s.pstatic.net/static/newsstand/2020/logo/light/0604/937.png\"},\"logoDark\":{\"url\":\"https://s.pstatic.net/static/newsstand/2020/logo/dark/0604/937.png\"},\"showThumbnailView\":true,\"showListView\":true,\"regDate\":\"20241125 20:35:33\",\"_id\":null,\"@type\":\"PC-NEWSSTAND-PRESS-BLOCK\",\"@code\":null,\"@template\":\"NONE\",\"@flowId\":null,\"@flowExecutionId\":null,\"@provider\":null,\"@lastModifiedAt\":null},{\"@type\":\"PC-NEWSSTAND-PRESS-BLOCK\",\"blocks\":null,\"materials\":null,\"excludeInPaging\":false,\"positionForPaging\":0,\"realtime\":false,\"pid\":\"817\",\"name\":\"\\xeb\\xaf\\xb8\\xeb\\x94\\x94\\xec\\x96\\xb4\\xec\\xa0\\x9c\\xec\\xa3\\xbc\",\"logoLight\":{\"url\":\"https://s.pstatic.net/static/newsstand/2020/logo/light/0604/817.png\"},\"logoDark\":{\"url\":\"https://s.pstatic.net/static/newsstand/2020/logo/dark/0604/817.png\"},\"showThumbnailView\":true,\"showListView\":true,\"regDate\":\"20241126 10:20:32\",\"_id\":null,\"@type\":\"PC-NEWSSTAND-PRESS-BLOCK\",\"@code\":null,\"@template\":\"NONE\",\"@flowId\":null,\"@flowExecutionId\":null,\"@provider\":null,\"@lastModifiedAt\":null},{\"@type\":\"PC-NEWSSTAND-PRESS-BLOCK\",\"blocks\":null,\"materials\":null,\"excludeInPaging\":false,\"positionForPaging\":0,\"realtime\":false,\"pid\":\"938\",\"name\":\"\\xea\\xb7\\xb8\\xeb\\xa6\\xb0\\xed\\x8f\\xac\\xec\\x8a\\xa4\\xed\\x8a\\xb8\\xec\\xbd\\x94\\xeb\\xa6\\xac\\xec\\x95\\x84\",\"logoLight\":{\"url\":\"https://s.pstatic.net/static/newsstand/2020/logo/light/0604/938.png\"},\"logoDark\":{\"url\":\"https://s.pstatic.net/static/newsstand/2020/logo/dark/0604/938.png\"},\"showThumbnailView\":true,\"showListView\":true,\"regDate\":\"20241126 10:31:10\",\"_id\":null,\"@type\":\"PC-NEWSSTAND-PRESS-BLOCK\",\"@code\":null,\"@template\":\"NONE\",\"@flowId\":null,\"@flowExecutionId\":null,\"@provider\":null,\"@lastModifiedAt\":null},{\"@type\":\"PC-NEWSSTAND-PRESS-BLOCK\",\"blocks\":null,\"materials\":null,\"excludeInPaging\":false,\"positionForPaging\":0,\"realtime\":false,\"pid\":\"818\",\"name\":\"IT\\xeb\\x8f\\x99\\xec\\x95\\x84\",\"logoLight\":{\"url\":\"https://s.pstatic.net/static/newsstand/2020/logo/light/0604/818.png\"},\"logoDark\":{\"url\":\"https://s.pstatic.net/static/newsstand/2020/logo/dark/0604/818.png\"},\"showThumbnailView\":true,\"showListView\":true,\"regDate\":\"20241126 10:03:29\",\"_id\":null,\"@type\":\"PC-NEWSSTAND-PRESS-BLOCK\",\"@code\":null,\"@template\":\"NONE\",\"@flowId\":null,\"@flowExecutionId\":null,\"@provider\":null,\"@lastModifiedAt\":null},{\"@type\":\"PC-NEWSSTAND-PRESS-BLOCK\",\"blocks\":null,\"materials\":null,\"excludeInPaging\":false,\"positionForPaging\":0,\"realtime\":false,\"pid\":\"819\",\"name\":\"\\xeb\\xb0\\x94\\xec\\x9d\\xb4\\xeb\\x9d\\xbc\\xec\\x9d\\xb8\\xeb\\x84\\xa4\\xed\\x8a\\xb8\\xec\\x9b\\x8c\\xed\\x81\\xac\",\"logoLight\":{\"url\":\"https://s.pstatic.net/static/newsstand/2020/logo/light/0604/819.png\"},\"logoDark\":{\"url\":\"https://s.pstatic.net/static/newsstand/2020/logo/dark/0604/819.png\"},\"showThumbnailView\":true,\"showListView\":true,\"regDate\":\"20241126 10:24:02\",\"_id\":null,\"@type\":\"PC-NEWSSTAND-PRESS-BLOCK\",\"@code\":null,\"@template\":\"NONE\",\"@flowId\":null,\"@flowExecutionId\":null,\"@provider\":null,\"@lastModifiedAt\":null},{\"@type\":\"PC-NEWSSTAND-PRESS-BLOCK\",\"blocks\":null,\"materials\":null,\"excludeInPaging\":false,\"positionForPaging\":0,\"realtime\":false,\"pid\":\"140\",\"name\":\"\\xec\\x94\\xa8\\xeb\\x84\\xa421\",\"logoLight\":{\"url\":\"https://s.pstatic.net/static/newsstand/2020/logo/light/0604/140.png\"},\"logoDark\":{\"url\":\"https://s.pstatic.net/static/newsstand/2020/logo/dark/0604/140.png\"},\"showThumbnailView\":true,\"showListView\":true,\"regDate\":\"20241126 09:00:00\",\"_id\":null,\"@type\":\"PC-NEWSSTAND-PRESS-BLOCK\",\"@code\":null,\"@template\":\"NONE\",\"@flowId\":null,\"@flowExecutionId\":null,\"@provider\":null,\"@lastModifiedAt\":null},{\"@type\":\"PC-NEWSSTAND-PRESS-BLOCK\",\"blocks\":null,\"materials\":null,\"excludeInPaging\":false,\"positionForPaging\":0,\"realtime\":false,\"pid\":\"020\",\"name\":\"\\xeb\\x8f\\x99\\xec\\x95\\x84\\xec\\x9d\\xbc\\xeb\\xb3\\xb4\",\"logoLight\":{\"url\":\"https://s.pstatic.net/static/newsstand/2020/logo/light/0604/020.png\"},\"logoDark\":{\"url\":\"https://s.pstatic.net/static/newsstand/2020/logo/dark/0604/020.png\"},\"showThumbnailView\":true,\"showListView\":true,\"regDate\":\"20241126 10:18:29\",\"_id\":null,\"@type\":\"PC-NEWSSTAND-PRESS-BLOCK\",\"@code\":null,\"@template\":\"NONE\",\"@flowId\":null,\"@flowExecutionId\":null,\"@provider\":null,\"@lastModifiedAt\":null},{\"@type\":\"PC-NEWSSTAND-PRESS-BLOCK\",\"blocks\":null,\"materials\":null,\"excludeInPaging\":false,\"positionForPaging\":0,\"realtime\":false,\"pid\":\"021\",\"name\":\"\\xeb\\xac\\xb8\\xed\\x99\\x94\\xec\\x9d\\xbc\\xeb\\xb3\\xb4\",\"logoLight\":{\"url\":\"https://s.pstatic.net/static/newsstand/2020/logo/light/0604/021.png\"},\"logoDark\":{\"url\":\"https://s.pstatic.net/static/newsstand/2020/logo/dark/0604/021.png\"},\"showThumbnailView\":true,\"showListView\":true,\"regDate\":\"20241126 09:57:14\",\"_id\":null,\"@type\":\"PC-NEWSSTAND-PRESS-BLOCK\",\"@code\":null,\"@template\":\"NONE\",\"@flowId\":null,\"@flowExecutionId\":null,\"@provider\":null,\"@lastModifiedAt\":null},{\"@type\":\"PC-NEWSSTAND-PRESS-BLOCK\",\"blocks\":null,\"materials\":null,\"excludeInPaging\":false,\"positionForPaging\":0,\"realtime\":false,\"pid\":\"384\",\"name\":\"\\xed\\x95\\x9c\\xea\\xb5\\xad\\xeb\\x8c\\x80\\xed\\x95\\x99\\xec\\x8b\\xa0\\xeb\\xac\\xb8\",\"logoLight\":{\"url\":\"https://s.pstatic.net/static/newsstand/2020/logo/light/0604/384.png\"},\"logoDark\":{\"url\":\"https://s.pstatic.net/static/newsstand/2020/logo/dark/0604/384.png\"},\"showThumbnailView\":true,\"showListView\":true,\"regDate\":\"20241126 10:20:05\",\"_id\":null,\"@type\":\"PC-NEWSSTAND-PRESS-BLOCK\",\"@code\":null,\"@template\":\"NONE\",\"@flowId\":null,\"@flowExecutionId\":null,\"@provider\":null,\"@lastModifiedAt\":null},{\"@type\":\"PC-NEWSSTAND-PRESS-BLOCK\",\"blocks\":null,\"materials\":null,\"excludeInPaging\":false,\"positionForPaging\":0,\"realtime\":false,\"pid\":\"022\",\"name\":\"\\xec\\x84\\xb8\\xea\\xb3\\x84\\xec\\x9d\\xbc\\xeb\\xb3\\xb4\",\"logoLight\":{\"url\":\"https://s.pstatic.net/static/newsstand/2020/logo/light/0604/022.png\"},\"logoDark\":{\"url\":\"https://s.pstatic.net/static/newsstand/2020/logo/dark/0604/022.png\"},\"showThumbnailView\":true,\"showListView\":true,\"regDate\":\"20241126 10:15:45\",\"_id\":null,\"@type\":\"PC-NEWSSTAND-PRESS-BLOCK\",\"@code\":null,\"@template\":\"NONE\",\"@flowId\":null,\"@flowExecutionId\":null,\"@provider\":null,\"@lastModifiedAt\":null},{\"@type\":\"PC-NEWSSTAND-PRESS-BLOCK\",\"blocks\":null,\"materials\":null,\"excludeInPaging\":false,\"positionForPaging\":0,\"realtime\":false,\"pid\":\"143\",\"name\":\"\\xec\\xbf\\xa0\\xed\\x82\\xa4\\xeb\\x89\\xb4\\xec\\x8a\\xa4\",\"logoLight\":{\"url\":\"https://s.pstatic.net/static/newsstand/up/2024/0610/nsd18952420.png\"},\"logoDark\":{\"url\":\"https://s.pstatic.net/static/newsstand/up/2024/0610/nsd181018320.png\"},\"showThumbnailView\":true,\"showListView\":true,\"regDate\":\"20241126 10:23:36\",\"_id\":null,\"@type\":\"PC-NEWSSTAND-PRESS-BLOCK\",\"@code\":null,\"@template\":\"NONE\",\"@flowId\":null,\"@flowExecutionId\":null,\"@provider\":null,\"@lastModifiedAt\":null},{\"@type\":\"PC-NEWSSTAND-PRESS-BLOCK\",\"blocks\":null,\"materials\":null,\"excludeInPaging\":false,\"positionForPaging\":0,\"realtime\":false,\"pid\":\"385\",\"name\":\"\\xec\\x98\\x81\\xeb\\x82\\xa8\\xec\\x9d\\xbc\\xeb\\xb3\\xb4\",\"logoLight\":{\"url\":\"https://s.pstatic.net/static/newsstand/2020/logo/light/0604/385.png\"},\"logoDark\":{\"url\":\"https://s.pstatic.net/static/newsstand/2020/logo/dark/0604/385.png\"},\"showThumbnailView\":true,\"showListView\":true,\"regDate\":\"20241126 10:20:04\",\"_id\":null,\"@type\":\"PC-NEWSSTAND-PRESS-BLOCK\",\"@code\":null,\"@template\":\"NONE\",\"@flowId\":null,\"@flowExecutionId\":null,\"@provider\":null,\"@lastModifiedAt\":null},{\"@type\":\"PC-NEWSSTAND-PRESS-BLOCK\",\"blocks\":null,\"materials\":null,\"excludeInPaging\":false,\"positionForPaging\":0,\"realtime\":false,\"pid\":\"023\",\"name\":\"\\xec\\xa1\\xb0\\xec\\x84\\xa0\\xec\\x9d\\xbc\\xeb\\xb3\\xb4\",\"logoLight\":{\"url\":\"https://s.pstatic.net/static/newsstand/up/2020/0903/nsd185255316.png\"},\"logoDark\":{\"url\":\"https://s.pstatic.net/static/newsstand/up/2020/0903/nsd185246724.png\"},\"showThumbnailView\":true,\"showListView\":true,\"regDate\":\"20241126 10:28:17\",\"_id\":null,\"@type\":\"PC-NEWSSTAND-PRESS-BLOCK\",\"@code\":null,\"@template\":\"NONE\",\"@flowId\":null,\"@flowExecutionId\":null,\"@provider\":null,\"@lastModifiedAt\":null},{\"@type\":\"PC-NEWSSTAND-PRESS-BLOCK\",\"blocks\":null,\"materials\":null,\"excludeInPaging\":false,\"positionForPaging\":0,\"realtime\":false,\"pid\":\"144\",\"name\":\"\\xec\\x8a\\xa4\\xed\\x8f\\xac\\xec\\xb8\\xa0\\xea\\xb2\\xbd\\xed\\x96\\xa5\",\"logoLight\":{\"url\":\"https://s.pstatic.net/static/newsstand/2020/logo/light/0604/144.png\"},\"logoDark\":{\"url\":\"https://s.pstatic.net/static/newsstand/2020/logo/dark/0604/144.png\"},\"showThumbnailView\":true,\"showListView\":true,\"regDate\":\"20241126 10:20:43\",\"_id\":null,\"@type\":\"PC-NEWSSTAND-PRESS-BLOCK\",\"@code\":null,\"@template\":\"NONE\",\"@flowId\":null,\"@flowExecutionId\":null,\"@provider\":null,\"@lastModifiedAt\":null},{\"@type\":\"PC-NEWSSTAND-PRESS-BLOCK\",\"blocks\":null,\"materials\":null,\"excludeInPaging\":false,\"positionForPaging\":0,\"realtime\":false,\"pid\":\"024\",\"name\":\"\\xeb\\xa7\\xa4\\xea\\xb2\\xbd\\xec\\x9d\\xb4\\xec\\xbd\\x94\\xeb\\x85\\xb8\\xeb\\xaf\\xb8\",\"logoLight\":{\"url\":\"https://s.pstatic.net/static/newsstand/2020/logo/light/0604/024.png\"},\"logoDark\":{\"url\":\"https://s.pstatic.net/static/newsstand/2020/logo/dark/0604/024.png\"},\"showThumbnailView\":true,\"showListView\":true,\"regDate\":\"20241126 10:24:01\",\"_id\":null,\"@type\":\"PC-NEWSSTAND-PRESS-BLOCK\",\"@code\":null,\"@template\":\"NONE\",\"@flowId\":null,\"@flowExecutionId\":null,\"@provider\":null,\"@lastModifiedAt\":null},{\"@type\":\"PC-NEWSSTAND-PRESS-BLOCK\",\"blocks\":null,\"materials\":null,\"excludeInPaging\":false,\"positionForPaging\":0,\"realtime\":false,\"pid\":\"387\",\"name\":\"\\xec\\x9d\\xb8\\xec\\xb2\\x9c\\xec\\x9d\\xbc\\xeb\\xb3\\xb4\",\"logoLight\":{\"url\":\"https://s.pstatic.net/static/newsstand/up/2022/0331/nsd155937506.png\"},\"logoDark\":{\"url\":\"https://s.pstatic.net/static/newsstand/up/2022/0331/nsd15594915.png\"},\"showThumbnailView\":true,\"showListView\":true,\"regDate\":\"20241126 10:20:02\",\"_id\":null,\"@type\":\"PC-NEWSSTAND-PRESS-BLOCK\",\"@code\":null,\"@template\":\"NONE\",\"@flowId\":null,\"@flowExecutionId\":null,\"@provider\":null,\"@lastModifiedAt\":null},{\"@type\":\"PC-NEWSSTAND-PRESS-BLOCK\",\"blocks\":null,\"materials\":null,\"excludeInPaging\":false,\"positionForPaging\":0,\"realtime\":false,\"pid\":\"025\",\"name\":\"\\xec\\xa4\\x91\\xec\\x95\\x99\\xec\\x9d\\xbc\\xeb\\xb3\\xb4\",\"logoLight\":{\"url\":\"https://s.pstatic.net/static/newsstand/up/2021/0824/nsd115034872.png\"},\"logoDark\":{\"url\":\"https://s.pstatic.net/static/newsstand/up/2021/0823/nsd101834185.png\"},\"showThumbnailView\":true,\"showListView\":true,\"regDate\":\"20241126 10:24:24\",\"_id\":null,\"@type\":\"PC-NEWSSTAND-PRESS-BLOCK\",\"@code\":null,\"@template\":\"NONE\",\"@flowId\":null,\"@flowExecutionId\":null,\"@provider\":null,\"@lastModifiedAt\":null},{\"@type\":\"PC-NEWSSTAND-PRESS-BLOCK\",\"blocks\":null,\"materials\":null,\"excludeInPaging\":false,\"positionForPaging\":0,\"realtime\":false,\"pid\":\"388\",\"name\":\"\\xec\\xa0\\x84\\xeb\\x82\\xa8\\xec\\x9d\\xbc\\xeb\\xb3\\xb4\",\"logoLight\":{\"url\":\"https://s.pstatic.net/static/newsstand/2020/logo/light/0604/388.png\"},\"logoDark\":{\"url\":\"https://s.pstatic.net/static/newsstand/2020/logo/dark/0604/388.png\"},\"showThumbnailView\":true,\"showListView\":true,\"regDate\":\"20241126 10:25:01\",\"_id\":null,\"@type\":\"PC-NEWSSTAND-PRESS-BLOCK\",\"@code\":null,\"@template\":\"NONE\",\"@flowId\":null,\"@flowExecutionId\":null,\"@provider\":null,\"@lastModifiedAt\":null},{\"@type\":\"PC-NEWSSTAND-PRESS-BLOCK\",\"blocks\":null,\"materials\":null,\"excludeInPaging\":false,\"positionForPaging\":0,\"realtime\":false,\"pid\":\"389\",\"name\":\"\\xec\\xa0\\x9c\\xec\\xa3\\xbc\\xeb\\x8f\\x84\\xeb\\xaf\\xbc\\xec\\x9d\\xbc\\xeb\\xb3\\xb4\",\"logoLight\":{\"url\":\"https://s.pstatic.net/static/newsstand/2020/logo/light/0604/389.png\"},\"logoDark\":{\"url\":\"https://s.pstatic.net/static/newsstand/2020/logo/dark/0604/389.png\"},\"showThumbnailView\":true,\"showListView\":true,\"regDate\":\"20241126 10:20:52\",\"_id\":null,\"@type\":\"PC-NEWSSTAND-PRESS-BLOCK\",\"@code\":null,\"@template\":\"NONE\",\"@flowId\":null,\"@flowExecutionId\":null,\"@provider\":null,\"@lastModifiedAt\":null},{\"@type\":\"PC-NEWSSTAND-PRESS-BLOCK\",\"blocks\":null,\"materials\":null,\"excludeInPaging\":false,\"positionForPaging\":0,\"realtime\":false,\"pid\":\"940\",\"name\":\"\\xec\\x8a\\xa4\\xed\\x8f\\xac\\xec\\xb8\\xa0\\xed\\x88\\xac\\xeb\\x8d\\xb0\\xec\\x9d\\xb4\",\"logoLight\":{\"url\":\"https://s.pstatic.net/static/newsstand/up/2022/0328/nsd223244325.png\"},\"logoDark\":{\"url\":\"https://s.pstatic.net/static/newsstand/up/2022/0328/nsd223257107.png\"},\"showThumbnailView\":true,\"showListView\":true,\"regDate\":\"20241126 10:10:01\",\"_id\":null,\"@type\":\"PC-NEWSSTAND-PRESS-BLOCK\",\"@code\":null,\"@template\":\"NONE\",\"@flowId\":null,\"@flowExecutionId\":null,\"@provider\":null,\"@lastModifiedAt\":null},{\"@type\":\"PC-NEWSSTAND-PRESS-BLOCK\",\"blocks\":null,\"materials\":null,\"excludeInPaging\":false,\"positionForPaging\":0,\"realtime\":false,\"pid\":\"028\",\"name\":\"\\xed\\x95\\x9c\\xea\\xb2\\xa8\\xeb\\xa0\\x88\",\"logoLight\":{\"url\":\"https://s.pstatic.net/static/newsstand/up/2024/0219/nsd145828169.png\"},\"logoDark\":{\"url\":\"https://s.pstatic.net/static/newsstand/up/2024/0219/nsd14592425.png\"},\"showThumbnailView\":true,\"showListView\":true,\"regDate\":\"20241126 10:28:12\",\"_id\":null,\"@type\":\"PC-NEWSSTAND-PRESS-BLOCK\",\"@code\":null,\"@template\":\"NONE\",\"@flowId\":null,\"@flowExecutionId\":null,\"@provider\":null,\"@lastModifiedAt\":null},{\"@type\":\"PC-NEWSSTAND-PRESS-BLOCK\",\"blocks\":null,\"materials\":null,\"excludeInPaging\":false,\"positionForPaging\":0,\"realtime\":false,\"pid\":\"820\",\"name\":\"\\xec\\x9b\\x94\\xea\\xb0\\x84\\xeb\\x85\\xb8\\xeb\\x8f\\x99\\xeb\\xb2\\x95\\xeb\\xa5\\xa0\",\"logoLight\":{\"url\":\"https://s.pstatic.net/static/newsstand/up/2022/0817/nsd14480190.png\"},\"logoDark\":{\"url\":\"https://s.pstatic.net/static/newsstand/up/2022/0817/nsd144754102.png\"},\"showThumbnailView\":true,\"showListView\":true,\"regDate\":\"20241125 18:04:16\",\"_id\":null,\"@type\":\"PC-NEWSSTAND-PRESS-BLOCK\",\"@code\":null,\"@template\":\"NONE\",\"@flowId\":null,\"@flowExecutionId\":null,\"@provider\":null,\"@lastModifiedAt\":null},{\"@type\":\"PC-NEWSSTAND-PRESS-BLOCK\",\"blocks\":null,\"materials\":null,\"excludeInPaging\":false,\"positionForPaging\":0,\"realtime\":false,\"pid\":\"941\",\"name\":\"\\xec\\xb4\\x88\\xec\\x9d\\xb4\\xec\\x8a\\xa4\\xea\\xb2\\xbd\\xec\\xa0\\x9c\",\"logoLight\":{\"url\":\"https://s.pstatic.net/static/newsstand/2020/logo/light/0604/941.png\"},\"logoDark\":{\"url\":\"https://s.pstatic.net/static/newsstand/2020/logo/dark/0604/941.png\"},\"showThumbnailView\":true,\"showListView\":true,\"regDate\":\"20241126 09:57:07\",\"_id\":null,\"@type\":\"PC-NEWSSTAND-PRESS-BLOCK\",\"@code\":null,\"@template\":\"NONE\",\"@flowId\":null,\"@flowExecutionId\":null,\"@provider\":null,\"@lastModifiedAt\":null},{\"@type\":\"PC-NEWSSTAND-PRESS-BLOCK\",\"blocks\":null,\"materials\":null,\"excludeInPaging\":false,\"positionForPaging\":0,\"realtime\":false,\"pid\":\"029\",\"name\":\"\\xeb\\x94\\x94\\xec\\xa7\\x80\\xed\\x84\\xb8\\xed\\x83\\x80\\xec\\x9e\\x84\\xec\\x8a\\xa4\",\"logoLight\":{\"url\":\"https://s.pstatic.net/static/newsstand/2020/logo/light/0604/029.png\"},\"logoDark\":{\"url\":\"https://s.pstatic.net/static/newsstand/2020/logo/dark/0604/029.png\"},\"showThumbnailView\":true,\"showListView\":true,\"regDate\":\"20241126 09:04:01\",\"_id\":null,\"@type\":\"PC-NEWSSTAND-PRESS-BLOCK\",\"@code\":null,\"@template\":\"NONE\",\"@flowId\":null,\"@flowExecutionId\":null,\"@provider\":null,\"@lastModifiedAt\":null},{\"@type\":\"PC-NEWSSTAND-PRESS-BLOCK\",\"blocks\":null,\"materials\":null,\"excludeInPaging\":false,\"positionForPaging\":0,\"realtime\":false,\"pid\":\"821\",\"name\":\"\\xea\\xb2\\xbd\\xeb\\x82\\xa8\\xeb\\x8f\\x84\\xeb\\xaf\\xbc\\xec\\x9d\\xbc\\xeb\\xb3\\xb4\",\"logoLight\":{\"url\":\"https://s.pstatic.net/static/newsstand/2020/logo/light/0604/821.png\"},\"logoDark\":{\"url\":\"https://s.pstatic.net/static/newsstand/2020/logo/dark/0604/821.png\"},\"showThumbnailView\":true,\"showListView\":true,\"regDate\":\"20241126 10:20:48\",\"_id\":null,\"@type\":\"PC-NEWSSTAND-PRESS-BLOCK\",\"@code\":null,\"@template\":\"NONE\",\"@flowId\":null,\"@flowExecutionId\":null,\"@provider\":null,\"@lastModifiedAt\":null},{\"@type\":\"PC-NEWSSTAND-PRESS-BLOCK\",\"blocks\":null,\"materials\":null,\"excludeInPaging\":false,\"positionForPaging\":0,\"realtime\":false,\"pid\":\"942\",\"name\":\"\\xeb\\xb9\\x84\\xec\\xa6\\x88\\xeb\\x8b\\x88\\xec\\x8a\\xa4\\xed\\x8f\\xac\\xec\\x8a\\xa4\\xed\\x8a\\xb8\",\"logoLight\":{\"url\":\"https://s.pstatic.net/static/newsstand/2020/logo/light/0604/942.png\"},\"logoDark\":{\"url\":\"https://s.pstatic.net/static/newsstand/2020/logo/dark/0604/942.png\"},\"showThumbnailView\":true,\"showListView\":true,\"regDate\":\"20241126 09:13:56\",\"_id\":null,\"@type\":\"PC-NEWSSTAND-PRESS-BLOCK\",\"@code\":null,\"@template\":\"NONE\",\"@flowId\":null,\"@flowExecutionId\":null,\"@provider\":null,\"@lastModifiedAt\":null},{\"@type\":\"PC-NEWSSTAND-PRESS-BLOCK\",\"blocks\":null,\"materials\":null,\"excludeInPaging\":false,\"positionForPaging\":0,\"realtime\":false,\"pid\":\"822\",\"name\":\"\\xed\\x94\\x84\\xeb\\x9d\\xbc\\xec\\x9e\\x84\\xea\\xb2\\xbd\\xec\\xa0\\x9c\",\"logoLight\":{\"url\":\"https://s.pstatic.net/static/newsstand/up/2020/0730/nsd13728808.png\"},\"logoDark\":{\"url\":\"https://s.pstatic.net/static/newsstand/up/2020/0730/nsd13719939.png\"},\"showThumbnailView\":true,\"showListView\":true,\"regDate\":\"20241126 10:15:03\",\"_id\":null,\"@type\":\"PC-NEWSSTAND-PRESS-BLOCK\",\"@code\":null,\"@template\":\"NONE\",\"@flowId\":null,\"@flowExecutionId\":null,\"@provider\":null,\"@lastModifiedAt\":null},{\"@type\":\"PC-NEWSSTAND-PRESS-BLOCK\",\"blocks\":null,\"materials\":null,\"excludeInPaging\":false,\"positionForPaging\":0,\"realtime\":false,\"pid\":\"943\",\"name\":\"\\xeb\\xb9\\x84\\xec\\xa6\\x88\\xec\\x9b\\x8c\\xec\\xb9\\x98\",\"logoLight\":{\"url\":\"https://s.pstatic.net/static/newsstand/up/2023/0213/nsd17943530.png\"},\"logoDark\":{\"url\":\"https://s.pstatic.net/static/newsstand/up/2023/0213/nsd17100999.png\"},\"showThumbnailView\":true,\"showListView\":true,\"regDate\":\"20241126 10:17:15\",\"_id\":null,\"@type\":\"PC-NEWSSTAND-PRESS-BLOCK\",\"@code\":null,\"@template\":\"NONE\",\"@flowId\":null,\"@flowExecutionId\":null,\"@provider\":null,\"@lastModifiedAt\":null},{\"@type\":\"PC-NEWSSTAND-PRESS-BLOCK\",\"blocks\":null,\"materials\":null,\"excludeInPaging\":false,\"positionForPaging\":0,\"realtime\":false,\"pid\":\"823\",\"name\":\"KPI\\xeb\\x89\\xb4\\xec\\x8a\\xa4\",\"logoLight\":{\"url\":\"https://s.pstatic.net/static/newsstand/up/2024/1101/nsd102910563.png\"},\"logoDark\":{\"url\":\"https://s.pstatic.net/static/newsstand/up/2024/1101/nsd10293597.png\"},\"showThumbnailView\":true,\"showListView\":true,\"regDate\":\"20241126 10:00:38\",\"_id\":null,\"@type\":\"PC-NEWSSTAND-PRESS-BLOCK\",\"@code\":null,\"@template\":\"NONE\",\"@flowId\":null,\"@flowExecutionId\":null,\"@provider\":null,\"@lastModifiedAt\":null},{\"@type\":\"PC-NEWSSTAND-PRESS-BLOCK\",\"blocks\":null,\"materials\":null,\"excludeInPaging\":false,\"positionForPaging\":0,\"realtime\":false,\"pid\":\"944\",\"name\":\"\\xeb\\x82\\x98\\xec\\x9a\\xb0\\xeb\\x89\\xb4\\xec\\x8a\\xa4\",\"logoLight\":{\"url\":\"https://s.pstatic.net/static/newsstand/up/2022/0804/nsd1343054.png\"},\"logoDark\":{\"url\":\"https://s.pstatic.net/static/newsstand/up/2022/0804/nsd13457540.png\"},\"showThumbnailView\":true,\"showListView\":true,\"regDate\":\"20241125 16:55:33\",\"_id\":null,\"@type\":\"PC-NEWSSTAND-PRESS-BLOCK\",\"@code\":null,\"@template\":\"NONE\",\"@flowId\":null,\"@flowExecutionId\":null,\"@provider\":null,\"@lastModifiedAt\":null},{\"@type\":\"PC-NEWSSTAND-PRESS-BLOCK\",\"blocks\":null,\"materials\":null,\"excludeInPaging\":false,\"positionForPaging\":0,\"realtime\":false,\"pid\":\"824\",\"name\":\"\\xec\\x84\\x9c\\xec\\x9a\\xb8\\xed\\x8c\\x8c\\xec\\x9d\\xb4\\xeb\\x82\\xb8\\xec\\x8a\\xa4\",\"logoLight\":{\"url\":\"https://s.pstatic.net/static/newsstand/2020/logo/light/0604/824.png\"},\"logoDark\":{\"url\":\"https://s.pstatic.net/static/newsstand/2020/logo/dark/0604/824.png\"},\"showThumbnailView\":true,\"showListView\":true,\"regDate\":\"20241126 10:20:49\",\"_id\":null,\"@type\":\"PC-NEWSSTAND-PRESS-BLOCK\",\"@code\":null,\"@template\":\"NONE\",\"@flowId\":null,\"@flowExecutionId\":null,\"@provider\":null,\"@lastModifiedAt\":null},{\"@type\":\"PC-NEWSSTAND-PRESS-BLOCK\",\"blocks\":null,\"materials\":null,\"excludeInPaging\":false,\"positionForPaging\":0,\"realtime\":false,\"pid\":\"945\",\"name\":\"YTN\\xec\\x82\\xac\\xec\\x9d\\xb4\\xec\\x96\\xb8\\xec\\x8a\\xa4\",\"logoLight\":{\"url\":\"https://s.pstatic.net/static/newsstand/up/2020/0922/nsd152336602.png\"},\"logoDark\":{\"url\":\"https://s.pstatic.net/static/newsstand/up/2020/0922/nsd152323211.png\"},\"showThumbnailView\":true,\"showListView\":true,\"regDate\":\"20241126 10:29:59\",\"_id\":null,\"@type\":\"PC-NEWSSTAND-PRESS-BLOCK\",\"@code\":null,\"@template\":\"NONE\",\"@flowId\":null,\"@flowExecutionId\":null,\"@provider\":null,\"@lastModifiedAt\":null},{\"@type\":\"PC-NEWSSTAND-PRESS-BLOCK\",\"blocks\":null,\"materials\":null,\"excludeInPaging\":false,\"positionForPaging\":0,\"realtime\":false,\"pid\":\"825\",\"name\":\"\\xec\\x9d\\xb4\\xeb\\xa1\\x9c\\xec\\x9a\\xb4\\xeb\\x84\\xb7\",\"logoLight\":{\"url\":\"https://s.pstatic.net/static/newsstand/2020/logo/light/0604/825.png\"},\"logoDark\":{\"url\":\"https://s.pstatic.net/static/newsstand/2020/logo/dark/0604/825.png\"},\"showThumbnailView\":true,\"showListView\":true,\"regDate\":\"20241126 10:20:50\",\"_id\":null,\"@type\":\"PC-NEWSSTAND-PRESS-BLOCK\",\"@code\":null,\"@template\":\"NONE\",\"@flowId\":null,\"@flowExecutionId\":null,\"@provider\":null,\"@lastModifiedAt\":null},{\"@type\":\"PC-NEWSSTAND-PRESS-BLOCK\",\"blocks\":null,\"materials\":null,\"excludeInPaging\":false,\"positionForPaging\":0,\"realtime\":false,\"pid\":\"946\",\"name\":\"YONHAPNEWS\",\"logoLight\":{\"url\":\"https://s.pstatic.net/static/newsstand/2020/logo/light/0604/946.png\"},\"logoDark\":{\"url\":\"https://s.pstatic.net/static/newsstand/2020/logo/dark/0604/946.png\"},\"showThumbnailView\":true,\"showListView\":true,\"regDate\":\"20241126 10:21:15\",\"_id\":null,\"@type\":\"PC-NEWSSTAND-PRESS-BLOCK\",\"@code\":null,\"@template\":\"NONE\",\"@flowId\":null,\"@flowExecutionId\":null,\"@provider\":null,\"@lastModifiedAt\":null},{\"@type\":\"PC-NEWSSTAND-PRESS-BLOCK\",\"blocks\":null,\"materials\":null,\"excludeInPaging\":false,\"positionForPaging\":0,\"realtime\":false,\"pid\":\"826\",\"name\":\"\\xed\\x86\\xb1\\xeb\\x8d\\xb0\\xec\\x9d\\xbc\\xeb\\xa6\\xac\",\"logoLight\":{\"url\":\"https://s.pstatic.net/static/newsstand/up/2022/0817/nsd14491516.png\"},\"logoDark\":{\"url\":\"https://s.pstatic.net/static/newsstand/up/2022/0817/nsd14499446.png\"},\"showThumbnailView\":true,\"showListView\":true,\"regDate\":\"20241126 10:20:12\",\"_id\":null,\"@type\":\"PC-NEWSSTAND-PRESS-BLOCK\",\"@code\":null,\"@template\":\"NONE\",\"@flowId\":null,\"@flowExecutionId\":null,\"@provider\":null,\"@lastModifiedAt\":null},{\"@type\":\"PC-NEWSSTAND-PRESS-BLOCK\",\"blocks\":null,\"materials\":null,\"excludeInPaging\":false,\"positionForPaging\":0,\"realtime\":false,\"pid\":\"947\",\"name\":\"\\xec\\xa1\\xb0\\xec\\x9d\\xb4\\xeb\\x89\\xb4\\xec\\x8a\\xa424\",\"logoLight\":{\"url\":\"https://s.pstatic.net/static/newsstand/2020/logo/light/0604/947.png\"},\"logoDark\":{\"url\":\"https://s.pstatic.net/static/newsstand/2020/logo/dark/0604/947.png\"},\"showThumbnailView\":true,\"showListView\":true,\"regDate\":\"20241126 10:15:36\",\"_id\":null,\"@type\":\"PC-NEWSSTAND-PRESS-BLOCK\",\"@code\":null,\"@template\":\"NONE\",\"@flowId\":null,\"@flowExecutionId\":null,\"@provider\":null,\"@lastModifiedAt\":null},{\"@type\":\"PC-NEWSSTAND-PRESS-BLOCK\",\"blocks\":null,\"materials\":null,\"excludeInPaging\":false,\"positionForPaging\":0,\"realtime\":false,\"pid\":\"827\",\"name\":\"\\xeb\\xb2\\xa0\\xec\\x9d\\xb4\\xeb\\xb9\\x84\\xeb\\x89\\xb4\\xec\\x8a\\xa4\",\"logoLight\":{\"url\":\"https://s.pstatic.net/static/newsstand/up/2021/0222/nsd13325188.png\"},\"logoDark\":{\"url\":\"https://s.pstatic.net/static/newsstand/up/2021/0222/nsd13338358.png\"},\"showThumbnailView\":true,\"showListView\":true,\"regDate\":\"20241126 10:20:53\",\"_id\":null,\"@type\":\"PC-NEWSSTAND-PRESS-BLOCK\",\"@code\":null,\"@template\":\"NONE\",\"@flowId\":null,\"@flowExecutionId\":null,\"@provider\":null,\"@lastModifiedAt\":null},{\"@type\":\"PC-NEWSSTAND-PRESS-BLOCK\",\"blocks\":null,\"materials\":null,\"excludeInPaging\":false,\"positionForPaging\":0,\"realtime\":false,\"pid\":\"948\",\"name\":\"\\xed\\x95\\x9c\\xea\\xb2\\xa8\\xeb\\xa0\\x8821\",\"logoLight\":{\"url\":\"https://s.pstatic.net/static/newsstand/2020/logo/light/0604/948.png\"},\"logoDark\":{\"url\":\"https://s.pstatic.net/static/newsstand/2020/logo/dark/0604/948.png\"},\"showThumbnailView\":true,\"showListView\":true,\"regDate\":\"20241126 07:59:32\",\"_id\":null,\"@type\":\"PC-NEWSSTAND-PRESS-BLOCK\",\"@code\":null,\"@template\":\"NONE\",\"@flowId\":null,\"@flowExecutionId\":null,\"@provider\":null,\"@lastModifiedAt\":null},{\"@type\":\"PC-NEWSSTAND-PRESS-BLOCK\",\"blocks\":null,\"materials\":null,\"excludeInPaging\":false,\"positionForPaging\":0,\"realtime\":false,\"pid\":\"828\",\"name\":\"\\xec\\x8b\\x9d\\xed\\x92\\x88\\xec\\xa0\\x80\\xeb\\x84\\x90 foodnews\",\"logoLight\":{\"url\":\"https://s.pstatic.net/static/newsstand/up/2021/0211/nsd0427277.png\"},\"logoDark\":{\"url\":\"https://s.pstatic.net/static/newsstand/up/2021/0211/nsd0439284.png\"},\"showThumbnailView\":true,\"showListView\":true,\"regDate\":\"20241126 10:20:52\",\"_id\":null,\"@type\":\"PC-NEWSSTAND-PRESS-BLOCK\",\"@code\":null,\"@template\":\"NONE\",\"@flowId\":null,\"@flowExecutionId\":null,\"@provider\":null,\"@lastModifiedAt\":null},{\"@type\":\"PC-NEWSSTAND-PRESS-BLOCK\",\"blocks\":null,\"materials\":null,\"excludeInPaging\":false,\"positionForPaging\":0,\"realtime\":false,\"pid\":\"829\",\"name\":\"\\xeb\\xaf\\xb8\\xeb\\x94\\x94\\xec\\x96\\xb4\\xec\\x8a\\xa4\",\"logoLight\":{\"url\":\"https://s.pstatic.net/static/newsstand/up/2021/0211/nsd01153196.png\"},\"logoDark\":{\"url\":\"https://s.pstatic.net/static/newsstand/up/2021/0211/nsd01153196.png\"},\"showThumbnailView\":true,\"showListView\":true,\"regDate\":\"20241126 10:21:00\",\"_id\":null,\"@type\":\"PC-NEWSSTAND-PRESS-BLOCK\",\"@code\":null,\"@template\":\"NONE\",\"@flowId\":null,\"@flowExecutionId\":null,\"@provider\":null,\"@lastModifiedAt\":null},{\"@type\":\"PC-NEWSSTAND-PRESS-BLOCK\",\"blocks\":null,\"materials\":null,\"excludeInPaging\":false,\"positionForPaging\":0,\"realtime\":false,\"pid\":\"391\",\"name\":\"\\xec\\xb6\\xa9\\xec\\xb2\\xad\\xec\\x9d\\xbc\\xeb\\xb3\\xb4\",\"logoLight\":{\"url\":\"https://s.pstatic.net/static/newsstand/2020/logo/light/0604/391.png\"},\"logoDark\":{\"url\":\"https://s.pstatic.net/static/newsstand/2020/logo/dark/0604/391.png\"},\"showThumbnailView\":true,\"showListView\":true,\"regDate\":\"20241125 19:23:27\",\"_id\":null,\"@type\":\"PC-NEWSSTAND-PRESS-BLOCK\",\"@code\":null,\"@template\":\"NONE\",\"@flowId\":null,\"@flowExecutionId\":null,\"@provider\":null,\"@lastModifiedAt\":null},{\"@type\":\"PC-NEWSSTAND-PRESS-BLOCK\",\"blocks\":null,\"materials\":null,\"excludeInPaging\":false,\"positionForPaging\":0,\"realtime\":false,\"pid\":\"030\",\"name\":\"\\xec\\xa0\\x84\\xec\\x9e\\x90\\xec\\x8b\\xa0\\xeb\\xac\\xb8\",\"logoLight\":{\"url\":\"https://s.pstatic.net/static/newsstand/2020/logo/light/0604/030.png\"},\"logoDark\":{\"url\":\"https://s.pstatic.net/static/newsstand/2020/logo/dark/0604/030.png\"},\"showThumbnailView\":true,\"showListView\":true,\"regDate\":\"20241126 10:20:21\",\"_id\":null,\"@type\":\"PC-NEWSSTAND-PRESS-BLOCK\",\"@code\":null,\"@template\":\"NONE\",\"@flowId\":null,\"@flowExecutionId\":null,\"@provider\":null,\"@lastModifiedAt\":null},{\"@type\":\"PC-NEWSSTAND-PRESS-BLOCK\",\"blocks\":null,\"materials\":null,\"excludeInPaging\":false,\"positionForPaging\":0,\"realtime\":false,\"pid\":\"031\",\"name\":\"\\xec\\x95\\x84\\xec\\x9d\\xb4\\xeb\\x89\\xb4\\xec\\x8a\\xa424\",\"logoLight\":{\"url\":\"https://s.pstatic.net/static/newsstand/2020/logo/light/0604/031.png\"},\"logoDark\":{\"url\":\"https://s.pstatic.net/static/newsstand/2020/logo/dark/0604/031.png\"},\"showThumbnailView\":true,\"showListView\":true,\"regDate\":\"20241126 10:30:56\",\"_id\":null,\"@type\":\"PC-NEWSSTAND-PRESS-BLOCK\",\"@code\":null,\"@template\":\"NONE\",\"@flowId\":null,\"@flowExecutionId\":null,\"@provider\":null,\"@lastModifiedAt\":null},{\"@type\":\"PC-NEWSSTAND-PRESS-BLOCK\",\"blocks\":null,\"materials\":null,\"excludeInPaging\":false,\"positionForPaging\":0,\"realtime\":false,\"pid\":\"032\",\"name\":\"\\xea\\xb2\\xbd\\xed\\x96\\xa5\\xec\\x8b\\xa0\\xeb\\xac\\xb8\",\"logoLight\":{\"url\":\"https://s.pstatic.net/static/newsstand/2020/logo/light/0604/032.png\"},\"logoDark\":{\"url\":\"https://s.pstatic.net/static/newsstand/2020/logo/dark/0604/032.png\"},\"showThumbnailView\":true,\"showListView\":true,\"regDate\":\"20241126 10:22:36\",\"_id\":null,\"@type\":\"PC-NEWSSTAND-PRESS-BLOCK\",\"@code\":null,\"@template\":\"NONE\",\"@flowId\":null,\"@flowExecutionId\":null,\"@provider\":null,\"@lastModifiedAt\":null},{\"@type\":\"PC-NEWSSTAND-PRESS-BLOCK\",\"blocks\":null,\"materials\":null,\"excludeInPaging\":false,\"positionForPaging\":0,\"realtime\":false,\"pid\":\"396\",\"name\":\"\\xec\\x8a\\xa4\\xed\\x8f\\xac\\xec\\xb8\\xa0\\xec\\x9b\\x94\\xeb\\x93\\x9c\",\"logoLight\":{\"url\":\"https://s.pstatic.net/static/newsstand/2020/logo/light/0604/396.png\"},\"logoDark\":{\"url\":\"https://s.pstatic.net/static/newsstand/2020/logo/dark/0604/396.png\"},\"showThumbnailView\":true,\"showListView\":true,\"regDate\":\"20241126 09:54:28\",\"_id\":null,\"@type\":\"PC-NEWSSTAND-PRESS-BLOCK\",\"@code\":null,\"@template\":\"NONE\",\"@flowId\":null,\"@flowExecutionId\":null,\"@provider\":null,\"@lastModifiedAt\":null},{\"@type\":\"PC-NEWSSTAND-PRESS-BLOCK\",\"blocks\":null,\"materials\":null,\"excludeInPaging\":false,\"positionForPaging\":0,\"realtime\":false,\"pid\":\"277\",\"name\":\"\\xec\\x95\\x84\\xec\\x8b\\x9c\\xec\\x95\\x84\\xea\\xb2\\xbd\\xec\\xa0\\x9c\",\"logoLight\":{\"url\":\"https://s.pstatic.net/static/newsstand/2020/logo/light/0604/277.png\"},\"logoDark\":{\"url\":\"https://s.pstatic.net/static/newsstand/2020/logo/dark/0604/277.png\"},\"showThumbnailView\":true,\"showListView\":true,\"regDate\":\"20241126 10:22:03\",\"_id\":null,\"@type\":\"PC-NEWSSTAND-PRESS-BLOCK\",\"@code\":null,\"@template\":\"NONE\",\"@flowId\":null,\"@flowExecutionId\":null,\"@provider\":null,\"@lastModifiedAt\":null},{\"@type\":\"PC-NEWSSTAND-PRESS-BLOCK\",\"blocks\":null,\"materials\":null,\"excludeInPaging\":false,\"positionForPaging\":0,\"realtime\":false,\"pid\":\"950\",\"name\":\"\\xec\\x9b\\x94\\xea\\xb0\\x84\\xec\\xa4\\x91\\xec\\x95\\x99\",\"logoLight\":{\"url\":\"https://s.pstatic.net/static/newsstand/up/2024/1015/nsd144951657.png\"},\"logoDark\":{\"url\":\"https://s.pstatic.net/static/newsstand/up/2024/1015/nsd14509252.png\"},\"showThumbnailView\":true,\"showListView\":true,\"regDate\":\"20241126 10:23:17\",\"_id\":null,\"@type\":\"PC-NEWSSTAND-PRESS-BLOCK\",\"@code\":null,\"@template\":\"NONE\",\"@flowId\":null,\"@flowExecutionId\":null,\"@provider\":null,\"@lastModifiedAt\":null},{\"@type\":\"PC-NEWSSTAND-PRESS-BLOCK\",\"blocks\":null,\"materials\":null,\"excludeInPaging\":false,\"positionForPaging\":0,\"realtime\":false,\"pid\":\"038\",\"name\":\"\\xed\\x95\\x9c\\xea\\xb5\\xad\\xec\\x9d\\xbc\\xeb\\xb3\\xb4\",\"logoLight\":{\"url\":\"https://s.pstatic.net/static/newsstand/2020/logo/light/0604/038.png\"},\"logoDark\":{\"url\":\"https://s.pstatic.net/static/newsstand/2020/logo/dark/0604/038.png\"},\"showThumbnailView\":true,\"showListView\":true,\"regDate\":\"20241126 10:09:32\",\"_id\":null,\"@type\":\"PC-NEWSSTAND-PRESS-BLOCK\",\"@code\":null,\"@template\":\"NONE\",\"@flowId\":null,\"@flowExecutionId\":null,\"@provider\":null,\"@lastModifiedAt\":null},{\"@type\":\"PC-NEWSSTAND-PRESS-BLOCK\",\"blocks\":null,\"materials\":null,\"excludeInPaging\":false,\"positionForPaging\":0,\"realtime\":false,\"pid\":\"830\",\"name\":\"\\xea\\xb2\\x8c\\xec\\x9e\\x84\\xeb\\x8f\\x99\\xec\\x95\\x84\",\"logoLight\":{\"url\":\"https://s.pstatic.net/static/newsstand/up/2021/0211/nsd02321523.png\"},\"logoDark\":{\"url\":\"https://s.pstatic.net/static/newsstand/up/2021/0211/nsd02332888.png\"},\"showThumbnailView\":true,\"showListView\":true,\"regDate\":\"20241126 10:21:30\",\"_id\":null,\"@type\":\"PC-NEWSSTAND-PRESS-BLOCK\",\"@code\":null,\"@template\":\"NONE\",\"@flowId\":null,\"@flowExecutionId\":null,\"@provider\":null,\"@lastModifiedAt\":null},{\"@type\":\"PC-NEWSSTAND-PRESS-BLOCK\",\"blocks\":null,\"materials\":null,\"excludeInPaging\":false,\"positionForPaging\":0,\"realtime\":false,\"pid\":\"951\",\"name\":\"\\xed\\x8f\\xac\\xeb\\xb8\\x8c\\xec\\x8a\\xa4\\xec\\xbd\\x94\\xeb\\xa6\\xac\\xec\\x95\\x84\",\"logoLight\":{\"url\":\"https://s.pstatic.net/static/newsstand/2020/logo/light/0604/951.png\"},\"logoDark\":{\"url\":\"https://s.pstatic.net/static/newsstand/2020/logo/dark/0604/951.png\"},\"showThumbnailView\":true,\"showListView\":true,\"regDate\":\"20241126 10:00:00\",\"_id\":null,\"@type\":\"PC-NEWSSTAND-PRESS-BLOCK\",\"@code\":null,\"@template\":\"NONE\",\"@flowId\":null,\"@flowExecutionId\":null,\"@provider\":null,\"@lastModifiedAt\":null},{\"@type\":\"PC-NEWSSTAND-PRESS-BLOCK\",\"blocks\":null,\"materials\":null,\"excludeInPaging\":false,\"positionForPaging\":0,\"realtime\":false,\"pid\":\"952\",\"name\":\"\\xeb\\xb3\\xb4\\xec\\x95\\x88\\xeb\\x89\\xb4\\xec\\x8a\\xa4\",\"logoLight\":{\"url\":\"https://s.pstatic.net/static/newsstand/2020/logo/light/0604/952.png\"},\"logoDark\":{\"url\":\"https://s.pstatic.net/static/newsstand/2020/logo/dark/0604/952.png\"},\"showThumbnailView\":true,\"showListView\":true,\"regDate\":\"20241125 22:19:00\",\"_id\":null,\"@type\":\"PC-NEWSSTAND-PRESS-BLOCK\",\"@code\":null,\"@template\":\"NONE\",\"@flowId\":null,\"@flowExecutionId\":null,\"@provider\":null,\"@lastModifiedAt\":null},{\"@type\":\"PC-NEWSSTAND-PRESS-BLOCK\",\"blocks\":null,\"materials\":null,\"excludeInPaging\":false,\"positionForPaging\":0,\"realtime\":false,\"pid\":\"953\",\"name\":\"\\xeb\\x94\\x94\\xec\\xa7\\x80\\xed\\x84\\xb8\\xed\\x88\\xac\\xeb\\x8d\\xb0\\xec\\x9d\\xb4\",\"logoLight\":{\"url\":\"https://s.pstatic.net/static/newsstand/2020/logo/light/0604/953.png\"},\"logoDark\":{\"url\":\"https://s.pstatic.net/static/newsstand/2020/logo/dark/0604/953.png\"},\"showThumbnailView\":true,\"showListView\":true,\"regDate\":\"20241126 10:00:06\",\"_id\":null,\"@type\":\"PC-NEWSSTAND-PRESS-BLOCK\",\"@code\":null,\"@template\":\"NONE\",\"@flowId\":null,\"@flowExecutionId\":null,\"@provider\":null,\"@lastModifiedAt\":null},{\"@type\":\"PC-NEWSSTAND-PRESS-BLOCK\",\"blocks\":null,\"materials\":null,\"excludeInPaging\":false,\"positionForPaging\":0,\"realtime\":false,\"pid\":\"954\",\"name\":\"CNB\\xeb\\x89\\xb4\\xec\\x8a\\xa4\",\"logoLight\":{\"url\":\"https://s.pstatic.net/static/newsstand/2020/logo/light/0604/954.png\"},\"logoDark\":{\"url\":\"https://s.pstatic.net/static/newsstand/2020/logo/dark/0604/954.png\"},\"showThumbnailView\":true,\"showListView\":true,\"regDate\":\"20241126 10:20:02\",\"_id\":null,\"@type\":\"PC-NEWSSTAND-PRESS-BLOCK\",\"@code\":null,\"@template\":\"NONE\",\"@flowId\":null,\"@flowExecutionId\":null,\"@provider\":null,\"@lastModifiedAt\":null},{\"@type\":\"PC-NEWSSTAND-PRESS-BLOCK\",\"blocks\":null,\"materials\":null,\"excludeInPaging\":false,\"positionForPaging\":0,\"realtime\":false,\"pid\":\"955\",\"name\":\"\\xeb\\x8f\\x85\\xec\\x84\\x9c\\xec\\x8b\\xa0\\xeb\\xac\\xb8\",\"logoLight\":{\"url\":\"https://s.pstatic.net/static/newsstand/2020/logo/light/0604/955.png\"},\"logoDark\":{\"url\":\"https://s.pstatic.net/static/newsstand/2020/logo/dark/0604/955.png\"},\"showThumbnailView\":true,\"showListView\":true,\"regDate\":\"20241126 10:20:04\",\"_id\":null,\"@type\":\"PC-NEWSSTAND-PRESS-BLOCK\",\"@code\":null,\"@template\":\"NONE\",\"@flowId\":null,\"@flowExecutionId\":null,\"@provider\":null,\"@lastModifiedAt\":null},{\"@type\":\"PC-NEWSSTAND-PRESS-BLOCK\",\"blocks\":null,\"materials\":null,\"excludeInPaging\":false,\"positionForPaging\":0,\"realtime\":false,\"pid\":\"956\",\"name\":\"\\xec\\xb2\\xa0\\xea\\xb0\\x95\\xea\\xb8\\x88\\xec\\x86\\x8d\\xec\\x8b\\xa0\\xeb\\xac\\xb8\",\"logoLight\":{\"url\":\"https://s.pstatic.net/static/newsstand/2020/logo/light/0604/956.png\"},\"logoDark\":{\"url\":\"https://s.pstatic.net/static/newsstand/2020/logo/dark/0604/956.png\"},\"showThumbnailView\":true,\"showListView\":true,\"regDate\":\"20241126 10:20:03\",\"_id\":null,\"@type\":\"PC-NEWSSTAND-PRESS-BLOCK\",\"@code\":null,\"@template\":\"NONE\",\"@flowId\":null,\"@flowExecutionId\":null,\"@provider\":null,\"@lastModifiedAt\":null},{\"@type\":\"PC-NEWSSTAND-PRESS-BLOCK\",\"blocks\":null,\"materials\":null,\"excludeInPaging\":false,\"positionForPaging\":0,\"realtime\":false,\"pid\":\"957\",\"name\":\"\\xec\\x8b\\x9c\\xec\\x82\\xac\\xec\\x9c\\x84\\xed\\x81\\xac\",\"logoLight\":{\"url\":\"https://s.pstatic.net/static/newsstand/2020/logo/light/0604/957.png\"},\"logoDark\":{\"url\":\"https://s.pstatic.net/static/newsstand/2020/logo/dark/0604/957.png\"},\"showThumbnailView\":true,\"showListView\":true,\"regDate\":\"20241125 19:44:51\",\"_id\":null,\"@type\":\"PC-NEWSSTAND-PRESS-BLOCK\",\"@code\":null,\"@template\":\"NONE\",\"@flowId\":null,\"@flowExecutionId\":null,\"@provider\":null,\"@lastModifiedAt\":null},{\"@type\":\"PC-NEWSSTAND-PRESS-BLOCK\",\"blocks\":null,\"materials\":null,\"excludeInPaging\":false,\"positionForPaging\":0,\"realtime\":false,\"pid\":\"958\",\"name\":\"\\xeb\\xb2\\xa0\\xeb\\xa6\\xac\\xed\\x83\\x80\\xec\\x8a\\xa4\\xec\\x95\\x8c\\xed\\x8c\\x8c\",\"logoLight\":{\"url\":\"https://s.pstatic.net/static/newsstand/up/2023/0826/nsd0145257.png\"},\"logoDark\":{\"url\":\"https://s.pstatic.net/static/newsstand/up/2023/0826/nsd0136682.png\"},\"showThumbnailView\":true,\"showListView\":true,\"regDate\":\"20241126 10:23:15\",\"_id\":null,\"@type\":\"PC-NEWSSTAND-PRESS-BLOCK\",\"@code\":null,\"@template\":\"NONE\",\"@flowId\":null,\"@flowExecutionId\":null,\"@provider\":null,\"@lastModifiedAt\":null},{\"@type\":\"PC-NEWSSTAND-PRESS-BLOCK\",\"blocks\":null,\"materials\":null,\"excludeInPaging\":false,\"positionForPaging\":0,\"realtime\":false,\"pid\":\"959\",\"name\":\"M\\xec\\x9d\\xb4\\xec\\xbd\\x94\\xeb\\x85\\xb8\\xeb\\xaf\\xb8\\xeb\\x89\\xb4\\xec\\x8a\\xa4\",\"logoLight\":{\"url\":\"https://s.pstatic.net/static/newsstand/up/2021/1221/nsd15292271.png\"},\"logoDark\":{\"url\":\"https://s.pstatic.net/static/newsstand/up/2021/1221/nsd171157172.png\"},\"showThumbnailView\":true,\"showListView\":true,\"regDate\":\"20241126 10:20:13\",\"_id\":null,\"@type\":\"PC-NEWSSTAND-PRESS-BLOCK\",\"@code\":null,\"@template\":\"NONE\",\"@flowId\":null,\"@flowExecutionId\":null,\"@provider\":null,\"@lastModifiedAt\":null},{\"@type\":\"PC-NEWSSTAND-PRESS-BLOCK\",\"blocks\":null,\"materials\":null,\"excludeInPaging\":false,\"positionForPaging\":0,\"realtime\":false,\"pid\":\"040\",\"name\":\"\\xec\\xbd\\x94\\xeb\\xa6\\xac\\xec\\x95\\x84\\xed\\x83\\x80\\xec\\x9e\\x84\\xec\\x8a\\xa4\",\"logoLight\":{\"url\":\"https://s.pstatic.net/static/newsstand/2020/logo/light/0604/040.png\"},\"logoDark\":{\"url\":\"https://s.pstatic.net/static/newsstand/2020/logo/dark/0604/040.png\"},\"showThumbnailView\":true,\"showListView\":true,\"regDate\":\"20241126 10:25:11\",\"_id\":null,\"@type\":\"PC-NEWSSTAND-PRESS-BLOCK\",\"@code\":null,\"@template\":\"NONE\",\"@flowId\":null,\"@flowExecutionId\":null,\"@provider\":null,\"@lastModifiedAt\":null},{\"@type\":\"PC-NEWSSTAND-PRESS-BLOCK\",\"blocks\":null,\"materials\":null,\"excludeInPaging\":false,\"positionForPaging\":0,\"realtime\":false,\"pid\":\"042\",\"name\":\"\\xeb\\x8d\\xb0\\xec\\x9d\\xbc\\xeb\\xa6\\xac\\xed\\x95\\x9c\\xea\\xb5\\xad\",\"logoLight\":{\"url\":\"https://s.pstatic.net/static/newsstand/2020/logo/light/0604/042.png\"},\"logoDark\":{\"url\":\"https://s.pstatic.net/static/newsstand/2020/logo/dark/0604/042.png\"},\"showThumbnailView\":true,\"showListView\":true,\"regDate\":\"20241126 10:30:59\",\"_id\":null,\"@type\":\"PC-NEWSSTAND-PRESS-BLOCK\",\"@code\":null,\"@template\":\"NONE\",\"@flowId\":null,\"@flowExecutionId\":null,\"@provider\":null,\"@lastModifiedAt\":null},{\"@type\":\"PC-NEWSSTAND-PRESS-BLOCK\",\"blocks\":null,\"materials\":null,\"excludeInPaging\":false,\"positionForPaging\":0,\"realtime\":false,\"pid\":\"044\",\"name\":\"\\xec\\xbd\\x94\\xeb\\xa6\\xac\\xec\\x95\\x84\\xed\\x97\\xa4\\xeb\\x9f\\xb4\\xeb\\x93\\x9c\",\"logoLight\":{\"url\":\"https://s.pstatic.net/static/newsstand/2020/logo/light/0604/044.png\"},\"logoDark\":{\"url\":\"https://s.pstatic.net/static/newsstand/2020/logo/dark/0604/044.png\"},\"showThumbnailView\":true,\"showListView\":true,\"regDate\":\"20241126 08:13:50\",\"_id\":null,\"@type\":\"PC-NEWSSTAND-PRESS-BLOCK\",\"@code\":null,\"@template\":\"NONE\",\"@flowId\":null,\"@flowExecutionId\":null,\"@provider\":null,\"@lastModifiedAt\":null},{\"@type\":\"PC-NEWSSTAND-PRESS-BLOCK\",\"blocks\":null,\"materials\":null,\"excludeInPaging\":false,\"positionForPaging\":0,\"realtime\":false,\"pid\":\"047\",\"name\":\"\\xec\\x98\\xa4\\xeb\\xa7\\x88\\xec\\x9d\\xb4\\xeb\\x89\\xb4\\xec\\x8a\\xa4\",\"logoLight\":{\"url\":\"https://s.pstatic.net/static/newsstand/2020/logo/light/0604/047.png\"},\"logoDark\":{\"url\":\"https://s.pstatic.net/static/newsstand/2020/logo/dark/0604/047.png\"},\"showThumbnailView\":true,\"showListView\":true,\"regDate\":\"20241126 10:09:34\",\"_id\":null,\"@type\":\"PC-NEWSSTAND-PRESS-BLOCK\",\"@code\":null,\"@template\":\"NONE\",\"@flowId\":null,\"@flowExecutionId\":null,\"@provider\":null,\"@lastModifiedAt\":null},{\"@type\":\"PC-NEWSSTAND-PRESS-BLOCK\",\"blocks\":null,\"materials\":null,\"excludeInPaging\":false,\"positionForPaging\":0,\"realtime\":false,\"pid\":\"960\",\"name\":\"\\xeb\\x8c\\x80\\xed\\x95\\x9c\\xea\\xb2\\xbd\\xec\\xa0\\x9c\",\"logoLight\":{\"url\":\"https://s.pstatic.net/static/newsstand/up/2022/1115/nsd153942530.png\"},\"logoDark\":{\"url\":\"https://s.pstatic.net/static/newsstand/up/2022/1115/nsd153934427.png\"},\"showThumbnailView\":true,\"showListView\":true,\"regDate\":\"20241126 10:20:24\",\"_id\":null,\"@type\":\"PC-NEWSSTAND-PRESS-BLOCK\",\"@code\":null,\"@template\":\"NONE\",\"@flowId\":null,\"@flowExecutionId\":null,\"@provider\":null,\"@lastModifiedAt\":null},{\"@type\":\"PC-NEWSSTAND-PRESS-BLOCK\",\"blocks\":null,\"materials\":null,\"excludeInPaging\":false,\"positionForPaging\":0,\"realtime\":false,\"pid\":\"961\",\"name\":\"\\xeb\\xa9\\x94\\xed\\x8a\\xb8\\xeb\\xa1\\x9c\\xec\\x8b\\xa0\\xeb\\xac\\xb8\",\"logoLight\":{\"url\":\"https://s.pstatic.net/static/newsstand/2020/logo/light/0604/961.png\"},\"logoDark\":{\"url\":\"https://s.pstatic.net/static/newsstand/2020/logo/dark/0604/961.png\"},\"showThumbnailView\":true,\"showListView\":true,\"regDate\":\"20241126 09:54:15\",\"_id\":null,\"@type\":\"PC-NEWSSTAND-PRESS-BLOCK\",\"@code\":null,\"@template\":\"NONE\",\"@flowId\":null,\"@flowExecutionId\":null,\"@provider\":null,\"@lastModifiedAt\":null},{\"@type\":\"PC-NEWSSTAND-PRESS-BLOCK\",\"blocks\":null,\"materials\":null,\"excludeInPaging\":false,\"positionForPaging\":0,\"realtime\":false,\"pid\":\"962\",\"name\":\"\\xec\\x8a\\xa4\\xed\\x8f\\xac\\xec\\xb8\\xa0\\xed\\x95\\x9c\\xea\\xb5\\xad\",\"logoLight\":{\"url\":\"https://s.pstatic.net/static/newsstand/2020/logo/light/0604/962.png\"},\"logoDark\":{\"url\":\"https://s.pstatic.net/static/newsstand/2020/logo/dark/0604/962.png\"},\"showThumbnailView\":true,\"showListView\":true,\"regDate\":\"20241126 10:21:00\",\"_id\":null,\"@type\":\"PC-NEWSSTAND-PRESS-BLOCK\",\"@code\":null,\"@template\":\"NONE\",\"@flowId\":null,\"@flowExecutionId\":null,\"@provider\":null,\"@lastModifiedAt\":null},{\"@type\":\"PC-NEWSSTAND-PRESS-BLOCK\",\"blocks\":null,\"materials\":null,\"excludeInPaging\":false,\"positionForPaging\":0,\"realtime\":false,\"pid\":\"963\",\"name\":\"\\xec\\x97\\x90\\xeb\\x84\\x88\\xec\\xa7\\x80\\xea\\xb2\\xbd\\xec\\xa0\\x9c\",\"logoLight\":{\"url\":\"https://s.pstatic.net/static/newsstand/2020/logo/light/0604/963.png\"},\"logoDark\":{\"url\":\"https://s.pstatic.net/static/newsstand/2020/logo/dark/0604/963.png\"},\"showThumbnailView\":true,\"showListView\":true,\"regDate\":\"20241126 10:20:01\",\"_id\":null,\"@type\":\"PC-NEWSSTAND-PRESS-BLOCK\",\"@code\":null,\"@template\":\"NONE\",\"@flowId\":null,\"@flowExecutionId\":null,\"@provider\":null,\"@lastModifiedAt\":null},{\"@type\":\"PC-NEWSSTAND-PRESS-BLOCK\",\"blocks\":null,\"materials\":null,\"excludeInPaging\":false,\"positionForPaging\":0,\"realtime\":false,\"pid\":\"964\",\"name\":\"\\xec\\x9d\\xb4\\xeb\\x89\\xb4\\xec\\x8a\\xa4\\xed\\x88\\xac\\xeb\\x8d\\xb0\\xec\\x9d\\xb4\",\"logoLight\":{\"url\":\"https://s.pstatic.net/static/newsstand/2020/logo/light/0604/964.png\"},\"logoDark\":{\"url\":\"https://s.pstatic.net/static/newsstand/2020/logo/dark/0604/964.png\"},\"showThumbnailView\":true,\"showListView\":true,\"regDate\":\"20241126 09:56:27\",\"_id\":null,\"@type\":\"PC-NEWSSTAND-PRESS-BLOCK\",\"@code\":null,\"@template\":\"NONE\",\"@flowId\":null,\"@flowExecutionId\":null,\"@provider\":null,\"@lastModifiedAt\":null},{\"@type\":\"PC-NEWSSTAND-PRESS-BLOCK\",\"blocks\":null,\"materials\":null,\"excludeInPaging\":false,\"positionForPaging\":0,\"realtime\":false,\"pid\":\"965\",\"name\":\"\\xec\\xa0\\x84\\xea\\xb8\\xb0\\xec\\x8b\\xa0\\xeb\\xac\\xb8\",\"logoLight\":{\"url\":\"https://s.pstatic.net/static/newsstand/2020/logo/light/0604/965.png\"},\"logoDark\":{\"url\":\"https://s.pstatic.net/static/newsstand/2020/logo/dark/0604/965.png\"},\"showThumbnailView\":true,\"showListView\":true,\"regDate\":\"20241126 10:20:57\",\"_id\":null,\"@type\":\"PC-NEWSSTAND-PRESS-BLOCK\",\"@code\":null,\"@template\":\"NONE\",\"@flowId\":null,\"@flowExecutionId\":null,\"@provider\":null,\"@lastModifiedAt\":null},{\"@type\":\"PC-NEWSSTAND-PRESS-BLOCK\",\"blocks\":null,\"materials\":null,\"excludeInPaging\":false,\"positionForPaging\":0,\"realtime\":false,\"pid\":\"966\",\"name\":\"\\xec\\xa0\\x95\\xec\\x8b\\xa0\\xec\\x9d\\x98\\xed\\x95\\x99\\xec\\x8b\\xa0\\xeb\\xac\\xb8\",\"logoLight\":{\"url\":\"https://s.pstatic.net/static/newsstand/2020/logo/light/0604/966.png\"},\"logoDark\":{\"url\":\"https://s.pstatic.net/static/newsstand/2020/logo/dark/0604/966.png\"},\"showThumbnailView\":true,\"showListView\":true,\"regDate\":\"20241126 10:20:54\",\"_id\":null,\"@type\":\"PC-NEWSSTAND-PRESS-BLOCK\",\"@code\":null,\"@template\":\"NONE\",\"@flowId\":null,\"@flowExecutionId\":null,\"@provider\":null,\"@lastModifiedAt\":null},{\"@type\":\"PC-NEWSSTAND-PRESS-BLOCK\",\"blocks\":null,\"materials\":null,\"excludeInPaging\":false,\"positionForPaging\":0,\"realtime\":false,\"pid\":\"967\",\"name\":\"\\xec\\xbd\\x94\\xeb\\xa6\\xac\\xec\\x95\\x84\\xec\\x89\\xac\\xed\\x95\\x91\\xea\\xb0\\x80\\xec\\xa0\\x9c\\xed\\x8a\\xb8\",\"logoLight\":{\"url\":\"https://s.pstatic.net/static/newsstand/2020/logo/light/0604/967.png\"},\"logoDark\":{\"url\":\"https://s.pstatic.net/static/newsstand/2020/logo/dark/0604/967.png\"},\"showThumbnailView\":true,\"showListView\":true,\"regDate\":\"20241126 10:20:02\",\"_id\":null,\"@type\":\"PC-NEWSSTAND-PRESS-BLOCK\",\"@code\":null,\"@template\":\"NONE\",\"@flowId\":null,\"@flowExecutionId\":null,\"@provider\":null,\"@lastModifiedAt\":null},{\"@type\":\"PC-NEWSSTAND-PRESS-BLOCK\",\"blocks\":null,\"materials\":null,\"excludeInPaging\":false,\"positionForPaging\":0,\"realtime\":false,\"pid\":\"968\",\"name\":\"\\xed\\x95\\x9c\\xea\\xb5\\xad\\xea\\xb8\\x88\\xec\\x9c\\xb5\\xec\\x8b\\xa0\\xeb\\xac\\xb8\",\"logoLight\":{\"url\":\"https://s.pstatic.net/static/newsstand/2020/logo/light/0604/968.png\"},\"logoDark\":{\"url\":\"https://s.pstatic.net/static/newsstand/2020/logo/dark/0604/968.png\"},\"showThumbnailView\":true,\"showListView\":true,\"regDate\":\"20241126 10:29:11\",\"_id\":null,\"@type\":\"PC-NEWSSTAND-PRESS-BLOCK\",\"@code\":null,\"@template\":\"NONE\",\"@flowId\":null,\"@flowExecutionId\":null,\"@provider\":null,\"@lastModifiedAt\":null},{\"@type\":\"PC-NEWSSTAND-PRESS-BLOCK\",\"blocks\":null,\"materials\":null,\"excludeInPaging\":false,\"positionForPaging\":0,\"realtime\":false,\"pid\":\"969\",\"name\":\"\\xeb\\xa7\\xa4\\xec\\x9d\\xbc\\xeb\\x85\\xb8\\xeb\\x8f\\x99\\xeb\\x89\\xb4\\xec\\x8a\\xa4\",\"logoLight\":{\"url\":\"https://s.pstatic.net/static/newsstand/2020/logo/light/0604/969.png\"},\"logoDark\":{\"url\":\"https://s.pstatic.net/static/newsstand/2020/logo/dark/0604/969.png\"},\"showThumbnailView\":true,\"showListView\":true,\"regDate\":\"20241126 07:40:05\",\"_id\":null,\"@type\":\"PC-NEWSSTAND-PRESS-BLOCK\",\"@code\":null,\"@template\":\"NONE\",\"@flowId\":null,\"@flowExecutionId\":null,\"@provider\":null,\"@lastModifiedAt\":null},{\"@type\":\"PC-NEWSSTAND-PRESS-BLOCK\",\"blocks\":null,\"materials\":null,\"excludeInPaging\":false,\"positionForPaging\":0,\"realtime\":false,\"pid\":\"050\",\"name\":\"\\xed\\x95\\x9c\\xea\\xb2\\xbd\\xeb\\xb9\\x84\\xec\\xa6\\x88\\xeb\\x8b\\x88\\xec\\x8a\\xa4\",\"logoLight\":{\"url\":\"https://s.pstatic.net/static/newsstand/up/2020/0928/nsd125033437.png\"},\"logoDark\":{\"url\":\"https://s.pstatic.net/static/newsstand/up/2020/0928/nsd125026855.png\"},\"showThumbnailView\":true,\"showListView\":true,\"regDate\":\"20241126 09:20:57\",\"_id\":null,\"@type\":\"PC-NEWSSTAND-PRESS-BLOCK\",\"@code\":null,\"@template\":\"NONE\",\"@flowId\":null,\"@flowExecutionId\":null,\"@provider\":null,\"@lastModifiedAt\":null},{\"@type\":\"PC-NEWSSTAND-PRESS-BLOCK\",\"blocks\":null,\"materials\":null,\"excludeInPaging\":false,\"positionForPaging\":0,\"realtime\":false,\"pid\":\"293\",\"name\":\"\\xeb\\xb8\\x94\\xeb\\xa1\\x9c\\xed\\x84\\xb0\",\"logoLight\":{\"url\":\"https://s.pstatic.net/static/newsstand/2020/logo/light/0604/293.png\"},\"logoDark\":{\"url\":\"https://s.pstatic.net/static/newsstand/2020/logo/dark/0604/293.png\"},\"showThumbnailView\":true,\"showListView\":true,\"regDate\":\"20241126 10:21:11\",\"_id\":null,\"@type\":\"PC-NEWSSTAND-PRESS-BLOCK\",\"@code\":null,\"@template\":\"NONE\",\"@flowId\":null,\"@flowExecutionId\":null,\"@provider\":null,\"@lastModifiedAt\":null},{\"@type\":\"PC-NEWSSTAND-PRESS-BLOCK\",\"blocks\":null,\"materials\":null,\"excludeInPaging\":false,\"positionForPaging\":0,\"realtime\":false,\"pid\":\"052\",\"name\":\"YTN\",\"logoLight\":{\"url\":\"https://s.pstatic.net/static/newsstand/2020/logo/light/0604/052.png\"},\"logoDark\":{\"url\":\"https://s.pstatic.net/static/newsstand/2020/logo/dark/0604/052.png\"},\"showThumbnailView\":true,\"showListView\":true,\"regDate\":\"20241126 10:24:05\",\"_id\":null,\"@type\":\"PC-NEWSSTAND-PRESS-BLOCK\",\"@code\":null,\"@template\":\"NONE\",\"@flowId\":null,\"@flowExecutionId\":null,\"@provider\":null,\"@lastModifiedAt\":null},{\"@type\":\"PC-NEWSSTAND-PRESS-BLOCK\",\"blocks\":null,\"materials\":null,\"excludeInPaging\":false,\"positionForPaging\":0,\"realtime\":false,\"pid\":\"296\",\"name\":\"\\xec\\xbd\\x94\\xeb\\xa9\\x94\\xeb\\x94\\x94\\xeb\\x8b\\xb7\\xec\\xbb\\xb4\",\"logoLight\":{\"url\":\"https://s.pstatic.net/static/newsstand/2020/logo/light/0604/296.png\"},\"logoDark\":{\"url\":\"https://s.pstatic.net/static/newsstand/2020/logo/dark/0604/296.png\"},\"showThumbnailView\":true,\"showListView\":true,\"regDate\":\"20241126 09:52:36\",\"_id\":null,\"@type\":\"PC-NEWSSTAND-PRESS-BLOCK\",\"@code\":null,\"@template\":\"NONE\",\"@flowId\":null,\"@flowExecutionId\":null,\"@provider\":null,\"@lastModifiedAt\":null},{\"@type\":\"PC-NEWSSTAND-PRESS-BLOCK\",\"blocks\":null,\"materials\":null,\"excludeInPaging\":false,\"positionForPaging\":0,\"realtime\":false,\"pid\":\"055\",\"name\":\"SBS\",\"logoLight\":{\"url\":\"https://s.pstatic.net/static/newsstand/2020/logo/light/0604/055.png\"},\"logoDark\":{\"url\":\"https://s.pstatic.net/static/newsstand/2020/logo/dark/0604/055.png\"},\"showThumbnailView\":true,\"showListView\":true,\"regDate\":\"20241126 10:30:54\",\"_id\":null,\"@type\":\"PC-NEWSSTAND-PRESS-BLOCK\",\"@code\":null,\"@template\":\"NONE\",\"@flowId\":null,\"@flowExecutionId\":null,\"@provider\":null,\"@lastModifiedAt\":null},{\"@type\":\"PC-NEWSSTAND-PRESS-BLOCK\",\"blocks\":null,\"materials\":null,\"excludeInPaging\":false,\"positionForPaging\":0,\"realtime\":false,\"pid\":\"056\",\"name\":\"KBS\",\"logoLight\":{\"url\":\"https://s.pstatic.net/static/newsstand/2020/logo/light/0604/056.png\"},\"logoDark\":{\"url\":\"https://s.pstatic.net/static/newsstand/2020/logo/dark/0604/056.png\"},\"showThumbnailView\":true,\"showListView\":true,\"regDate\":\"20241126 10:29:56\",\"_id\":null,\"@type\":\"PC-NEWSSTAND-PRESS-BLOCK\",\"@code\":null,\"@template\":\"NONE\",\"@flowId\":null,\"@flowExecutionId\":null,\"@provider\":null,\"@lastModifiedAt\":null},{\"@type\":\"PC-NEWSSTAND-PRESS-BLOCK\",\"blocks\":null,\"materials\":null,\"excludeInPaging\":false,\"positionForPaging\":0,\"realtime\":false,\"pid\":\"057\",\"name\":\"MBN\",\"logoLight\":{\"url\":\"https://s.pstatic.net/static/newsstand/2020/logo/light/0604/057.png\"},\"logoDark\":{\"url\":\"https://s.pstatic.net/static/newsstand/2020/logo/dark/0604/057.png\"},\"showThumbnailView\":true,\"showListView\":true,\"regDate\":\"20241126 10:30:01\",\"_id\":null,\"@type\":\"PC-NEWSSTAND-PRESS-BLOCK\",\"@code\":null,\"@template\":\"NONE\",\"@flowId\":null,\"@flowExecutionId\":null,\"@provider\":null,\"@lastModifiedAt\":null},{\"@type\":\"PC-NEWSSTAND-PRESS-BLOCK\",\"blocks\":null,\"materials\":null,\"excludeInPaging\":false,\"positionForPaging\":0,\"realtime\":false,\"pid\":\"970\",\"name\":\"\\xec\\x86\\x8c\\xeb\\xb9\\x84\\xec\\x9e\\x90\\xea\\xb0\\x80\\xeb\\xa7\\x8c\\xeb\\x93\\x9c\\xeb\\x8a\\x94\\xec\\x8b\\xa0\\xeb\\xac\\xb8\",\"logoLight\":{\"url\":\"https://s.pstatic.net/static/newsstand/2020/logo/light/0604/970.png\"},\"logoDark\":{\"url\":\"https://s.pstatic.net/static/newsstand/2020/logo/dark/0604/970.png\"},\"showThumbnailView\":true,\"showListView\":true,\"regDate\":\"20241126 07:11:53\",\"_id\":null,\"@type\":\"PC-NEWSSTAND-PRESS-BLOCK\",\"@code\":null,\"@template\":\"NONE\",\"@flowId\":null,\"@flowExecutionId\":null,\"@provider\":null,\"@lastModifiedAt\":null},{\"@type\":\"PC-NEWSSTAND-PRESS-BLOCK\",\"blocks\":null,\"materials\":null,\"excludeInPaging\":false,\"positionForPaging\":0,\"realtime\":false,\"pid\":\"971\",\"name\":\"\\xec\\x9d\\xbc\\xec\\x9a\\x94\\xec\\x8b\\x9c\\xec\\x82\\xac\",\"logoLight\":{\"url\":\"https://s.pstatic.net/static/newsstand/2020/logo/light/0604/971.png\"},\"logoDark\":{\"url\":\"https://s.pstatic.net/static/newsstand/2020/logo/dark/0604/971.png\"},\"showThumbnailView\":true,\"showListView\":true,\"regDate\":\"20241126 10:20:02\",\"_id\":null,\"@type\":\"PC-NEWSSTAND-PRESS-BLOCK\",\"@code\":null,\"@template\":\"NONE\",\"@flowId\":null,\"@flowExecutionId\":null,\"@provider\":null,\"@lastModifiedAt\":null},{\"@type\":\"PC-NEWSSTAND-PRESS-BLOCK\",\"blocks\":null,\"materials\":null,\"excludeInPaging\":false,\"positionForPaging\":0,\"realtime\":false,\"pid\":\"972\",\"name\":\"PD\\xec\\xa0\\x80\\xeb\\x84\\x90\",\"logoLight\":{\"url\":\"https://s.pstatic.net/static/newsstand/2020/logo/light/0604/972.png\"},\"logoDark\":{\"url\":\"https://s.pstatic.net/static/newsstand/2020/logo/dark/0604/972.png\"},\"showThumbnailView\":true,\"showListView\":true,\"regDate\":\"20241125 13:17:44\",\"_id\":null,\"@type\":\"PC-NEWSSTAND-PRESS-BLOCK\",\"@code\":null,\"@template\":\"NONE\",\"@flowId\":null,\"@flowExecutionId\":null,\"@provider\":null,\"@lastModifiedAt\":null},{\"@type\":\"PC-NEWSSTAND-PRESS-BLOCK\",\"blocks\":null,\"materials\":null,\"excludeInPaging\":false,\"positionForPaging\":0,\"realtime\":false,\"pid\":\"973\",\"name\":\"\\xeb\\xb9\\x84\\xec\\xa6\\x88\\xed\\x95\\x9c\\xea\\xb5\\xad\",\"logoLight\":{\"url\":\"https://s.pstatic.net/static/newsstand/2020/logo/light/0604/973.png\"},\"logoDark\":{\"url\":\"https://s.pstatic.net/static/newsstand/2020/logo/dark/0604/973.png\"},\"showThumbnailView\":true,\"showListView\":true,\"regDate\":\"20241126 10:31:30\",\"_id\":null,\"@type\":\"PC-NEWSSTAND-PRESS-BLOCK\",\"@code\":null,\"@template\":\"NONE\",\"@flowId\":null,\"@flowExecutionId\":null,\"@provider\":null,\"@lastModifiedAt\":null},{\"@type\":\"PC-NEWSSTAND-PRESS-BLOCK\",\"blocks\":null,\"materials\":null,\"excludeInPaging\":false,\"positionForPaging\":0,\"realtime\":false,\"pid\":\"974\",\"name\":\"BBS NEWS\",\"logoLight\":{\"url\":\"https://s.pstatic.net/static/newsstand/2020/logo/light/0604/974.png\"},\"logoDark\":{\"url\":\"https://s.pstatic.net/static/newsstand/2020/logo/dark/0604/974.png\"},\"showThumbnailView\":true,\"showListView\":true,\"regDate\":\"20241125 17:20:10\",\"_id\":null,\"@type\":\"PC-NEWSSTAND-PRESS-BLOCK\",\"@code\":null,\"@template\":\"NONE\",\"@flowId\":null,\"@flowExecutionId\":null,\"@provider\":null,\"@lastModifiedAt\":null},{\"@type\":\"PC-NEWSSTAND-PRESS-BLOCK\",\"blocks\":null,\"materials\":null,\"excludeInPaging\":false,\"positionForPaging\":0,\"realtime\":false,\"pid\":\"975\",\"name\":\"\\xec\\x8b\\x9c\\xec\\x82\\xac\\xec\\xa0\\x80\\xeb\\x84\\x90\\xec\\x9d\\xb4\\xec\\xbd\\x94\\xeb\\x85\\xb8\\xeb\\xaf\\xb8\",\"logoLight\":{\"url\":\"https://s.pstatic.net/static/newsstand/2020/logo/light/0604/975.png\"},\"logoDark\":{\"url\":\"https://s.pstatic.net/static/newsstand/2020/logo/dark/0604/975.png\"},\"showThumbnailView\":true,\"showListView\":true,\"regDate\":\"20241126 10:20:08\",\"_id\":null,\"@type\":\"PC-NEWSSTAND-PRESS-BLOCK\",\"@code\":null,\"@template\":\"NONE\",\"@flowId\":null,\"@flowExecutionId\":null,\"@provider\":null,\"@lastModifiedAt\":null},{\"@type\":\"PC-NEWSSTAND-PRESS-BLOCK\",\"blocks\":null,\"materials\":null,\"excludeInPaging\":false,\"positionForPaging\":0,\"realtime\":false,\"pid\":\"976\",\"name\":\"\\xeb\\xac\\xb4\\xeb\\x93\\xb1\\xec\\x9d\\xbc\\xeb\\xb3\\xb4\",\"logoLight\":{\"url\":\"https://s.pstatic.net/static/newsstand/2020/logo/light/0604/976.png\"},\"logoDark\":{\"url\":\"https://s.pstatic.net/static/newsstand/2020/logo/dark/0604/976.png\"},\"showThumbnailView\":true,\"showListView\":true,\"regDate\":\"20241126 10:20:09\",\"_id\":null,\"@type\":\"PC-NEWSSTAND-PRESS-BLOCK\",\"@code\":null,\"@template\":\"NONE\",\"@flowId\":null,\"@flowExecutionId\":null,\"@provider\":null,\"@lastModifiedAt\":null},{\"@type\":\"PC-NEWSSTAND-PRESS-BLOCK\",\"blocks\":null,\"materials\":null,\"excludeInPaging\":false,\"positionForPaging\":0,\"realtime\":false,\"pid\":\"977\",\"name\":\"\\xed\\x97\\xac\\xeb\\xa1\\x9c\\xeb\\x94\\x94\\xeb\\x94\\x94\",\"logoLight\":{\"url\":\"https://s.pstatic.net/static/newsstand/2020/logo/light/0604/977.png\"},\"logoDark\":{\"url\":\"https://s.pstatic.net/static/newsstand/2020/logo/dark/0604/977.png\"},\"showThumbnailView\":true,\"showListView\":true,\"regDate\":\"20241126 10:20:51\",\"_id\":null,\"@type\":\"PC-NEWSSTAND-PRESS-BLOCK\",\"@code\":null,\"@template\":\"NONE\",\"@flowId\":null,\"@flowExecutionId\":null,\"@provider\":null,\"@lastModifiedAt\":null},{\"@type\":\"PC-NEWSSTAND-PRESS-BLOCK\",\"blocks\":null,\"materials\":null,\"excludeInPaging\":false,\"positionForPaging\":0,\"realtime\":false,\"pid\":\"978\",\"name\":\"\\xea\\xb2\\xbd\\xeb\\xb6\\x81\\xeb\\x8f\\x84\\xeb\\xaf\\xbc\\xec\\x9d\\xbc\\xeb\\xb3\\xb4\",\"logoLight\":{\"url\":\"https://s.pstatic.net/static/newsstand/2020/logo/light/0604/978.png\"},\"logoDark\":{\"url\":\"https://s.pstatic.net/static/newsstand/2020/logo/dark/0604/978.png\"},\"showThumbnailView\":true,\"showListView\":true,\"regDate\":\"20241125 19:05:51\",\"_id\":null,\"@type\":\"PC-NEWSSTAND-PRESS-BLOCK\",\"@code\":null,\"@template\":\"NONE\",\"@flowId\":null,\"@flowExecutionId\":null,\"@provider\":null,\"@lastModifiedAt\":null},{\"@type\":\"PC-NEWSSTAND-PRESS-BLOCK\",\"blocks\":null,\"materials\":null,\"excludeInPaging\":false,\"positionForPaging\":0,\"realtime\":false,\"pid\":\"979\",\"name\":\"\\xec\\x95\\xbd\\xec\\x82\\xac\\xea\\xb3\\xb5\\xeb\\xa1\\xa0\",\"logoLight\":{\"url\":\"https://s.pstatic.net/static/newsstand/2020/logo/light/0604/979.png\"},\"logoDark\":{\"url\":\"https://s.pstatic.net/static/newsstand/2020/logo/dark/0604/979.png\"},\"showThumbnailView\":true,\"showListView\":true,\"regDate\":\"20241126 05:50:44\",\"_id\":null,\"@type\":\"PC-NEWSSTAND-PRESS-BLOCK\",\"@code\":null,\"@template\":\"NONE\",\"@flowId\":null,\"@flowExecutionId\":null,\"@provider\":null,\"@lastModifiedAt\":null},{\"@type\":\"PC-NEWSSTAND-PRESS-BLOCK\",\"blocks\":null,\"materials\":null,\"excludeInPaging\":false,\"positionForPaging\":0,\"realtime\":false,\"pid\":\"980\",\"name\":\"KBC\\xea\\xb4\\x91\\xec\\xa3\\xbc\\xeb\\xb0\\xa9\\xec\\x86\\xa1\",\"logoLight\":{\"url\":\"https://s.pstatic.net/static/newsstand/2020/logo/light/0604/980.png\"},\"logoDark\":{\"url\":\"https://s.pstatic.net/static/newsstand/2020/logo/dark/0604/980.png\"},\"showThumbnailView\":true,\"showListView\":true,\"regDate\":\"20241126 10:07:37\",\"_id\":null,\"@type\":\"PC-NEWSSTAND-PRESS-BLOCK\",\"@code\":null,\"@template\":\"NONE\",\"@flowId\":null,\"@flowExecutionId\":null,\"@provider\":null,\"@lastModifiedAt\":null},{\"@type\":\"PC-NEWSSTAND-PRESS-BLOCK\",\"blocks\":null,\"materials\":null,\"excludeInPaging\":false,\"positionForPaging\":0,\"realtime\":false,\"pid\":\"981\",\"name\":\"TBS\",\"logoLight\":{\"url\":\"https://s.pstatic.net/static/newsstand/2020/logo/light/0604/981.png\"},\"logoDark\":{\"url\":\"https://s.pstatic.net/static/newsstand/2020/logo/dark/0604/981.png\"},\"showThumbnailView\":true,\"showListView\":true,\"regDate\":\"20241126 10:31:35\",\"_id\":null,\"@type\":\"PC-NEWSSTAND-PRESS-BLOCK\",\"@code\":null,\"@template\":\"NONE\",\"@flowId\":null,\"@flowExecutionId\":null,\"@provider\":null,\"@lastModifiedAt\":null},{\"@type\":\"PC-NEWSSTAND-PRESS-BLOCK\",\"blocks\":null,\"materials\":null,\"excludeInPaging\":false,\"positionForPaging\":0,\"realtime\":false,\"pid\":\"982\",\"name\":\"\\xec\\x9d\\xb4\\xec\\xbd\\x94\\xeb\\x85\\xb8\\xeb\\xaf\\xb8\\xec\\xa1\\xb0\\xec\\x84\\xa0\",\"logoLight\":{\"url\":\"https://s.pstatic.net/static/newsstand/2020/logo/light/0604/982.png\"},\"logoDark\":{\"url\":\"https://s.pstatic.net/static/newsstand/2020/logo/dark/0604/982.png\"},\"showThumbnailView\":true,\"showListView\":true,\"regDate\":\"20241125 12:46:27\",\"_id\":null,\"@type\":\"PC-NEWSSTAND-PRESS-BLOCK\",\"@code\":null,\"@template\":\"NONE\",\"@flowId\":null,\"@flowExecutionId\":null,\"@provider\":null,\"@lastModifiedAt\":null},{\"@type\":\"PC-NEWSSTAND-PRESS-BLOCK\",\"blocks\":null,\"materials\":null,\"excludeInPaging\":false,\"positionForPaging\":0,\"realtime\":false,\"pid\":\"983\",\"name\":\"\\xec\\xa4\\x91\\xeb\\xb6\\x80\\xeb\\xa7\\xa4\\xec\\x9d\\xbc\",\"logoLight\":{\"url\":\"https://s.pstatic.net/static/newsstand/2020/logo/light/0604/983.png\"},\"logoDark\":{\"url\":\"https://s.pstatic.net/static/newsstand/2020/logo/dark/0604/983.png\"},\"showThumbnailView\":true,\"showListView\":true,\"regDate\":\"20241125 20:39:23\",\"_id\":null,\"@type\":\"PC-NEWSSTAND-PRESS-BLOCK\",\"@code\":null,\"@template\":\"NONE\",\"@flowId\":null,\"@flowExecutionId\":null,\"@provider\":null,\"@lastModifiedAt\":null},{\"@type\":\"PC-NEWSSTAND-PRESS-BLOCK\",\"blocks\":null,\"materials\":null,\"excludeInPaging\":false,\"positionForPaging\":0,\"realtime\":false,\"pid\":\"984\",\"name\":\"\\xeb\\x82\\x9a\\xec\\x8b\\x9c\\xec\\xb6\\x98\\xec\\xb6\\x94\",\"logoLight\":{\"url\":\"https://s.pstatic.net/static/newsstand/2020/logo/light/0604/984.png\"},\"logoDark\":{\"url\":\"https://s.pstatic.net/static/newsstand/2020/logo/dark/0604/984.png\"},\"showThumbnailView\":true,\"showListView\":true,\"regDate\":\"20241120 10:40:00\",\"_id\":null,\"@type\":\"PC-NEWSSTAND-PRESS-BLOCK\",\"@code\":null,\"@template\":\"NONE\",\"@flowId\":null,\"@flowExecutionId\":null,\"@provider\":null,\"@lastModifiedAt\":null},{\"@type\":\"PC-NEWSSTAND-PRESS-BLOCK\",\"blocks\":null,\"materials\":null,\"excludeInPaging\":false,\"positionForPaging\":0,\"realtime\":false,\"pid\":\"986\",\"name\":\"\\xed\\x88\\xac\\xeb\\x8d\\xb0\\xec\\x9d\\xb4\\xec\\x8b\\xa0\\xeb\\xac\\xb8\",\"logoLight\":{\"url\":\"https://s.pstatic.net/static/newsstand/up/2020/1019/nsd144531857.png\"},\"logoDark\":{\"url\":\"https://s.pstatic.net/static/newsstand/up/2020/1019/nsd144525568.png\"},\"showThumbnailView\":true,\"showListView\":true,\"regDate\":\"20241126 10:20:04\",\"_id\":null,\"@type\":\"PC-NEWSSTAND-PRESS-BLOCK\",\"@code\":null,\"@template\":\"NONE\",\"@flowId\":null,\"@flowExecutionId\":null,\"@provider\":null,\"@lastModifiedAt\":null},{\"@type\":\"PC-NEWSSTAND-PRESS-BLOCK\",\"blocks\":null,\"materials\":null,\"excludeInPaging\":false,\"positionForPaging\":0,\"realtime\":false,\"pid\":\"988\",\"name\":\"\\xec\\x9d\\xb4\\xec\\xbd\\x94\\xeb\\x85\\xb8\\xeb\\xaf\\xb8\\xec\\x82\\xac\\xec\\x9d\\xb4\\xec\\x96\\xb8\\xec\\x8a\\xa4\",\"logoLight\":{\"url\":\"https://s.pstatic.net/static/newsstand/up/2024/1112/nsd9551191.png\"},\"logoDark\":{\"url\":\"https://s.pstatic.net/static/newsstand/up/2024/1112/nsd95454919.png\"},\"showThumbnailView\":true,\"showListView\":true,\"regDate\":\"20241125 15:56:29\",\"_id\":null,\"@type\":\"PC-NEWSSTAND-PRESS-BLOCK\",\"@code\":null,\"@template\":\"NONE\",\"@flowId\":null,\"@flowExecutionId\":null,\"@provider\":null,\"@lastModifiedAt\":null},{\"@type\":\"PC-NEWSSTAND-PRESS-BLOCK\",\"blocks\":null,\"materials\":null,\"excludeInPaging\":false,\"positionForPaging\":0,\"realtime\":false,\"pid\":\"989\",\"name\":\"TBC\",\"logoLight\":{\"url\":\"https://s.pstatic.net/static/newsstand/2020/logo/light/0604/989.png\"},\"logoDark\":{\"url\":\"https://s.pstatic.net/static/newsstand/2020/logo/dark/0604/989.png\"},\"showThumbnailView\":true,\"showListView\":true,\"regDate\":\"20241126 08:57:49\",\"_id\":null,\"@type\":\"PC-NEWSSTAND-PRESS-BLOCK\",\"@code\":null,\"@template\":\"NONE\",\"@flowId\":null,\"@flowExecutionId\":null,\"@provider\":null,\"@lastModifiedAt\":null},{\"@type\":\"PC-NEWSSTAND-PRESS-BLOCK\",\"blocks\":null,\"materials\":null,\"excludeInPaging\":false,\"positionForPaging\":0,\"realtime\":false,\"pid\":\"073\",\"name\":\"\\xec\\x8a\\xa4\\xed\\x8f\\xac\\xec\\xb8\\xa0\\xec\\x84\\x9c\\xec\\x9a\\xb8\",\"logoLight\":{\"url\":\"https://s.pstatic.net/static/newsstand/up/2020/0708/nsd94830278.png\"},\"logoDark\":{\"url\":\"https://s.pstatic.net/static/newsstand/up/2020/0708/nsd94820151.png\"},\"showThumbnailView\":true,\"showListView\":true,\"regDate\":\"20241126 10:25:12\",\"_id\":null,\"@type\":\"PC-NEWSSTAND-PRESS-BLOCK\",\"@code\":null,\"@template\":\"NONE\",\"@flowId\":null,\"@flowExecutionId\":null,\"@provider\":null,\"@lastModifiedAt\":null},{\"@type\":\"PC-NEWSSTAND-PRESS-BLOCK\",\"blocks\":null,\"materials\":null,\"excludeInPaging\":false,\"positionForPaging\":0,\"realtime\":false,\"pid\":\"075\",\"name\":\"\\xeb\\xa7\\xa5\\xec\\x8a\\xa4\\xeb\\xac\\xb4\\xeb\\xb9\\x84\",\"logoLight\":{\"url\":\"https://s.pstatic.net/static/newsstand/2020/logo/light/0604/075.png\"},\"logoDark\":{\"url\":\"https://s.pstatic.net/static/newsstand/2020/logo/dark/0604/075.png\"},\"showThumbnailView\":true,\"showListView\":true,\"regDate\":\"20241126 08:58:55\",\"_id\":null,\"@type\":\"PC-NEWSSTAND-PRESS-BLOCK\",\"@code\":null,\"@template\":\"NONE\",\"@flowId\":null,\"@flowExecutionId\":null,\"@provider\":null,\"@lastModifiedAt\":null},{\"@type\":\"PC-NEWSSTAND-PRESS-BLOCK\",\"blocks\":null,\"materials\":null,\"excludeInPaging\":false,\"positionForPaging\":0,\"realtime\":false,\"pid\":\"076\",\"name\":\"\\xec\\x8a\\xa4\\xed\\x8f\\xac\\xec\\xb8\\xa0\\xec\\xa1\\xb0\\xec\\x84\\xa0\",\"logoLight\":{\"url\":\"https://s.pstatic.net/static/newsstand/2020/logo/light/0604/076.png\"},\"logoDark\":{\"url\":\"https://s.pstatic.net/static/newsstand/2020/logo/dark/0604/076.png\"},\"showThumbnailView\":true,\"showListView\":true,\"regDate\":\"20241126 09:53:25\",\"_id\":null,\"@type\":\"PC-NEWSSTAND-PRESS-BLOCK\",\"@code\":null,\"@template\":\"NONE\",\"@flowId\":null,\"@flowExecutionId\":null,\"@provider\":null,\"@lastModifiedAt\":null},{\"@type\":\"PC-NEWSSTAND-PRESS-BLOCK\",\"blocks\":null,\"materials\":null,\"excludeInPaging\":false,\"positionForPaging\":0,\"realtime\":false,\"pid\":\"990\",\"name\":\"\\xec\\xa3\\xbc\\xea\\xb0\\x84\\xec\\xa1\\xb0\\xec\\x84\\xa0\",\"logoLight\":{\"url\":\"https://s.pstatic.net/static/newsstand/2020/logo/light/0604/990.png\"},\"logoDark\":{\"url\":\"https://s.pstatic.net/static/newsstand/2020/logo/dark/0604/990.png\"},\"showThumbnailView\":true,\"showListView\":true,\"regDate\":\"20241126 10:21:06\",\"_id\":null,\"@type\":\"PC-NEWSSTAND-PRESS-BLOCK\",\"@code\":null,\"@template\":\"NONE\",\"@flowId\":null,\"@flowExecutionId\":null,\"@provider\":null,\"@lastModifiedAt\":null},{\"@type\":\"PC-NEWSSTAND-PRESS-BLOCK\",\"blocks\":null,\"materials\":null,\"excludeInPaging\":false,\"positionForPaging\":0,\"realtime\":false,\"pid\":\"991\",\"name\":\"\\xeb\\x8d\\xb0\\xec\\x9d\\xbc\\xeb\\xa6\\xacNK\",\"logoLight\":{\"url\":\"https://s.pstatic.net/static/newsstand/2020/logo/light/0604/991.png\"},\"logoDark\":{\"url\":\"https://s.pstatic.net/static/newsstand/2020/logo/dark/0604/991.png\"},\"showThumbnailView\":true,\"showListView\":true,\"regDate\":\"20241125 23:15:43\",\"_id\":null,\"@type\":\"PC-NEWSSTAND-PRESS-BLOCK\",\"@code\":null,\"@template\":\"NONE\",\"@flowId\":null,\"@flowExecutionId\":null,\"@provider\":null,\"@lastModifiedAt\":null},{\"@type\":\"PC-NEWSSTAND-PRESS-BLOCK\",\"blocks\":null,\"materials\":null,\"excludeInPaging\":false,\"positionForPaging\":0,\"realtime\":false,\"pid\":\"079\",\"name\":\"\\xeb\\x85\\xb8\\xec\\xbb\\xb7\\xeb\\x89\\xb4\\xec\\x8a\\xa4\",\"logoLight\":{\"url\":\"https://s.pstatic.net/static/newsstand/2020/logo/light/0604/079.png\"},\"logoDark\":{\"url\":\"https://s.pstatic.net/static/newsstand/2020/logo/dark/0604/079.png\"},\"showThumbnailView\":true,\"showListView\":true,\"regDate\":\"20241126 10:25:24\",\"_id\":null,\"@type\":\"PC-NEWSSTAND-PRESS-BLOCK\",\"@code\":null,\"@template\":\"NONE\",\"@flowId\":null,\"@flowExecutionId\":null,\"@provider\":null,\"@lastModifiedAt\":null},{\"@type\":\"PC-NEWSSTAND-PRESS-BLOCK\",\"blocks\":null,\"materials\":null,\"excludeInPaging\":false,\"positionForPaging\":0,\"realtime\":false,\"pid\":\"993\",\"name\":\"\\xed\\x97\\x88\\xed\\x94\\x84\\xed\\x8f\\xac\\xec\\x8a\\xa4\\xed\\x8a\\xb8\\xec\\xbd\\x94\\xeb\\xa6\\xac\\xec\\x95\\x84\",\"logoLight\":{\"url\":\"https://s.pstatic.net/static/newsstand/2020/logo/light/0604/993.png\"},\"logoDark\":{\"url\":\"https://s.pstatic.net/static/newsstand/2020/logo/dark/0604/993.png\"},\"showThumbnailView\":true,\"showListView\":true,\"regDate\":\"20241126 10:21:07\",\"_id\":null,\"@type\":\"PC-NEWSSTAND-PRESS-BLOCK\",\"@code\":null,\"@template\":\"NONE\",\"@flowId\":null,\"@flowExecutionId\":null,\"@provider\":null,\"@lastModifiedAt\":null},{\"@type\":\"PC-NEWSSTAND-PRESS-BLOCK\",\"blocks\":null,\"materials\":null,\"excludeInPaging\":false,\"positionForPaging\":0,\"realtime\":false,\"pid\":\"994\",\"name\":\"AI\\xed\\x83\\x80\\xec\\x9e\\x84\\xec\\x8a\\xa4\",\"logoLight\":{\"url\":\"https://s.pstatic.net/static/newsstand/up/2021/1112/nsd102040597.png\"},\"logoDark\":{\"url\":\"https://s.pstatic.net/static/newsstand/up/2021/1112/nsd102110770.png\"},\"showThumbnailView\":true,\"showListView\":true,\"regDate\":\"20241126 10:20:55\",\"_id\":null,\"@type\":\"PC-NEWSSTAND-PRESS-BLOCK\",\"@code\":null,\"@template\":\"NONE\",\"@flowId\":null,\"@flowExecutionId\":null,\"@provider\":null,\"@lastModifiedAt\":null},{\"@type\":\"PC-NEWSSTAND-PRESS-BLOCK\",\"blocks\":null,\"materials\":null,\"excludeInPaging\":false,\"positionForPaging\":0,\"realtime\":false,\"pid\":\"995\",\"name\":\"\\xeb\\x89\\xb4\\xec\\x8a\\xa4\\xed\\x8f\\xac\\xec\\x8a\\xa4\\xed\\x8a\\xb8\",\"logoLight\":{\"url\":\"https://s.pstatic.net/static/newsstand/up/2021/1112/nsd10248812.png\"},\"logoDark\":{\"url\":\"https://s.pstatic.net/static/newsstand/up/2021/1112/nsd102419893.png\"},\"showThumbnailView\":true,\"showListView\":true,\"regDate\":\"20241126 10:20:56\",\"_id\":null,\"@type\":\"PC-NEWSSTAND-PRESS-BLOCK\",\"@code\":null,\"@template\":\"NONE\",\"@flowId\":null,\"@flowExecutionId\":null,\"@provider\":null,\"@lastModifiedAt\":null},{\"@type\":\"PC-NEWSSTAND-PRESS-BLOCK\",\"blocks\":null,\"materials\":null,\"excludeInPaging\":false,\"positionForPaging\":0,\"realtime\":false,\"pid\":\"996\",\"name\":\"\\xeb\\xa7\\xa4\\xea\\xb2\\xbd\\xed\\x97\\xac\\xec\\x8a\\xa4\",\"logoLight\":{\"url\":\"https://s.pstatic.net/static/newsstand/up/2023/0330/nsd10125746.png\"},\"logoDark\":{\"url\":\"https://s.pstatic.net/static/newsstand/up/2023/0330/nsd10148542.png\"},\"showThumbnailView\":true,\"showListView\":true,\"regDate\":\"20241126 10:20:58\",\"_id\":null,\"@type\":\"PC-NEWSSTAND-PRESS-BLOCK\",\"@code\":null,\"@template\":\"NONE\",\"@flowId\":null,\"@flowExecutionId\":null,\"@provider\":null,\"@lastModifiedAt\":null},{\"@type\":\"PC-NEWSSTAND-PRESS-BLOCK\",\"blocks\":null,\"materials\":null,\"excludeInPaging\":false,\"positionForPaging\":0,\"realtime\":false,\"pid\":\"997\",\"name\":\"\\xeb\\x89\\xb4\\xec\\x8a\\xa4\\xed\\x8e\\xad\\xea\\xb7\\x84\",\"logoLight\":{\"url\":\"https://s.pstatic.net/static/newsstand/up/2022/0405/nsd15024245.png\"},\"logoDark\":{\"url\":\"https://s.pstatic.net/static/newsstand/up/2022/0405/nsd15014578.png\"},\"showThumbnailView\":true,\"showListView\":true,\"regDate\":\"20241126 10:20:59\",\"_id\":null,\"@type\":\"PC-NEWSSTAND-PRESS-BLOCK\",\"@code\":null,\"@template\":\"NONE\",\"@flowId\":null,\"@flowExecutionId\":null,\"@provider\":null,\"@lastModifiedAt\":null},{\"@type\":\"PC-NEWSSTAND-PRESS-BLOCK\",\"blocks\":null,\"materials\":null,\"excludeInPaging\":false,\"positionForPaging\":0,\"realtime\":false,\"pid\":\"998\",\"name\":\"\\xeb\\x89\\xb4\\xec\\x8a\\xa4\\xec\\x95\\xa4\\xec\\xa1\\xb0\\xec\\x9d\\xb4\",\"logoLight\":{\"url\":\"https://s.pstatic.net/static/newsstand/up/2022/0328/nsd22503109.png\"},\"logoDark\":{\"url\":\"https://s.pstatic.net/static/newsstand/up/2022/0328/nsd22509287.png\"},\"showThumbnailView\":true,\"showListView\":true,\"regDate\":\"20241126 10:20:58\",\"_id\":null,\"@type\":\"PC-NEWSSTAND-PRESS-BLOCK\",\"@code\":null,\"@template\":\"NONE\",\"@flowId\":null,\"@flowExecutionId\":null,\"@provider\":null,\"@lastModifiedAt\":null},{\"@type\":\"PC-NEWSSTAND-PRESS-BLOCK\",\"blocks\":null,\"materials\":null,\"excludeInPaging\":false,\"positionForPaging\":0,\"realtime\":false,\"pid\":\"081\",\"name\":\"\\xec\\x84\\x9c\\xec\\x9a\\xb8\\xec\\x8b\\xa0\\xeb\\xac\\xb8\",\"logoLight\":{\"url\":\"https://s.pstatic.net/static/newsstand/up/2022/0208/nsd16121208.png\"},\"logoDark\":{\"url\":\"https://s.pstatic.net/static/newsstand/up/2022/0208/nsd161212576.png\"},\"showThumbnailView\":true,\"showListView\":true,\"regDate\":\"20241126 10:24:07\",\"_id\":null,\"@type\":\"PC-NEWSSTAND-PRESS-BLOCK\",\"@code\":null,\"@template\":\"NONE\",\"@flowId\":null,\"@flowExecutionId\":null,\"@provider\":null,\"@lastModifiedAt\":null},{\"@type\":\"PC-NEWSSTAND-PRESS-BLOCK\",\"blocks\":null,\"materials\":null,\"excludeInPaging\":false,\"positionForPaging\":0,\"realtime\":false,\"pid\":\"082\",\"name\":\"\\xeb\\xb6\\x80\\xec\\x82\\xb0\\xec\\x9d\\xbc\\xeb\\xb3\\xb4\",\"logoLight\":{\"url\":\"https://s.pstatic.net/static/newsstand/up/2021/0322/nsd21527882.png\"},\"logoDark\":{\"url\":\"https://s.pstatic.net/static/newsstand/up/2021/0322/nsd215225866.png\"},\"showThumbnailView\":true,\"showListView\":true,\"regDate\":\"20241126 10:23:40\",\"_id\":null,\"@type\":\"PC-NEWSSTAND-PRESS-BLOCK\",\"@code\":null,\"@template\":\"NONE\",\"@flowId\":null,\"@flowExecutionId\":null,\"@provider\":null,\"@lastModifiedAt\":null},{\"@type\":\"PC-NEWSSTAND-PRESS-BLOCK\",\"blocks\":null,\"materials\":null,\"excludeInPaging\":false,\"positionForPaging\":0,\"realtime\":false,\"pid\":\"083\",\"name\":\"\\xea\\xb4\\x91\\xec\\xa3\\xbc\\xec\\x9d\\xbc\\xeb\\xb3\\xb4\",\"logoLight\":{\"url\":\"https://s.pstatic.net/static/newsstand/up/2023/0309/nsd195548501.png\"},\"logoDark\":{\"url\":\"https://s.pstatic.net/static/newsstand/up/2023/0309/nsd1956932.png\"},\"showThumbnailView\":true,\"showListView\":true,\"regDate\":\"20241126 10:00:01\",\"_id\":null,\"@type\":\"PC-NEWSSTAND-PRESS-BLOCK\",\"@code\":null,\"@template\":\"NONE\",\"@flowId\":null,\"@flowExecutionId\":null,\"@provider\":null,\"@lastModifiedAt\":null},{\"@type\":\"PC-NEWSSTAND-PRESS-BLOCK\",\"blocks\":null,\"materials\":null,\"excludeInPaging\":false,\"positionForPaging\":0,\"realtime\":false,\"pid\":\"087\",\"name\":\"\\xea\\xb0\\x95\\xec\\x9b\\x90\\xec\\x9d\\xbc\\xeb\\xb3\\xb4\",\"logoLight\":{\"url\":\"https://s.pstatic.net/static/newsstand/2020/logo/light/0604/087.png\"},\"logoDark\":{\"url\":\"https://s.pstatic.net/static/newsstand/2020/logo/dark/0604/087.png\"},\"showThumbnailView\":true,\"showListView\":true,\"regDate\":\"20241125 20:49:30\",\"_id\":null,\"@type\":\"PC-NEWSSTAND-PRESS-BLOCK\",\"@code\":null,\"@template\":\"NONE\",\"@flowId\":null,\"@flowExecutionId\":null,\"@provider\":null,\"@lastModifiedAt\":null},{\"@type\":\"PC-NEWSSTAND-PRESS-BLOCK\",\"blocks\":null,\"materials\":null,\"excludeInPaging\":false,\"positionForPaging\":0,\"realtime\":false,\"pid\":\"088\",\"name\":\"\\xeb\\xa7\\xa4\\xec\\x9d\\xbc\\xec\\x8b\\xa0\\xeb\\xac\\xb8\",\"logoLight\":{\"url\":\"https://s.pstatic.net/static/newsstand/2020/logo/light/0604/088.png\"},\"logoDark\":{\"url\":\"https://s.pstatic.net/static/newsstand/2020/logo/dark/0604/088.png\"},\"showThumbnailView\":true,\"showListView\":true,\"regDate\":\"20241126 08:37:47\",\"_id\":null,\"@type\":\"PC-NEWSSTAND-PRESS-BLOCK\",\"@code\":null,\"@template\":\"NONE\",\"@flowId\":null,\"@flowExecutionId\":null,\"@provider\":null,\"@lastModifiedAt\":null},{\"@type\":\"PC-NEWSSTAND-PRESS-BLOCK\",\"blocks\":null,\"materials\":null,\"excludeInPaging\":false,\"positionForPaging\":0,\"realtime\":false,\"pid\":\"089\",\"name\":\"\\xeb\\x8c\\x80\\xec\\xa0\\x84\\xec\\x9d\\xbc\\xeb\\xb3\\xb4\",\"logoLight\":{\"url\":\"https://s.pstatic.net/static/newsstand/2020/logo/light/0604/089.png\"},\"logoDark\":{\"url\":\"https://s.pstatic.net/static/newsstand/2020/logo/dark/0604/089.png\"},\"showThumbnailView\":true,\"showListView\":true,\"regDate\":\"20241126 10:25:01\",\"_id\":null,\"@type\":\"PC-NEWSSTAND-PRESS-BLOCK\",\"@code\":null,\"@template\":\"NONE\",\"@flowId\":null,\"@flowExecutionId\":null,\"@provider\":null,\"@lastModifiedAt\":null},{\"@type\":\"PC-NEWSSTAND-PRESS-BLOCK\",\"blocks\":null,\"materials\":null,\"excludeInPaging\":false,\"positionForPaging\":0,\"realtime\":false,\"pid\":\"529\",\"name\":\"\\xec\\x8a\\xa4\\xed\\x8f\\xac\\xec\\xb8\\xa0\\xec\\xb6\\x98\\xec\\xb6\\x94\",\"logoLight\":{\"url\":\"https://s.pstatic.net/static/newsstand/up/2022/0116/nsd19454239.png\"},\"logoDark\":{\"url\":\"https://s.pstatic.net/static/newsstand/up/2022/0116/nsd194523259.png\"},\"showThumbnailView\":true,\"showListView\":true,\"regDate\":\"20241126 10:20:56\",\"_id\":null,\"@type\":\"PC-NEWSSTAND-PRESS-BLOCK\",\"@code\":null,\"@template\":\"NONE\",\"@flowId\":null,\"@flowExecutionId\":null,\"@provider\":null,\"@lastModifiedAt\":null},{\"@type\":\"PC-NEWSSTAND-PRESS-BLOCK\",\"blocks\":null,\"materials\":null,\"excludeInPaging\":false,\"positionForPaging\":0,\"realtime\":false,\"pid\":\"092\",\"name\":\"\\xec\\xa7\\x80\\xeb\\x94\\x94\\xeb\\x84\\xb7\\xec\\xbd\\x94\\xeb\\xa6\\xac\\xec\\x95\\x84\",\"logoLight\":{\"url\":\"https://s.pstatic.net/static/newsstand/up/2022/0905/nsd131925414.png\"},\"logoDark\":{\"url\":\"https://s.pstatic.net/static/newsstand/up/2022/0905/nsd91639628.png\"},\"showThumbnailView\":true,\"showListView\":true,\"regDate\":\"20241126 10:24:43\",\"_id\":null,\"@type\":\"PC-NEWSSTAND-PRESS-BLOCK\",\"@code\":null,\"@template\":\"NONE\",\"@flowId\":null,\"@flowExecutionId\":null,\"@provider\":null,\"@lastModifiedAt\":null},{\"@type\":\"PC-NEWSSTAND-PRESS-BLOCK\",\"blocks\":null,\"materials\":null,\"excludeInPaging\":false,\"positionForPaging\":0,\"realtime\":false,\"pid\":\"094\",\"name\":\"\\xec\\x9b\\x94\\xea\\xb0\\x84 \\xec\\x82\\xb0\",\"logoLight\":{\"url\":\"https://s.pstatic.net/static/newsstand/2020/logo/light/0604/094.png\"},\"logoDark\":{\"url\":\"https://s.pstatic.net/static/newsstand/2020/logo/dark/0604/094.png\"},\"showThumbnailView\":true,\"showListView\":true,\"regDate\":\"20241126 10:21:06\",\"_id\":null,\"@type\":\"PC-NEWSSTAND-PRESS-BLOCK\",\"@code\":null,\"@template\":\"NONE\",\"@flowId\":null,\"@flowExecutionId\":null,\"@provider\":null,\"@lastModifiedAt\":null},{\"@type\":\"PC-NEWSSTAND-PRESS-BLOCK\",\"blocks\":null,\"materials\":null,\"excludeInPaging\":false,\"positionForPaging\":0,\"realtime\":false,\"pid\":\"410\",\"name\":\"MK\\xec\\x8a\\xa4\\xed\\x8f\\xac\\xec\\xb8\\xa0\",\"logoLight\":{\"url\":\"https://s.pstatic.net/static/newsstand/2020/logo/light/0604/410.png\"},\"logoDark\":{\"url\":\"https://s.pstatic.net/static/newsstand/2020/logo/dark/0604/410.png\"},\"showThumbnailView\":true,\"showListView\":true,\"regDate\":\"20241126 10:30:02\",\"_id\":null,\"@type\":\"PC-NEWSSTAND-PRESS-BLOCK\",\"@code\":null,\"@template\":\"NONE\",\"@flowId\":null,\"@flowExecutionId\":null,\"@provider\":null,\"@lastModifiedAt\":null},{\"@type\":\"PC-NEWSSTAND-PRESS-BLOCK\",\"blocks\":null,\"materials\":null,\"excludeInPaging\":false,\"positionForPaging\":0,\"realtime\":false,\"pid\":\"536\",\"name\":\"\\xeb\\x8d\\x94\\xed\\x8c\\xa9\\xed\\x8a\\xb8\",\"logoLight\":{\"url\":\"https://s.pstatic.net/static/newsstand/2020/logo/light/0604/536.png\"},\"logoDark\":{\"url\":\"https://s.pstatic.net/static/newsstand/2020/logo/dark/0604/536.png\"},\"showThumbnailView\":true,\"showListView\":true,\"regDate\":\"20241126 10:15:55\",\"_id\":null,\"@type\":\"PC-NEWSSTAND-PRESS-BLOCK\",\"@code\":null,\"@template\":\"NONE\",\"@flowId\":null,\"@flowExecutionId\":null,\"@provider\":null,\"@lastModifiedAt\":null},{\"@type\":\"PC-NEWSSTAND-PRESS-BLOCK\",\"blocks\":null,\"materials\":null,\"excludeInPaging\":false,\"positionForPaging\":0,\"realtime\":false,\"pid\":\"416\",\"name\":\"SBS\\xec\\x97\\xb0\\xec\\x98\\x88\\xeb\\x89\\xb4\\xec\\x8a\\xa4\",\"logoLight\":{\"url\":\"https://s.pstatic.net/static/newsstand/up/2020/1228/nsd1681569.png\"},\"logoDark\":{\"url\":\"https://s.pstatic.net/static/newsstand/up/2020/1228/nsd1688305.png\"},\"showThumbnailView\":true,\"showListView\":true,\"regDate\":\"20241126 10:31:21\",\"_id\":null,\"@type\":\"PC-NEWSSTAND-PRESS-BLOCK\",\"@code\":null,\"@template\":\"NONE\",\"@flowId\":null,\"@flowExecutionId\":null,\"@provider\":null,\"@lastModifiedAt\":null},{\"@type\":\"PC-NEWSSTAND-PRESS-BLOCK\",\"blocks\":null,\"materials\":null,\"excludeInPaging\":false,\"positionForPaging\":0,\"realtime\":false,\"pid\":\"417\",\"name\":\"\\xeb\\xa8\\xb8\\xeb\\x8b\\x88S\",\"logoLight\":{\"url\":\"https://s.pstatic.net/static/newsstand/2020/logo/light/0604/417.png\"},\"logoDark\":{\"url\":\"https://s.pstatic.net/static/newsstand/2020/logo/dark/0604/417.png\"},\"showThumbnailView\":true,\"showListView\":true,\"regDate\":\"20241126 10:25:35\",\"_id\":null,\"@type\":\"PC-NEWSSTAND-PRESS-BLOCK\",\"@code\":null,\"@template\":\"NONE\",\"@flowId\":null,\"@flowExecutionId\":null,\"@provider\":null,\"@lastModifiedAt\":null},{\"@type\":\"PC-NEWSSTAND-PRESS-BLOCK\",\"blocks\":null,\"materials\":null,\"excludeInPaging\":false,\"positionForPaging\":0,\"realtime\":false,\"pid\":\"539\",\"name\":\"\\xec\\x9c\\x84\\xed\\x82\\xa4\\xed\\x8a\\xb8\\xeb\\xa6\\xac\",\"logoLight\":{\"url\":\"https://s.pstatic.net/static/newsstand/2020/logo/light/0604/539.png\"},\"logoDark\":{\"url\":\"https://s.pstatic.net/static/newsstand/2020/logo/dark/0604/539.png\"},\"showThumbnailView\":true,\"showListView\":true,\"regDate\":\"20241126 10:31:22\",\"_id\":null,\"@type\":\"PC-NEWSSTAND-PRESS-BLOCK\",\"@code\":null,\"@template\":\"NONE\",\"@flowId\":null,\"@flowExecutionId\":null,\"@provider\":null,\"@lastModifiedAt\":null},{\"@type\":\"PC-NEWSSTAND-PRESS-BLOCK\",\"blocks\":null,\"materials\":null,\"excludeInPaging\":false,\"positionForPaging\":0,\"realtime\":false,\"pid\":\"421\",\"name\":\"\\xeb\\x89\\xb4\\xec\\x8a\\xa41\",\"logoLight\":{\"url\":\"https://s.pstatic.net/static/newsstand/up/2024/0229/nsd103734195.png\"},\"logoDark\":{\"url\":\"https://s.pstatic.net/static/newsstand/up/2024/0229/nsd10375418.png\"},\"showThumbnailView\":true,\"showListView\":true,\"regDate\":\"20241126 10:22:01\",\"_id\":null,\"@type\":\"PC-NEWSSTAND-PRESS-BLOCK\",\"@code\":null,\"@template\":\"NONE\",\"@flowId\":null,\"@flowExecutionId\":null,\"@provider\":null,\"@lastModifiedAt\":null},{\"@type\":\"PC-NEWSSTAND-PRESS-BLOCK\",\"blocks\":null,\"materials\":null,\"excludeInPaging\":false,\"positionForPaging\":0,\"realtime\":false,\"pid\":\"301\",\"name\":\"\\xea\\xb4\\x91\\xec\\xa3\\xbc\\xeb\\x93\\x9c\\xeb\\xa6\\xbc\",\"logoLight\":{\"url\":\"https://s.pstatic.net/static/newsstand/2020/logo/light/0604/301.png\"},\"logoDark\":{\"url\":\"https://s.pstatic.net/static/newsstand/2020/logo/dark/0604/301.png\"},\"showThumbnailView\":true,\"showListView\":true,\"regDate\":\"20241126 10:30:52\",\"_id\":null,\"@type\":\"PC-NEWSSTAND-PRESS-BLOCK\",\"@code\":null,\"@template\":\"NONE\",\"@flowId\":null,\"@flowExecutionId\":null,\"@provider\":null,\"@lastModifiedAt\":null},{\"@type\":\"PC-NEWSSTAND-PRESS-BLOCK\",\"blocks\":null,\"materials\":null,\"excludeInPaging\":false,\"positionForPaging\":0,\"realtime\":false,\"pid\":\"422\",\"name\":\"\\xec\\x97\\xb0\\xed\\x95\\xa9\\xeb\\x89\\xb4\\xec\\x8a\\xa4TV\",\"logoLight\":{\"url\":\"https://s.pstatic.net/static/newsstand/2020/logo/light/0604/422.png\"},\"logoDark\":{\"url\":\"https://s.pstatic.net/static/newsstand/2020/logo/dark/0604/422.png\"},\"showThumbnailView\":true,\"showListView\":true,\"regDate\":\"20241126 10:20:56\",\"_id\":null,\"@type\":\"PC-NEWSSTAND-PRESS-BLOCK\",\"@code\":null,\"@template\":\"NONE\",\"@flowId\":null,\"@flowExecutionId\":null,\"@provider\":null,\"@lastModifiedAt\":null},{\"@type\":\"PC-NEWSSTAND-PRESS-BLOCK\",\"blocks\":null,\"materials\":null,\"excludeInPaging\":false,\"positionForPaging\":0,\"realtime\":false,\"pid\":\"308\",\"name\":\"\\xec\\x8b\\x9c\\xec\\x82\\xacIN\",\"logoLight\":{\"url\":\"https://s.pstatic.net/static/newsstand/2020/logo/light/0604/308.png\"},\"logoDark\":{\"url\":\"https://s.pstatic.net/static/newsstand/2020/logo/dark/0604/308.png\"},\"showThumbnailView\":true,\"showListView\":true,\"regDate\":\"20241126 06:50:50\",\"_id\":null,\"@type\":\"PC-NEWSSTAND-PRESS-BLOCK\",\"@code\":null,\"@template\":\"NONE\",\"@flowId\":null,\"@flowExecutionId\":null,\"@provider\":null,\"@lastModifiedAt\":null},{\"@type\":\"PC-NEWSSTAND-PRESS-BLOCK\",\"blocks\":null,\"materials\":null,\"excludeInPaging\":false,\"positionForPaging\":0,\"realtime\":false,\"pid\":\"310\",\"name\":\"\\xec\\x97\\xac\\xec\\x84\\xb1\\xec\\x8b\\xa0\\xeb\\xac\\xb8\",\"logoLight\":{\"url\":\"https://s.pstatic.net/static/newsstand/2020/logo/light/0604/310.png\"},\"logoDark\":{\"url\":\"https://s.pstatic.net/static/newsstand/2020/logo/dark/0604/310.png\"},\"showThumbnailView\":true,\"showListView\":true,\"regDate\":\"20241126 10:20:01\",\"_id\":null,\"@type\":\"PC-NEWSSTAND-PRESS-BLOCK\",\"@code\":null,\"@template\":\"NONE\",\"@flowId\":null,\"@flowExecutionId\":null,\"@provider\":null,\"@lastModifiedAt\":null},{\"@type\":\"PC-NEWSSTAND-PRESS-BLOCK\",\"blocks\":null,\"materials\":null,\"excludeInPaging\":false,\"positionForPaging\":0,\"realtime\":false,\"pid\":\"311\",\"name\":\"\\xec\\x97\\x91\\xec\\x8a\\xa4\\xed\\x8f\\xac\\xec\\xb8\\xa0\\xeb\\x89\\xb4\\xec\\x8a\\xa4\",\"logoLight\":{\"url\":\"https://s.pstatic.net/static/newsstand/2020/logo/light/0604/311.png\"},\"logoDark\":{\"url\":\"https://s.pstatic.net/static/newsstand/2020/logo/dark/0604/311.png\"},\"showThumbnailView\":true,\"showListView\":true,\"regDate\":\"20241126 09:30:59\",\"_id\":null,\"@type\":\"PC-NEWSSTAND-PRESS-BLOCK\",\"@code\":null,\"@template\":\"NONE\",\"@flowId\":null,\"@flowExecutionId\":null,\"@provider\":null,\"@lastModifiedAt\":null},{\"@type\":\"PC-NEWSSTAND-PRESS-BLOCK\",\"blocks\":null,\"materials\":null,\"excludeInPaging\":false,\"positionForPaging\":0,\"realtime\":false,\"pid\":\"312\",\"name\":\"\\xed\\x85\\x90\\xec\\x95\\x84\\xec\\x8b\\x9c\\xec\\x95\\x84\",\"logoLight\":{\"url\":\"https://s.pstatic.net/static/newsstand/2020/logo/light/0604/312.png\"},\"logoDark\":{\"url\":\"https://s.pstatic.net/static/newsstand/2020/logo/dark/0604/312.png\"},\"showThumbnailView\":true,\"showListView\":true,\"regDate\":\"20241126 08:50:34\",\"_id\":null,\"@type\":\"PC-NEWSSTAND-PRESS-BLOCK\",\"@code\":null,\"@template\":\"NONE\",\"@flowId\":null,\"@flowExecutionId\":null,\"@provider\":null,\"@lastModifiedAt\":null},{\"@type\":\"PC-NEWSSTAND-PRESS-BLOCK\",\"blocks\":null,\"materials\":null,\"excludeInPaging\":false,\"positionForPaging\":0,\"realtime\":false,\"pid\":\"314\",\"name\":\"\\xec\\x8a\\xa4\\xed\\x8f\\xac\\xec\\xb8\\xa0\\xeb\\x8f\\x99\\xec\\x95\\x84\",\"logoLight\":{\"url\":\"https://s.pstatic.net/static/newsstand/2020/logo/light/0604/314.png\"},\"logoDark\":{\"url\":\"https://s.pstatic.net/static/newsstand/2020/logo/dark/0604/314.png\"},\"showThumbnailView\":true,\"showListView\":true,\"regDate\":\"20241126 10:25:47\",\"_id\":null,\"@type\":\"PC-NEWSSTAND-PRESS-BLOCK\",\"@code\":null,\"@template\":\"NONE\",\"@flowId\":null,\"@flowExecutionId\":null,\"@provider\":null,\"@lastModifiedAt\":null},{\"@type\":\"PC-NEWSSTAND-PRESS-BLOCK\",\"blocks\":null,\"materials\":null,\"excludeInPaging\":false,\"positionForPaging\":0,\"realtime\":false,\"pid\":\"681\",\"name\":\"\\xec\\x9d\\xb4\\xec\\xbd\\x94\\xeb\\x85\\xb8\\xed\\x83\\x80\\xec\\x9e\\x84\\xec\\xa6\\x88\",\"logoLight\":{\"url\":\"https://s.pstatic.net/static/newsstand/up/2022/0615/nsd7251644.png\"},\"logoDark\":{\"url\":\"https://s.pstatic.net/static/newsstand/up/2022/0615/nsd7244919.png\"},\"showThumbnailView\":true,\"showListView\":true,\"regDate\":\"20241123 13:21:18\",\"_id\":null,\"@type\":\"PC-NEWSSTAND-PRESS-BLOCK\",\"@code\":null,\"@template\":\"NONE\",\"@flowId\":null,\"@flowExecutionId\":null,\"@provider\":null,\"@lastModifiedAt\":null},{\"@type\":\"PC-NEWSSTAND-PRESS-BLOCK\",\"blocks\":null,\"materials\":null,\"excludeInPaging\":false,\"positionForPaging\":0,\"realtime\":false,\"pid\":\"440\",\"name\":\"\\xed\\x8b\\xb0\\xeb\\xb8\\x8c\\xec\\x9d\\xb4\\xeb\\x8d\\xb0\\xec\\x9d\\xbc\\xeb\\xa6\\xac\",\"logoLight\":{\"url\":\"https://s.pstatic.net/static/newsstand/2020/logo/light/0604/440.png\"},\"logoDark\":{\"url\":\"https://s.pstatic.net/static/newsstand/2020/logo/dark/0604/440.png\"},\"showThumbnailView\":true,\"showListView\":true,\"regDate\":\"20241126 10:20:02\",\"_id\":null,\"@type\":\"PC-NEWSSTAND-PRESS-BLOCK\",\"@code\":null,\"@template\":\"NONE\",\"@flowId\":null,\"@flowExecutionId\":null,\"@provider\":null,\"@lastModifiedAt\":null},{\"@type\":\"PC-NEWSSTAND-PRESS-BLOCK\",\"blocks\":null,\"materials\":null,\"excludeInPaging\":false,\"positionForPaging\":0,\"realtime\":false,\"pid\":\"682\",\"name\":\"\\xec\\x97\\xac\\xec\\x84\\xb1\\xea\\xb2\\xbd\\xec\\xa0\\x9c\\xec\\x8b\\xa0\\xeb\\xac\\xb8\",\"logoLight\":{\"url\":\"https://s.pstatic.net/static/newsstand/up/2022/1018/nsd132851977.png\"},\"logoDark\":{\"url\":\"https://s.pstatic.net/static/newsstand/up/2022/1018/nsd132844419.png\"},\"showThumbnailView\":true,\"showListView\":true,\"regDate\":\"20241126 10:21:09\",\"_id\":null,\"@type\":\"PC-NEWSSTAND-PRESS-BLOCK\",\"@code\":null,\"@template\":\"NONE\",\"@flowId\":null,\"@flowExecutionId\":null,\"@provider\":null,\"@lastModifiedAt\":null},{\"@type\":\"PC-NEWSSTAND-PRESS-BLOCK\",\"blocks\":null,\"materials\":null,\"excludeInPaging\":false,\"positionForPaging\":0,\"realtime\":false,\"pid\":\"683\",\"name\":\"MS\\xed\\x88\\xac\\xeb\\x8d\\xb0\\xec\\x9d\\xb4\",\"logoLight\":{\"url\":\"https://s.pstatic.net/static/newsstand/up/2022/1017/nsd202940832.png\"},\"logoDark\":{\"url\":\"https://s.pstatic.net/static/newsstand/up/2022/1017/nsd202933363.png\"},\"showThumbnailView\":true,\"showListView\":true,\"regDate\":\"20241126 10:21:10\",\"_id\":null,\"@type\":\"PC-NEWSSTAND-PRESS-BLOCK\",\"@code\":null,\"@template\":\"NONE\",\"@flowId\":null,\"@flowExecutionId\":null,\"@provider\":null,\"@lastModifiedAt\":null},{\"@type\":\"PC-NEWSSTAND-PRESS-BLOCK\",\"blocks\":null,\"materials\":null,\"excludeInPaging\":false,\"positionForPaging\":0,\"realtime\":false,\"pid\":\"684\",\"name\":\"TJB\\xeb\\x8c\\x80\\xec\\xa0\\x84\\xeb\\xb0\\xa9\\xec\\x86\\xa1\",\"logoLight\":{\"url\":\"https://s.pstatic.net/static/newsstand/up/2023/0103/nsd95227559.png\"},\"logoDark\":{\"url\":\"https://s.pstatic.net/static/newsstand/up/2023/0103/nsd9522095.png\"},\"showThumbnailView\":true,\"showListView\":true,\"regDate\":\"20241126 08:00:02\",\"_id\":null,\"@type\":\"PC-NEWSSTAND-PRESS-BLOCK\",\"@code\":null,\"@template\":\"NONE\",\"@flowId\":null,\"@flowExecutionId\":null,\"@provider\":null,\"@lastModifiedAt\":null},{\"@type\":\"PC-NEWSSTAND-PRESS-BLOCK\",\"blocks\":null,\"materials\":null,\"excludeInPaging\":false,\"positionForPaging\":0,\"realtime\":false,\"pid\":\"685\",\"name\":\"\\xec\\x84\\x9c\\xec\\x9a\\xb8\\xec\\x99\\x80\\xec\\x9d\\xb4\\xec\\x96\\xb4\",\"logoLight\":{\"url\":\"https://s.pstatic.net/static/newsstand/up/2022/1024/nsd174430433.png\"},\"logoDark\":{\"url\":\"https://s.pstatic.net/static/newsstand/up/2022/1024/nsd174424325.png\"},\"showThumbnailView\":true,\"showListView\":true,\"regDate\":\"20241126 10:21:10\",\"_id\":null,\"@type\":\"PC-NEWSSTAND-PRESS-BLOCK\",\"@code\":null,\"@template\":\"NONE\",\"@flowId\":null,\"@flowExecutionId\":null,\"@provider\":null,\"@lastModifiedAt\":null},{\"@type\":\"PC-NEWSSTAND-PRESS-BLOCK\",\"blocks\":null,\"materials\":null,\"excludeInPaging\":false,\"positionForPaging\":0,\"realtime\":false,\"pid\":\"686\",\"name\":\"\\xec\\xa3\\xbc\\xea\\xb0\\x84\\xea\\xb2\\xbd\\xed\\x96\\xa5\",\"logoLight\":{\"url\":\"https://s.pstatic.net/static/newsstand/up/2022/1007/nsd161849944.png\"},\"logoDark\":{\"url\":\"https://s.pstatic.net/static/newsstand/up/2022/1007/nsd161842489.png\"},\"showThumbnailView\":true,\"showListView\":true,\"regDate\":\"20241126 09:38:51\",\"_id\":null,\"@type\":\"PC-NEWSSTAND-PRESS-BLOCK\",\"@code\":null,\"@template\":\"NONE\",\"@flowId\":null,\"@flowExecutionId\":null,\"@provider\":null,\"@lastModifiedAt\":null},{\"@type\":\"PC-NEWSSTAND-PRESS-BLOCK\",\"blocks\":null,\"materials\":null,\"excludeInPaging\":false,\"positionForPaging\":0,\"realtime\":false,\"pid\":\"687\",\"name\":\"\\xeb\\x89\\xb4\\xec\\x8a\\xa4\\xed\\x81\\xb4\\xeb\\xa0\\x88\\xec\\x9e\\x84\",\"logoLight\":{\"url\":\"https://s.pstatic.net/static/newsstand/up/2022/1006/nsd205818702.png\"},\"logoDark\":{\"url\":\"https://s.pstatic.net/static/newsstand/up/2022/1006/nsd205810265.png\"},\"showThumbnailView\":true,\"showListView\":true,\"regDate\":\"20241126 10:21:08\",\"_id\":null,\"@type\":\"PC-NEWSSTAND-PRESS-BLOCK\",\"@code\":null,\"@template\":\"NONE\",\"@flowId\":null,\"@flowExecutionId\":null,\"@provider\":null,\"@lastModifiedAt\":null},{\"@type\":\"PC-NEWSSTAND-PRESS-BLOCK\",\"blocks\":null,\"materials\":null,\"excludeInPaging\":false,\"positionForPaging\":0,\"realtime\":false,\"pid\":\"688\",\"name\":\"\\xea\\xb2\\xbd\\xea\\xb8\\xb0\\xec\\x8b\\xa0\\xeb\\xac\\xb8\",\"logoLight\":{\"url\":\"https://s.pstatic.net/static/newsstand/up/2022/1017/nsd202616515.png\"},\"logoDark\":{\"url\":\"https://s.pstatic.net/static/newsstand/up/2022/1017/nsd20268714.png\"},\"showThumbnailView\":true,\"showListView\":true,\"regDate\":\"20241126 10:20:02\",\"_id\":null,\"@type\":\"PC-NEWSSTAND-PRESS-BLOCK\",\"@code\":null,\"@template\":\"NONE\",\"@flowId\":null,\"@flowExecutionId\":null,\"@provider\":null,\"@lastModifiedAt\":null},{\"@type\":\"PC-NEWSSTAND-PRESS-BLOCK\",\"blocks\":null,\"materials\":null,\"excludeInPaging\":false,\"positionForPaging\":0,\"realtime\":false,\"pid\":\"326\",\"name\":\"KBS World\",\"logoLight\":{\"url\":\"https://s.pstatic.net/static/newsstand/2020/logo/light/0604/326.png\"},\"logoDark\":{\"url\":\"https://s.pstatic.net/static/newsstand/2020/logo/dark/0604/326.png\"},\"showThumbnailView\":true,\"showListView\":true,\"regDate\":\"20241126 09:29:41\",\"_id\":null,\"@type\":\"PC-NEWSSTAND-PRESS-BLOCK\",\"@code\":null,\"@template\":\"NONE\",\"@flowId\":null,\"@flowExecutionId\":null,\"@provider\":null,\"@lastModifiedAt\":null},{\"@type\":\"PC-NEWSSTAND-PRESS-BLOCK\",\"blocks\":null,\"materials\":null,\"excludeInPaging\":false,\"positionForPaging\":0,\"realtime\":false,\"pid\":\"447\",\"name\":\"\\xeb\\x89\\xb4\\xec\\x8a\\xa4\\xec\\x97\\x94\",\"logoLight\":{\"url\":\"https://s.pstatic.net/static/newsstand/2020/logo/light/0604/447.png\"},\"logoDark\":{\"url\":\"https://s.pstatic.net/static/newsstand/2020/logo/dark/0604/447.png\"},\"showThumbnailView\":true,\"showListView\":true,\"regDate\":\"20241126 08:36:26\",\"_id\":null,\"@type\":\"PC-NEWSSTAND-PRESS-BLOCK\",\"@code\":null,\"@template\":\"NONE\",\"@flowId\":null,\"@flowExecutionId\":null,\"@provider\":null,\"@lastModifiedAt\":null},{\"@type\":\"PC-NEWSSTAND-PRESS-BLOCK\",\"blocks\":null,\"materials\":null,\"excludeInPaging\":false,\"positionForPaging\":0,\"realtime\":false,\"pid\":\"689\",\"name\":\"\\xec\\x9d\\xb8\\xec\\xb2\\x9c\\xed\\x88\\xac\\xeb\\x8d\\xb0\\xec\\x9d\\xb4\",\"logoLight\":{\"url\":\"https://s.pstatic.net/static/newsstand/up/2022/1107/nsd1054226.png\"},\"logoDark\":{\"url\":\"https://s.pstatic.net/static/newsstand/up/2022/1107/nsd105354391.png\"},\"showThumbnailView\":true,\"showListView\":true,\"regDate\":\"20241126 10:21:09\",\"_id\":null,\"@type\":\"PC-NEWSSTAND-PRESS-BLOCK\",\"@code\":null,\"@template\":\"NONE\",\"@flowId\":null,\"@flowExecutionId\":null,\"@provider\":null,\"@lastModifiedAt\":null},{\"@type\":\"PC-NEWSSTAND-PRESS-BLOCK\",\"blocks\":null,\"materials\":null,\"excludeInPaging\":false,\"positionForPaging\":0,\"realtime\":false,\"pid\":\"327\",\"name\":\"\\xeb\\x89\\xb4\\xeb\\x8d\\xb0\\xec\\x9d\\xbc\\xeb\\xa6\\xac\",\"logoLight\":{\"url\":\"https://s.pstatic.net/static/newsstand/up/2024/0124/nsd95528325.png\"},\"logoDark\":{\"url\":\"https://s.pstatic.net/static/newsstand/up/2024/0124/nsd95520363.png\"},\"showThumbnailView\":true,\"showListView\":true,\"regDate\":\"20241126 10:30:10\",\"_id\":null,\"@type\":\"PC-NEWSSTAND-PRESS-BLOCK\",\"@code\":null,\"@template\":\"NONE\",\"@flowId\":null,\"@flowExecutionId\":null,\"@provider\":null,\"@lastModifiedAt\":null},{\"@type\":\"PC-NEWSSTAND-PRESS-BLOCK\",\"blocks\":null,\"materials\":null,\"excludeInPaging\":false,\"positionForPaging\":0,\"realtime\":false,\"pid\":\"328\",\"name\":\"\\xec\\x97\\x90\\xec\\x9d\\xb4\\xeb\\xb8\\x94\\xeb\\x89\\xb4\\xec\\x8a\\xa4\",\"logoLight\":{\"url\":\"https://s.pstatic.net/static/newsstand/2020/logo/light/0604/328.png\"},\"logoDark\":{\"url\":\"https://s.pstatic.net/static/newsstand/2020/logo/dark/0604/328.png\"},\"showThumbnailView\":true,\"showListView\":true,\"regDate\":\"20241126 10:21:11\",\"_id\":null,\"@type\":\"PC-NEWSSTAND-PRESS-BLOCK\",\"@code\":null,\"@template\":\"NONE\",\"@flowId\":null,\"@flowExecutionId\":null,\"@provider\":null,\"@lastModifiedAt\":null},{\"@type\":\"PC-NEWSSTAND-PRESS-BLOCK\",\"blocks\":null,\"materials\":null,\"excludeInPaging\":false,\"positionForPaging\":0,\"realtime\":false,\"pid\":\"329\",\"name\":\"\\xec\\x86\\x8c\\xeb\\x85\\x84\\xed\\x95\\x9c\\xea\\xb5\\xad\\xec\\x9d\\xbc\\xeb\\xb3\\xb4\",\"logoLight\":{\"url\":\"https://s.pstatic.net/static/newsstand/up/2021/0728/nsd1110888.png\"},\"logoDark\":{\"url\":\"https://s.pstatic.net/static/newsstand/up/2021/0728/nsd111059924.png\"},\"showThumbnailView\":true,\"showListView\":true,\"regDate\":\"20241126 10:30:56\",\"_id\":null,\"@type\":\"PC-NEWSSTAND-PRESS-BLOCK\",\"@code\":null,\"@template\":\"NONE\",\"@flowId\":null,\"@flowExecutionId\":null,\"@provider\":null,\"@lastModifiedAt\":null},{\"@type\":\"PC-NEWSSTAND-PRESS-BLOCK\",\"blocks\":null,\"materials\":null,\"excludeInPaging\":false,\"positionForPaging\":0,\"realtime\":false,\"pid\":\"690\",\"name\":\"\\xec\\xa0\\x95\\xec\\xb1\\x85\\xeb\\xb8\\x8c\\xeb\\xa6\\xac\\xed\\x95\\x91\",\"logoLight\":{\"url\":\"https://s.pstatic.net/static/newsstand/up/2022/1116/nsd113848865.png\"},\"logoDark\":{\"url\":\"https://s.pstatic.net/static/newsstand/up/2022/1116/nsd113840778.png\"},\"showThumbnailView\":true,\"showListView\":true,\"regDate\":\"20241126 10:12:01\",\"_id\":null,\"@type\":\"PC-NEWSSTAND-PRESS-BLOCK\",\"@code\":null,\"@template\":\"NONE\",\"@flowId\":null,\"@flowExecutionId\":null,\"@provider\":null,\"@lastModifiedAt\":null},{\"@type\":\"PC-NEWSSTAND-PRESS-BLOCK\",\"blocks\":null,\"materials\":null,\"excludeInPaging\":false,\"positionForPaging\":0,\"realtime\":false,\"pid\":\"691\",\"name\":\"\\xec\\x97\\xac\\xec\\x84\\xb1\\xeb\\x8f\\x99\\xec\\x95\\x84\",\"logoLight\":{\"url\":\"https://s.pstatic.net/static/newsstand/up/2023/0418/nsd124451202.png\"},\"logoDark\":{\"url\":\"https://s.pstatic.net/static/newsstand/up/2023/0418/nsd124439166.png\"},\"showThumbnailView\":true,\"showListView\":true,\"regDate\":\"20241126 10:15:09\",\"_id\":null,\"@type\":\"PC-NEWSSTAND-PRESS-BLOCK\",\"@code\":null,\"@template\":\"NONE\",\"@flowId\":null,\"@flowExecutionId\":null,\"@provider\":null,\"@lastModifiedAt\":null},{\"@type\":\"PC-NEWSSTAND-PRESS-BLOCK\",\"blocks\":null,\"materials\":null,\"excludeInPaging\":false,\"positionForPaging\":0,\"realtime\":false,\"pid\":\"330\",\"name\":\"\\xec\\xa4\\x91\\xec\\x95\\x99\\xeb\\x8d\\xb0\\xec\\x9d\\xbc\\xeb\\xa6\\xac\",\"logoLight\":{\"url\":\"https://s.pstatic.net/static/newsstand/2020/logo/light/0604/330.png\"},\"logoDark\":{\"url\":\"https://s.pstatic.net/static/newsstand/2020/logo/dark/0604/330.png\"},\"showThumbnailView\":true,\"showListView\":true,\"regDate\":\"20241125 19:41:29\",\"_id\":null,\"@type\":\"PC-NEWSSTAND-PRESS-BLOCK\",\"@code\":null,\"@template\":\"NONE\",\"@flowId\":null,\"@flowExecutionId\":null,\"@provider\":null,\"@lastModifiedAt\":null},{\"@type\":\"PC-NEWSSTAND-PRESS-BLOCK\",\"blocks\":null,\"materials\":null,\"excludeInPaging\":false,\"positionForPaging\":0,\"realtime\":false,\"pid\":\"331\",\"name\":\"\\xec\\xb6\\xa9\\xec\\xb2\\xad\\xed\\x88\\xac\\xeb\\x8d\\xb0\\xec\\x9d\\xb4\",\"logoLight\":{\"url\":\"https://s.pstatic.net/static/newsstand/2020/logo/light/0604/331.png\"},\"logoDark\":{\"url\":\"https://s.pstatic.net/static/newsstand/2020/logo/dark/0604/331.png\"},\"showThumbnailView\":true,\"showListView\":true,\"regDate\":\"20241125 19:19:44\",\"_id\":null,\"@type\":\"PC-NEWSSTAND-PRESS-BLOCK\",\"@code\":null,\"@template\":\"NONE\",\"@flowId\":null,\"@flowExecutionId\":null,\"@provider\":null,\"@lastModifiedAt\":null},{\"@type\":\"PC-NEWSSTAND-PRESS-BLOCK\",\"blocks\":null,\"materials\":null,\"excludeInPaging\":false,\"positionForPaging\":0,\"realtime\":false,\"pid\":\"332\",\"name\":\"\\xea\\xb5\\xad\\xec\\xa0\\x9c\\xec\\x8b\\xa0\\xeb\\xac\\xb8\",\"logoLight\":{\"url\":\"https://s.pstatic.net/static/newsstand/2020/logo/light/0604/332.png\"},\"logoDark\":{\"url\":\"https://s.pstatic.net/static/newsstand/2020/logo/dark/0604/332.png\"},\"showThumbnailView\":true,\"showListView\":true,\"regDate\":\"20241126 08:27:45\",\"_id\":null,\"@type\":\"PC-NEWSSTAND-PRESS-BLOCK\",\"@code\":null,\"@template\":\"NONE\",\"@flowId\":null,\"@flowExecutionId\":null,\"@provider\":null,\"@lastModifiedAt\":null},{\"@type\":\"PC-NEWSSTAND-PRESS-BLOCK\",\"blocks\":null,\"materials\":null,\"excludeInPaging\":false,\"positionForPaging\":0,\"realtime\":false,\"pid\":\"333\",\"name\":\"\\xea\\xb2\\xbd\\xeb\\x82\\xa8\\xec\\x8b\\xa0\\xeb\\xac\\xb8\",\"logoLight\":{\"url\":\"https://s.pstatic.net/static/newsstand/2020/logo/light/0604/333.png\"},\"logoDark\":{\"url\":\"https://s.pstatic.net/static/newsstand/2020/logo/dark/0604/333.png\"},\"showThumbnailView\":true,\"showListView\":true,\"regDate\":\"20241126 10:01:04\",\"_id\":null,\"@type\":\"PC-NEWSSTAND-PRESS-BLOCK\",\"@code\":null,\"@template\":\"NONE\",\"@flowId\":null,\"@flowExecutionId\":null,\"@provider\":null,\"@lastModifiedAt\":null},{\"@type\":\"PC-NEWSSTAND-PRESS-BLOCK\",\"blocks\":null,\"materials\":null,\"excludeInPaging\":false,\"positionForPaging\":0,\"realtime\":false,\"pid\":\"213\",\"name\":\"TV\\xeb\\xa6\\xac\\xed\\x8f\\xac\\xed\\x8a\\xb8\",\"logoLight\":{\"url\":\"https://s.pstatic.net/static/newsstand/up/2023/0714/nsd125517690.png\"},\"logoDark\":{\"url\":\"https://s.pstatic.net/static/newsstand/up/2023/0714/nsd125510155.png\"},\"showThumbnailView\":true,\"showListView\":true,\"regDate\":\"20241126 08:59:52\",\"_id\":null,\"@type\":\"PC-NEWSSTAND-PRESS-BLOCK\",\"@code\":null,\"@template\":\"NONE\",\"@flowId\":null,\"@flowExecutionId\":null,\"@provider\":null,\"@lastModifiedAt\":null},{\"@type\":\"PC-NEWSSTAND-PRESS-BLOCK\",\"blocks\":null,\"materials\":null,\"excludeInPaging\":false,\"positionForPaging\":0,\"realtime\":false,\"pid\":\"334\",\"name\":\"\\xec\\xa0\\x9c\\xec\\xa3\\xbc\\xec\\x9d\\x98\\xec\\x86\\x8c\\xeb\\xa6\\xac\",\"logoLight\":{\"url\":\"https://s.pstatic.net/static/newsstand/2020/logo/light/0604/334.png\"},\"logoDark\":{\"url\":\"https://s.pstatic.net/static/newsstand/2020/logo/dark/0604/334.png\"},\"showThumbnailView\":true,\"showListView\":true,\"regDate\":\"20241126 08:37:31\",\"_id\":null,\"@type\":\"PC-NEWSSTAND-PRESS-BLOCK\",\"@code\":null,\"@template\":\"NONE\",\"@flowId\":null,\"@flowExecutionId\":null,\"@provider\":null,\"@lastModifiedAt\":null},{\"@type\":\"PC-NEWSSTAND-PRESS-BLOCK\",\"blocks\":null,\"materials\":null,\"excludeInPaging\":false,\"positionForPaging\":0,\"realtime\":false,\"pid\":\"214\",\"name\":\"MBC\",\"logoLight\":{\"url\":\"https://s.pstatic.net/static/newsstand/2020/logo/light/0604/214.png\"},\"logoDark\":{\"url\":\"https://s.pstatic.net/static/newsstand/2020/logo/dark/0604/214.png\"},\"showThumbnailView\":true,\"showListView\":true,\"regDate\":\"20241126 10:22:08\",\"_id\":null,\"@type\":\"PC-NEWSSTAND-PRESS-BLOCK\",\"@code\":null,\"@template\":\"NONE\",\"@flowId\":null,\"@flowExecutionId\":null,\"@provider\":null,\"@lastModifiedAt\":null},{\"@type\":\"PC-NEWSSTAND-PRESS-BLOCK\",\"blocks\":null,\"materials\":null,\"excludeInPaging\":false,\"positionForPaging\":0,\"realtime\":false,\"pid\":\"335\",\"name\":\"\\xea\\xb0\\x95\\xec\\x9b\\x90\\xeb\\x8f\\x84\\xeb\\xaf\\xbc\\xec\\x9d\\xbc\\xeb\\xb3\\xb4\",\"logoLight\":{\"url\":\"https://s.pstatic.net/static/newsstand/2020/logo/light/0604/335.png\"},\"logoDark\":{\"url\":\"https://s.pstatic.net/static/newsstand/2020/logo/dark/0604/335.png\"},\"showThumbnailView\":true,\"showListView\":true,\"regDate\":\"20241126 00:27:40\",\"_id\":null,\"@type\":\"PC-NEWSSTAND-PRESS-BLOCK\",\"@code\":null,\"@template\":\"NONE\",\"@flowId\":null,\"@flowExecutionId\":null,\"@provider\":null,\"@lastModifiedAt\":null},{\"@type\":\"PC-NEWSSTAND-PRESS-BLOCK\",\"blocks\":null,\"materials\":null,\"excludeInPaging\":false,\"positionForPaging\":0,\"realtime\":false,\"pid\":\"215\",\"name\":\"\\xed\\x95\\x9c\\xea\\xb5\\xad\\xea\\xb2\\xbd\\xec\\xa0\\x9cTV\",\"logoLight\":{\"url\":\"https://s.pstatic.net/static/newsstand/2020/logo/light/0604/215.png\"},\"logoDark\":{\"url\":\"https://s.pstatic.net/static/newsstand/2020/logo/dark/0604/215.png\"},\"showThumbnailView\":true,\"showListView\":true,\"regDate\":\"20241126 10:22:18\",\"_id\":null,\"@type\":\"PC-NEWSSTAND-PRESS-BLOCK\",\"@code\":null,\"@template\":\"NONE\",\"@flowId\":null,\"@flowExecutionId\":null,\"@provider\":null,\"@lastModifiedAt\":null},{\"@type\":\"PC-NEWSSTAND-PRESS-BLOCK\",\"blocks\":null,\"materials\":null,\"excludeInPaging\":false,\"positionForPaging\":0,\"realtime\":false,\"pid\":\"336\",\"name\":\"\\xec\\xa0\\x84\\xeb\\xb6\\x81\\xec\\x9d\\xbc\\xeb\\xb3\\xb4\",\"logoLight\":{\"url\":\"https://s.pstatic.net/static/newsstand/2020/logo/light/0604/336.png\"},\"logoDark\":{\"url\":\"https://s.pstatic.net/static/newsstand/2020/logo/dark/0604/336.png\"},\"showThumbnailView\":true,\"showListView\":true,\"regDate\":\"20241125 22:34:19\",\"_id\":null,\"@type\":\"PC-NEWSSTAND-PRESS-BLOCK\",\"@code\":null,\"@template\":\"NONE\",\"@flowId\":null,\"@flowExecutionId\":null,\"@provider\":null,\"@lastModifiedAt\":null},{\"@type\":\"PC-NEWSSTAND-PRESS-BLOCK\",\"blocks\":null,\"materials\":null,\"excludeInPaging\":false,\"positionForPaging\":0,\"realtime\":false,\"pid\":\"337\",\"name\":\"\\xea\\xb2\\xbd\\xeb\\xb6\\x81\\xec\\x9d\\xbc\\xeb\\xb3\\xb4\",\"logoLight\":{\"url\":\"https://s.pstatic.net/static/newsstand/2020/logo/light/0604/337.png\"},\"logoDark\":{\"url\":\"https://s.pstatic.net/static/newsstand/2020/logo/dark/0604/337.png\"},\"showThumbnailView\":true,\"showListView\":true,\"regDate\":\"20241125 22:36:56\",\"_id\":null,\"@type\":\"PC-NEWSSTAND-PRESS-BLOCK\",\"@code\":null,\"@template\":\"NONE\",\"@flowId\":null,\"@flowExecutionId\":null,\"@provider\":null,\"@lastModifiedAt\":null},{\"@type\":\"PC-NEWSSTAND-PRESS-BLOCK\",\"blocks\":null,\"materials\":null,\"excludeInPaging\":false,\"positionForPaging\":0,\"realtime\":false,\"pid\":\"338\",\"name\":\"\\xea\\xb2\\xbd\\xec\\x9d\\xb8\\xec\\x9d\\xbc\\xeb\\xb3\\xb4\",\"logoLight\":{\"url\":\"https://s.pstatic.net/static/newsstand/2020/logo/light/0604/338.png\"},\"logoDark\":{\"url\":\"https://s.pstatic.net/static/newsstand/2020/logo/dark/0604/338.png\"},\"showThumbnailView\":true,\"showListView\":true,\"regDate\":\"20241126 10:25:18\",\"_id\":null,\"@type\":\"PC-NEWSSTAND-PRESS-BLOCK\",\"@code\":null,\"@template\":\"NONE\",\"@flowId\":null,\"@flowExecutionId\":null,\"@provider\":null,\"@lastModifiedAt\":null},{\"@type\":\"PC-NEWSSTAND-PRESS-BLOCK\",\"blocks\":null,\"materials\":null,\"excludeInPaging\":false,\"positionForPaging\":0,\"realtime\":false,\"pid\":\"339\",\"name\":\"\\xea\\xb2\\xbd\\xea\\xb8\\xb0\\xec\\x9d\\xbc\\xeb\\xb3\\xb4\",\"logoLight\":{\"url\":\"https://s.pstatic.net/static/newsstand/2020/logo/light/0604/339.png\"},\"logoDark\":{\"url\":\"https://s.pstatic.net/static/newsstand/2020/logo/dark/0604/339.png\"},\"showThumbnailView\":true,\"showListView\":true,\"regDate\":\"20241126 09:06:23\",\"_id\":null,\"@type\":\"PC-NEWSSTAND-PRESS-BLOCK\",\"@code\":null,\"@template\":\"NONE\",\"@flowId\":null,\"@flowExecutionId\":null,\"@provider\":null,\"@lastModifiedAt\":null},{\"@type\":\"PC-NEWSSTAND-PRESS-BLOCK\",\"blocks\":null,\"materials\":null,\"excludeInPaging\":false,\"positionForPaging\":0,\"realtime\":false,\"pid\":\"340\",\"name\":\"OBS\",\"logoLight\":{\"url\":\"https://s.pstatic.net/static/newsstand/2020/logo/light/0604/340.png\"},\"logoDark\":{\"url\":\"https://s.pstatic.net/static/newsstand/2020/logo/dark/0604/340.png\"},\"showThumbnailView\":true,\"showListView\":true,\"regDate\":\"20241126 10:20:12\",\"_id\":null,\"@type\":\"PC-NEWSSTAND-PRESS-BLOCK\",\"@code\":null,\"@template\":\"NONE\",\"@flowId\":null,\"@flowExecutionId\":null,\"@provider\":null,\"@lastModifiedAt\":null},{\"@type\":\"PC-NEWSSTAND-PRESS-BLOCK\",\"blocks\":null,\"materials\":null,\"excludeInPaging\":false,\"positionForPaging\":0,\"realtime\":false,\"pid\":\"344\",\"name\":\"EBS\",\"logoLight\":{\"url\":\"https://s.pstatic.net/static/newsstand/up/2020/0803/nsd20247547.png\"},\"logoDark\":{\"url\":\"https://s.pstatic.net/static/newsstand/up/2020/0803/nsd202358800.png\"},\"showThumbnailView\":true,\"showListView\":true,\"regDate\":\"20241125 19:48:49\",\"_id\":null,\"@type\":\"PC-NEWSSTAND-PRESS-BLOCK\",\"@code\":null,\"@template\":\"NONE\",\"@flowId\":null,\"@flowExecutionId\":null,\"@provider\":null,\"@lastModifiedAt\":null},{\"@type\":\"PC-NEWSSTAND-PRESS-BLOCK\",\"blocks\":null,\"materials\":null,\"excludeInPaging\":false,\"positionForPaging\":0,\"realtime\":false,\"pid\":\"345\",\"name\":\"\\xeb\\x94\\x94\\xec\\x9e\\x90\\xec\\x9d\\xb8\\xec\\xa0\\x95\\xea\\xb8\\x80\",\"logoLight\":{\"url\":\"https://s.pstatic.net/static/newsstand/2020/logo/light/0604/345.png\"},\"logoDark\":{\"url\":\"https://s.pstatic.net/static/newsstand/2020/logo/dark/0604/345.png\"},\"showThumbnailView\":true,\"showListView\":true,\"regDate\":\"20241121 13:38:48\",\"_id\":null,\"@type\":\"PC-NEWSSTAND-PRESS-BLOCK\",\"@code\":null,\"@template\":\"NONE\",\"@flowId\":null,\"@flowExecutionId\":null,\"@provider\":null,\"@lastModifiedAt\":null},{\"@type\":\"PC-NEWSSTAND-PRESS-BLOCK\",\"blocks\":null,\"materials\":null,\"excludeInPaging\":false,\"positionForPaging\":0,\"realtime\":false,\"pid\":\"346\",\"name\":\"\\xed\\x97\\xac\\xec\\x8a\\xa4\\xec\\xa1\\xb0\\xec\\x84\\xa0\",\"logoLight\":{\"url\":\"https://s.pstatic.net/static/newsstand/2020/logo/light/0604/346.png\"},\"logoDark\":{\"url\":\"https://s.pstatic.net/static/newsstand/2020/logo/dark/0604/346.png\"},\"showThumbnailView\":true,\"showListView\":true,\"regDate\":\"20241126 10:31:03\",\"_id\":null,\"@type\":\"PC-NEWSSTAND-PRESS-BLOCK\",\"@code\":null,\"@template\":\"NONE\",\"@flowId\":null,\"@flowExecutionId\":null,\"@provider\":null,\"@lastModifiedAt\":null},{\"@type\":\"PC-NEWSSTAND-PRESS-BLOCK\",\"blocks\":null,\"materials\":null,\"excludeInPaging\":false,\"positionForPaging\":0,\"realtime\":false,\"pid\":\"108\",\"name\":\"\\xec\\x8a\\xa4\\xed\\x83\\x80\\xeb\\x89\\xb4\\xec\\x8a\\xa4\",\"logoLight\":{\"url\":\"https://s.pstatic.net/static/newsstand/2020/logo/light/0604/108.png\"},\"logoDark\":{\"url\":\"https://s.pstatic.net/static/newsstand/2020/logo/dark/0604/108.png\"},\"showThumbnailView\":true,\"showListView\":true,\"regDate\":\"20241126 10:30:07\",\"_id\":null,\"@type\":\"PC-NEWSSTAND-PRESS-BLOCK\",\"@code\":null,\"@template\":\"NONE\",\"@flowId\":null,\"@flowExecutionId\":null,\"@provider\":null,\"@lastModifiedAt\":null},{\"@type\":\"PC-NEWSSTAND-PRESS-BLOCK\",\"blocks\":null,\"materials\":null,\"excludeInPaging\":false,\"positionForPaging\":0,\"realtime\":false,\"pid\":\"109\",\"name\":\"OSEN\",\"logoLight\":{\"url\":\"https://s.pstatic.net/static/newsstand/up/2020/0610/nsd151458769.png\"},\"logoDark\":{\"url\":\"https://s.pstatic.net/static/newsstand/up/2020/0610/nsd151458769.png\"},\"showThumbnailView\":true,\"showListView\":true,\"regDate\":\"20241126 09:44:07\",\"_id\":null,\"@type\":\"PC-NEWSSTAND-PRESS-BLOCK\",\"@code\":null,\"@template\":\"NONE\",\"@flowId\":null,\"@flowExecutionId\":null,\"@provider\":null,\"@lastModifiedAt\":null},{\"@type\":\"PC-NEWSSTAND-PRESS-BLOCK\",\"blocks\":null,\"materials\":null,\"excludeInPaging\":false,\"positionForPaging\":0,\"realtime\":false,\"pid\":\"901\",\"name\":\"\\xec\\xa0\\x9c\\xeb\\xaf\\xbc\\xec\\x9d\\xbc\\xeb\\xb3\\xb4\",\"logoLight\":{\"url\":\"https://s.pstatic.net/static/newsstand/up/2020/1119/nsd213345745.png\"},\"logoDark\":{\"url\":\"https://s.pstatic.net/static/newsstand/up/2020/1119/nsd213339585.png\"},\"showThumbnailView\":true,\"showListView\":true,\"regDate\":\"20241125 19:16:12\",\"_id\":null,\"@type\":\"PC-NEWSSTAND-PRESS-BLOCK\",\"@code\":null,\"@template\":\"NONE\",\"@flowId\":null,\"@flowExecutionId\":null,\"@provider\":null,\"@lastModifiedAt\":null},{\"@type\":\"PC-NEWSSTAND-PRESS-BLOCK\",\"blocks\":null,\"materials\":null,\"excludeInPaging\":false,\"positionForPaging\":0,\"realtime\":false,\"pid\":\"902\",\"name\":\"TV\\xec\\xa1\\xb0\\xec\\x84\\xa0\",\"logoLight\":{\"url\":\"https://s.pstatic.net/static/newsstand/2020/logo/light/0604/902.png\"},\"logoDark\":{\"url\":\"https://s.pstatic.net/static/newsstand/2020/logo/dark/0604/902.png\"},\"showThumbnailView\":true,\"showListView\":true,\"regDate\":\"20241126 10:20:47\",\"_id\":null,\"@type\":\"PC-NEWSSTAND-PRESS-BLOCK\",\"@code\":null,\"@template\":\"NONE\",\"@flowId\":null,\"@flowExecutionId\":null,\"@provider\":null,\"@lastModifiedAt\":null},{\"@type\":\"PC-NEWSSTAND-PRESS-BLOCK\",\"blocks\":null,\"materials\":null,\"excludeInPaging\":false,\"positionForPaging\":0,\"realtime\":false,\"pid\":\"903\",\"name\":\"\\xec\\xb1\\x84\\xeb\\x84\\x90A\",\"logoLight\":{\"url\":\"https://s.pstatic.net/static/newsstand/up/2024/0709/nsd114253503.png\"},\"logoDark\":{\"url\":\"https://s.pstatic.net/static/newsstand/up/2024/0709/nsd114315719.png\"},\"showThumbnailView\":true,\"showListView\":true,\"regDate\":\"20241126 10:20:20\",\"_id\":null,\"@type\":\"PC-NEWSSTAND-PRESS-BLOCK\",\"@code\":null,\"@template\":\"NONE\",\"@flowId\":null,\"@flowExecutionId\":null,\"@provider\":null,\"@lastModifiedAt\":null},{\"@type\":\"PC-NEWSSTAND-PRESS-BLOCK\",\"blocks\":null,\"materials\":null,\"excludeInPaging\":false,\"positionForPaging\":0,\"realtime\":false,\"pid\":\"904\",\"name\":\"JTBC\",\"logoLight\":{\"url\":\"https://s.pstatic.net/static/newsstand/2020/logo/light/0604/904.png\"},\"logoDark\":{\"url\":\"https://s.pstatic.net/static/newsstand/2020/logo/dark/0604/904.png\"},\"showThumbnailView\":true,\"showListView\":true,\"regDate\":\"20241126 09:02:13\",\"_id\":null,\"@type\":\"PC-NEWSSTAND-PRESS-BLOCK\",\"@code\":null,\"@template\":\"NONE\",\"@flowId\":null,\"@flowExecutionId\":null,\"@provider\":null,\"@lastModifiedAt\":null},{\"@type\":\"PC-NEWSSTAND-PRESS-BLOCK\",\"blocks\":null,\"materials\":null,\"excludeInPaging\":false,\"positionForPaging\":0,\"realtime\":false,\"pid\":\"905\",\"name\":\"\\xeb\\x8d\\x94\\xec\\x8a\\xa4\\xec\\xbf\\xa0\\xed\\x94\\x84\",\"logoLight\":{\"url\":\"https://s.pstatic.net/static/newsstand/up/2024/0304/nsd101630742.png\"},\"logoDark\":{\"url\":\"https://s.pstatic.net/static/newsstand/up/2024/0304/nsd101639503.png\"},\"showThumbnailView\":true,\"showListView\":true,\"regDate\":\"20241121 18:57:40\",\"_id\":null,\"@type\":\"PC-NEWSSTAND-PRESS-BLOCK\",\"@code\":null,\"@template\":\"NONE\",\"@flowId\":null,\"@flowExecutionId\":null,\"@provider\":null,\"@lastModifiedAt\":null},{\"@type\":\"PC-NEWSSTAND-PRESS-BLOCK\",\"blocks\":null,\"materials\":null,\"excludeInPaging\":false,\"positionForPaging\":0,\"realtime\":false,\"pid\":\"906\",\"name\":\"KNN\",\"logoLight\":{\"url\":\"https://s.pstatic.net/static/newsstand/2020/logo/light/0604/906.png\"},\"logoDark\":{\"url\":\"https://s.pstatic.net/static/newsstand/2020/logo/dark/0604/906.png\"},\"showThumbnailView\":true,\"showListView\":true,\"regDate\":\"20241126 07:52:01\",\"_id\":null,\"@type\":\"PC-NEWSSTAND-PRESS-BLOCK\",\"@code\":null,\"@template\":\"NONE\",\"@flowId\":null,\"@flowExecutionId\":null,\"@provider\":null,\"@lastModifiedAt\":null}],\"materials\":null,\"excludeInPaging\":false,\"positionForPaging\":0,\"realtime\":false,\"majorPidList\":[\"032\",\"005\",\"079\",\"327\",\"930\",\"003\",\"368\",\"020\",\"029\",\"117\",\"009\",\"008\",\"021\",\"006\",\"293\",\"011\",\"081\",\"022\",\"314\",\"073\",\"076\",\"139\",\"308\",\"277\",\"031\",\"422\",\"047\",\"018\",\"241\",\"030\",\"366\",\"023\",\"330\",\"025\",\"092\",\"376\",\"044\",\"014\",\"002\",\"028\",\"015\",\"215\",\"038\",\"016\",\"904\",\"056\",\"326\",\"214\",\"057\",\"109\",\"055\",\"052\"],\"minorPidList\":[\"944\",\"687\",\"913\",\"914\",\"960\",\"536\",\"804\",\"042\",\"812\",\"969\",\"417\",\"961\",\"809\",\"814\",\"942\",\"943\",\"973\",\"685\",\"824\",\"970\",\"816\",\"957\",\"975\",\"810\",\"920\",\"921\",\"963\",\"682\",\"013\",\"801\",\"539\",\"964\",\"825\",\"243\",\"922\",\"803\",\"923\",\"971\",\"925\",\"690\",\"123\",\"353\",\"941\",\"143\",\"826\",\"822\",\"968\",\"993\",\"974\",\"932\",\"954\",\"120\",\"823\",\"959\",\"972\",\"421\",\"916\",\"903\",\"934\",\"344\",\"980\",\"906\",\"340\",\"374\",\"989\",\"981\",\"684\",\"902\",\"945\",\"910\",\"138\",\"953\",\"952\",\"977\",\"994\",\"818\",\"917\",\"681\",\"040\",\"946\",\"830\",\"447\",\"108\",\"802\",\"144\",\"396\",\"529\",\"940\",\"962\",\"477\",\"311\",\"947\",\"312\",\"440\",\"410\",\"416\",\"213\",\"356\",\"908\",\"938\",\"984\",\"911\",\"998\",\"997\",\"995\",\"905\",\"991\",\"955\",\"363\",\"345\",\"364\",\"915\",\"024\",\"996\",\"075\",\"829\",\"819\",\"815\",\"122\",\"958\",\"827\",\"355\",\"808\",\"329\",\"135\",\"828\",\"140\",\"979\",\"328\",\"354\",\"691\",\"310\",\"094\",\"820\",\"950\",\"988\",\"982\",\"813\",\"924\",\"807\",\"965\",\"966\",\"686\",\"990\",\"361\",\"956\",\"928\",\"967\",\"296\",\"986\",\"951\",\"948\",\"806\",\"050\",\"805\",\"811\",\"384\",\"346\"],\"catePidList\":{\"ct7\":[\"356\",\"908\",\"938\",\"984\",\"911\",\"998\",\"997\",\"995\",\"905\",\"991\",\"955\",\"363\",\"345\",\"364\",\"915\",\"024\",\"996\",\"075\",\"829\",\"819\",\"815\",\"122\",\"958\",\"827\",\"355\",\"808\",\"329\",\"308\",\"135\",\"828\",\"140\",\"979\",\"328\",\"354\",\"691\",\"310\",\"094\",\"820\",\"950\",\"988\",\"982\",\"813\",\"924\",\"807\",\"965\",\"966\",\"686\",\"990\",\"361\",\"956\",\"928\",\"967\",\"296\",\"986\",\"951\",\"948\",\"806\",\"050\",\"805\",\"811\",\"384\",\"346\"],\"ct8\":[\"335\",\"087\",\"688\",\"339\",\"821\",\"333\",\"978\",\"907\",\"337\",\"935\",\"338\",\"301\",\"083\",\"332\",\"909\",\"936\",\"089\",\"088\",\"976\",\"817\",\"082\",\"385\",\"387\",\"689\",\"388\",\"937\",\"336\",\"901\",\"389\",\"334\",\"983\",\"926\",\"927\",\"391\",\"331\",\"683\"],\"ct5\":[\"681\",\"330\",\"040\",\"044\",\"326\",\"946\"],\"ct6\":[\"830\",\"447\",\"117\",\"108\",\"802\",\"144\",\"314\",\"073\",\"396\",\"076\",\"529\",\"940\",\"962\",\"139\",\"477\",\"311\",\"241\",\"947\",\"312\",\"440\",\"410\",\"109\",\"416\",\"213\"],\"ct3\":[\"421\",\"003\",\"916\",\"422\",\"376\",\"903\",\"215\",\"934\",\"344\",\"904\",\"980\",\"056\",\"906\",\"214\",\"057\",\"340\",\"055\",\"374\",\"989\",\"981\",\"684\",\"902\",\"052\",\"945\"],\"ct4\":[\"910\",\"138\",\"029\",\"953\",\"952\",\"293\",\"030\",\"092\",\"977\",\"994\",\"818\",\"917\"],\"ct2\":[\"032\",\"005\",\"944\",\"079\",\"327\",\"687\",\"930\",\"913\",\"914\",\"960\",\"536\",\"804\",\"368\",\"042\",\"020\",\"812\",\"009\",\"969\",\"417\",\"008\",\"961\",\"021\",\"006\",\"809\",\"814\",\"942\",\"943\",\"973\",\"011\",\"081\",\"685\",\"824\",\"022\",\"970\",\"816\",\"957\",\"975\",\"810\",\"277\",\"920\",\"031\",\"921\",\"963\",\"682\",\"013\",\"047\",\"801\",\"539\",\"964\",\"018\",\"825\",\"243\",\"922\",\"803\",\"923\",\"971\",\"925\",\"690\",\"366\",\"023\",\"123\",\"353\",\"025\",\"941\",\"143\",\"826\",\"014\",\"822\",\"002\",\"028\",\"015\",\"968\",\"038\",\"993\",\"016\",\"974\",\"932\",\"954\",\"120\",\"823\",\"959\",\"972\"]},\"targetLocalPidList\":[\"688\",\"339\",\"338\",\"909\",\"387\",\"926\"],\"subsPidList\":[],\"firstPressBlock\":null,\"rcode2\":\"default\",\"rcode\":\"02360103\",\"_id\":null,\"@type\":\"PC-NEWSSTAND-BLOCK\",\"@code\":\"PC-NEWSSTAND\",\"@template\":\"PC-NEWSSTAND\",\"@flowId\":null,\"@flowExecutionId\":null,\"@provider\":null,\"@lastModifiedAt\":null}],\"materials\":null,\"excludeInPaging\":false,\"positionForPaging\":0,\"realtime\":false,\"_id\":null,\"@type\":\"BLOCK\",\"@code\":\"PC-MEDIA-NEWSSTAND\",\"@template\":\"NONE\",\"@flowId\":null,\"@flowExecutionId\":null,\"@provider\":null,\"@lastModifiedAt\":null}],\"materials\":null,\"excludeInPaging\":false,\"positionForPaging\":0,\"realtime\":false,\"sportsLive\":true,\"_id\":\"643e68a5a10d3006855e268d\",\"@type\":\"PC-MEDIA-CONTENTS-BLOCK\",\"@code\":\"PC-MEDIA-WRAPPER\",\"@template\":\"PC-MEDIA-WRAPPER\",\"@flowId\":\"PC-MEDIA-WRAPPER\",\"@flowExecutionId\":\"e1a203ee-ab96-11ef-95eb-af2485028d4c\",\"@provider\":\"lambda\",\"@lastModifiedAt\":[2024,11,26,1,36,42,338000000]}\\nwindow[\"EAGER-DATA\"][\"PC-NEWSSTAND-YONHAP\"] = {\"@type\":\"BLOCK\",\"blocks\":[{\"@type\":\"BLOCK\",\"blocks\":null,\"materials\":[],\"excludeInPaging\":false,\"positionForPaging\":0,\"realtime\":false,\"_id\":null,\"@type\":\"BLOCK\",\"@code\":null,\"@template\":\"NONE\",\"@flowId\":null,\"@flowExecutionId\":null,\"@provider\":null,\"@lastModifiedAt\":null}],\"materials\":[{\"@type\":\"MATERIAL-PC-NEWS-ONELINE\",\"gdid\":null,\"title\":\"\\xec\\x84\\xb8\\xeb\\xb2\\x88\\xec\\xa7\\xb8 \\'\\xea\\xb9\\x80\\xec\\x97\\xac\\xec\\x82\\xac \\xed\\x8a\\xb9\\xea\\xb2\\x80\\xeb\\xb2\\x95\\' \\xec\\x9e\\xac\\xec\\x9d\\x98\\xec\\x9a\\x94\\xea\\xb5\\xac\\xec\\x95\\x88 \\xea\\xb5\\xad\\xeb\\xac\\xb4\\xed\\x9a\\x8c\\xec\\x9d\\x98 \\xec\\x9d\\x98\\xea\\xb2\\xb0\",\"url\":\"https://news.naver.com/main/list.naver?mode=LPOD&mid=sec&sid1=001&sid2=140&oid=001&isYeonhapFlash=Y&aid=0015066990\",\"aid\":null,\"emergency\":false,\"notCompleted\":false,\"officeName\":\"\\xec\\x97\\xb0\\xed\\x95\\xa9\\xeb\\x89\\xb4\\xec\\x8a\\xa4\",\"officeId\":\"001\",\"officeHomeUrl\":null,\"officeWeight\":0,\"officeWeightRate\":0.0,\"_id\":\"643543b2caf3d87b7e0a0da6\"},{\"@type\":\"MATERIAL-PC-NEWS-ONELINE\",\"gdid\":null,\"title\":\"\\xed\\x8a\\xb8\\xeb\\x9f\\xbc\\xed\\x94\\x84 \\\\\"\\xe4\\xb8\\xad\\xec\\x97\\x94 \\xec\\xb6\\x94\\xea\\xb0\\x80\\xea\\xb4\\x80\\xec\\x84\\xb8\\xec\\x97\\x90 10% \\xeb\\x8d\\x94 \\xeb\\xb6\\x80\\xea\\xb3\\xbc\\xe2\\x80\\xa6\\xeb\\xa9\\x95\\xec\\x8b\\x9c\\xec\\xbd\\x94\\xc2\\xb7\\xe5\\x8a\\xa0\\xec\\x97\\x94 25% \\xea\\xb4\\x80\\xec\\x84\\xb8\\\\\"\",\"url\":\"https://news.naver.com/main/list.naver?mode=LPOD&mid=sec&sid1=001&sid2=140&oid=001&isYeonhapFlash=Y&aid=0015066891\",\"aid\":null,\"emergency\":false,\"notCompleted\":false,\"officeName\":\"\\xec\\x97\\xb0\\xed\\x95\\xa9\\xeb\\x89\\xb4\\xec\\x8a\\xa4\",\"officeId\":\"001\",\"officeHomeUrl\":null,\"officeWeight\":0,\"officeWeightRate\":0.0,\"_id\":\"6744102ed7f79d7b4bac4423\"},{\"@type\":\"MATERIAL-PC-NEWS-ONELINE\",\"gdid\":null,\"title\":\"\\xe5\\x8c\\x97, \\xeb\\x82\\xa8\\xec\\xb8\\xa1\\xec\\x9d\\xb4 \\xec\\x84\\xb8\\xec\\x9a\\xb4 \\xea\\xb0\\x9c\\xec\\x84\\xb1\\xea\\xb3\\xb5\\xeb\\x8b\\xa8 \\xec\\xa0\\x84\\xeb\\xa0\\xa5\\xea\\xb3\\xb5\\xea\\xb8\\x89\\xec\\x9a\\xa9 \\xec\\x86\\xa1\\xec\\xa0\\x84\\xed\\x83\\x91 \\xec\\xa0\\x84\\xec\\x84\\xa0 \\xeb\\x81\\x8a\\xec\\x96\\xb4\",\"url\":\"https://news.naver.com/main/list.naver?mode=LPOD&mid=sec&sid1=001&sid2=140&oid=001&isYeonhapFlash=Y&aid=0015066667\",\"aid\":null,\"emergency\":false,\"notCompleted\":false,\"officeName\":\"\\xec\\x97\\xb0\\xed\\x95\\xa9\\xeb\\x89\\xb4\\xec\\x8a\\xa4\",\"officeId\":\"001\",\"officeHomeUrl\":null,\"officeWeight\":0,\"officeWeightRate\":0.0,\"_id\":\"6744102ed7f79d7b4bac4424\"},{\"@type\":\"MATERIAL-PC-NEWS-ONELINE\",\"gdid\":null,\"title\":\"\\\\\"\\xec\\x9d\\x98\\xec\\x9b\\x90\\xeb\\x93\\xa4 \\'\\xec\\xaa\\xbd\\xec\\xa7\\x80 \\xec\\x98\\x88\\xec\\x82\\xb0\\'\\xec\\x97\\x90 \\xea\\xb5\\xad\\xea\\xb3\\xa0\\xeb\\xb3\\xb4\\xec\\xa1\\xb0\\xea\\xb8\\x88 2\\xec\\xb2\\x9c520\\xec\\x96\\xb5\\xec\\x9b\\x90 \\xeb\\xb6\\x80\\xeb\\x8b\\xb9 \\xec\\xa7\\x80\\xea\\xb8\\x89\\\\\"\",\"url\":\"https://news.naver.com/main/list.naver?mode=LPOD&mid=sec&sid1=001&sid2=140&oid=001&isYeonhapFlash=Y&aid=0015066903\",\"aid\":null,\"emergency\":false,\"notCompleted\":false,\"officeName\":\"\\xec\\x97\\xb0\\xed\\x95\\xa9\\xeb\\x89\\xb4\\xec\\x8a\\xa4\",\"officeId\":\"001\",\"officeHomeUrl\":null,\"officeWeight\":0,\"officeWeightRate\":0.0,\"_id\":\"6744102ed7f79d7b4bac4425\"},{\"@type\":\"MATERIAL-PC-NEWS-ONELINE\",\"gdid\":null,\"title\":\"\\xec\\x9a\\xb0\\xeb\\xa6\\xac \\xea\\xb8\\x80\\xec\\x94\\xa8\\xec\\x97\\x90 \\xeb\\x8b\\xb4\\xea\\xb8\\xb4 \\xec\\x95\\x84\\xeb\\xa6\\x84\\xeb\\x8b\\xa4\\xec\\x9b\\x80\\xe2\\x80\\xa6\\'\\xed\\x95\\x9c\\xea\\xb8\\x80\\xec\\x84\\x9c\\xec\\x98\\x88\\' \\xea\\xb5\\xad\\xea\\xb0\\x80\\xeb\\xac\\xb4\\xed\\x98\\x95\\xec\\x9c\\xa0\\xec\\x82\\xb0 \\xeb\\x90\\x9c\\xeb\\x8b\\xa4\",\"url\":\"https://news.naver.com/main/list.naver?mode=LPOD&mid=sec&sid1=001&sid2=140&oid=001&isYeonhapFlash=Y&aid=0015066701\",\"aid\":null,\"emergency\":false,\"notCompleted\":false,\"officeName\":\"\\xec\\x97\\xb0\\xed\\x95\\xa9\\xeb\\x89\\xb4\\xec\\x8a\\xa4\",\"officeId\":\"001\",\"officeHomeUrl\":null,\"officeWeight\":0,\"officeWeightRate\":0.0,\"_id\":\"6744102ed7f79d7b4bac4426\"},{\"@type\":\"MATERIAL-PC-NEWS-ONELINE\",\"gdid\":null,\"title\":\"\\xec\\x9a\\xb0\\xed\\x81\\xac\\xeb\\x9d\\xbc \\\\\"\\xed\\x8a\\xb9\\xec\\x82\\xac \\xea\\xb3\\xa7 \\xeb\\xb0\\xa9\\xed\\x95\\x9c\\\\\"\\xc2\\xb7\\xe9\\x9f\\x93 \\\\\"\\xec\\x9d\\x98\\xeb\\xaf\\xb8\\xec\\x9e\\x88\\xeb\\x8a\\x94 \\xed\\x98\\x91\\xec\\x9d\\x98 \\xea\\xb8\\xb0\\xeb\\x8c\\x80\\\\\"\\xe2\\x80\\xa6\\xec\\x99\\xb8\\xea\\xb5\\x90\\xec\\x9e\\xa5\\xea\\xb4\\x80\\xed\\x9a\\x8c\\xeb\\x8b\\xb4\",\"url\":\"https://news.naver.com/main/list.naver?mode=LPOD&mid=sec&sid1=001&sid2=140&oid=001&isYeonhapFlash=Y&aid=0015066587\",\"aid\":null,\"emergency\":false,\"notCompleted\":false,\"officeName\":\"\\xec\\x97\\xb0\\xed\\x95\\xa9\\xeb\\x89\\xb4\\xec\\x8a\\xa4\",\"officeId\":\"001\",\"officeHomeUrl\":null,\"officeWeight\":0,\"officeWeightRate\":0.0,\"_id\":\"6744102ed7f79d7b4bac4427\"},{\"@type\":\"MATERIAL-PC-NEWS-ONELINE\",\"gdid\":null,\"title\":\"\\xe7\\xbe\\x8e \\\\\"\\xec\\x9d\\xb4\\xec\\x8a\\xa4\\xeb\\x9d\\xbc\\xec\\x97\\x98-\\xed\\x97\\xa4\\xec\\xa6\\x88\\xeb\\xb3\\xbc\\xeb\\x9d\\xbc, \\xeb\\xa0\\x88\\xeb\\xb0\\x94\\xeb\\x85\\xbc \\xed\\x9c\\xb4\\xec\\xa0\\x84 \\xed\\x95\\xa9\\xec\\x9d\\x98 \\xea\\xb7\\xbc\\xec\\xa0\\x91\\xe2\\x80\\xa6\\xeb\\x85\\xbc\\xec\\x9d\\x98 \\xea\\xb8\\x8d\\xec\\xa0\\x95\\xec\\xa0\\x81\\\\\"\",\"url\":\"https://news.naver.com/main/list.naver?mode=LPOD&mid=sec&sid1=001&sid2=140&oid=001&isYeonhapFlash=Y&aid=0015066479\",\"aid\":null,\"emergency\":false,\"notCompleted\":false,\"officeName\":\"\\xec\\x97\\xb0\\xed\\x95\\xa9\\xeb\\x89\\xb4\\xec\\x8a\\xa4\",\"officeId\":\"001\",\"officeHomeUrl\":null,\"officeWeight\":0,\"officeWeightRate\":0.0,\"_id\":\"6744102ed7f79d7b4bac4428\"},{\"@type\":\"MATERIAL-PC-NEWS-ONELINE\",\"gdid\":null,\"title\":\"\\xec\\x95\\x95\\xea\\xb5\\xac\\xec\\xa0\\x95 \\xed\\x98\\x84\\xeb\\x8c\\x80, \\xec\\x9a\\xa9\\xec\\xa0\\x81\\xeb\\xa5\\xa0 300% 2\\xec\\xb2\\x9c606\\xec\\x84\\xb8\\xeb\\x8c\\x80 \\xec\\x9e\\xac\\xea\\xb1\\xb4\\xec\\xb6\\x95\\xe2\\x80\\xa6\\xec\\xa0\\x95\\xeb\\xb9\\x84\\xea\\xb3\\x84\\xed\\x9a\\x8d \\xea\\xb2\\xb0\\xec\\xa0\\x95\",\"url\":\"https://news.naver.com/main/list.naver?mode=LPOD&mid=sec&sid1=001&sid2=140&oid=001&isYeonhapFlash=Y&aid=0015066705\",\"aid\":null,\"emergency\":false,\"notCompleted\":false,\"officeName\":\"\\xec\\x97\\xb0\\xed\\x95\\xa9\\xeb\\x89\\xb4\\xec\\x8a\\xa4\",\"officeId\":\"001\",\"officeHomeUrl\":null,\"officeWeight\":0,\"officeWeightRate\":0.0,\"_id\":\"6744102ed7f79d7b4bac4429\"},{\"@type\":\"MATERIAL-PC-NEWS-ONELINE\",\"gdid\":null,\"title\":\"\\xec\\x82\\xbc\\xec\\x84\\xb1\\xec\\xa0\\x84\\xec\\x9e\\x90, \\xec\\x9d\\xbc\\xeb\\xb6\\x80 \\xec\\x9e\\x84\\xec\\x9b\\x90\\xec\\x97\\x90 \\xed\\x87\\xb4\\xec\\x9e\\x84 \\xed\\x86\\xb5\\xeb\\xb3\\xb4\\xe2\\x80\\xa6\\xec\\x9d\\xb4\\xeb\\xa5\\xb4\\xeb\\xa9\\xb4 \\xeb\\x82\\xb4\\xec\\x9d\\xbc \\xec\\x97\\xb0\\xeb\\xa7\\x90 \\xec\\x9d\\xb8\\xec\\x82\\xac\\xed\\x95\\xa0 \\xeb\\x93\\xaf\",\"url\":\"https://news.naver.com/main/list.naver?mode=LPOD&mid=sec&sid1=001&sid2=140&oid=001&isYeonhapFlash=Y&aid=0015066826\",\"aid\":null,\"emergency\":false,\"notCompleted\":false,\"officeName\":\"\\xec\\x97\\xb0\\xed\\x95\\xa9\\xeb\\x89\\xb4\\xec\\x8a\\xa4\",\"officeId\":\"001\",\"officeHomeUrl\":null,\"officeWeight\":0,\"officeWeightRate\":0.0,\"_id\":\"6744102ed7f79d7b4bac442a\"},{\"@type\":\"MATERIAL-PC-NEWS-ONELINE\",\"gdid\":null,\"title\":\"\\xeb\\xaa\\xa8\\xeb\\xa0\\x88 \\xec\\x98\\xa4\\xec\\xa0\\x84\\xea\\xb9\\x8c\\xec\\xa7\\x80 \\xec\\xa0\\x84\\xea\\xb5\\xad\\xec\\x97\\x90 \\xeb\\xb9\\x84\\xec\\x99\\x80 \\xeb\\x88\\x88\\xe2\\x80\\xa6\\xec\\x88\\x98\\xeb\\x8f\\x84\\xea\\xb6\\x8c\\xc2\\xb7\\xec\\xb6\\xa9\\xec\\xb2\\xad \\xec\\x98\\xa4\\xeb\\x8a\\x98\\xeb\\xb0\\xa4\\xeb\\xb6\\x80\\xed\\x84\\xb0 \\xeb\\x88\\x88\",\"url\":\"https://news.naver.com/main/list.naver?mode=LPOD&mid=sec&sid1=001&sid2=140&oid=001&isYeonhapFlash=Y&aid=0015066689\",\"aid\":null,\"emergency\":false,\"notCompleted\":false,\"officeName\":\"\\xec\\x97\\xb0\\xed\\x95\\xa9\\xeb\\x89\\xb4\\xec\\x8a\\xa4\",\"officeId\":\"001\",\"officeHomeUrl\":null,\"officeWeight\":0,\"officeWeightRate\":0.0,\"_id\":\"674421c27ac7f681b1e39595\"}],\"excludeInPaging\":false,\"positionForPaging\":0,\"realtime\":false,\"_id\":\"643543b2a10d3006850fa263\",\"@type\":\"BLOCK\",\"@code\":\"PC-NEWSSTAND-YONHAP\",\"@template\":\"PC-NEWSSTAND-YONHAP\",\"@flowId\":\"PC-YONHAP\",\"@flowExecutionId\":\"bd4a1eb1-ab96-11ef-8aeb-f1bc3affaa41\",\"@provider\":\"lambda\",\"@lastModifiedAt\":[2024,11,26,1,35,38,266000000]}\\nwindow[\"EAGER-DATA\"][\"CAS-MINICONTENT-PC-SEARCH-RIGHT\"] = {\"@type\":\"MINI-CONTENT-BLOCK\",\"blocks\":null,\"materials\":null,\"excludeInPaging\":false,\"positionForPaging\":0,\"realtime\":false,\"items\":[],\"_id\":\"6433d8a5a10d300685012682\",\"@type\":\"MINI-CONTENT-BLOCK\",\"@code\":\"CAS-MINICONTENT-PC-SEARCH-RIGHT\",\"@template\":\"NONE\",\"@flowId\":\"CAS-MINICONTENT\",\"@flowExecutionId\":\"bcacccb4-ab96-11ef-95eb-edffe5dcc950\",\"@provider\":\"lambda\",\"@lastModifiedAt\":[2024,11,26,1,35,37,106000000]}\\nwindow[\"EAGER-DATA\"][\"PC-HEADLINE-AD\"] = {\"@type\":\"PC-HEADLINE-AD-BLOCK\",\"blocks\":null,\"materials\":null,\"excludeInPaging\":false,\"positionForPaging\":0,\"realtime\":false,\"adResponse\":{\"type\":\"N011\",\"adlineId\":null,\"vimp100p0s\":\"https://siape.veta.naver.com/fxview?eu=EU10044129&calp=-&oj=ZJlEFeSBKmLf40n3ktJ9%2FDYIVD6GlxdsJuIXHIbeKAcqdrgLqvSVsSGNcbrnFmKn&ac=8968387&src=7094288&evtcd=V900&x_ti=1586&tb=&oid=&sid1=&sid2=&rk=5gSbMTGOY2ln_ZR2o8319A&eltts=K9BXRjoLie7Tr7rHNuhYuA%3D%3D&brs=Y&&eid=V900\",\"assets\":null},\"_id\":null,\"@type\":null,\"@code\":\"PC-HEADLINE-AD\",\"@template\":\"PC-HEADLINE-AD\",\"@flowId\":null,\"@flowExecutionId\":null,\"@provider\":null,\"@lastModifiedAt\":null}\\nwindow[\"EAGER-DATA\"][\"CAS-MINICONTENT-PC-MEDIA-TAB-EVENT\"] = {\"@type\":\"MINI-CONTENT-BLOCK\",\"blocks\":null,\"materials\":null,\"excludeInPaging\":false,\"positionForPaging\":0,\"realtime\":false,\"items\":[],\"_id\":\"643687e1a10d300685630556\",\"@type\":\"MINI-CONTENT-BLOCK\",\"@code\":\"CAS-MINICONTENT-PC-MEDIA-TAB-EVENT\",\"@template\":\"NONE\",\"@flowId\":\"CAS-MINICONTENT\",\"@flowExecutionId\":\"c3e73c60-ab96-11ef-8aeb-594bfeadfc9c\",\"@provider\":\"lambda\",\"@lastModifiedAt\":[2024,11,26,1,35,49,275000000]}\\nwindow[\"EAGER-DATA\"][\"CAS-MINICONTENT-PC-MID-BANNER\"] = {\"@type\":\"MINI-CONTENT-BLOCK\",\"blocks\":null,\"materials\":null,\"excludeInPaging\":false,\"positionForPaging\":0,\"realtime\":false,\"items\":[],\"_id\":\"648ae476a10d300685fbab10\",\"@type\":\"MINI-CONTENT-BLOCK\",\"@code\":\"CAS-MINICONTENT-PC-MID-BANNER\",\"@template\":\"NONE\",\"@flowId\":\"CAS-MINICONTENT\",\"@flowExecutionId\":\"dcfd5a65-ab96-11ef-8aeb-1fa79090b032\",\"@provider\":\"lambda\",\"@lastModifiedAt\":[2024,11,26,1,36,31,313000000]}\\nwindow[\"EAGER-DATA\"][\"CAS-MINICONTENT-PC-TAB-META\"] = {\"@type\":\"MINI-CONTENT-BLOCK\",\"blocks\":null,\"materials\":null,\"excludeInPaging\":false,\"positionForPaging\":0,\"realtime\":false,\"items\":[{\"content\":{\"area\":\"FEED\",\"tabList\":[{\"clickCode\":\"tct.mynr\",\"name\":\"\\xec\\xb6\\x94\\xec\\xb2\\x9c\\xe3\\x83\\xbb\\xea\\xb5\\xac\\xeb\\x8f\\x85\",\"id\":\"PC-FEED-RECOMMEND\",\"contingencyEnabled\":true,\"enabled\":true,\"useFeedCasEditTemplate\":false,\"weight\":1},{\"clickCode\":\"tct.wtn\",\"name\":\"\\xec\\x9e\\x90\\xeb\\x8f\\x99\\xec\\xb0\\xa8\",\"id\":\"PC-FEED-CARGAME\",\"contingencyEnabled\":true,\"enabled\":true,\"useFeedCasEditTemplate\":true,\"weight\":1},{\"clickCode\":\"tct.wtn\",\"name\":\"\\xec\\x9b\\xb9\\xed\\x88\\xb0\",\"id\":\"PC-FEED-WEBTOON\",\"contingencyEnabled\":true,\"enabled\":true,\"useFeedCasEditTemplate\":true,\"weight\":1},{\"clickCode\":\"tct.bty\",\"name\":\"\\xed\\x8c\\xa8\\xec\\x85\\x98\\xeb\\xb7\\xb0\\xed\\x8b\\xb0\",\"id\":\"PC-FEED-BEAUTY\",\"contingencyEnabled\":true,\"enabled\":true,\"useFeedCasEditTemplate\":false,\"weight\":1},{\"clickCode\":\"tct.fod\",\"name\":\"\\xeb\\xa0\\x88\\xec\\x8b\\x9c\\xed\\x94\\xbc\",\"id\":\"PC-FEED-RECIPE\",\"contingencyEnabled\":true,\"enabled\":true,\"useFeedCasEditTemplate\":true,\"weight\":1},{\"clickCode\":\"tct.lif\",\"name\":\"\\xeb\\xa6\\xac\\xeb\\xb9\\x99\",\"id\":\"PC-FEED-LIVINGHOME\",\"contingencyEnabled\":true,\"enabled\":true,\"useFeedCasEditTemplate\":true,\"weight\":1},{\"clickCode\":\"tct.bok\",\"name\":\"\\xec\\xb1\\x85\\xeb\\xb0\\xa9\",\"id\":\"PC-FEED-CULTURE\",\"contingencyEnabled\":true,\"enabled\":true,\"useFeedCasEditTemplate\":true,\"weight\":1},{\"clickCode\":\"tct.lec\",\"name\":\"\\xec\\xa7\\x80\\xec\\x8b\\x9d+\",\"id\":\"PC-FEED-LECTURE\",\"contingencyEnabled\":true,\"enabled\":true,\"useFeedCasEditTemplate\":true,\"weight\":1},{\"clickCode\":\"tct.health\",\"name\":\"\\xea\\xb1\\xb4\\xea\\xb0\\x95\",\"id\":\"PC-FEED-HEALTH\",\"contingencyEnabled\":true,\"enabled\":true,\"useFeedCasEditTemplate\":false,\"weight\":1},{\"clickCode\":\"tct.gameapp\",\"name\":\"\\xea\\xb2\\x8c\\xec\\x9e\\x84\",\"id\":\"PC-FEED-GAMEAPP\",\"contingencyEnabled\":true,\"enabled\":true,\"useFeedCasEditTemplate\":false,\"weight\":1}],\"@type\":\"BLOCK-PC-TAB-META\"},\"exposure\":true,\"@miniContentId\":\"643e64d370a065058f369bac\",\"@miniContentCode\":\"PC-TAB-META\",\"@startAt\":\"2023-04-10 00:00\",\"@endAt\":\"2030-05-30 23:59\",\"@createdAt\":\"2023-04-18T18:37:23.412\",\"@updatedAt\":\"2023-11-08T11:34:03.902\"},{\"content\":{\"area\":\"MEDIA\",\"tabList\":[{\"clickCode\":\"nst.nsd\",\"name\":\"\\xeb\\x89\\xb4\\xec\\x8a\\xa4\\xec\\x8a\\xa4\\xed\\x83\\xa0\\xeb\\x93\\x9c\",\"id\":\"PC-MEDIA-NEWSSTAND\",\"contingencyEnabled\":true,\"enabled\":true,\"useFeedCasEditTemplate\":false,\"weight\":1},{\"clickCode\":\"nst.nch\",\"name\":\"\\xec\\x96\\xb8\\xeb\\xa1\\xa0\\xec\\x82\\xac\\xed\\x8e\\xb8\\xec\\xa7\\x91\",\"id\":\"PC-MEDIA-NEWS\",\"contingencyEnabled\":true,\"enabled\":true,\"useFeedCasEditTemplate\":false,\"weight\":1},{\"clickCode\":\"nst.ent\",\"name\":\"\\xec\\x97\\x94\\xed\\x84\\xb0\",\"id\":\"PC-MEDIA-ENTER\",\"contingencyEnabled\":true,\"enabled\":true,\"useFeedCasEditTemplate\":false,\"weight\":1},{\"clickCode\":\"nst.spo\",\"name\":\"\\xec\\x8a\\xa4\\xed\\x8f\\xac\\xec\\xb8\\xa0\",\"id\":\"PC-MEDIA-SPORTS\",\"contingencyEnabled\":true,\"enabled\":true,\"useFeedCasEditTemplate\":false,\"weight\":1},{\"clickCode\":\"nst.fin\",\"name\":\"\\xea\\xb2\\xbd\\xec\\xa0\\x9c\",\"id\":\"PC-MEDIA-ECONOMIC\",\"contingencyEnabled\":true,\"enabled\":true,\"useFeedCasEditTemplate\":false,\"weight\":1},{\"clickCode\":\"nst.shpt\",\"name\":\"\\xec\\x87\\xbc\\xed\\x95\\x91\\xed\\x88\\xac\\xeb\\x8d\\xb0\\xec\\x9d\\xb4\",\"id\":\"PC-MEDIA-SHOPPING-TODAY\",\"contingencyEnabled\":true,\"enabled\":true,\"useFeedCasEditTemplate\":false,\"weight\":1}],\"@type\":\"BLOCK-PC-TAB-META\"},\"exposure\":true,\"@miniContentId\":\"643e642c8793487c84743a38\",\"@miniContentCode\":\"PC-TAB-META\",\"@startAt\":\"2023-04-11 00:00\",\"@endAt\":\"2030-05-31 23:59\",\"@createdAt\":\"2023-04-18T18:34:36.648\",\"@updatedAt\":\"2024-04-18T16:13:27.109\"}],\"_id\":\"643e6299a10d3006853cc04c\",\"@type\":\"MINI-CONTENT-BLOCK\",\"@code\":\"CAS-MINICONTENT-PC-TAB-META\",\"@template\":\"NONE\",\"@flowId\":\"CAS-MINICONTENT\",\"@flowExecutionId\":\"c660eefc-ab96-11ef-8b32-1b69db209c47\",\"@provider\":\"lambda\",\"@lastModifiedAt\":[2024,11,26,1,35,53,381000000]}\\n</script> <script defer=\"defer\" src=\"https://pm.pstatic.net/resources/js/polyfill.a163af38.js?o=www\" crossorigin=\"anonymous\"></script><script defer=\"defer\" src=\"https://pm.pstatic.net/resources/js/preload.33507660.js?o=www\" crossorigin=\"anonymous\"></script><script defer=\"defer\" src=\"https://pm.pstatic.net/resources/js/search.ab2d8d96.js?o=www\" crossorigin=\"anonymous\"></script><script defer=\"defer\" src=\"https://pm.pstatic.net/resources/js/main.0cd0446d.js?o=www\" crossorigin=\"anonymous\"></script><link href=\"https://pm.pstatic.net/resources/css/main.d2a35f78.css\" rel=\"stylesheet\"></head> <body> <div id=\"u_skip\"> <a href=\"#topAsideButton\"><span>\\xec\\x83\\x81\\xeb\\x8b\\xa8\\xec\\x98\\x81\\xec\\x97\\xad \\xeb\\xb0\\x94\\xeb\\xa1\\x9c\\xea\\xb0\\x80\\xea\\xb8\\xb0</span></a> <a href=\"#shortcutArea\"><span>\\xec\\x84\\x9c\\xeb\\xb9\\x84\\xec\\x8a\\xa4 \\xeb\\xa9\\x94\\xeb\\x89\\xb4 \\xeb\\xb0\\x94\\xeb\\xa1\\x9c\\xea\\xb0\\x80\\xea\\xb8\\xb0</span></a> <a href=\"#newsstand\"><span>\\xec\\x83\\x88\\xec\\x86\\x8c\\xec\\x8b\\x9d \\xeb\\xb8\\x94\\xeb\\xa1\\x9d \\xeb\\xb0\\x94\\xeb\\xa1\\x9c\\xea\\xb0\\x80\\xea\\xb8\\xb0</span></a> <a href=\"#shopping\"><span>\\xec\\x87\\xbc\\xed\\x95\\x91 \\xeb\\xb8\\x94\\xeb\\xa1\\x9d \\xeb\\xb0\\x94\\xeb\\xa1\\x9c\\xea\\xb0\\x80\\xea\\xb8\\xb0</span></a> <a href=\"#feed\"><span>\\xea\\xb4\\x80\\xec\\x8b\\xac\\xec\\x82\\xac \\xeb\\xb8\\x94\\xeb\\xa1\\x9d \\xeb\\xb0\\x94\\xeb\\xa1\\x9c\\xea\\xb0\\x80\\xea\\xb8\\xb0</span></a> <a href=\"#account\"><span>MY \\xec\\x98\\x81\\xec\\x97\\xad \\xeb\\xb0\\x94\\xeb\\xa1\\x9c\\xea\\xb0\\x80\\xea\\xb8\\xb0</span></a> <a href=\"#widgetboard\"><span>\\xec\\x9c\\x84\\xec\\xa0\\xaf \\xeb\\xb3\\xb4\\xeb\\x93\\x9c \\xeb\\xb0\\x94\\xeb\\xa1\\x9c\\xea\\xb0\\x80\\xea\\xb8\\xb0</span></a> <a href=\"#viewSetting\"><span>\\xeb\\xb3\\xb4\\xea\\xb8\\xb0 \\xec\\x84\\xa4\\xec\\xa0\\x95 \\xeb\\xb0\\x94\\xeb\\xa1\\x9c\\xea\\xb0\\x80\\xea\\xb8\\xb0</span></a> </div>   <script type=\"text/plain\" id=\"ad-timeboard-response\" data-gfp-banner-size=\"830x130\" data-gfp-banner-type=\"full\">{\"payload\":{\"requestId\":\"612e38a4caeb45d18d4ecb12606ff1f8\",\"head\":{\"version\":\"0.0.1\",\"description\":\"Naver SSP Waterfall List\"},\"eventTracking\":{\"ackImpressions\":[{\"url\":\"https://tivan.naver.com/sc2/1/\"}],\"activeViewImpressions\":[{\"url\":\"https://tivan.naver.com/sc2/2/\"}],\"clicks\":[{\"url\":\"https://tivan.naver.com/sc2/3/\"}],\"completions\":[{\"url\":\"https://tivan.naver.com/sc2/4/\"}],\"attached\":[{\"url\":\"https://tivan.naver.com/sc2/10/\"}],\"renderedImpressions\":[{\"url\":\"https://tivan.naver.com/sc2/11/\"}],\"viewableImpressions\":[{\"url\":\"https://tivan.naver.com/sc2/12/\"}],\"loadErrors\":[{\"url\":\"https://tivan.naver.com/sc2/91/\"}],\"startErrors\":[{\"url\":\"https://tivan.naver.com/sc2/92/\"}],\"lazyRenderMediaFailed\":[{\"url\":\"https://tivan.naver.com/sc2/93/\"}],\"mute\":[{\"url\":\"https://tivan.naver.com/sc2/5/\"}],\"close\":[{\"url\":\"https://tivan.naver.com/sc2/6/\"}]},\"adUnit\":\"p_main_timeboard_v1\",\"randomNumber\":35,\"adDivId\":\"ad_timeboard\",\"ads\":[{\"encrypted\":\"G6RCnYPuXKYh57Qc3P6nNbuZhsucuOyj94Gk6T3wlRLG0iMfvtq6_i7A2yS3y_CRr-bjW6xJ-TJoLKPSgBkcuIzCxaswDl0VBWC3D_Og3yV46bE1Jq8RM-1A9GkIzvt20c_5aBoAR-a-i6BjuD2Q35rlZQcfUeZhGvmW41fBTxCrM0JRBePdpXdREdhbpz_7HdQZ85jDfnklsLfAdbLfVYOL9SBE92ca5LCJiS8dVFib7CnN6e0JLaXgMxUu-u9G9fwEBjgWJtR0jYD7BDlK-f6jbdgvaJvUvL3_c_omL52tyb5qlFM9ojsOPr6OgX85PHweoiARMhwXqgLsXwgPDC74Sv3oFb64sKSAsV4Pok1W1fD5aWryBr13b2Fwx8BkDOrpM0UPoUOiTcrtp3fL_vDSxyVSHyygni5a8_t16xlPhk2Ov3BGmWQF0e5J256mugOs-sbQnpaUAvCeNBxuPLZei9I2CAmBot2Ecyl6y6OOsNbYpJXPl9uiSantmK_H8aOEoZ8mwmiY8Jme-qDTTVQWR7IIbupS_MDfbsR361IbzNpeuX5Tgs_MpDlgl76OJ5qLvyKGUkZlY8b-aGwerV6uAjjPvh9U57LT1Tm5RlzamXj3awI5nHVxMToLm3d_Ljb4YoQNK-vsxEMS72KBcOyw2wMmwnAAhvQrTXiCWL7zUwelPG6EZKYqBdSeybJbXZzHMCW9j59IxH8aVuol5YXzQj9W9CFd7zruQOd5_es=\",\"connectionType\":\"S2S\",\"adProviderType\":\"IN_NAVER\",\"adProviderName\":\"NDP_SF\",\"layoutType\":\"FLUID\",\"creativeType\":\"BANNER\",\"renderType\":\"SF\",\"eventTracking\":{\"ackImpressions\":[{\"url\":\"https://siape.veta.naver.com/openrtb/nurl?eu=EU10043565\\\\u0026calp=-\\\\u0026oj=cQgn6aire5OSSR9zJjDNjHiYHYClWMk7An57W0meclFl2472HVHEQtnSHE59vVkAJL1qM2Pf%2Fak2CFQ%2BhpcXbCbiFxyG3igHKna4C6r0lbHIBWexIpibH0plqdgUSG%2BUXrQSw%2B%2FX1bbNCF9%2F110BZDp0hCNKO%2BcHo2M9jEOAPSLbaIdXv9YIFqKzdZWOwZvbdMAtSn%2B9Id4vH4MuGzFJiErLLp1Ox71Vg1K%2FFXnNMQA\\\\u0026ac=9052533\\\\u0026src=7365312\\\\u0026evtcd=BID_WIN\\\\u0026x_ti=1506\\\\u0026rk=R_12gTtTqF36lOiMhdCSHA\\\\u0026eltts=K9BXRjoLie7Tr7rHNuhYuA%3D%3D\\\\u0026brs=Y\\\\u0026\"}],\"attached\":[],\"activeViewImpressions\":[],\"renderedImpressions\":[],\"viewableImpressions\":[],\"clicks\":[],\"vimp1px\":[],\"vimp100\":[],\"vimp100p\":[],\"admute\":[],\"advmute\":[],\"like\":[],\"unlike\":[],\"close\":[],\"bounce\":[]},\"adInfo\":{\"placeId\":\"6436232db28a76002ea3f30c\",\"cid\":\"1515693\",\"crid\":\"2694734\",\"exp\":1233,\"adm\":\"%3Cscript%20src%3D%22https%3A%2F%2Fssl.pstatic.net%2Fmelona%2Flibs%2Fglad%2Fbridge%2Fgfp-bridge.js%22%3E%3C%2Fscript%3E%0D%0A%3Clink%20rel%3D%22stylesheet%22%20href%3D%22https%3A%2F%2Fssl.pstatic.net%2Fmelona%2Flibs%2Fassets%2Fcss%2Fpc%2Fmain%2Fmin%2Fmain_image_rolling_830.min.css%3F20221021%22%20%2F%3E%0D%0A%0D%0A%3Cdiv%20class%3D%22image_rolling_area%20time_board_type%22%3E%0D%0A%20%20%20%20%3Ca%20href%3D%22https%3A%2F%2Fsiape.veta.naver.com%2Ffxclick%3Feu%3DEU10043565%26calp%3D-%26oj%3DcQgn6aire5OSSR9zJjDNjHiYHYClWMk7An57W0meclFl2472HVHEQtnSHE59vVkAJL1qM2Pf%252Fak2CFQ%252BhpcXbCbiFxyG3igHKna4C6r0lbHIBWexIpibH0plqdgUSG%252BUXrQSw%252B%252FX1bbNCF9%252F110BZDp0hCNKO%252BcHo2M9jEOAPSLbaIdXv9YIFqKzdZWOwZvbdMAtSn%252B9Id4vH4MuGzFJiErLLp1Ox71Vg1K%252FFXnNMQA%26ac%3D9052533%26src%3D7365312%26br%3D4636461%26evtcd%3DP901%26x_ti%3D1506%26tb%3D%26oid%3D%26sid1%3D%26sid2%3D%26rk%3DR_12gTtTqF36lOiMhdCSHA%26eltts%3DK9BXRjoLie7Tr7rHNuhYuA%253D%253D%26brs%3DY%26%22%20class%3D%22image_rolling_link%22%20target%3D%22_blank%22%3E%0D%0A%20%20%20%20%20%20%20%20%3Cdiv%20class%3D%22image_area%22%3E%0D%0A%20%20%20%20%20%20%20%20%20%20%20%20%3Cimg%20src%3D%22https%3A%2F%2Fssl.pstatic.net%2Fmelona%2Flibs%2F1515%2F1515693%2F6b8b03419522b00e6356_20241125135328642.png%22%20width%3D%22830%22%20height%3D%22130%22%20alt%3D%22%5B%EA%B4%91%EA%B3%A0%5D%EC%8B%A0%EC%9E%85%EC%83%9D%20%EC%88%98%205%EB%85%84%20%EC%97%B0%EC%86%8D%201%EC%9C%84%20%20%EC%84%9C%EC%9A%B8%EC%82%AC%EC%9D%B4%EB%B2%84%EB%8C%80%ED%95%99%EC%9D%84%20%EB%8B%A4%EB%8B%88%EA%B3%A0~%20%EC%9E%85%ED%95%99%EC%83%81%EB%8B%B4%20%EC%98%88%EC%95%BD%20%EC%8B%A0%EC%B2%AD%ED%95%98%EA%B8%B0%22%3E%0D%0A%20%20%20%20%20%20%20%20%20%20%20%20%3Cimg%20src%3D%22https%3A%2F%2Fssl.pstatic.net%2Fmelona%2Flibs%2F1515%2F1515693%2Fac5ce18f4d2337a62a50_20241125135335113.png%22%20width%3D%22830%22%20height%3D%22130%22%20alt%3D%22%22%3E%0D%0A%20%20%20%20%20%20%20%20%20%20%20%20%3Cimg%20src%3D%22https%3A%2F%2Fssl.pstatic.net%2Fmelona%2Flibs%2F1515%2F1515693%2F2f601094e2709d74df69_20241125135340806.png%22%20width%3D%22830%22%20height%3D%22130%22%20alt%3D%22%22%3E%0D%0A%20%20%20%20%20%20%20%20%20%20%20%20%3Cimg%20src%3D%22https%3A%2F%2Fssl.pstatic.net%2Fmelona%2Flibs%2F1515%2F1515693%2Fd58a065f317175db5c5c_20241125135344855.png%22%20width%3D%22830%22%20height%3D%22130%22%20alt%3D%22%22%3E%0D%0A%20%20%20%20%20%20%20%20%3C%2Fdiv%3E%0D%0A%20%20%20%20%3C%2Fa%3E%0D%0A%3C%2Fdiv%3E%0D%0A%0D%0A%3Cscript%20type%3D%22text%2Fjavascript%22%20src%3D%22https%3A%2F%2Fssl.pstatic.net%2Fmelona%2Flibs%2Fassets%2Fjs%2Fpc%2Fmain%2Fmin%2Fpc.veta.core.min.js%3F20221021%22%3E%3C%2Fscript%3E%0D%0A%3Cscript%20type%3D%22text%2Fjavascript%22%3E%0D%0A%20%20%20%20%28function%28ns%2C%20bridge%29%20%7B%0D%0A%20%20%20%20%20%20%20%20var%20LOG%20%3D%20%7B%0D%0A%20%20%20%20%20%20%20%20%20%20%20%20VIEWABLED%3A%20%22https%3A%2F%2Fsiape.veta.naver.com%2Ffxview%3Feu%3DEU10043565%26calp%3D-%26oj%3DcQgn6aire5OSSR9zJjDNjHiYHYClWMk7An57W0meclFl2472HVHEQtnSHE59vVkAJL1qM2Pf%252Fak2CFQ%252BhpcXbCbiFxyG3igHKna4C6r0lbHIBWexIpibH0plqdgUSG%252BUXrQSw%252B%252FX1bbNCF9%252F110BZDp0hCNKO%252BcHo2M9jEOAPSLbaIdXv9YIFqKzdZWOwZvbdMAtSn%252B9Id4vH4MuGzFJiErLLp1Ox71Vg1K%252FFXnNMQA%26ac%3D9052533%26src%3D7365312%26evtcd%3DV900%26x_ti%3D1506%26tb%3D%26oid%3D%26sid1%3D%26sid2%3D%26rk%3DR_12gTtTqF36lOiMhdCSHA%26eltts%3DK9BXRjoLie7Tr7rHNuhYuA%253D%253D%26brs%3DY%26%26eid%3DV900%22%2C%0D%0A%20%20%20%20%20%20%20%20%20%20%20%20RENDERED%3A%20%22https%3A%2F%2Fsiape.veta.naver.com%2Ffxview%3Feu%3DEU10043565%26calp%3D-%26oj%3DcQgn6aire5OSSR9zJjDNjHiYHYClWMk7An57W0meclFl2472HVHEQtnSHE59vVkAJL1qM2Pf%252Fak2CFQ%252BhpcXbCbiFxyG3igHKna4C6r0lbHIBWexIpibH0plqdgUSG%252BUXrQSw%252B%252FX1bbNCF9%252F110BZDp0hCNKO%252BcHo2M9jEOAPSLbaIdXv9YIFqKzdZWOwZvbdMAtSn%252B9Id4vH4MuGzFJiErLLp1Ox71Vg1K%252FFXnNMQA%26ac%3D9052533%26src%3D7365316%26evtcd%3DV602%26x_ti%3D1506%26tb%3D%26oid%3D%26sid1%3D%26sid2%3D%26rk%3DR_12gTtTqF36lOiMhdCSHA%26eltts%3DK9BXRjoLie7Tr7rHNuhYuA%253D%253D%26brs%3DY%26%26eid%3DV810%22%0D%0A%20%20%20%20%20%20%20%20%7D%3B%0D%0A%0D%0A%20%20%20%20%20%20%20%20var%20util%20%3D%20ns.Util%20%3F%20new%20ns.Util%28%29%20%3A%20new%20NBP_CORP.Nimp%28%29%3B%0D%0A%20%20%20%20%20%20%20%20var%20gladSdkBridge%20%3D%20bridge.createSdkBridge%28%29%3B%0D%0A%20%20%20%20%20%20%20%20var%20eventList%20%3D%20%7B%7D%3B%0D%0A%0D%0A%20%20%20%20%20%20%20%20%2F%2F%20%EC%9D%91%EB%8B%B5%EB%85%B8%EC%B6%9C%0D%0A%20%20%20%20%20%20%20%20util.log%28LOG.RENDERED%29%3B%0D%0A%0D%0A%20%20%20%20%20%20%20%20%2F%2F%20%EC%9C%A0%ED%9A%A8%EB%85%B8%EC%B6%9C%0D%0A%20%20%20%20%20%20%20%20eventList%5Bbridge.EVENT.VIEWABLED%5D%20%3D%20function%28%29%20%7B%0D%0A%20%20%20%20%20%20%20%20%20%20%20%20util.log%28LOG.VIEWABLED%29%3B%0D%0A%20%20%20%20%20%20%20%20%7D%3B%0D%0A%0D%0A%20%20%20%20%20%20%20%20gladSdkBridge.setEventListeners%28eventList%29%3B%0D%0A%0D%0A%20%20%20%20%20%20%20%20window.onload%20%3D%20function%28%29%20%7B%0D%0A%20%20%20%20%20%20%20%20%20%20%20%20document.querySelector%28%27.image_area%27%29.classList.add%28%27animation_start%27%29%3B%0D%0A%20%20%20%20%20%20%20%20%7D%3B%0D%0A%20%20%20%20%7D%29%28%0D%0A%20%20%20%20%20%20%20%20window.naver_corp_da%20%7C%7C%20%7B%7D%2C%0D%0A%20%20%20%20%20%20%20%20window.gladBridge%0D%0A%20%20%20%20%29%3B%0D%0A%3C%2Fscript%3E\",\"encoded\":1,\"responseSize\":{\"height\":130,\"width\":830,\"force\":0},\"template\":\"%3C%21doctype%20html%3E%3Chtml%3E%3Chead%3E%3Cmeta%20name%3D%22viewport%22%20content%3D%22width%3Ddevice-width%2C%20user-scalable%3Dno%22%2F%3E%3Cstyle%20data-gfp-role%3D%22adMarkLegacyStyle%22%3E%5Bdata-gfp-role%3D%22adMarkLegacy%22%5D%20%7Bdisplay%3A%20none%3B%7D%3C%2Fstyle%3E%3Cscript%3Ewindow.gladBridge%20%3D%20%7BRUNTIME%3A%20%22InApp%22%7D%3B%3C%2Fscript%3E%3C%2Fhead%3E%3Cbody%20style%3D%22margin%3A%200%3B%20padding%3A%200%22%3E%7B%7Badm%7D%7D%3Cscript%20src%3D%22https%3A%2F%2Fssl.pstatic.net%2Ftveta%2Flibs%2Fglad_admute%2Fprod%2Fglad-admute.js%22%3E%3C%2Fscript%3E%3Cscript%3Econst%20adMuteOptions%20%3D%20%7BmuteUrl%3A%20%22%25%25MUTE_URL%25%25%22%2C%20privacyUrl%3A%20%22%25%25PRIV_URL%25%25%22%2C%20creativeType%3A%20%22BANNER%22%2C%20runtimeType%3A%20%22InApp%22%7D%3B%20if%28adMuteOptions.muteUrl%20%7C%7C%20adMuteOptions.privacyUrl%29%20%7B%20window.gladAdMute.checkAdMarkLegacyStyle%28adMuteOptions%29%3B%20const%20adMuteController%20%3D%20window.gladAdMute.createAdMuteController%28adMuteOptions%29%3B%20adMuteController.render%28%29%3B%20%7D%3C%2Fscript%3E%3C%2Fbody%3E%3C%2Fhtml%3E\"}},{\"encrypted\":\"04i5gmuInufBD-Ai8q-QMy0IiWPf0gKzun4Aw4csclh6ZSxomrUu0qT47vmN8KKS1WPkj0IbMgjCfkj-6u9PByM4BfMxiOsTBXlL8KGKPGZSayQ0raNvFS2P4N0E116-cK7R22iUQSFfaq2bvPs1LaD2Z24XZ9PsabU0TUGxLj6avuqpzBIuDokgdMlycnUabTucFYXVLnUK2HeV1Effqf4V3fpBqqEj2bvvdwEKumxdfkyKhl_YCJu746q0beTpK7ksBMgBMRqJ7sfu6I4unlKKTNQr22Ci4etOqurHJDcNyKgubVYejuBz7u3EMoklkYoDXGuk8VS0WZuqdK-l_gCFWut6y-CIVG0d574whEuOFTByn4Uprp_Ws-Bow6AdzE8eM9P3rWj4QqBr4EdG_mU3eurlWzgeiuyi9PePXoA6ftZS8_6zu-PodYl0cbhoTCvZM1HLTc1sF_p1jsuJi1IuDikB9A1nfFEY0UmviWaI4pnmKvFcbJKsu9Dy9CBUVb9WSqMQGsdJ68Wniaz0fQ==\",\"connectionType\":\"S2S\",\"adProviderName\":\"GFP\",\"layoutType\":\"FLUID\",\"creativeType\":\"BANNER\",\"renderType\":\"EMPTY\",\"eventTracking\":{\"ackImpressions\":[{\"url\":\"https://siape.veta.naver.com/openrtb/nbackimp?eu=EU10043565\\\\u0026oj=cQgn6aire5OSSR9zJjDNjHiYHYClWMk7An57W0meclFl2472HVHEQtnSHE59vVkAJL1qM2Pf%2Fak2CFQ%2BhpcXbCbiFxyG3igHKna4C6r0lbHIBWexIpibH0plqdgUSG%2BUXrQSw%2B%2FX1bbNCF9%2F110BZDp0hCNKO%2BcHo2M9jEOAPSLbaIdXv9YIFqKzdZWOwZvbdMAtSn%2B9Id4vH4MuGzFJiErLLp1Ox71Vg1K%2FFXnNMQA\\\\u0026evtcd=BID_LOSE\\\\u0026rk=R_12gTtTqF36lOiMhdCSHA\\\\u0026eltts=K9BXRjoLie7Tr7rHNuhYuA%3D%3D\\\\u0026calp=-\\\\u0026ac=9052533\\\\u0026src=7365312\\\\u0026x_ti=1506\\\\u0026brs=Y\"}],\"attached\":[],\"activeViewImpressions\":[{\"url\":\"https://siape.veta.naver.com/openrtb/nbimp?oj=cQgn6aire5OSSR9zJjDNjHiYHYClWMk7An57W0meclFl2472HVHEQtnSHE59vVkAJL1qM2Pf%2Fak2CFQ%2BhpcXbCbiFxyG3igHKna4C6r0lbHIBWexIpibH0plqdgUSG%2BUXrQSw%2B%2FX1bbNCF9%2F110BZDp0hCNKO%2BcHo2M9jEOAPSLbaIdXv9YIFqKzdZWOwZvbdMAtSn%2B9Id4vH4MuGzFJiErLLp1Ox71Vg1K%2FFXnNMQA\\\\u0026rk=R_12gTtTqF36lOiMhdCSHA\\\\u0026eltts=K9BXRjoLie7Tr7rHNuhYuA%3D%3D\"}],\"renderedImpressions\":[],\"viewableImpressions\":[{\"url\":\"https://siape.veta.naver.com/openrtb/nbimp?oj=cQgn6aire5OSSR9zJjDNjHiYHYClWMk7An57W0meclFl2472HVHEQtnSHE59vVkAJL1qM2Pf%2Fak2CFQ%2BhpcXbCbiFxyG3igHKna4C6r0lbHIBWexIpibH0plqdgUSG%2BUXrQSw%2B%2FX1bbNCF9%2F110BZDp0hCNKO%2BcHo2M9jEOAPSLbaIdXv9YIFqKzdZWOwZvbdMAtSn%2B9Id4vH4MuGzFJiErLLp1Ox71Vg1K%2FFXnNMQA\\\\u0026rk=R_12gTtTqF36lOiMhdCSHA\\\\u0026eltts=K9BXRjoLie7Tr7rHNuhYuA%3D%3D\"}],\"clicks\":[],\"vimp1px\":[],\"vimp100\":[],\"vimp100p\":[],\"admute\":[],\"advmute\":[],\"like\":[],\"unlike\":[],\"close\":[],\"bounce\":[]},\"adInfo\":{\"responseSize\":{\"height\":0,\"width\":0}}}],\"config\":{\"imp\":{\"ratio\":100,\"ms\":0}}},\"additionalInfo\":{\"adCount\":1,\"adDuplicate\":{\"advertiserDomains\":null,\"adDuplicationKeys\":null},\"adSize\":{\"h\":130,\"w\":830}}}\\n</script> <div id=\"wrap\"> <div id=\"header\" role=\"banner\"> <div id=\"topSearchWrap\" class=\"header_inner\"> <div id=\"special-logo\" class=\"search_special_bg\"></div> <div id=\"timeboard-ex\" class=\"ad_area\" style=\"min-width:1340px\"> </div> <div id=\"search_area\" class=\"search_area\" style=\"border-color:#fff\"> <div class=\"search_group\"> <div id=\"search\" class=\"search_group_inner\"> <h1 id=\"special-input-logo\" class=\"search_logo\"></h1> <form id=\"sform\" name=\"search\" role=\"search\" action=\"https://search.naver.com/search.naver\" method=\"get\"> <fieldset> <legend class=\"blind\">\\xea\\xb2\\x80\\xec\\x83\\x89</legend> <input type=\"hidden\" name=\"where\" value=\"nexearch\"/> <input type=\"hidden\" id=\"sm\" name=\"sm\" value=\"top_hty\"/> <input type=\"hidden\" id=\"fbm\" name=\"fbm\" value=\"0\"/> <input type=\"hidden\" id=\"acr\" name=\"acr\" value=\"\" disabled=\"disabled\"/> <input type=\"hidden\" id=\"acq\" name=\"acq\" value=\"\" disabled=\"disabled\"/> <input type=\"hidden\" id=\"qdt\" name=\"qdt\" value=\"\" disabled=\"disabled\"/> <input type=\"hidden\" id=\"ie\" name=\"ie\" value=\"utf8\"/> <input type=\"hidden\" id=\"acir\" name=\"acir\" value=\"\" disabled=\"disabled\"/> <input type=\"hidden\" id=\"os\" name=\"os\" value=\"\" disabled=\"disabled\"/> <input type=\"hidden\" id=\"bid\" name=\"bid\" value=\"\" disabled=\"disabled\"/> <input type=\"hidden\" id=\"pkid\" name=\"pkid\" value=\"\" disabled=\"disabled\"/> <input type=\"hidden\" id=\"eid\" name=\"eid\" value=\"\" disabled=\"disabled\"/> <input type=\"hidden\" id=\"mra\" name=\"mra\" value=\"\" disabled=\"disabled\"/> <div class=\"search_input_box\"> <input id=\"query\" name=\"query\" type=\"search\" title=\"\\xea\\xb2\\x80\\xec\\x83\\x89\\xec\\x96\\xb4\\xeb\\xa5\\xbc \\xec\\x9e\\x85\\xeb\\xa0\\xa5\\xed\\x95\\xb4 \\xec\\xa3\\xbc\\xec\\x84\\xb8\\xec\\x9a\\x94.\" placeholder=\"\\xea\\xb2\\x80\\xec\\x83\\x89\\xec\\x96\\xb4\\xeb\\xa5\\xbc \\xec\\x9e\\x85\\xeb\\xa0\\xa5\\xed\\x95\\xb4 \\xec\\xa3\\xbc\\xec\\x84\\xb8\\xec\\x9a\\x94.\" maxlength=\"255\" autocomplete=\"off\" class=\"search_input\" data-atcmp-element/> </div> <button type=\"submit\" class=\"btn_search\" onclick=\\'window.ntm.push({event:\"nclick\",el:this,click_area:\"sch.action\"})\\'> <span class=\"ico_btn_search_svg\"> <svg id=\"search-btn\" viewBox=\"0 0 50 50\" xmlns=\"http://www.w3.org/2000/svg\"> <path d=\"M22.13.5c11.378 0 20.632 9.256 20.632 20.63 0 4.699-1.566 9.155-4.439 12.782l10.164 10.165a2.41 2.41 0 0 1-1.706 4.115 2.412 2.412 0 0 1-1.706-.705L33.31 35.719a2.41 2.41 0 0 1 0-3.41 15.71 15.71 0 0 0 4.628-11.178c0-8.718-7.09-15.808-15.807-15.808-8.718 0-15.808 7.09-15.808 15.808 0 7.15 4.817 13.43 11.714 15.273a2.41 2.41 0 0 1 1.705 2.954 2.41 2.41 0 0 1-2.95 1.705C7.788 38.658 1.5 30.46 1.5 21.131 1.5 9.756 10.756.5 22.13.5zm4.716 34.746a3.483 3.483 0 1 1 0 6.966 3.483 3.483 0 0 1 0-6.966z\"/> </svg> </span> <span class=\"blind\">\\xea\\xb2\\x80\\xec\\x83\\x89</span> </button> </fieldset> </form> <div class=\"search_box\"> <button id=\"ke_kbd_btn\" type=\"button\" class=\"btn_keyboard\" aria-pressed=\"false\"> <span class=\"keybord_text\"> <span class=\"blind\">\\xec\\x9e\\x85\\xeb\\xa0\\xa5\\xeb\\x8f\\x84\\xea\\xb5\\xac</span> </span> </button> <div id=\"_nx_kbd\" style=\"display:none\"></div> <button id=\"nautocomplete\" type=\"button\" class=\"btn_arrow\" data-atcmp-element> <span class=\"blind\">\\xec\\x9e\\x90\\xeb\\x8f\\x99\\xec\\x99\\x84\\xec\\x84\\xb1/\\xec\\xb5\\x9c\\xea\\xb7\\xbc\\xea\\xb2\\x80\\xec\\x83\\x89\\xec\\x96\\xb4\\xed\\x8e\\xbc\\xec\\xb9\\x98\\xea\\xb8\\xb0</span> </button> </div> <div class=\"layer_atcmp\" id=\"autoFrame\" style=\"display:none\"></div> </div> </div> </div> <div id=\"search-right-first\"></div> <div id=\"search-right-second\"></div> <div id=\"shortcutArea\" class=\"shortcut_area\" role=\"navigation\" aria-label=\"\\xec\\xa3\\xbc\\xec\\x9a\\x94 \\xec\\x84\\x9c\\xeb\\xb9\\x84\\xec\\x8a\\xa4\"></div> <div id=\"topAsideArea\" class=\"menu_area\"></div> <div id=\"topPayArea\" class=\"pay_area\"></div> <div id=\"topTalkArea\" class=\"talk_area\"></div> <div id=\"topNotiArea\" class=\"notify_area\"></div> <div id=\"topShoppingArea\" class=\"shopping_area\"></div> </div> </div> <div id=\"container\" role=\"main\"> <div id=\"root\"></div> </div> <div id=\"footer\" role=\"contentinfo\"></div> </div>      <script> window[\\'EAGER-DATA\\'] = window[\\'EAGER-DATA\\'] || {};\\n        window[\\'EAGER-DATA\\'][\\'GV\\'] = {\\n            svt: \\'20241126103925\\',  }; </script> <script>!function(){function t(t){var e=document.getElementById(\"search_area\"),n=document.getElementById(\"search-btn\");if(!t)return e&&e.removeAttribute(\"style\"),void(n&&n.setAttribute(\"style\",\"fill: #03c75a\"));e&&e.setAttribute(\"style\",\"border-color: \"+t),n&&n.setAttribute(\"class\",\"ico_btn_search type_color\"),n&&n.setAttribute(\"style\",\"fill: \"+t)}var e=window[\"EAGER-DATA\"][\"CAS-MINICONTENT-PC-SPECIAL-LOGO\"];if(!e||!e.items||e.items.length>0==!1)return void t();var n=Math.floor(Math.random()*e.items.length),i=e.items[n];e.items=[i],t(i&&i.content&&i.content.input&&i.content.input.color);const l=document.getElementById(\"search\");l&&l.classList.add(\"type_special_logo_full\"),window.addEventListener(\"header-sticky-state-change\",(function(){var t;(t=document.getElementById(\"header\"))&&t.classList.contains(\"ani_fixed\")?l&&l.classList.remove(\"type_special_logo_full\"):l&&l.classList.add(\"type_special_logo_full\")}));var o=i&&i.content&&i.content.input&&i.content.input.placeholder;if(o){var s=document.getElementById(\"query\");s&&o&&s.setAttribute(\"title\",o),s&&o&&s.setAttribute(\"placeholder\",o)}}()</script> </body> </html> '\n"
     ]
    }
   ],
   "source": [
    "# urllib.request 모듈을 임포트합니다. 이 모듈은 URL을 열고 읽는 기능을 제공합니다.\n",
    "from urllib import request\n",
    "\n",
    "# 지정된 URL(\"https://www.naver.com\")을 엽니다.\n",
    "target = request.urlopen(\"https://www.naver.com\")\n",
    "\n",
    "# URL에서 읽은 웹 페이지의 내용을 변수에 저장합니다.\n",
    "web_code = target.read()\n",
    "\n",
    "# 웹 페이지의 내용을 출력합니다.\n",
    "print(web_code)  # 예시: b'<!doctype html><html lang=\"ko\">...</html>'"
   ]
  },
  {
   "cell_type": "markdown",
   "metadata": {},
   "source": [
    "#### 이해도 체크리스트"
   ]
  },
  {
   "cell_type": "markdown",
   "metadata": {},
   "source": [
    "1. 다음 코드는 어떤 출력을 할까요?\n",
    "\n",
    "```python\n",
    "import math\n",
    "\n",
    "print(math.ceil(2.3))\n",
    "print(math.floor(2.7))\n",
    "```"
   ]
  },
  {
   "cell_type": "markdown",
   "metadata": {},
   "source": [
    "정답 :  \n",
    "3  \n",
    "2"
   ]
  },
  {
   "cell_type": "markdown",
   "metadata": {},
   "source": [
    "2. 아래 코드를 실행했을 때, 출력 결과는 무엇일까요?\n",
    "\n",
    "```python\n",
    "from math import cos, floor\n",
    "\n",
    "print(cos(0))\n",
    "print(floor(3.8))\n",
    "```"
   ]
  },
  {
   "cell_type": "markdown",
   "metadata": {},
   "source": [
    "정답 :  \n",
    "1.0  \n",
    "3"
   ]
  },
  {
   "cell_type": "markdown",
   "metadata": {},
   "source": [
    "3. 다음 코드를 실행한다면 어떤 일이 발생할까요?\n",
    "\n",
    "```python\n",
    "import os\n",
    "\n",
    "os.mkdir(\"test_dir\")\n",
    "with open(\"test_dir/test_file.txt\", \"w\") as file:\n",
    "    file.write(\"Hello, World!\")\n",
    "print(os.listdir(\"test_dir\"))\n",
    "os.remove(\"test_dir/test_file.txt\")\n",
    "os.rmdir(\"test_dir\")\n",
    "```"
   ]
  },
  {
   "cell_type": "markdown",
   "metadata": {},
   "source": [
    "정답 :  \n",
    "test_dir이라는 폴더를 생성함  \n",
    "test_dir 폴더내에 test_file.txt파일을 실행함. 없을시 만들고 실행함. 실행후 Hello, World!라고 적음.  \n",
    "test_dir 폴더의 정보를 출력함  \n",
    "test_dir 폴더내 test_file.txt 파일을 삭제함  \n",
    "test_dir 폴더를 삭제함"
   ]
  },
  {
   "cell_type": "markdown",
   "metadata": {},
   "source": [
    "#### 1. 외부모듈\n",
    "\n",
    "외부모듈은 파이썬의 강점 중 하나입니다.  \n",
    "인공지능에서는 텐서플로와 사이킷런, 웹 분야에서는 django와 fastapi 등 많이 모듈들이 존재합니다.  \n",
    "모듈들을 설치하는 방법은 `pip install` 이라는 명령어를 사용하여 진행합니다.  \n",
    "```python\n",
    "pip install 모듈 이름\n",
    "```"
   ]
  },
  {
   "cell_type": "markdown",
   "metadata": {},
   "source": [
    "#### 2. 설치 방법\n",
    "\n",
    "외부모듈 beautifulsoup4를 이용하여 실습을 진행하겠습니다.  \n",
    "```python\n",
    "# window (ctrl + `)\n",
    "pip install beautifulsoup4\n",
    "\n",
    "# mac (cmd + `)\n",
    "pip3 install beautifulsoup4\n",
    "or\n",
    "brew install beautifulsoup4\n",
    "```"
   ]
  },
  {
   "cell_type": "markdown",
   "metadata": {},
   "source": [
    "#### 3. 실습 (기상청 RSS 서비스)\n",
    "\n",
    "외부 모듈을 이용하여 작성하는 코드는 ‘**이런 방식으로 외부 모듈을 사용할 수 있구나**’까지만 이해하셔도 됩니다. 후에 새로운 모듈 기능을 사용하시면 그때그때 해당 모듈에 맞는 정보들을 찾아 이용하는 방식으로 사용됩니다.  \n",
    "```python\n",
    "# rss 전국 기상 정보 주소\n",
    "http://www.kma.go.kr/weather/forecast/mid-term-rss3.jsp?stnId=108\n",
    "```"
   ]
  },
  {
   "cell_type": "code",
   "execution_count": null,
   "metadata": {},
   "outputs": [
    {
     "ename": "ModuleNotFoundError",
     "evalue": "No module named 'bs4'",
     "output_type": "error",
     "traceback": [
      "\u001b[1;31m---------------------------------------------------------------------------\u001b[0m",
      "\u001b[1;31mModuleNotFoundError\u001b[0m                       Traceback (most recent call last)",
      "Cell \u001b[1;32mIn[41], line 5\u001b[0m\n\u001b[0;32m      1\u001b[0m \u001b[38;5;66;03m# urllib.request 모듈과 BeautifulSoup 클래스를 임포트합니다.\u001b[39;00m\n\u001b[0;32m      2\u001b[0m \u001b[38;5;66;03m# urllib.request는 URL을 열고 데이터를 읽는 데 사용되며,\u001b[39;00m\n\u001b[0;32m      3\u001b[0m \u001b[38;5;66;03m# BeautifulSoup은 HTML 및 XML 문서를 파싱하는 데 사용됩니다.\u001b[39;00m\n\u001b[0;32m      4\u001b[0m \u001b[38;5;28;01mfrom\u001b[39;00m \u001b[38;5;21;01murllib\u001b[39;00m \u001b[38;5;28;01mimport\u001b[39;00m request\n\u001b[1;32m----> 5\u001b[0m \u001b[38;5;28;01mfrom\u001b[39;00m \u001b[38;5;21;01mbs4\u001b[39;00m \u001b[38;5;28;01mimport\u001b[39;00m BeautifulSoup\n\u001b[0;32m      7\u001b[0m \u001b[38;5;66;03m# 기상청 중기예보 RSS 데이터를 가져올 URL을 열어 데이터를 읽습니다.\u001b[39;00m\n\u001b[0;32m      8\u001b[0m target \u001b[38;5;241m=\u001b[39m request\u001b[38;5;241m.\u001b[39murlopen(\u001b[38;5;124m\"\u001b[39m\u001b[38;5;124mhttp://www.kma.go.kr/weather/forecast/mid-term-rss3.jsp?stnId=108\u001b[39m\u001b[38;5;124m\"\u001b[39m)\n",
      "\u001b[1;31mModuleNotFoundError\u001b[0m: No module named 'bs4'"
     ]
    }
   ],
   "source": [
    "# urllib.request 모듈과 BeautifulSoup 클래스를 임포트합니다.\n",
    "# urllib.request는 URL을 열고 데이터를 읽는 데 사용되며,\n",
    "# BeautifulSoup은 HTML 및 XML 문서를 파싱하는 데 사용됩니다.\n",
    "from urllib import request\n",
    "from bs4 import BeautifulSoup\n",
    "\n",
    "# 기상청 중기예보 RSS 데이터를 가져올 URL을 열어 데이터를 읽습니다.\n",
    "target = request.urlopen(\"http://www.kma.go.kr/weather/forecast/mid-term-rss3.jsp?stnId=108\")\n",
    "\n",
    "# 읽어온 데이터를 BeautifulSoup을 사용하여 파싱합니다.\n",
    "# \"html.parser\"는 파싱에 사용할 파서 종류를 지정합니다.\n",
    "soup = BeautifulSoup(target, \"html.parser\")\n",
    "\n",
    "# location 태그를 모두 선택하여 반복문을 돌립니다.\n",
    "for location in soup.select(\"location\"):\n",
    "    # city 태그 내의 문자열을 선택하여 도시 이름을 출력합니다.\n",
    "    print(\"도시:\", location.select_one(\"city\").string)\n",
    "    # wf 태그 내의 문자열을 선택하여 날씨 정보를 출력합니다.\n",
    "    print(\"날씨:\", location.select_one(\"wf\").string)\n",
    "    # tmn 태그 내의 문자열을 선택하여 최저기온을 출력합니다.\n",
    "    print(\"최저기온:\", location.select_one(\"tmn\").string)\n",
    "    # tmx 태그 내의 문자열을 선택하여 최고기온을 출력합니다.\n",
    "    print(\"최고기온:\", location.select_one(\"tmx\").string)\n",
    "    # 각 도시의 정보를 구분하기 위해 빈 줄을 출력합니다.\n",
    "    print()\n",
    "    \n",
    "# beautifulsoup4 모듈을 설치하지 않아서 오류가 발생함"
   ]
  },
  {
   "cell_type": "markdown",
   "metadata": {},
   "source": [
    "#### 1. 데코레이터\n",
    "\n",
    "@으로 시작하는 구문을 데코레이터라고 합니다.  \n",
    "데코레이터는 방법에 따라 함수 데코레이터와 클래스 데코레이터로 나뉘어집니다."
   ]
  },
  {
   "cell_type": "markdown",
   "metadata": {},
   "source": [
    "#### 2. 함수 데코레이터\n",
    "\n",
    "함수에 사용되는 데코레이터는 함수 앞뒤에 붙일 내용이나 반복할 내용이 있을 때 사용합니다."
   ]
  },
  {
   "cell_type": "code",
   "execution_count": 42,
   "metadata": {},
   "outputs": [
    {
     "name": "stdout",
     "output_type": "stream",
     "text": [
      "허언증이 재발했습니다.\n",
      "파이썬 진짜 재미있엉 하하\n",
      "격리 되었습니다.\n"
     ]
    }
   ],
   "source": [
    "# 데코레이터 함수를 정의합니다. 이 함수는 다른 함수를 인자로 받아, 추가 기능을 부여한 새 함수를 반환합니다.\n",
    "def test(function):\n",
    "    # wrapper 함수를 정의합니다. 이 함수는 데코레이터가 적용된 원래 함수를 호출하기 전에\n",
    "    # 추가 동작을 수행하고, 호출한 후에도 추가 동작을 수행합니다.\n",
    "    def wrapper():\n",
    "        # 원래 함수 호출 전에 출력할 메시지\n",
    "        print(\"허언증이 재발했습니다.\")\n",
    "        # 원래 함수를 호출합니다.\n",
    "        function()\n",
    "        # 원래 함수 호출 후에 출력할 메시지\n",
    "        print(\"격리 되었습니다.\")\n",
    "    # wrapper 함수를 반환하여 데코레이터가 적용된 새로운 함수를 반환합니다.\n",
    "    return wrapper\n",
    "\n",
    "# oz 함수를 데코레이터로 감싸줍니다. 즉, oz 함수가 호출될 때마다 test 데코레이터가 적용된 wrapper 함수가 호출됩니다.\n",
    "@test\n",
    "def oz():\n",
    "    # 원래 oz 함수의 기능: 메시지를 출력합니다.\n",
    "    print(\"파이썬 진짜 재미있엉 하하\")\n",
    "\n",
    "# oz 함수를 호출합니다. 이때 실제로는 데코레이터가 적용된 wrapper 함수가 호출됩니다.\n",
    "oz()"
   ]
  },
  {
   "cell_type": "code",
   "execution_count": null,
   "metadata": {},
   "outputs": [
    {
     "name": "stdout",
     "output_type": "stream",
     "text": [
      "데코레이터가 적용된 함수\n",
      "안녕하세요!\n",
      "바보\n",
      "안녕하세요!\n"
     ]
    }
   ],
   "source": [
    "def my_decorator(func):\n",
    "    print(\"데코레이터가 적용된 함수\")\n",
    "    func()\n",
    "    print(\"바보\")\n",
    "    return func\n",
    "\n",
    "@my_decorator\n",
    "def say_hello():\n",
    "    print(\"안녕하세요!\")\n",
    "\n",
    "say_hello()"
   ]
  },
  {
   "cell_type": "markdown",
   "metadata": {},
   "source": [
    "1. 다음 중 함수 데코레이터에 대한 설명으로 옳지 않은 것을 고르세요.      \n",
    "    a) 함수 데코레이터는 함수 앞뒤에 반복할 내용을 쉽게 추가할 수 있게 해줍니다.      \n",
    "    b) 함수 데코레이터는 `@` 기호를 사용하여 함수에 적용합니다.      \n",
    "    c) 함수 데코레이터는 함수를 다른 함수의 인자로 전달하고, 수정된 함수를 반환합니다.      \n",
    "    d) 함수 데코레이터는 클래스에서만 사용할 수 있습니다."
   ]
  },
  {
   "cell_type": "markdown",
   "metadata": {},
   "source": [
    "정답 : d"
   ]
  },
  {
   "cell_type": "markdown",
   "metadata": {},
   "source": [
    "2. 다음 중 함수 데코레이터를 사용하는 이유로 적절하지 않은 것을 고르세요.      \n",
    "    a) 함수 호출 전후로 공통된 작업을 수행하기 위해      \n",
    "    b) 함수의 이름을 변경하기 위해      \n",
    "    c) 함수의 성능을 측정하기 위해      \n",
    "    d) 함수 호출을 로깅하기 위해"
   ]
  },
  {
   "cell_type": "markdown",
   "metadata": {},
   "source": [
    "정답 : b"
   ]
  },
  {
   "cell_type": "markdown",
   "metadata": {},
   "source": [
    "#### 1. 모듈 만들기\n",
    "\n",
    "모듈은 코드 재사용성을 높이고 코드를 체계적으로 관리하기 위해 사용하는 **함수의 집합**입니다.   \n",
    "파이썬 모듈은 여러 변수, 함수, 클래스 등을 포함할 수 있으며, 다른 파이썬 프로그램에서 임포트(import)하여 사용할 수 있습니다.   \n",
    "모듈을 사용하면 코드의 가독성이 좋아지고 유지 보수가 쉬워집니다.  \n",
    "실습을 위해 폴더를 만들고, 폴더 안에 oz_module.py와 [oz.py](http://oz.py) 파일을 만들어주세요."
   ]
  },
  {
   "cell_type": "code",
   "execution_count": null,
   "metadata": {},
   "outputs": [
    {
     "name": "stdout",
     "output_type": "stream",
     "text": [
      "125.66368\n",
      "1256.6368\n"
     ]
    }
   ],
   "source": [
    "# oz_module을 oz라는 이름으로 임포트합니다.\n",
    "# 이 모듈은 원의 둘레와 넓이를 계산하는 함수들을 포함합니다.\n",
    "import oz_module as oz\n",
    "\n",
    "# oz 모듈의 number_input 함수를 호출하여 사용자로부터 반지름 값을 입력받습니다.\n",
    "radius = oz.number_input()\n",
    "\n",
    "# oz 모듈의 get_circum 함수를 호출하여 원의 둘레를 계산하고 출력합니다.\n",
    "print(oz.get_circum(radius))\n",
    "\n",
    "# oz 모듈의 get_circle 함수를 호출하여 원의 넓이를 계산하고 출력합니다.\n",
    "print(oz.get_circle(radius))"
   ]
  },
  {
   "cell_type": "markdown",
   "metadata": {},
   "source": [
    "1. 다음 중 파이썬 모듈에 대한 설명으로 옳지 않을 것을 고르세요.  \n",
    "    a. 파이썬 모듈은 여러 변수, 함수, 클래스 등을 포함할 수 있습니다.  \n",
    "    b. 모듈을 사용하면 코드의 가독성이 좋아지고 유지보수가 쉬워집니다.  \n",
    "    c. 파이썬 모듈은 항상 표준 라이브러리에 포함되어 있어야 합니다.  \n",
    "    d. 다른 파이썬 프로그램에서 모듈을 임포트(import)하여 사용할 수 있습니다."
   ]
  },
  {
   "cell_type": "markdown",
   "metadata": {},
   "source": [
    "정답 : c"
   ]
  },
  {
   "cell_type": "markdown",
   "metadata": {},
   "source": [
    "2. 다음 중 파이썬 모듈을 올바르게 임포트하고 사용하는 방법을 모두 고르세요.  \n",
    "    a. `import math`  \n",
    "    b. `from math import sin`  \n",
    "    c. `import math as m`  \n",
    "    d. `import sin from math`  \n",
    "    e. `from math import *`"
   ]
  },
  {
   "cell_type": "markdown",
   "metadata": {},
   "source": [
    "정답 : a, b, c, e"
   ]
  },
  {
   "cell_type": "markdown",
   "metadata": {},
   "source": [
    "#### 1. 패키지\n",
    "\n",
    "파이썬 패키지는 코드를 **구조화**하고 **재사용성을 향상**시키는 중요한 개념입니다.  \n",
    "패키지는 모듈의 집합으로, **계층적 구조**를 가지고 있습니다.  \n",
    "패키지 디렉토리에는 `__init__.py` 파일이 반드시 포함되어야 합니다.  \n",
    "패키지를 활용하면 대규모 프로젝트의 코드를 효율적으로 관리할 수 있습니다."
   ]
  },
  {
   "cell_type": "markdown",
   "metadata": {},
   "source": [
    "#### 2. 패키지 실습\n",
    "1. module_package 폴더를 만들어주세요\n",
    "2. module_package안에 oz_package라는 폴더를 만들어주세요\n",
    "3. oz_module_1.py, oz_module_2.py 파일을 만들어주세요\n",
    "4. module_package안에 main.py라는 파일을 만들어주세요."
   ]
  },
  {
   "cell_type": "markdown",
   "metadata": {},
   "source": [
    "```python\n",
    "# oz_module_1.py\n",
    "val_1 = \"module_1의 변수\"\n",
    "```\n",
    "\n",
    "```python\n",
    "# oz_module_2.py\n",
    "val_2 = \"module_2의 변수\"\n",
    "```\n",
    "\n",
    "```python\n",
    "# main.py\n",
    "# oz_package 패키지의 oz_module_1 모듈을 'one'이라는 별칭으로 임포트합니다.\n",
    "import oz_package.oz_module_1 as one\n",
    "\n",
    "# oz_package 패키지의 oz_module_2 모듈을 'two'라는 별칭으로 임포트합니다.\n",
    "import oz_package.oz_module_2 as two\n",
    "\n",
    "# oz_module_1 모듈에서 정의된 val_1 변수를 출력합니다.\n",
    "print(one.val_1)\n",
    "\n",
    "# oz_module_2 모듈에서 정의된 val_2 변수를 출력합니다.\n",
    "print(two.val_2)\n",
    "\n",
    "# 출력\n",
    "module_1의 변수\n",
    "module_2의 변수\n",
    "```"
   ]
  },
  {
   "cell_type": "markdown",
   "metadata": {},
   "source": [
    "1. 다음 중 파이썬 패키지에 대한 설명으로 옳지 않은 것을 고르세요.  \n",
    "    a. 패키지는 모듈의 집합으로, 계층적 구조를 가지고 있습니다.  \n",
    "    b. 패키지 디렉토리에는 `__init__.py` 파일이 반드시 포함되어야 합니다.  \n",
    "    c. 패키지를 사용하면 대규모 프로젝트의 코드를 효율적으로 관리할 수 있습니다.  \n",
    "    d. 패키지는 반드시 표준 라이브러리의 일부여야 합니다."
   ]
  },
  {
   "cell_type": "markdown",
   "metadata": {},
   "source": [
    "정답 : d"
   ]
  },
  {
   "cell_type": "markdown",
   "metadata": {},
   "source": [
    "2. 다음 코드에 대한 설명으로 옳지 않은 것을 고르세요.\n",
    "    \n",
    "    ```python\n",
    "    # main.py\n",
    "    \n",
    "    import oz_package.oz_module_1 as one\n",
    "    import oz_package.oz_module_2 as two\n",
    "    \n",
    "    print(one.val_1)\n",
    "    print(two.val_2)\n",
    "    ```\n",
    "    \n",
    "    a. `oz_package`는 패키지이고, `oz_module_1`과 `oz_module_2` 는 이 패키지에 포함된 모듈입니다.  \n",
    "    b. `oz_module_1` 과 `oz_module_2` 는 `one` 과 `two` 라는 별칭으로 임포트 되었습니다.  \n",
    "    c. `one.val_1` 과 `two.val_2` 는 각각 `oz_module_1` 과 `oz_module_2` 모듈에서 정의된 변수입니다.  \n",
    "    d. `__init__.py` 파일이 없어도 패키지는 정상적으로 작동합니다."
   ]
  },
  {
   "cell_type": "markdown",
   "metadata": {},
   "source": [
    "정답 : d"
   ]
  }
 ],
 "metadata": {
  "kernelspec": {
   "display_name": "Python 3",
   "language": "python",
   "name": "python3"
  },
  "language_info": {
   "codemirror_mode": {
    "name": "ipython",
    "version": 3
   },
   "file_extension": ".py",
   "mimetype": "text/x-python",
   "name": "python",
   "nbconvert_exporter": "python",
   "pygments_lexer": "ipython3",
   "version": "3.11.9"
  }
 },
 "nbformat": 4,
 "nbformat_minor": 2
}
